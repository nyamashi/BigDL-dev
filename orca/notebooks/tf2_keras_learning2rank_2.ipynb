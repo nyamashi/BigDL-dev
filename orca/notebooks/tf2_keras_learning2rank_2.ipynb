{
  "nbformat": 4,
  "nbformat_minor": 2,
  "metadata": {
    "colab": {
      "name": "tf2_keras_learning2rank_2.ipynb",
      "provenance": []
    },
    "kernelspec": {
      "name": "python3",
      "display_name": "Python 3"
    }
  },
  "cells": [
    {
      "cell_type": "markdown",
      "source": [
        "## Learning-to-Rank via Orca with TF Ranking and TF Recommenders\n",
        "\n",
        "based on \n",
        "- https://github.com/intel-analytics/BigDL/blob/main/python/orca/colab-notebook/quickstart/keras_lenet_mnist.ipynb\n",
        "- https://github.com/tensorflow/recommenders/blob/main/docs/examples/listwise_ranking.ipynb\n"
      ],
      "metadata": {
        "id": "l7FILmHLZwjZ"
      }
    },
    {
      "cell_type": "markdown",
      "source": [
        "\n",
        "![image.png](data:image/png;base64,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)\n",
        "---"
      ],
      "metadata": {
        "id": "xgV_QLGE9Lox"
      }
    },
    {
      "cell_type": "markdown",
      "source": [
        "##### Copyright 2016 The BigDL Authors."
      ],
      "metadata": {
        "id": "fDBPZ0_rfBmU"
      }
    },
    {
      "cell_type": "code",
      "execution_count": null,
      "source": [
        "#@title Licensed under the Apache License, Version 2.0 (the \"License\");\n",
        "# you may not use this file except in compliance with the License.\n",
        "# You may obtain a copy of the License at\n",
        "#\n",
        "#     http://www.apache.org/licenses/LICENSE-2.0\n",
        "#\n",
        "# Unless required by applicable law or agreed to in writing, software\n",
        "# distributed under the License is distributed on an \"AS IS\" BASIS,\n",
        "# WITHOUT WARRANTIES OR CONDITIONS OF ANY KIND, either express or implied.\n",
        "# See the License for the specific language governing permissions and\n",
        "# limitations under the License.\n",
        "#"
      ],
      "outputs": [],
      "metadata": {
        "id": "xBWVU_bhfkY7"
      }
    },
    {
      "cell_type": "markdown",
      "source": [
        "## **Environment Preparation**"
      ],
      "metadata": {
        "id": "voMBntim9bMf"
      }
    },
    {
      "cell_type": "markdown",
      "source": [
        "**Install Java 8**\n",
        "\n",
        "Run the cell on the **Google Colab** to install jdk 1.8.\n",
        "\n",
        "**Note:** if you run this notebook on your computer, root permission is required when running the cell to install Java 8. (You may ignore this cell if Java 8 has already been set up in your computer).\n"
      ],
      "metadata": {
        "id": "ccXnsv_pMCHQ"
      }
    },
    {
      "cell_type": "code",
      "execution_count": null,
      "source": [
        "# Install jdk8\n",
        "!apt-get install openjdk-8-jdk-headless -qq > /dev/null\n",
        "import os\n",
        "# Set environment variable JAVA_HOME.\n",
        "os.environ[\"JAVA_HOME\"] = \"/usr/lib/jvm/java-8-openjdk-amd64\"\n",
        "!update-alternatives --set java /usr/lib/jvm/java-8-openjdk-amd64/jre/bin/java\n",
        "!java -version"
      ],
      "outputs": [
        {
          "output_type": "stream",
          "name": "stdout",
          "text": [
            "openjdk version \"1.8.0_312\"\n",
            "OpenJDK Runtime Environment (build 1.8.0_312-8u312-b07-0ubuntu1~18.04-b07)\n",
            "OpenJDK 64-Bit Server VM (build 25.312-b07, mixed mode)\n"
          ]
        }
      ],
      "metadata": {
        "id": "HWx_0DSnXVhz",
        "outputId": "5211743f-3ec8-4a60-d392-f42fd6212ac4",
        "colab": {
          "base_uri": "https://localhost:8080/"
        }
      }
    },
    {
      "cell_type": "markdown",
      "source": [
        "**Install BigDL Orca**\n",
        "\n",
        "You can install the latest pre-release version using `pip install --pre --upgrade bigdl-orca`. "
      ],
      "metadata": {
        "id": "I_OS4HKJMNpv"
      }
    },
    {
      "cell_type": "code",
      "execution_count": null,
      "source": [
        "# Install latest pre-release version of BigDL Orca \n",
        "# Installing BigDL Orca from pip will automatically install pyspark, bigdl, and their dependencies.\n",
        "!pip install --pre --upgrade bigdl-orca[ray] -q"
      ],
      "outputs": [],
      "metadata": {
        "id": "3qfT8CaC51hI"
      }
    },
    {
      "cell_type": "code",
      "execution_count": null,
      "source": [
        "!pip show bigdl-orca ray"
      ],
      "outputs": [
        {
          "output_type": "stream",
          "name": "stdout",
          "text": [
            "Name: bigdl-orca\n",
            "Version: 2.1.0b20220516\n",
            "Summary: Seamlessly scale out TensorFlow and PyTorch for Big Data (using Spark & Ray)\n",
            "Home-page: https://github.com/intel-analytics/analytics-zoo\n",
            "Author: BigDL Authors\n",
            "Author-email: bigdl-user-group@googlegroups.com\n",
            "License: Apache License, Version 2.0\n",
            "Location: /usr/local/lib/python3.7/dist-packages\n",
            "Requires: bigdl-tf, bigdl-dllib, pyzmq, filelock, packaging, bigdl-math\n",
            "Required-by: \n",
            "---\n",
            "Name: ray\n",
            "Version: 1.9.2\n",
            "Summary: Ray provides a simple, universal API for building distributed applications.\n",
            "Home-page: https://github.com/ray-project/ray\n",
            "Author: Ray Team\n",
            "Author-email: ray-dev@googlegroups.com\n",
            "License: Apache 2.0\n",
            "Location: /usr/local/lib/python3.7/dist-packages\n",
            "Requires: jsonschema, redis, click, numpy, msgpack, grpcio, protobuf, attrs, pyyaml, filelock\n",
            "Required-by: \n"
          ]
        }
      ],
      "metadata": {
        "id": "lzRIhmGli3gO",
        "outputId": "9da421de-8706-48d4-f51f-21fddf594147",
        "colab": {
          "base_uri": "https://localhost:8080/"
        }
      }
    },
    {
      "cell_type": "code",
      "execution_count": null,
      "source": [
        "!pip install numpy --upgrade # --ignore-installed"
      ],
      "outputs": [
        {
          "output_type": "stream",
          "name": "stdout",
          "text": [
            "Requirement already satisfied: numpy in /usr/local/lib/python3.7/dist-packages (1.21.6)\n"
          ]
        }
      ],
      "metadata": {
        "id": "75nX0VH6Panx",
        "outputId": "94976215-d895-4491-a331-d9ac557dfaa4",
        "colab": {
          "base_uri": "https://localhost:8080/"
        }
      }
    },
    {
      "cell_type": "code",
      "execution_count": null,
      "source": [
        "!pip install tensorflow==2.7.0 tensorflow-recommenders tensorflow-ranking -q"
      ],
      "outputs": [],
      "metadata": {
        "id": "pqZ3EhzmPqve"
      }
    },
    {
      "cell_type": "code",
      "execution_count": null,
      "source": [
        "!pip show tensorflow tensorflow-recommenders tensorflow-ranking"
      ],
      "outputs": [
        {
          "output_type": "stream",
          "name": "stdout",
          "text": [
            "Name: tensorflow\n",
            "Version: 2.7.0\n",
            "Summary: TensorFlow is an open source machine learning framework for everyone.\n",
            "Home-page: https://www.tensorflow.org/\n",
            "Author: Google Inc.\n",
            "Author-email: packages@tensorflow.org\n",
            "License: Apache 2.0\n",
            "Location: /usr/local/lib/python3.7/dist-packages\n",
            "Requires: protobuf, keras, flatbuffers, numpy, typing-extensions, tensorflow-io-gcs-filesystem, grpcio, tensorboard, opt-einsum, wheel, gast, astunparse, absl-py, six, wrapt, keras-preprocessing, tensorflow-estimator, libclang, termcolor, h5py, google-pasta\n",
            "Required-by: tensorflow-serving-api, tensorflow-recommenders, kapre\n",
            "---\n",
            "Name: tensorflow-recommenders\n",
            "Version: 0.6.0\n",
            "Summary: Tensorflow Recommenders, a TensorFlow library for recommender systems.\n",
            "Home-page: https://github.com/tensorflow/recommenders\n",
            "Author: Google Inc.\n",
            "Author-email: packages@tensorflow.org\n",
            "License: Apache 2.0\n",
            "Location: /usr/local/lib/python3.7/dist-packages\n",
            "Requires: tensorflow, absl-py\n",
            "Required-by: \n",
            "---\n",
            "Name: tensorflow-ranking\n",
            "Version: 0.5.0\n",
            "Summary: Pip package setup file for TensorFlow Ranking.\n",
            "Home-page: https://github.com/tensorflow/ranking\n",
            "Author: Google Inc.\n",
            "Author-email: packages@tensorflow.org\n",
            "License: Apache 2.0\n",
            "Location: /usr/local/lib/python3.7/dist-packages\n",
            "Requires: numpy, absl-py, tensorflow-serving-api, six\n",
            "Required-by: \n"
          ]
        }
      ],
      "metadata": {
        "id": "SgURYGZ4jLoI",
        "outputId": "a6f85318-61af-4324-c933-9358c96a6732",
        "colab": {
          "base_uri": "https://localhost:8080/"
        }
      }
    },
    {
      "cell_type": "code",
      "execution_count": null,
      "source": [
        "import tensorflow as tf\n",
        "import tensorflow_recommenders as tfrs\n",
        "import tensorflow_ranking as tfr\n",
        "print(tf.__version__)\n",
        "print(tfrs.__version__)\n",
        "print(tfr.__version__)"
      ],
      "outputs": [
        {
          "output_type": "stream",
          "name": "stdout",
          "text": [
            "2.7.0\n",
            "v0.6.0\n",
            "0.5.0.dev\n"
          ]
        }
      ],
      "metadata": {
        "id": "yYlL5adGPtms",
        "outputId": "52ba24d0-1c83-482d-9478-62775eab897b",
        "colab": {
          "base_uri": "https://localhost:8080/"
        }
      }
    },
    {
      "cell_type": "code",
      "execution_count": null,
      "source": [
        "import numpy as np\n",
        "print(np.__version__)"
      ],
      "outputs": [
        {
          "output_type": "stream",
          "name": "stdout",
          "text": [
            "1.21.6\n"
          ]
        }
      ],
      "metadata": {
        "colab": {
          "base_uri": "https://localhost:8080/"
        },
        "id": "xJ_BjwoHt4a3",
        "outputId": "a307091a-fc6b-422c-aba0-c62305bece51"
      }
    },
    {
      "cell_type": "markdown",
      "source": [
        "## **Distributed TensorFlow 2 using Orca APIs**\n",
        "\n",
        "In this guide we will describe how to scale out TensorFlow 2 programs using Orca in 4 simple steps."
      ],
      "metadata": {
        "id": "l-l4vel5N3qP"
      }
    },
    {
      "cell_type": "code",
      "execution_count": null,
      "source": [
        "# import necesary libraries and modules\n",
        "import argparse\n",
        "\n",
        "import bigdl.orca\n",
        "from bigdl.orca import init_orca_context, stop_orca_context\n",
        "from bigdl.orca import OrcaContext"
      ],
      "outputs": [],
      "metadata": {
        "id": "RDPt2XTsT-Gv"
      }
    },
    {
      "cell_type": "markdown",
      "source": [
        "### **Step 1: Init Orca Context** "
      ],
      "metadata": {
        "id": "zBdeoZzLWWlY"
      }
    },
    {
      "cell_type": "code",
      "execution_count": null,
      "source": [
        "# recommended to set it to True when running BigDL in Jupyter notebook \n",
        "OrcaContext.log_output = True # (this will display terminal's stdout and stderr in the Jupyter notebook).\n",
        "\n",
        "cluster_mode = \"local\"\n",
        "\n",
        "if cluster_mode == \"local\":  \n",
        "    init_orca_context(cluster_mode=\"local\", cores=1) # run in local mode\n",
        "elif cluster_mode == \"k8s\":  \n",
        "    init_orca_context(cluster_mode=\"k8s\", num_nodes=2, cores=2) # run on K8s cluster\n",
        "elif cluster_mode == \"yarn\":  \n",
        "    init_orca_context(cluster_mode=\"yarn-client\", num_nodes=2, cores=2) # run on Hadoop YARN cluster"
      ],
      "outputs": [
        {
          "output_type": "stream",
          "name": "stdout",
          "text": [
            "Initializing orca context\n",
            "Current pyspark location is : /usr/local/lib/python3.7/dist-packages/pyspark/__init__.py\n",
            "Start to getOrCreate SparkContext\n",
            "pyspark_submit_args is:  --driver-class-path /usr/local/lib/python3.7/dist-packages/bigdl/share/core/lib/all-2.1.0-20220314.094552-2.jar:/usr/local/lib/python3.7/dist-packages/bigdl/share/orca/lib/bigdl-orca-spark_2.4.6-2.1.0-SNAPSHOT-jar-with-dependencies.jar:/usr/local/lib/python3.7/dist-packages/bigdl/share/dllib/lib/bigdl-dllib-spark_2.4.6-2.1.0-SNAPSHOT-jar-with-dependencies.jar pyspark-shell \n",
            "[main] WARN  org.apache.hadoop.util.NativeCodeLoader  - Unable to load native-hadoop library for your platform... using builtin-java classes where applicable\n"
          ]
        },
        {
          "output_type": "stream",
          "name": "stderr",
          "text": [
            "Setting default log level to \"WARN\".\n",
            "To adjust logging level use sc.setLogLevel(newLevel). For SparkR, use setLogLevel(newLevel).\n"
          ]
        },
        {
          "output_type": "stream",
          "name": "stdout",
          "text": [
            "2022-05-17 02:19:04,663 Thread-4 WARN The bufferSize is set to 4000 but bufferedIo is false: false\n",
            "2022-05-17 02:19:04,670 Thread-4 WARN The bufferSize is set to 4000 but bufferedIo is false: false\n",
            "2022-05-17 02:19:04,680 Thread-4 WARN The bufferSize is set to 4000 but bufferedIo is false: false\n",
            "2022-05-17 02:19:04,682 Thread-4 WARN The bufferSize is set to 4000 but bufferedIo is false: false\n",
            "22-05-17 02:19:04 [Thread-4] INFO  Engine$:121 - Auto detect executor number and executor cores number\n",
            "22-05-17 02:19:04 [Thread-4] INFO  Engine$:123 - Executor number is 1 and executor cores number is 1\n"
          ]
        },
        {
          "output_type": "stream",
          "name": "stderr",
          "text": [
            "\n",
            "User settings:\n",
            "\n",
            "   KMP_AFFINITY=granularity=fine,compact,1,0\n",
            "   KMP_BLOCKTIME=0\n",
            "   KMP_SETTINGS=1\n",
            "   OMP_NUM_THREADS=1\n",
            "\n",
            "Effective settings:\n",
            "\n",
            "   KMP_ABORT_DELAY=0\n",
            "   KMP_ADAPTIVE_LOCK_PROPS='1,1024'\n",
            "   KMP_ALIGN_ALLOC=64\n",
            "   KMP_ALL_THREADPRIVATE=128\n",
            "   KMP_ATOMIC_MODE=2\n",
            "   KMP_BLOCKTIME=0\n",
            "   KMP_CPUINFO_FILE: value is not defined\n",
            "   KMP_DETERMINISTIC_REDUCTION=false\n",
            "   KMP_DEVICE_THREAD_LIMIT=2147483647\n",
            "   KMP_DISP_HAND_THREAD=false\n",
            "   KMP_DISP_NUM_BUFFERS=7\n",
            "   KMP_DUPLICATE_LIB_OK=false\n",
            "   KMP_FORCE_REDUCTION: value is not defined\n",
            "   KMP_FOREIGN_THREADS_THREADPRIVATE=true\n",
            "   KMP_FORKJOIN_BARRIER='2,2'\n",
            "   KMP_FORKJOIN_BARRIER_PATTERN='hyper,hyper'\n",
            "   KMP_FORKJOIN_FRAMES=true\n",
            "   KMP_FORKJOIN_FRAMES_MODE=3\n",
            "   KMP_GTID_MODE=3\n",
            "   KMP_HANDLE_SIGNALS=false\n",
            "   KMP_HOT_TEAMS_MAX_LEVEL=1\n",
            "   KMP_HOT_TEAMS_MODE=0\n",
            "   KMP_INIT_AT_FORK=true\n",
            "   KMP_ITT_PREPARE_DELAY=0\n",
            "   KMP_LIBRARY=throughput\n",
            "   KMP_LOCK_KIND=queuing\n",
            "   KMP_MALLOC_POOL_INCR=1M\n",
            "   KMP_MWAIT_HINTS=0\n",
            "   KMP_NUM_LOCKS_IN_BLOCK=1\n",
            "   KMP_PLAIN_BARRIER='2,2'\n",
            "   KMP_PLAIN_BARRIER_PATTERN='hyper,hyper'\n",
            "   KMP_REDUCTION_BARRIER='1,1'\n",
            "   KMP_REDUCTION_BARRIER_PATTERN='hyper,hyper'\n",
            "   KMP_SCHEDULE='static,balanced;guided,iterative'\n",
            "   KMP_SETTINGS=true\n",
            "   KMP_SPIN_BACKOFF_PARAMS='4096,100'\n",
            "   KMP_STACKOFFSET=64\n",
            "   KMP_STACKPAD=0\n",
            "   KMP_STACKSIZE=8M\n",
            "   KMP_STORAGE_MAP=false\n",
            "   KMP_TASKING=2\n",
            "   KMP_TASKLOOP_MIN_TASKS=0\n",
            "   KMP_TASK_STEALING_CONSTRAINT=1\n",
            "   KMP_TEAMS_THREAD_LIMIT=2\n",
            "   KMP_TOPOLOGY_METHOD=all\n",
            "   KMP_USER_LEVEL_MWAIT=false\n",
            "   KMP_USE_YIELD=1\n",
            "   KMP_VERSION=false\n",
            "   KMP_WARNINGS=true\n",
            "   OMP_AFFINITY_FORMAT='OMP: pid %P tid %i thread %n bound to OS proc set {%A}'\n",
            "   OMP_ALLOCATOR=omp_default_mem_alloc\n",
            "   OMP_CANCELLATION=false\n",
            "   OMP_DEBUG=disabled\n",
            "   OMP_DEFAULT_DEVICE=0\n",
            "   OMP_DISPLAY_AFFINITY=false\n",
            "   OMP_DISPLAY_ENV=false\n",
            "   OMP_DYNAMIC=false\n",
            "   OMP_MAX_ACTIVE_LEVELS=2147483647\n",
            "   OMP_MAX_TASK_PRIORITY=0\n",
            "   OMP_NESTED=false\n",
            "   OMP_NUM_THREADS='1'\n",
            "   OMP_PLACES: value is not defined\n",
            "   OMP_PROC_BIND='intel'\n",
            "   OMP_SCHEDULE='static'\n",
            "   OMP_STACKSIZE=8M\n",
            "   OMP_TARGET_OFFLOAD=DEFAULT\n",
            "   OMP_THREAD_LIMIT=2147483647\n",
            "   OMP_TOOL=enabled\n",
            "   OMP_TOOL_LIBRARIES: value is not defined\n",
            "   OMP_WAIT_POLICY=PASSIVE\n",
            "   KMP_AFFINITY='noverbose,warnings,respect,granularity=fine,compact,1,0'\n",
            "\n"
          ]
        },
        {
          "output_type": "stream",
          "name": "stdout",
          "text": [
            "22-05-17 02:19:06 [Thread-4] INFO  ThreadPool$:95 - Set mkl threads to 1 on thread 14\n",
            "[Thread-4] WARN  org.apache.spark.SparkContext  - Using an existing SparkContext; some configuration may not take effect.\n",
            "22-05-17 02:19:06 [Thread-4] INFO  Engine$:456 - Find existing spark context. Checking the spark conf...\n",
            "cls.getname: com.intel.analytics.bigdl.dllib.utils.python.api.Sample\n",
            "BigDLBasePickler registering: bigdl.dllib.utils.common  Sample\n",
            "Successfully got a SparkContext\n",
            "cls.getname: com.intel.analytics.bigdl.dllib.utils.python.api.EvaluatedResult\n",
            "BigDLBasePickler registering: bigdl.dllib.utils.common  EvaluatedResult\n",
            "cls.getname: com.intel.analytics.bigdl.dllib.utils.python.api.JTensor\n",
            "BigDLBasePickler registering: bigdl.dllib.utils.common  JTensor\n",
            "cls.getname: com.intel.analytics.bigdl.dllib.utils.python.api.JActivity\n",
            "BigDLBasePickler registering: bigdl.dllib.utils.common  JActivity\n"
          ]
        }
      ],
      "metadata": {
        "id": "QAQp0FcUWaH3",
        "outputId": "3ec6c485-0cd4-4799-9cda-3bdbbb84125f",
        "colab": {
          "base_uri": "https://localhost:8080/"
        }
      }
    },
    {
      "cell_type": "markdown",
      "source": [
        "This is the only place where you need to specify local or distributed mode. View [Orca Context](https://bigdl.readthedocs.io/en/latest/doc/Orca/Overview/orca-context.html) for more details.\n",
        "\n",
        "**Note**: You should export HADOOP_CONF_DIR=/path/to/hadoop/conf/dir when you run on Hadoop YARN cluster."
      ],
      "metadata": {
        "id": "9VyfhD6HVQpm"
      }
    },
    {
      "cell_type": "markdown",
      "source": [
        "### **Step 3: Define Dataset**\n"
      ],
      "metadata": {
        "id": "CiTnHATGYn_f"
      }
    },
    {
      "cell_type": "code",
      "execution_count": null,
      "source": [
        "!wget http://files.grouplens.org/datasets/movielens/ml-1m.zip && unzip ml-1m.zip\n",
        "# ! cat ./ml-1m/README"
      ],
      "outputs": [
        {
          "output_type": "stream",
          "name": "stdout",
          "text": [
            "--2022-05-17 02:19:07--  http://files.grouplens.org/datasets/movielens/ml-1m.zip\n",
            "Resolving files.grouplens.org (files.grouplens.org)... 128.101.65.152\n",
            "Connecting to files.grouplens.org (files.grouplens.org)|128.101.65.152|:80... connected.\n",
            "HTTP request sent, awaiting response... 200 OK\n",
            "Length: 5917549 (5.6M) [application/zip]\n",
            "Saving to: ‘ml-1m.zip.1’\n",
            "\n",
            "ml-1m.zip.1         100%[===================>]   5.64M  32.0MB/s    in 0.2s    \n",
            "\n",
            "2022-05-17 02:19:07 (32.0 MB/s) - ‘ml-1m.zip.1’ saved [5917549/5917549]\n",
            "\n",
            "Archive:  ml-1m.zip\n",
            "replace ml-1m/movies.dat? [y]es, [n]o, [A]ll, [N]one, [r]ename: n\n",
            "replace ml-1m/ratings.dat? [y]es, [n]o, [A]ll, [N]one, [r]ename: n\n",
            "replace ml-1m/README? [y]es, [n]o, [A]ll, [N]one, [r]ename: A\n",
            "  inflating: ml-1m/README            \n",
            "  inflating: ml-1m/users.dat         \n"
          ]
        }
      ],
      "metadata": {
        "colab": {
          "base_uri": "https://localhost:8080/"
        },
        "id": "Tvf_Ro1Dey1r",
        "outputId": "1b821e14-7880-409a-a2e5-d82c4ecbc221"
      }
    },
    {
      "cell_type": "code",
      "execution_count": null,
      "source": [
        "def prepare_ml_sdfs(spark, data_path = './ml-1m/', verbose=False):\n",
        "    data_path = os.path.join(data_path, \"{}.dat\")\n",
        "    dataset = { \n",
        "        \"ratings\": ['userid', 'movieid',  'rating', 'timestamp'],\n",
        "        \"users\": [\"userid\", \"gender\", \"age\", \"occupation\", \"zip-code\"],\n",
        "        \"movies\": [\"movieid\", \"title\", \"genres\"]\n",
        "    }\n",
        "    # UserID::MovieID::Rating::Timestamp\n",
        "    # UserID::Gender::Age::Occupation::Zip-code\n",
        "    # MovieID::Title::Genres\n",
        "    sdfs = dict()\n",
        "    for data, cols in dataset.items():\n",
        "        sdf_tmp = spark.read.csv(data_path.format(data), sep =':', header = False)\n",
        "        tmp_cols = sdf_tmp.columns\n",
        "        sdfs[data] = sdf_tmp.select(tmp_cols[::2]).toDF(*cols)\n",
        "    return sdfs\n",
        "\n",
        "spark = OrcaContext.get_spark_session()\n",
        "sdfs = prepare_ml_sdfs(spark)"
      ],
      "outputs": [],
      "metadata": {
        "id": "u019NOk6e7qd"
      }
    },
    {
      "cell_type": "code",
      "execution_count": null,
      "source": [
        "def join_sdfs(sdfs, users=False):\n",
        "    sdf_joined = sdfs[\"ratings\"].join(sdfs[\"movies\"], \"movieid\").dropna()\n",
        "    if users:\n",
        "        sdf_joined = sdf_joined.join(sdfs[\"users\"], \"userid\").dropna()\n",
        "    return sdf_joined\n",
        "\n",
        "sdf_joined = join_sdfs(sdfs)\n",
        "sdf_joined.show(4, False)"
      ],
      "outputs": [
        {
          "output_type": "stream",
          "name": "stdout",
          "text": [
            "+-------+------+------+---------+--------------------------------------+----------------------------+\n",
            "|movieid|userid|rating|timestamp|title                                 |genres                      |\n",
            "+-------+------+------+---------+--------------------------------------+----------------------------+\n",
            "|1193   |1     |5     |978300760|One Flew Over the Cuckoo's Nest (1975)|Drama                       |\n",
            "|661    |1     |3     |978302109|James and the Giant Peach (1996)      |Animation|Children's|Musical|\n",
            "|914    |1     |3     |978301968|My Fair Lady (1964)                   |Musical|Romance             |\n",
            "|3408   |1     |4     |978300275|Erin Brockovich (2000)                |Drama                       |\n",
            "+-------+------+------+---------+--------------------------------------+----------------------------+\n",
            "only showing top 4 rows\n",
            "\n"
          ]
        }
      ],
      "metadata": {
        "colab": {
          "base_uri": "https://localhost:8080/"
        },
        "id": "qjYDJSdFG_4l",
        "outputId": "cf0cf7ad-b236-4bc5-fe1d-6ececa889e6c"
      }
    },
    {
      "cell_type": "code",
      "execution_count": null,
      "source": [
        "from pyspark.sql import functions as F\n",
        "from pyspark.sql.types import StructType, StructField, StringType, IntegerType, FloatType, ArrayType\n",
        "\n",
        "# cast\n",
        "sdf_all = sdf_joined.withColumn(\"rating\", F.col(\"rating\").cast(\"int\"))"
      ],
      "outputs": [],
      "metadata": {
        "id": "hz5pPKt4aWPz"
      }
    },
    {
      "cell_type": "code",
      "execution_count": null,
      "source": [
        "sdf_train, sdf_test = sdf_all.randomSplit([0.85, 0.15], seed=1)"
      ],
      "outputs": [],
      "metadata": {
        "id": "jIo-mkoy6DuL"
      }
    },
    {
      "cell_type": "code",
      "execution_count": null,
      "source": [
        "def userid_agg(sdf):\n",
        "    cols = [\"title\", \"rating\"]\n",
        "    f_cols = [F.col(col) for col in cols]\n",
        "    sdf_agg = (\n",
        "        sdf.groupBy(\"userid\").agg(\n",
        "            F.collect_list(F.struct(*cols)).alias(\"agg\")\n",
        "        )\n",
        "    )\n",
        "    def split_cols(data_list):\n",
        "        ret = [[] for col in cols]\n",
        "        for data in data_list:\n",
        "            for n, d in enumerate(data):\n",
        "                ret[n].append(d)\n",
        "        return ret\n",
        "\n",
        "    def split_cols_map(partition):\n",
        "        for row in partition:\n",
        "            splits = split_cols(row[\"agg\"])\n",
        "            yield [row[\"userid\"], *splits]\n",
        "    cols_out = [ col + \"s\" for col in cols]\n",
        "\n",
        "    return sdf_agg.rdd.mapPartitions(split_cols_map).toDF([\"userid\", *cols_out])\n",
        "\n",
        "sdf_list = userid_agg(sdf_train)\n",
        "sdf_list.printSchema()"
      ],
      "outputs": [
        {
          "output_type": "stream",
          "name": "stderr",
          "text": [
            "[Stage 7:>                                                          (0 + 1) / 1]"
          ]
        },
        {
          "output_type": "stream",
          "name": "stdout",
          "text": [
            "root\n",
            " |-- userid: string (nullable = true)\n",
            " |-- titles: array (nullable = true)\n",
            " |    |-- element: string (containsNull = true)\n",
            " |-- ratings: array (nullable = true)\n",
            " |    |-- element: long (containsNull = true)\n",
            "\n"
          ]
        },
        {
          "output_type": "stream",
          "name": "stderr",
          "text": [
            "\r                                                                                \r"
          ]
        }
      ],
      "metadata": {
        "colab": {
          "base_uri": "https://localhost:8080/"
        },
        "id": "FP4byS1pIAyb",
        "outputId": "23880437-11df-4da5-c2c6-00943947ea3c"
      }
    },
    {
      "cell_type": "code",
      "execution_count": null,
      "source": [
        "sdf_list.show(3, False)"
      ],
      "outputs": [
        {
          "output_type": "stream",
          "name": "stdout",
          "text": [
            "+------+------------------------------------------------------------------------------------------------------------------------------------------------------------------------------------------------------------------------------------------------------------------------------------------------------------------------------------------------------------------------------------------------------------------------------------------------------------------------------------------------------------------------------------------------------------------------------------------------------------------------------------------------------------------------------------------------------------------------------------------------------------------------------------------------------------------------------------------------------------------------------------------------------------------------------------------------------------------------------------------------------------------------------------------------------------------------------------------------------------------------------------------------------------------------------------------------------------------------------------------------------------------------------------------------------------------------------------------------------------------------------------------------------------------------------------------------------------------------------------------------------------------------------------------------------------------------------------------------------------------------------------------------------------------------------------------------------------------------------------------------------------------------------------------------------------------------------------------------------------------------------------------------------------------------------------------------------------------------------------------------------------------------------------------------------------------------------------------------------------------------------------------------------+---------------------------------------------------------------------------------------------------------------------------------------------------------------------------------------------------------------------------------------------------------------------------------+\n",
            "|userid|titles                                                                                                                                                                                                                                                                                                                                                                                                                                                                                                                                                                                                                                                                                                                                                                                                                                                                                                                                                                                                                                                                                                                                                                                                                                                                                                                                                                                                                                                                                                                                                                                                                                                                                                                                                                                                                                                                                                                                                                                                                                                                                                                                                |ratings                                                                                                                                                                                                                                                                          |\n",
            "+------+------------------------------------------------------------------------------------------------------------------------------------------------------------------------------------------------------------------------------------------------------------------------------------------------------------------------------------------------------------------------------------------------------------------------------------------------------------------------------------------------------------------------------------------------------------------------------------------------------------------------------------------------------------------------------------------------------------------------------------------------------------------------------------------------------------------------------------------------------------------------------------------------------------------------------------------------------------------------------------------------------------------------------------------------------------------------------------------------------------------------------------------------------------------------------------------------------------------------------------------------------------------------------------------------------------------------------------------------------------------------------------------------------------------------------------------------------------------------------------------------------------------------------------------------------------------------------------------------------------------------------------------------------------------------------------------------------------------------------------------------------------------------------------------------------------------------------------------------------------------------------------------------------------------------------------------------------------------------------------------------------------------------------------------------------------------------------------------------------------------------------------------------------+---------------------------------------------------------------------------------------------------------------------------------------------------------------------------------------------------------------------------------------------------------------------------------+\n",
            "|1090  |[Doors, The (1991), Braveheart (1995), One Flew Over the Cuckoo's Nest (1975), GoodFellas (1990), Dead Poets Society (1989), Graduate, The (1967), Bridge on the River Kwai, The (1957), Ben-Hur (1959), Gandhi (1982), Apollo 13 (1995), My Best Friend's Wedding (1997), Face/Off (1997), Men in Black (1997), Contact (1997), Devil's Advocate, The (1997), Boogie Nights (1997), Good Will Hunting (1997), Kundun (1997), Six Days Seven Nights (1998), Best Years of Our Lives, The (1946), Saving Private Ryan (1998), Few Good Men, A (1992), Rush Hour (1998), Life Is Beautiful (La Vita � bella) (1997), Shakespeare in Love (1998), Faculty, The (1998), Civil Action, A (1998), Deep End of the Ocean, The (1999), Entrapment (1999), General's Daughter, The (1999), Blair Witch Project, The (1999), Sixth Sense, The (1999), Thomas Crown Affair, The (1999), Bowfinger (1999), Being John Malkovich (1999), Grapes of Wrath, The (1940), Fatal Attraction (1987), Talented Mr. Ripley, The (1999), Shawshank Redemption, The (1994), Papillon (1973), Pacific Heights (1990), City Lights (1931), JFK (1991), Grumpy Old Men (1993), Dead Man Walking (1995), Firm, The (1993), Seven (Se7en) (1995), Jurassic Park (1993), Usual Suspects, The (1995), Silence of the Lambs, The (1991), Fargo (1996), Primal Fear (1996), Time to Kill, A (1996), Ransom (1996), North by Northwest (1959), Apartment, The (1960), Casablanca (1942), Citizen Kane (1941), It's a Wonderful Life (1946), Mr. Smith Goes to Washington (1939)]                                                                                                                                                                                                                                                                                                                                                                                                                                                                                                                                                                                                       |[3, 3, 4, 3, 4, 4, 3, 4, 4, 3, 4, 4, 4, 4, 4, 3, 4, 4, 1, 3, 4, 4, 4, 5, 2, 2, 3, 3, 3, 1, 2, 5, 4, 3, 3, 3, 3, 3, 5, 3, 2, 3, 3, 3, 3, 3, 4, 5, 5, 3, 4, 3, 3, 2, 3, 3, 4, 3, 3, 4]                                                                                             |\n",
            "|1159  |[20,000 Leagues Under the Sea (1954), Lawnmower Man, The (1992), E.T. the Extra-Terrestrial (1982), Abyss, The (1989), Aliens (1986), Clockwork Orange, A (1971), Terminator, The (1984), Back to the Future (1985), Alien� (1992), American Werewolf in London, An (1981), Batman Returns (1992), Mars Attacks! (1996), Batman Forever (1995), Batman & Robin (1997), Face/Off (1997), Men in Black (1997), Event Horizon (1997), Spawn (1997), Congo (1995), Mimic (1997), Desperado (1995), Gattaca (1997), Starship Troopers (1997), Judge Dredd (1995), Dark City (1998), Sphere (1998), Lost in Space (1998), Species II (1998), Deep Impact (1998), Godzilla (1998), Armageddon (1998), Pi (1998), Plan 9 from Outer Space (1958), Rain Man (1988), Metropolis (1926), Back to the Future Part II (1989), Back to the Future Part III (1990), Dune (1984), Flight of the Navigator (1986), Honey, I Shrunk the Kids (1989), Return from Witch Mountain (1978), Tron (1982), Thing, The (1982), 2010 (1984), Soldier (1998), American History X (1998), Jack Frost (1998), Powder (1995), Fly, The (1986), Fly II, The (1989), Wing Commander (1999), Matrix, The (1999), Superman (1978), Superman II (1980), Superman III (1983), Thirteenth Floor, The (1999), Arachnophobia (1990), Wild Wild West (1999), American Pie (1999), American Werewolf in Paris, An (1997), Universal Soldier (1992), Astronaut's Wife, The (1999), American Beauty (1999), City of Lost Children, The (1995), Total Recall (1990), Time Bandits (1981), Robocop (1987), Robocop 2 (1990), Spaceballs (1987), Bicentennial Man (1999), Stargate (1994), Twelve Monkeys (1995), Mission to Mars (2000), Close Encounters of the Third Kind (1977), Gladiator (2000), Mad Max (1979), Mad Max 2 (a.k.a. The Road Warrior) (1981), Mad Max Beyond Thunderdome (1985), X-Men (2000), Cell, The (2000), Jurassic Park (1993), No Escape (1994), Blade Runner (1982), Nightmare Before Christmas, The (1993), Ghost (1990), Barb Wire (1996), Arrival, The (1996), Independence Day (ID4) (1996), Nutty Professor, The (1996), Escape from L.A. (1996), Tin Cup (1996)]|[3, 2, 4, 3, 4, 4, 3, 3, 3, 3, 3, 3, 2, 1, 2, 4, 3, 3, 1, 2, 3, 2, 1, 2, 3, 1, 2, 1, 3, 1, 1, 2, 4, 3, 3, 2, 3, 3, 2, 3, 1, 3, 3, 2, 2, 3, 1, 1, 3, 1, 1, 5, 3, 2, 1, 3, 3, 1, 2, 1, 2, 2, 4, 3, 3, 3, 3, 2, 3, 1, 3, 4, 1, 3, 5, 3, 4, 3, 3, 3, 3, 2, 4, 4, 1, 1, 2, 2, 3, 3, 1]|\n",
            "|1436  |[Ben-Hur (1959), L.A. Confidential (1997), Doctor Dolittle (1998), Back to the Future Part II (1989), Poseidon Adventure, The (1972), Saving Private Ryan (1998), Gods and Monsters (1998), Desperately Seeking Susan (1985), Shakespeare in Love (1998), Civil Action, A (1998), Playing by Heart (1998), Simply Irresistible (1999), Cruel Intentions (1999), 10 Things I Hate About You (1999), Pushing Tin (1999), Midsummer Night's Dream, A (1999), Red Violin, The (Le Violon rouge) (1998), Ideal Husband, An (1999), Eyes Wide Shut (1999), Ghostbusters (1984), Mosquito Coast, The (1986), Sixth Sense, The (1999), Thomas Crown Affair, The (1999), Teaching Mrs. Tingle (1999), Astronaut's Wife, The (1999), American Beauty (1999), Double Jeopardy (1999), Random Hearts (1999), Boys Don't Cry (1999), Story of Us, The (1999), Being John Malkovich (1999), Bone Collector, The (1999), Anywhere But Here (1999), Secret of Roan Inish, The (1994), Stuart Little (1999), Magnolia (1999), Galaxy Quest (1999), Snow Falling on Cedars (1999), Beach, The (2000), Boiler Room (2000), Erin Brockovich (2000), Diner (1982), Gladiator (2000), Patriot, The (2000), What Lies Beneath (2000), Best in Show (2000), Contender, The (2000), Restoration (1995), Pallbearer, The (1996), Casablanca (1942)]                                                                                                                                                                                                                                                                                                                                                                                                                                                                                                                                                                                                                                                                                                                                                                                                                             |[4, 5, 4, 3, 4, 5, 5, 3, 5, 4, 5, 4, 4, 4, 4, 4, 4, 5, 3, 4, 2, 5, 3, 4, 3, 4, 4, 3, 5, 2, 5, 4, 4, 5, 5, 3, 3, 3, 4, 3, 4, 5, 3, 4, 3, 5, 4, 4, 1, 4]                                                                                                                           |\n",
            "+------+------------------------------------------------------------------------------------------------------------------------------------------------------------------------------------------------------------------------------------------------------------------------------------------------------------------------------------------------------------------------------------------------------------------------------------------------------------------------------------------------------------------------------------------------------------------------------------------------------------------------------------------------------------------------------------------------------------------------------------------------------------------------------------------------------------------------------------------------------------------------------------------------------------------------------------------------------------------------------------------------------------------------------------------------------------------------------------------------------------------------------------------------------------------------------------------------------------------------------------------------------------------------------------------------------------------------------------------------------------------------------------------------------------------------------------------------------------------------------------------------------------------------------------------------------------------------------------------------------------------------------------------------------------------------------------------------------------------------------------------------------------------------------------------------------------------------------------------------------------------------------------------------------------------------------------------------------------------------------------------------------------------------------------------------------------------------------------------------------------------------------------------------------+---------------------------------------------------------------------------------------------------------------------------------------------------------------------------------------------------------------------------------------------------------------------------------+\n",
            "only showing top 3 rows\n",
            "\n"
          ]
        }
      ],
      "metadata": {
        "colab": {
          "base_uri": "https://localhost:8080/"
        },
        "id": "eyMgZs_YLXhK",
        "outputId": "b2ed5ad2-7a60-48bf-e9b4-d12642f3e7ee"
      }
    },
    {
      "cell_type": "code",
      "execution_count": null,
      "source": [
        "unique_movie_titles = [x[\"title\"] for x in sdfs[\"movies\"].select(\"title\").distinct().collect()]\n",
        "unique_userids = [x[\"userid\"] for x in sdfs[\"users\"].select(\"userid\").distinct().collect()]\n",
        "\n",
        "print(len(unique_movie_titles), len(unique_userids))\n",
        "print(unique_movie_titles[0:2])\n",
        "print(unique_userids[0:2])"
      ],
      "outputs": [
        {
          "output_type": "stream",
          "name": "stderr",
          "text": [
            "[Stage 13:=============================================>        (170 + 1) / 200]"
          ]
        },
        {
          "output_type": "stream",
          "name": "stdout",
          "text": [
            "3865 6040\n",
            "['Fair Game (1995)', 'If Lucy Fell (1996)']\n",
            "['296', '467']\n"
          ]
        },
        {
          "output_type": "stream",
          "name": "stderr",
          "text": [
            "\r[Stage 13:===================================================>  (192 + 2) / 200]\r                                                                                \r"
          ]
        }
      ],
      "metadata": {
        "id": "IPpJfIQxRBGm",
        "outputId": "af821bac-8f9f-4826-c50c-c65ea5e43bb0",
        "colab": {
          "base_uri": "https://localhost:8080/"
        }
      }
    },
    {
      "cell_type": "code",
      "execution_count": null,
      "source": [
        "unique_movie_titles[0:2]"
      ],
      "outputs": [
        {
          "output_type": "execute_result",
          "data": {
            "text/plain": [
              "['Fair Game (1995)', 'If Lucy Fell (1996)']"
            ]
          },
          "metadata": {},
          "execution_count": 20
        }
      ],
      "metadata": {
        "id": "80yznk7yYT6f",
        "outputId": "49cc2eb6-dc89-40fc-c78f-7c3891aab04d",
        "colab": {
          "base_uri": "https://localhost:8080/"
        }
      }
    },
    {
      "cell_type": "markdown",
      "source": [
        "### Padding Dataframe\n",
        "Orca does not support variable length columns now, so we make all list/array columns the same lengths. "
      ],
      "metadata": {
        "id": "2lcdz8CWsKcg"
      }
    },
    {
      "cell_type": "code",
      "execution_count": null,
      "source": [
        "MASK_TOKEN = \"<MSK>\"\n",
        "MASK_RATING = -1\n",
        "\n",
        "def list2pad_list(sdf_list):\n",
        "\n",
        "    len_udf = F.udf(lambda x: len(x), IntegerType())\n",
        "    sdf_list_len = sdf_list.withColumn(\"len\", len_udf(F.col(\"ratings\"))).sort(F.desc(\"len\"))\n",
        "\n",
        "    def pad_list(lst, length, size, padding=None):\n",
        "        pad_size = size - length\n",
        "        return [*lst, *[padding] * pad_size]\n",
        "    \n",
        "    max_len = sdf_list_len.agg({\"len\": \"max\"}).collect()[0][\"max(len)\"]\n",
        "    min_len = sdf_list_len.agg({\"len\": \"min\"}).collect()[0][\"min(len)\"]\n",
        "    print(\"max_min_len\", (max_len, min_len))\n",
        "\n",
        "    pad_str_udf = F.udf(lambda x, y: pad_list(x, y, max_len, MASK_TOKEN), ArrayType(StringType(), True))\n",
        "    pad_int_udf = F.udf(lambda x, y: pad_list(x, y, max_len, MASK_RATING), ArrayType(IntegerType(), True))\n",
        "\n",
        "    sdf_list_padded = (\n",
        "        sdf_list_len\n",
        "        .withColumn(\"titles\", pad_str_udf(F.col(\"titles\"), F.col(\"len\")))\n",
        "        .withColumn(\"ratings\", pad_int_udf(F.col(\"ratings\"), F.col(\"len\")))\n",
        "        .sort(F.desc(\"len\"))\n",
        "    )\n",
        "    return sdf_list_padded, (max_len, min_len)\n",
        "\n",
        "\n",
        "sdf_list_padded, max_min_len = list2pad_list(sdf_list)\n",
        "sdf_list_padded.printSchema()"
      ],
      "outputs": [
        {
          "output_type": "stream",
          "name": "stderr",
          "text": [
            "[Stage 24:===============================================>      (146 + 1) / 165]"
          ]
        },
        {
          "output_type": "stream",
          "name": "stdout",
          "text": [
            "max_min_len (1922, 10)\n",
            "root\n",
            " |-- userid: string (nullable = true)\n",
            " |-- titles: array (nullable = true)\n",
            " |    |-- element: string (containsNull = true)\n",
            " |-- ratings: array (nullable = true)\n",
            " |    |-- element: integer (containsNull = true)\n",
            " |-- len: integer (nullable = true)\n",
            "\n"
          ]
        },
        {
          "output_type": "stream",
          "name": "stderr",
          "text": [
            "\r[Stage 24:=====================================================>(162 + 1) / 165]\r                                                                                \r"
          ]
        }
      ],
      "metadata": {
        "colab": {
          "base_uri": "https://localhost:8080/"
        },
        "id": "vrh5gImyp6mi",
        "outputId": "a7e19a08-54da-4415-8603-8aa3621020e3"
      }
    },
    {
      "cell_type": "code",
      "execution_count": null,
      "source": [
        "pdf = sdf_list_padded.limit(10).toPandas()\n",
        "pdf"
      ],
      "outputs": [
        {
          "output_type": "stream",
          "name": "stderr",
          "text": []
        },
        {
          "output_type": "execute_result",
          "data": {
            "text/html": [
              "\n",
              "  <div id=\"df-4229480f-d66f-43cc-82b7-1b2cc356637f\">\n",
              "    <div class=\"colab-df-container\">\n",
              "      <div>\n",
              "<style scoped>\n",
              "    .dataframe tbody tr th:only-of-type {\n",
              "        vertical-align: middle;\n",
              "    }\n",
              "\n",
              "    .dataframe tbody tr th {\n",
              "        vertical-align: top;\n",
              "    }\n",
              "\n",
              "    .dataframe thead th {\n",
              "        text-align: right;\n",
              "    }\n",
              "</style>\n",
              "<table border=\"1\" class=\"dataframe\">\n",
              "  <thead>\n",
              "    <tr style=\"text-align: right;\">\n",
              "      <th></th>\n",
              "      <th>userid</th>\n",
              "      <th>titles</th>\n",
              "      <th>ratings</th>\n",
              "      <th>len</th>\n",
              "    </tr>\n",
              "  </thead>\n",
              "  <tbody>\n",
              "    <tr>\n",
              "      <th>0</th>\n",
              "      <td>4169</td>\n",
              "      <td>[GoldenEye (1995), City Hall (1996), Extreme M...</td>\n",
              "      <td>[4, 3, 3, 2, 4, 3, 3, 5, 4, 4, 4, 5, 3, 5, 4, ...</td>\n",
              "      <td>1922</td>\n",
              "    </tr>\n",
              "    <tr>\n",
              "      <th>1</th>\n",
              "      <td>1680</td>\n",
              "      <td>[Extreme Measures (1996), Glimmer Man, The (19...</td>\n",
              "      <td>[4, 2, 4, 5, 3, 3, 4, 4, 4, 4, 4, 3, 1, 4, 4, ...</td>\n",
              "      <td>1459</td>\n",
              "    </tr>\n",
              "    <tr>\n",
              "      <th>2</th>\n",
              "      <td>4277</td>\n",
              "      <td>[Toy Story (1995), GoldenEye (1995), City Hall...</td>\n",
              "      <td>[5, 4, 5, 4, 4, 3, 5, 4, 4, 4, 5, 5, 4, 5, 4, ...</td>\n",
              "      <td>1428</td>\n",
              "    </tr>\n",
              "    <tr>\n",
              "      <th>3</th>\n",
              "      <td>1941</td>\n",
              "      <td>[GoldenEye (1995), Apple Dumpling Gang, The (1...</td>\n",
              "      <td>[4, 4, 4, 5, 5, 4, 4, 4, 5, 5, 4, 5, 4, 4, 3, ...</td>\n",
              "      <td>1258</td>\n",
              "    </tr>\n",
              "    <tr>\n",
              "      <th>4</th>\n",
              "      <td>1181</td>\n",
              "      <td>[GoldenEye (1995), Glimmer Man, The (1996), Ch...</td>\n",
              "      <td>[4, 3, 2, 2, 2, 3, 2, 2, 2, 3, 3, 3, 5, 2, 2, ...</td>\n",
              "      <td>1218</td>\n",
              "    </tr>\n",
              "    <tr>\n",
              "      <th>5</th>\n",
              "      <td>889</td>\n",
              "      <td>[Toy Story (1995), Bottle Rocket (1996), Old Y...</td>\n",
              "      <td>[4, 2, 5, 2, 2, 4, 3, 2, 4, 2, 2, 4, 4, 4, 3, ...</td>\n",
              "      <td>1213</td>\n",
              "    </tr>\n",
              "    <tr>\n",
              "      <th>6</th>\n",
              "      <td>3618</td>\n",
              "      <td>[Toy Story (1995), GoldenEye (1995), City Hall...</td>\n",
              "      <td>[2, 3, 3, 3, 3, 2, 4, 5, 3, 2, 3, 4, 2, 3, 4, ...</td>\n",
              "      <td>1122</td>\n",
              "    </tr>\n",
              "    <tr>\n",
              "      <th>7</th>\n",
              "      <td>1150</td>\n",
              "      <td>[Extreme Measures (1996), That Darn Cat! (1965...</td>\n",
              "      <td>[2, 2, 1, 2, 4, 2, 5, 3, 2, 2, 3, 1, 2, 4, 3, ...</td>\n",
              "      <td>1070</td>\n",
              "    </tr>\n",
              "    <tr>\n",
              "      <th>8</th>\n",
              "      <td>1015</td>\n",
              "      <td>[City Hall (1996), Bottle Rocket (1996), 20,00...</td>\n",
              "      <td>[2, 3, 4, 3, 3, 5, 5, 5, 3, 2, 5, 4, 4, 5, 4, ...</td>\n",
              "      <td>1065</td>\n",
              "    </tr>\n",
              "    <tr>\n",
              "      <th>9</th>\n",
              "      <td>1980</td>\n",
              "      <td>[Toy Story (1995), Chamber, The (1996), Apple ...</td>\n",
              "      <td>[4, 4, 3, 4, 3, 3, 3, 4, 4, 3, 4, 4, 1, 2, 4, ...</td>\n",
              "      <td>1041</td>\n",
              "    </tr>\n",
              "  </tbody>\n",
              "</table>\n",
              "</div>\n",
              "      <button class=\"colab-df-convert\" onclick=\"convertToInteractive('df-4229480f-d66f-43cc-82b7-1b2cc356637f')\"\n",
              "              title=\"Convert this dataframe to an interactive table.\"\n",
              "              style=\"display:none;\">\n",
              "        \n",
              "  <svg xmlns=\"http://www.w3.org/2000/svg\" height=\"24px\"viewBox=\"0 0 24 24\"\n",
              "       width=\"24px\">\n",
              "    <path d=\"M0 0h24v24H0V0z\" fill=\"none\"/>\n",
              "    <path d=\"M18.56 5.44l.94 2.06.94-2.06 2.06-.94-2.06-.94-.94-2.06-.94 2.06-2.06.94zm-11 1L8.5 8.5l.94-2.06 2.06-.94-2.06-.94L8.5 2.5l-.94 2.06-2.06.94zm10 10l.94 2.06.94-2.06 2.06-.94-2.06-.94-.94-2.06-.94 2.06-2.06.94z\"/><path d=\"M17.41 7.96l-1.37-1.37c-.4-.4-.92-.59-1.43-.59-.52 0-1.04.2-1.43.59L10.3 9.45l-7.72 7.72c-.78.78-.78 2.05 0 2.83L4 21.41c.39.39.9.59 1.41.59.51 0 1.02-.2 1.41-.59l7.78-7.78 2.81-2.81c.8-.78.8-2.07 0-2.86zM5.41 20L4 18.59l7.72-7.72 1.47 1.35L5.41 20z\"/>\n",
              "  </svg>\n",
              "      </button>\n",
              "      \n",
              "  <style>\n",
              "    .colab-df-container {\n",
              "      display:flex;\n",
              "      flex-wrap:wrap;\n",
              "      gap: 12px;\n",
              "    }\n",
              "\n",
              "    .colab-df-convert {\n",
              "      background-color: #E8F0FE;\n",
              "      border: none;\n",
              "      border-radius: 50%;\n",
              "      cursor: pointer;\n",
              "      display: none;\n",
              "      fill: #1967D2;\n",
              "      height: 32px;\n",
              "      padding: 0 0 0 0;\n",
              "      width: 32px;\n",
              "    }\n",
              "\n",
              "    .colab-df-convert:hover {\n",
              "      background-color: #E2EBFA;\n",
              "      box-shadow: 0px 1px 2px rgba(60, 64, 67, 0.3), 0px 1px 3px 1px rgba(60, 64, 67, 0.15);\n",
              "      fill: #174EA6;\n",
              "    }\n",
              "\n",
              "    [theme=dark] .colab-df-convert {\n",
              "      background-color: #3B4455;\n",
              "      fill: #D2E3FC;\n",
              "    }\n",
              "\n",
              "    [theme=dark] .colab-df-convert:hover {\n",
              "      background-color: #434B5C;\n",
              "      box-shadow: 0px 1px 3px 1px rgba(0, 0, 0, 0.15);\n",
              "      filter: drop-shadow(0px 1px 2px rgba(0, 0, 0, 0.3));\n",
              "      fill: #FFFFFF;\n",
              "    }\n",
              "  </style>\n",
              "\n",
              "      <script>\n",
              "        const buttonEl =\n",
              "          document.querySelector('#df-4229480f-d66f-43cc-82b7-1b2cc356637f button.colab-df-convert');\n",
              "        buttonEl.style.display =\n",
              "          google.colab.kernel.accessAllowed ? 'block' : 'none';\n",
              "\n",
              "        async function convertToInteractive(key) {\n",
              "          const element = document.querySelector('#df-4229480f-d66f-43cc-82b7-1b2cc356637f');\n",
              "          const dataTable =\n",
              "            await google.colab.kernel.invokeFunction('convertToInteractive',\n",
              "                                                     [key], {});\n",
              "          if (!dataTable) return;\n",
              "\n",
              "          const docLinkHtml = 'Like what you see? Visit the ' +\n",
              "            '<a target=\"_blank\" href=https://colab.research.google.com/notebooks/data_table.ipynb>data table notebook</a>'\n",
              "            + ' to learn more about interactive tables.';\n",
              "          element.innerHTML = '';\n",
              "          dataTable['output_type'] = 'display_data';\n",
              "          await google.colab.output.renderOutput(dataTable, element);\n",
              "          const docLink = document.createElement('div');\n",
              "          docLink.innerHTML = docLinkHtml;\n",
              "          element.appendChild(docLink);\n",
              "        }\n",
              "      </script>\n",
              "    </div>\n",
              "  </div>\n",
              "  "
            ],
            "text/plain": [
              "  userid                                             titles  \\\n",
              "0   4169  [GoldenEye (1995), City Hall (1996), Extreme M...   \n",
              "1   1680  [Extreme Measures (1996), Glimmer Man, The (19...   \n",
              "2   4277  [Toy Story (1995), GoldenEye (1995), City Hall...   \n",
              "3   1941  [GoldenEye (1995), Apple Dumpling Gang, The (1...   \n",
              "4   1181  [GoldenEye (1995), Glimmer Man, The (1996), Ch...   \n",
              "5    889  [Toy Story (1995), Bottle Rocket (1996), Old Y...   \n",
              "6   3618  [Toy Story (1995), GoldenEye (1995), City Hall...   \n",
              "7   1150  [Extreme Measures (1996), That Darn Cat! (1965...   \n",
              "8   1015  [City Hall (1996), Bottle Rocket (1996), 20,00...   \n",
              "9   1980  [Toy Story (1995), Chamber, The (1996), Apple ...   \n",
              "\n",
              "                                             ratings   len  \n",
              "0  [4, 3, 3, 2, 4, 3, 3, 5, 4, 4, 4, 5, 3, 5, 4, ...  1922  \n",
              "1  [4, 2, 4, 5, 3, 3, 4, 4, 4, 4, 4, 3, 1, 4, 4, ...  1459  \n",
              "2  [5, 4, 5, 4, 4, 3, 5, 4, 4, 4, 5, 5, 4, 5, 4, ...  1428  \n",
              "3  [4, 4, 4, 5, 5, 4, 4, 4, 5, 5, 4, 5, 4, 4, 3, ...  1258  \n",
              "4  [4, 3, 2, 2, 2, 3, 2, 2, 2, 3, 3, 3, 5, 2, 2, ...  1218  \n",
              "5  [4, 2, 5, 2, 2, 4, 3, 2, 4, 2, 2, 4, 4, 4, 3, ...  1213  \n",
              "6  [2, 3, 3, 3, 3, 2, 4, 5, 3, 2, 3, 4, 2, 3, 4, ...  1122  \n",
              "7  [2, 2, 1, 2, 4, 2, 5, 3, 2, 2, 3, 1, 2, 4, 3, ...  1070  \n",
              "8  [2, 3, 4, 3, 3, 5, 5, 5, 3, 2, 5, 4, 4, 5, 4, ...  1065  \n",
              "9  [4, 4, 3, 4, 3, 3, 3, 4, 4, 3, 4, 4, 1, 2, 4, ...  1041  "
            ]
          },
          "metadata": {},
          "execution_count": 22
        }
      ],
      "metadata": {
        "colab": {
          "base_uri": "https://localhost:8080/",
          "height": 363
        },
        "id": "yxCpVwa1qd_M",
        "outputId": "8d597cb8-97dd-421b-d6ee-56795160b5b1"
      }
    },
    {
      "cell_type": "markdown",
      "source": [
        "### **3. Model**"
      ],
      "metadata": {
        "id": "ynk5076umLdB"
      }
    },
    {
      "cell_type": "code",
      "execution_count": null,
      "source": [
        "class Padded2RaggedModel(tfrs.Model):\n",
        "    \n",
        "    def __init__(self, unique_userids, unique_movie_titles, max_len, loss):\n",
        "        super().__init__()\n",
        "        embedding_dimension = 32\n",
        "        self.max_len = max_len # for output padding\n",
        "        self._loss = loss\n",
        "\n",
        "        # Compute embeddings for users.\n",
        "        self.user_embeddings = tf.keras.Sequential([\n",
        "            tf.keras.Input(shape=(), dtype=tf.string),\n",
        "            tf.keras.layers.StringLookup(vocabulary=unique_userids),\n",
        "            tf.keras.layers.Embedding(len(unique_userids) + 2, embedding_dimension)\n",
        "        ], name=\"user_emb\")\n",
        "\n",
        "        # Compute embeddings for movies.\n",
        "        self.movie_embeddings = tf.keras.Sequential([\n",
        "            tf.keras.Input(shape=(None,), dtype=tf.string, ragged=True),\n",
        "            tf.keras.layers.StringLookup(vocabulary=unique_movie_titles),\n",
        "            tf.keras.layers.Embedding(len(unique_movie_titles) + 2, embedding_dimension)\n",
        "        ], name=\"movie_emb\")\n",
        "\n",
        "        # Compute predictions.\n",
        "        self.score_model = tf.keras.Sequential([\n",
        "            tf.keras.layers.Dense(256, activation=\"relu\"),\n",
        "            tf.keras.layers.Dense(64, activation=\"relu\"),\n",
        "            tf.keras.layers.Dense(1)\n",
        "        ], name=\"MLP\")\n",
        "\n",
        "        self._metrics = [\n",
        "            tfr.keras.metrics.NDCGMetric(name=\"ndcg_metric\", ragged=True),\n",
        "            tf.keras.metrics.RootMeanSquaredError()\n",
        "        ]\n",
        "        \n",
        "        self.task = tfrs.tasks.Ranking(\n",
        "            loss=self._loss,\n",
        "            metrics=self._metrics\n",
        "        )\n",
        "    \n",
        "    @classmethod\n",
        "    def _expand(cls, x):\n",
        "        return tf.expand_dims(x, axis=-1)\n",
        "    \n",
        "\n",
        "    @classmethod\n",
        "    def _repeat(cls, src, length, axis):\n",
        "        return tf.repeat(\n",
        "            tf.expand_dims(src, axis=axis),\n",
        "            [length],\n",
        "            axis=axis\n",
        "        )\n",
        "    \n",
        "    def call(self, features, padding_output=True):\n",
        "\n",
        "        userid = self._expand(features[0])\n",
        "        titles = self._expand(features[1])\n",
        "        lengths = features[-1]\n",
        "\n",
        "        max_length = features[1].shape[1] # padded\n",
        "\n",
        "        user_emb = self.user_embeddings(userid)\n",
        "        user_emb_repeated = self._repeat(user_emb, max_length, -2)\n",
        "        movie_emb = self.movie_embeddings(titles)\n",
        "\n",
        "        concatenated_emb = tf.concat(\n",
        "            [user_emb_repeated, movie_emb], axis=-1\n",
        "        )\n",
        "\n",
        "        scores = self.score_model(concatenated_emb)\n",
        "        scores = tf.squeeze(scores, axis=-1)\n",
        "        ragged_scores = tf.RaggedTensor.from_tensor(scores, lengths)\n",
        "        # score\n",
        "        if padding_output:\n",
        "            ragged_shape = ragged_scores.shape\n",
        "            return ragged_scores.to_tensor(np.inf, shape=(ragged_shape[0], self.max_len))\n",
        "        return ragged_scores\n",
        "\n",
        "    def compute_loss(self, inputs, training=False):\n",
        "\n",
        "        features, labels = inputs\n",
        "        lengths = features[-1]\n",
        "\n",
        "        labels = tf.RaggedTensor.from_tensor(labels, lengths)\n",
        "        #print(labels)\n",
        "        labels = tf.cast(labels, dtype=tf.float32)\n",
        "        scores = self.call(features, padding_output=False)\n",
        "        return self.task(\n",
        "            labels=labels,\n",
        "            predictions=scores,\n",
        "        )\n",
        "    \n",
        "    def compile_model(self, optimizer):\n",
        "        self.compile(\n",
        "            optimizer=optimizer,\n",
        "            loss=self._loss,\n",
        "            metrics=self._metrics,        \n",
        "        )\n",
        "        \n",
        "demo_model = Padded2RaggedModel(\n",
        "    unique_userids,\n",
        "    unique_movie_titles,\n",
        "    max_min_len[0],\n",
        "    tfr.keras.losses.MeanSquaredLoss(tf.losses.Reduction.SUM, ragged=True),\n",
        ")\n",
        "\n",
        "demo_model.compile_model(optimizer=tf.keras.optimizers.Adam(learning_rate=0.1))"
      ],
      "outputs": [],
      "metadata": {
        "id": "XWjjpiexMltC"
      }
    },
    {
      "cell_type": "code",
      "execution_count": null,
      "source": [
        "sample_rows = sdf_list_padded.take(11)"
      ],
      "outputs": [
        {
          "output_type": "stream",
          "name": "stderr",
          "text": []
        }
      ],
      "metadata": {
        "id": "w8K8qabUYv5i",
        "outputId": "8d13c2f3-cede-485f-ea94-ad322af3c66f",
        "colab": {
          "base_uri": "https://localhost:8080/"
        }
      }
    },
    {
      "cell_type": "code",
      "execution_count": null,
      "source": [
        "# for local/driver test\n",
        "\n",
        "def create_padded_batch(rows, batch_num, padded_cols):\n",
        "    padded_batch = {\n",
        "        col: np.array([rows[i][col] for i in range(0, min(batch_num, len(sample_rows)))])\n",
        "        for col in padded_cols\n",
        "    }\n",
        "    return padded_batch\n",
        "\n",
        "\n",
        "def padded2ragged(padded, padding):\n",
        "    mask = tf.not_equal(padded, padding)\n",
        "    ragged = tf.ragged.boolean_mask(padded, mask)\n",
        "    return ragged\n",
        "\n",
        "\n",
        "padded_batch = create_padded_batch(sample_rows, 10, padded_cols=sdf_list_padded.columns)\n",
        "padded_batch"
      ],
      "outputs": [
        {
          "output_type": "execute_result",
          "data": {
            "text/plain": [
              "{'len': array([1922, 1459, 1428, 1258, 1218, 1213, 1122, 1070, 1065, 1041]),\n",
              " 'ratings': array([[ 4,  3,  3, ...,  4,  4,  2],\n",
              "        [ 4,  2,  4, ..., -1, -1, -1],\n",
              "        [ 5,  4,  5, ..., -1, -1, -1],\n",
              "        ...,\n",
              "        [ 2,  2,  1, ..., -1, -1, -1],\n",
              "        [ 2,  3,  4, ..., -1, -1, -1],\n",
              "        [ 4,  4,  3, ..., -1, -1, -1]]),\n",
              " 'titles': array([['GoldenEye (1995)', 'City Hall (1996)',\n",
              "         'Extreme Measures (1996)', ..., 'Big Night (1996)',\n",
              "         'Caught (1996)', '2 Days in the Valley (1996)'],\n",
              "        ['Extreme Measures (1996)', 'Glimmer Man, The (1996)',\n",
              "         'Apple Dumpling Gang, The (1975)', ..., '<MSK>', '<MSK>',\n",
              "         '<MSK>'],\n",
              "        ['Toy Story (1995)', 'GoldenEye (1995)', 'City Hall (1996)', ...,\n",
              "         '<MSK>', '<MSK>', '<MSK>'],\n",
              "        ...,\n",
              "        ['Extreme Measures (1996)', 'That Darn Cat! (1965)',\n",
              "         'Cool Runnings (1993)', ..., '<MSK>', '<MSK>', '<MSK>'],\n",
              "        ['City Hall (1996)', 'Bottle Rocket (1996)',\n",
              "         '20,000 Leagues Under the Sea (1954)', ..., '<MSK>', '<MSK>',\n",
              "         '<MSK>'],\n",
              "        ['Toy Story (1995)', 'Chamber, The (1996)',\n",
              "         'Apple Dumpling Gang, The (1975)', ..., '<MSK>', '<MSK>',\n",
              "         '<MSK>']], dtype='<U79'),\n",
              " 'userid': array(['4169', '1680', '4277', '1941', '1181', '889', '3618', '1150',\n",
              "        '1015', '1980'], dtype='<U4')}"
            ]
          },
          "metadata": {},
          "execution_count": 25
        }
      ],
      "metadata": {
        "colab": {
          "base_uri": "https://localhost:8080/"
        },
        "id": "OpmE4n4GqvSS",
        "outputId": "4d516088-9455-4d28-fc0d-e2daf264de35"
      }
    },
    {
      "cell_type": "code",
      "execution_count": null,
      "source": [
        "def dict2xy(dic, x_cols, y_col):\n",
        "    return [dic[key] for key in x_cols], dic[y_col]\n",
        "\n",
        "X_COLS = [\"userid\", \"titles\"] + [\"len\"] # features\n",
        "Y_COL = \"ratings\" # label\n",
        "\n",
        "xy = dict2xy(padded_batch, X_COLS, Y_COL)\n",
        "xy[0]"
      ],
      "outputs": [
        {
          "output_type": "execute_result",
          "data": {
            "text/plain": [
              "[array(['4169', '1680', '4277', '1941', '1181', '889', '3618', '1150',\n",
              "        '1015', '1980'], dtype='<U4'),\n",
              " array([['GoldenEye (1995)', 'City Hall (1996)',\n",
              "         'Extreme Measures (1996)', ..., 'Big Night (1996)',\n",
              "         'Caught (1996)', '2 Days in the Valley (1996)'],\n",
              "        ['Extreme Measures (1996)', 'Glimmer Man, The (1996)',\n",
              "         'Apple Dumpling Gang, The (1975)', ..., '<MSK>', '<MSK>',\n",
              "         '<MSK>'],\n",
              "        ['Toy Story (1995)', 'GoldenEye (1995)', 'City Hall (1996)', ...,\n",
              "         '<MSK>', '<MSK>', '<MSK>'],\n",
              "        ...,\n",
              "        ['Extreme Measures (1996)', 'That Darn Cat! (1965)',\n",
              "         'Cool Runnings (1993)', ..., '<MSK>', '<MSK>', '<MSK>'],\n",
              "        ['City Hall (1996)', 'Bottle Rocket (1996)',\n",
              "         '20,000 Leagues Under the Sea (1954)', ..., '<MSK>', '<MSK>',\n",
              "         '<MSK>'],\n",
              "        ['Toy Story (1995)', 'Chamber, The (1996)',\n",
              "         'Apple Dumpling Gang, The (1975)', ..., '<MSK>', '<MSK>',\n",
              "         '<MSK>']], dtype='<U79'),\n",
              " array([1922, 1459, 1428, 1258, 1218, 1213, 1122, 1070, 1065, 1041])]"
            ]
          },
          "metadata": {},
          "execution_count": 26
        }
      ],
      "metadata": {
        "id": "sbFJW-4InhHu",
        "colab": {
          "base_uri": "https://localhost:8080/"
        },
        "outputId": "80e0a4a7-0baa-41db-873f-b2a7b1f334b3"
      }
    },
    {
      "cell_type": "code",
      "execution_count": null,
      "source": [
        "# check call() / ()\n",
        "score = demo_model.call(xy[0], False)\n",
        "print(score.shape)\n",
        "score = demo_model.call(xy[0], True)\n",
        "print(score.shape)"
      ],
      "outputs": [
        {
          "output_type": "stream",
          "name": "stdout",
          "text": [
            "(10, None)\n",
            "(10, 1922)\n"
          ]
        }
      ],
      "metadata": {
        "id": "sroAdipgZJcv",
        "outputId": "34858643-bea3-4319-a048-ab7ef5719f73",
        "colab": {
          "base_uri": "https://localhost:8080/"
        }
      }
    },
    {
      "cell_type": "code",
      "execution_count": null,
      "source": [
        "# check predct()\n",
        "pred = demo_model.predict(xy[0]) # tfrs.Model convert data to tf\n",
        "#pred.shape\n",
        "print(pred.shape)"
      ],
      "outputs": [
        {
          "output_type": "stream",
          "name": "stdout",
          "text": [
            "(10, 1922)\n"
          ]
        }
      ],
      "metadata": {
        "id": "DGcoDMX7ZhhM",
        "outputId": "917f3752-00a8-4545-e1d6-a8ee6486bf22",
        "colab": {
          "base_uri": "https://localhost:8080/"
        }
      }
    },
    {
      "cell_type": "code",
      "execution_count": null,
      "source": [
        "# check compute_loss()\n",
        "ret = demo_model.compute_loss(xy)\n",
        "print(ret)"
      ],
      "outputs": [
        {
          "output_type": "stream",
          "name": "stdout",
          "text": [
            "tf.Tensor(158040.64, shape=(), dtype=float32)\n"
          ]
        }
      ],
      "metadata": {
        "colab": {
          "base_uri": "https://localhost:8080/"
        },
        "id": "fOrWN7_trqpp",
        "outputId": "0194dccb-8899-4617-b977-460cd0dcef99"
      }
    },
    {
      "cell_type": "code",
      "execution_count": null,
      "source": [
        "demo_model.summary()"
      ],
      "outputs": [
        {
          "output_type": "stream",
          "name": "stdout",
          "text": [
            "Model: \"padded2_ragged_model\"\n",
            "_________________________________________________________________\n",
            " Layer (type)                Output Shape              Param #   \n",
            "=================================================================\n",
            " user_emb (Sequential)       (None, 32)                193344    \n",
            "                                                                 \n",
            " movie_emb (Sequential)      (None, None, 32)          123744    \n",
            "                                                                 \n",
            " MLP (Sequential)            (None, 1922, 1)           33153     \n",
            "                                                                 \n",
            " ranking (Ranking)           multiple                  0         \n",
            "                                                                 \n",
            "=================================================================\n",
            "Total params: 350,245\n",
            "Trainable params: 350,241\n",
            "Non-trainable params: 4\n",
            "_________________________________________________________________\n"
          ]
        }
      ],
      "metadata": {
        "colab": {
          "base_uri": "https://localhost:8080/"
        },
        "id": "Re329jRsr1D6",
        "outputId": "1e22d484-a2b7-4752-f234-73adedabd22a"
      }
    },
    {
      "cell_type": "code",
      "execution_count": null,
      "source": [
        "# here for testing the training process, we use all the data instead of the sdf_train \n",
        "sdf_list_padded_train, max_min_len = list2pad_list(\n",
        "    userid_agg(sdf_all)\n",
        ")\n",
        "\n",
        "sdf_list_padded_test, _ = list2pad_list(\n",
        "    userid_agg(sdf_test)\n",
        ")\n",
        "\n",
        "sdf_list_padded_test.printSchema()\n",
        "sdf_list_padded_test.show(3, False)"
      ],
      "outputs": [
        {
          "output_type": "stream",
          "name": "stderr",
          "text": []
        },
        {
          "output_type": "stream",
          "name": "stdout",
          "text": [
            "max_min_len (1922, 10)\n"
          ]
        },
        {
          "output_type": "stream",
          "name": "stderr",
          "text": []
        },
        {
          "output_type": "stream",
          "name": "stdout",
          "text": [
            "max_min_len (312, 1)\n",
            "root\n",
            " |-- userid: string (nullable = true)\n",
            " |-- titles: array (nullable = true)\n",
            " |    |-- element: string (containsNull = true)\n",
            " |-- ratings: array (nullable = true)\n",
            " |    |-- element: integer (containsNull = true)\n",
            " |-- len: integer (nullable = true)\n",
            "\n"
          ]
        },
        {
          "output_type": "stream",
          "name": "stderr",
          "text": [
            "[Stage 233:====================================================>(197 + 1) / 200]"
          ]
        },
        {
          "output_type": "stream",
          "name": "stdout",
          "text": [
            "+------+---------------------------------------------------------------------------------------------------------------------------------------------------------------------------------------------------------------------------------------------------------------------------------------------------------------------------------------------------------------------------------------------------------------------------------------------------------------------------------------------------------------------------------------------------------------------------------------------------------------------------------------------------------------------------------------------------------------------------------------------------------------------------------------------------------------------------------------------------------------------------------------------------------------------------------------------------------------------------------------------------------------------------------------------------------------------------------------------------------------------------------------------------------------------------------------------------------------------------------------------------------------------------------------------------------------------------------------------------------------------------------------------------------------------------------------------------------------------------------------------------------------------------------------------------------------------------------------------------------------------------------------------------------------------------------------------------------------------------------------------------------------------------------------------------------------------------------------------------------------------------------------------------------------------------------------------------------------------------------------------------------------------------------------------------------------------------------------------------------------------------------------------------------------------------------------------------------------------------------------------------------------------------------------------------------------------------------------------------------------------------------------------------------------------------------------------------------------------------------------------------------------------------------------------------------------------------------------------------------------------------------------------------------------------------------------------------------------------------------------------------------------------------------------------------------------------------------------------------------------------------------------------------------------------------------------------------------------------------------------------------------------------------------------------------------------------------------------------------------------------------------------------------------------------------------------------------------------------------------------------------------------------------------------------------------------------------------------------------------------------------------------------------------------------------------------------------------------------------------------------------------------------------------------------------------------------------------------------------------------------------------------------------------------------------------------------------------------------------------------------------------------------------------------------------------------------------------------------------------------------------------------------------------------------------------------------------------------------------------------------------------------------------------------------------------------------------------------------------------------------------------------------------------------------------------------------------------------------------------------------------------------------------------------------------------------------------------------------------------------------------------------------------------------------------------------------------------------------------------------------------------------------------------------------------------------------------------------------------------------------------------------------------------------------------------------------------------------------------------------------------------------------------------------------------------------------------------------------------------------------------------------------------------------------------------------------------------------------------------------------------------------------------------------------------------------------------------------------------------------------------------------------------------------------------------------------------------------------------------------------------------------------------------------------------------------------------------------------------------------------------------------------------------------------------------------------------------------------------------------------------------------------------------------------------------------------------------------------------------------------------------------------------------------------------------------------------------------------------------------------------------------------------------------------------------------------------------------------------------------------------------------------------------------------------------------------------------------------------------------------------------------------------------------------------------------------------------------------------------------------------------------------------------------------------------------------------------------------------------------------------------------------------------------------------------------------------------------------------------------------------------------------------------------------------------------------------------------------------------------------------------------------------------------------------------------------------------------------------------------------------------------------------------------------------------------------------------------------------------------------------------------------------------------------------------------------------------------------------------------------------------------------------------------------------------------------------------------------------------------------------------------------------------------------------------------------------------------------------------------------------------------------------------------------------------------------------------------------------------------------------------------------------------------------------------------------------------------------------------------------------------------------------------------------------------------------------------------------------------------------------------------------------------------------------------------------------------------------------------------------------------------------------------------------------------------------------------------------------------------------------------------------------------------------------------------------------------------------------------------------------------------------------------------------------------------------------------------------------------------------------------------------------------------------------------------------------------------------------------------------------------------------------------------------------------------------+---------------------------------------------------------------------------------------------------------------------------------------------------------------------------------------------------------------------------------------------------------------------------------------------------------------------------------------------------------------------------------------------------------------------------------------------------------------------------------------------------------------------------------------------------------------------------------------------------------------------------------------------------------------------------------------------------------------------------------------------------------------------------------------------------------------------------------------------------------------------------------------------------------------------------------------------------------------------------------------------------------------------------------------+---+\n",
            "|userid|titles                                                                                                                                                                                                                                                                                                                                                                                                                                                                                                                                                                                                                                                                                                                                                                                                                                                                                                                                                                                                                                                                                                                                                                                                                                                                                                                                                                                                                                                                                                                                                                                                                                                                                                                                                                                                                                                                                                                                                                                                                                                                                                                                                                                                                                                                                                                                                                                                                                                                                                                                                                                                                                                                                                                                                                                                                                                                                                                                                                                                                                                                                                                                                                                                                                                                                                                                                                                                                                                                                                                                                                                                                                                                                                                                                                                                                                                                                                                                                                                                                                                                                                                                                                                                                                                                                                                                                                                                                                                                                                                                                                                                                                                                                                                                                                                                                                                                                                                                                                                                                                                                                                                                                                                                                                                                                                                                                                                                                                                                                                                                                                                                                                                                                                                                                                                                                                                                                                                                                                                                                                                                                                                                                                                                                                                                                                                                                                                                                                                                                                                                                                                                                                                                                                                                                                                                                                                                                                                                                                                                                                                                                                                                                                                                                                                                                                                                                                                                                                                                                                                                                                                                                                                                                                                                                                                                                                                                                                                                                                                                                                                                                                                                                                                       |ratings                                                                                                                                                                                                                                                                                                                                                                                                                                                                                                                                                                                                                                                                                                                                                                                                                                                                                                                                                                                                                                |len|\n",
            "+------+---------------------------------------------------------------------------------------------------------------------------------------------------------------------------------------------------------------------------------------------------------------------------------------------------------------------------------------------------------------------------------------------------------------------------------------------------------------------------------------------------------------------------------------------------------------------------------------------------------------------------------------------------------------------------------------------------------------------------------------------------------------------------------------------------------------------------------------------------------------------------------------------------------------------------------------------------------------------------------------------------------------------------------------------------------------------------------------------------------------------------------------------------------------------------------------------------------------------------------------------------------------------------------------------------------------------------------------------------------------------------------------------------------------------------------------------------------------------------------------------------------------------------------------------------------------------------------------------------------------------------------------------------------------------------------------------------------------------------------------------------------------------------------------------------------------------------------------------------------------------------------------------------------------------------------------------------------------------------------------------------------------------------------------------------------------------------------------------------------------------------------------------------------------------------------------------------------------------------------------------------------------------------------------------------------------------------------------------------------------------------------------------------------------------------------------------------------------------------------------------------------------------------------------------------------------------------------------------------------------------------------------------------------------------------------------------------------------------------------------------------------------------------------------------------------------------------------------------------------------------------------------------------------------------------------------------------------------------------------------------------------------------------------------------------------------------------------------------------------------------------------------------------------------------------------------------------------------------------------------------------------------------------------------------------------------------------------------------------------------------------------------------------------------------------------------------------------------------------------------------------------------------------------------------------------------------------------------------------------------------------------------------------------------------------------------------------------------------------------------------------------------------------------------------------------------------------------------------------------------------------------------------------------------------------------------------------------------------------------------------------------------------------------------------------------------------------------------------------------------------------------------------------------------------------------------------------------------------------------------------------------------------------------------------------------------------------------------------------------------------------------------------------------------------------------------------------------------------------------------------------------------------------------------------------------------------------------------------------------------------------------------------------------------------------------------------------------------------------------------------------------------------------------------------------------------------------------------------------------------------------------------------------------------------------------------------------------------------------------------------------------------------------------------------------------------------------------------------------------------------------------------------------------------------------------------------------------------------------------------------------------------------------------------------------------------------------------------------------------------------------------------------------------------------------------------------------------------------------------------------------------------------------------------------------------------------------------------------------------------------------------------------------------------------------------------------------------------------------------------------------------------------------------------------------------------------------------------------------------------------------------------------------------------------------------------------------------------------------------------------------------------------------------------------------------------------------------------------------------------------------------------------------------------------------------------------------------------------------------------------------------------------------------------------------------------------------------------------------------------------------------------------------------------------------------------------------------------------------------------------------------------------------------------------------------------------------------------------------------------------------------------------------------------------------------------------------------------------------------------------------------------------------------------------------------------------------------------------------------------------------------------------------------------------------------------------------------------------------------------------------------------------------------------------------------------------------------------------------------------------------------------------------------------------------------------------------------------------------------------------------------------------------------------------------------------------------------------------------------------------------------------------------------------------------------------------------------------------------------------------------------------------------------------------------------------------------------------------------------------------------------------------------------------------------------------------------------------------------------------------------------------------------------------------------------------------------------------------------------------------------------------------------------------------------------------------------------------------------------------------------------------------------------------------------------------------------------------------------------------------------------------------------------------------------------------------+---------------------------------------------------------------------------------------------------------------------------------------------------------------------------------------------------------------------------------------------------------------------------------------------------------------------------------------------------------------------------------------------------------------------------------------------------------------------------------------------------------------------------------------------------------------------------------------------------------------------------------------------------------------------------------------------------------------------------------------------------------------------------------------------------------------------------------------------------------------------------------------------------------------------------------------------------------------------------------------------------------------------------------------+---+\n",
            "|4169  |[Parent Trap, The (1961), Swiss Family Robinson (1960), Mr. Wrong (1996), Mary Poppins (1964), Pete's Dragon (1977), Alice in Wonderland (1951), To Gillian on Her 37th Birthday (1996), Get on the Bus (1996), Johns (1996), Dirty Dancing (1987), Platoon (1986), Christmas Carol, A (1938), Associate, The (1996), Glory Daze (1996), Return of the Pink Panther, The (1974), Abyss, The (1989), Howling, The (1980), Raw Deal (1948), Bob Roberts (1992), Paths of Glory (1957), Hear My Song (1991), GoodFellas (1990), Ran (1985), Right Stuff, The (1983), Boat, The (Das Boot) (1981), Duck Soup (1933), Deer Hunter, The (1978), Groundhog Day (1993), High Noon (1952), Somewhere in Time (1980), M*A*S*H (1970), Until the End of the World (Bis ans Ende der Welt) (1991), Audrey Rose (1977), Cape Fear (1962), Garden of Finzi-Contini, The (Giardino dei Finzi-Contini, Il) (1970), Die Hard 2 (1990), Jaws 3-D (1983), My Fellow Americans (1996), Up Close and Personal (1996), Night Falls on Manhattan (1997), Michael (1996), Some Mother's Son (1996), Thieves (Voleurs, Les) (1996), Angel Baby (1995), Falling in Love Again (1980), Brothers McMullen, The (1995), Smilla's Sense of Snow (1997), Daytrippers, The (1996), Grosse Pointe Blank (1997), Hollow Reed (1996), Temptress Moon (Feng Yue) (1996), Fathers' Day (1997), Belle de jour (1967), Brassed Off (1996), Buddy (1997), Roseanna's Grave (For Roseanna) (1997), Out to Sea (1997), Contact (1997), G.I. Jane (1997), Cop Land (1997), Event Horizon (1997), My Own Private Idaho (1991), In & Out (1997), Edge, The (1997), Game, The (1997), Washington Square (1997), Stripes (1981), Mad City (1997), Boogie Nights (1997), Wings of the Dove, The (1997), Butcher Boy, The (1998), Sense and Sensibility (1995), Hackers (1995), Mouse Hunt (1997), Tomorrow Never Dies (1997), Judge Dredd (1995), Kids (1995), Hard Rain (1998), Four Days in September (1997), Living in Oblivion (1995), Men With Guns (1997), U.S. Marshalls (1998), Suicide Kings (1997), Newton Boys, The (1998), Wild Things (1998), Primary Colors (1998), Homegrown (1998), Gingerbread Man, The (1998), Real Blonde, The (1997), Six Days Seven Nights (1998), All Quiet on the Western Front (1930), Cimarron (1931), Grand Hotel (1932), French Connection, The (1971), Breakfast Club, The (1985), Mask of Zorro, The (1998), Babes in Toyland (1961), Total Eclipse (1995), Saving Private Ryan (1998), To Wong Foo, Thanks for Everything! Julie Newmar (1995), Tender Mercies (1983), White Man's Burden (1995), Return to Oz (1985), Song of the South (1946), Jerk, The (1979), Man with Two Brains, The (1983), Nineteen Eighty-Four (1984), Watership Down (1978), House (1986), Avengers, The (1998), Your Friends and Neighbors (1998), Merry War, A (1997), Mr. & Mrs. Smith (1941), Suspicion (1941), Seven Beauties (Pasqualino Settebellezze) (1976), My Blue Heaven (1990), About Last Night... (1986), We're No Angels (1989), Permanent Midnight (1998), Sheltering Sky, The (1990), Shadrach (1998), Impostors, The (1998), Holy Man (1998), 2010 (1984), Bride of Chucky (1998), Vampires (1998), American History X (1998), Big Chill, The (1983), Central Station (Central do Brasil) (1998), Fletch Lives (1989), Money Pit, The (1986), Lifeforce (1985), Mass Appeal (1984), Jewel of the Nile, The (1985), Rocky II (1979), Extremities (1986), Another Day in Paradise (1998), At First Sight (1999), Texas Chainsaw Massacre, The (1974), Hoop Dreams (1994), Ruthless People (1986), Tough Guys (1986), Other Sister, The (1999), I.Q. (1994), Tango (1998), Kiss of Death (1995), Castle, The (1997), Frankenstein (1931), War of the Worlds, The (1953), Legend of 1900, The (Leggenda del pianista sull'oceano) (1998), Autumn Tale, An (Conte d'automne) (1998), Losing Isaiah (1995), Blair Witch Project, The (1999), My Life So Far (1999), Madness of King George, The (1994), Runaway Bride (1999), Native Son (1986), Otello (1986), Morning After, The (1986), Radio Days (1987), Raven, The (1963), Airplane! (1980), Funny Farm (1988), Murder in the First (1995), Oscar and Lucinda (a.k.a. Oscar & Lucinda) (1997), Iron Eagle II (1988), Three Days of the Condor (1975), Minus Man, The (1999), Othello (1952), Soldier's Story, A (1984), American Beauty (1999), Excalibur (1981), Only You (1994), Psycho II (1983), High Plains Drifter (1972), Conformist, The (Il Conformista) (1970), Fire Within, The (Le Feu Follet) (1963), Straight Story, The (1999), Live and Let Die (1973), Thunderball (1965), Music of the Heart (1999), Shanghai Triad (Yao a yao yao dao waipo qiao) (1995), Queen Margot (La Reine Margot) (1994), Quest for Fire (1981), Little Big Man (1970), Experience Preferred... But Not Essential (1982), Anywhere But Here (1999), Dogma (1999), Tora! Tora! Tora! (1970), Adventures of Buckaroo Bonzai Across the 8th Dimension, The (1984), Jeremiah Johnson (1972), Irma la Douce (1963), Harvey (1950), McCabe & Mrs. Miller (1971), Fatal Attraction (1987), Jagged Edge (1985), Country (1984), Tumbleweeds (1999), Great Santini, The (1979), Talented Mr. Ripley, The (1999), Last Detail, The (1973), Swimming with Sharks (1995), Howards End (1992), Singles (1992), Stop! Or My Mom Will Shoot (1992), To Sir with Love (1967), Blue Collar (1978), What Planet Are You From? (2000), Never Cry Wolf (1983), Underneath, The (1995), Dog Day Afternoon (1975), American Graffiti (1973), Where Eagles Dare (1969), Ogre, The (Der Unhold) (1996), Railroaded! (1947), Harry and the Hendersons (1987), She-Devil (1989), Muppet Movie, The (1979), Turtle Diary (1985), Raise the Titanic (1980), Bear, The (1988), Love Is a Many-Splendored Thing (1955), Funny Bones (1995), Hustler, The (1961), Place in the Sun, A (1951), Bullets Over Broadway (1994), Force 10 from Navarone (1978), Sacco and Vanzetti (Sacco e Vanzetti) (1971), Arthur (1981), Freedom for Us (� nous la libert� ) (1931), American Psycho (2000), Guys and Dolls (1955), Hunger, The (1983), Marathon Man (1976), U-571 (2000), Forrest Gump (1994), Gladiator (2000), I Dreamed of Africa (2000), Idolmaker, The (1980), Gypsy (1962), Myth of Fingerprints, The (1997), Monsieur Verdoux (1947), Mask, The (1994), Brother from Another Planet, The (1984), Bird on a Wire (1990), Reality Bites (1994), Trixie (1999), American Pop (1981), Shaft (1971), Lonely Are the Brave (1962), Trouble in Paradise (1932), Battleship Potemkin, The (Bronenosets Potyomkin) (1925), Five Senses, The (1999), Greaser's Palace (1972), Breaker Morant (1980), Wyatt Earp (1994), Saving Grace (2000), Dancer in the Dark (2000), Pajama Party (1964), Meet the Parents (2000), Requiem for a Dream (2000), Cry, the Beloved Country (1995), In the Mouth of Madness (1995), Age of Innocence, The (1993), Blue Chips (1994), Blue Sky (1994), Restoration (1995), Color of Night (1994), Demolition Man (1993), Judgment Night (1993), King of the Hill (1993), Philadelphia (1993), Romper Stomper (1992), Searching for Bobby Fischer (1993), Secret Garden, The (1993), Sleepless in Seattle (1993), Germinal (1993), Aladdin (1992), Pretty Woman (1990), Eye for an Eye (1996), Thin Line Between Love and Hate, A (1996), Jack and Sarah (1995), James and the Giant Peach (1996), Underground (1995), Dead Man (1995), Cold Comfort Farm (1995), Force of Evil (1948), Last of the High Kings, The (a.k.a. Summer Fling) (1996), Eraser (1996), Very Natural Thing, A (1974), Walking and Talking (1996), She's the One (1996), Foxfire (1996), Escape from L.A. (1996), For Whom the Bell Tolls (1943), Breakfast at Tiffany's (1961), Gaslight (1944), Apartment, The (1960), Roman Holiday (1953), Notorious (1946), Spellbound (1945), Ninotchka (1939), Adventures of Robin Hood, The (1938), Ghost and Mrs. Muir, The (1947), Lost Horizon (1937), My Man Godfrey (1936), Giant (1956), Lady of Burlesque (1943), In the Bleak Midwinter (1995), Little Lord Fauntleroy (1936), Farewell to Arms, A (1932), Last Man Standing (1996)]|[4, 4, 1, 5, 3, 4, 4, 4, 3, 3, 5, 4, 4, 2, 3, 4, 4, 4, 4, 5, 5, 5, 5, 5, 5, 5, 5, 5, 5, 2, 5, 4, 3, 5, 4, 3, 2, 4, 4, 3, 4, 4, 3, 5, 4, 5, 3, 4, 4, 4, 3, 3, 3, 4, 2, 3, 3, 5, 3, 3, 3, 3, 5, 3, 3, 4, 2, 2, 5, 5, 4, 5, 4, 4, 3, 1, 4, 2, 4, 5, 4, 4, 3, 2, 4, 5, 2, 4, 2, 3, 5, 4, 4, 4, 4, 4, 3, 1, 5, 4, 4, 2, 3, 5, 2, 3, 4, 3, 3, 2, 3, 4, 3, 4, 5, 4, 3, 3, 4, 3, 3, 4, 3, 3, 3, 3, 4, 5, 5, 2, 3, 4, 4, 3, 1, 3, 3, 3, 2, 3, 5, 3, 3, 4, 3, 3, 3, 5, 4, 3, 5, 4, 4, 4, 4, 4, 3, 4, 3, 4, 3, 4, 3, 4, 4, 3, 4, 3, 4, 4, 5, 5, 4, 4, 3, 4, 5, 3, 3, 4, 4, 3, 4, 3, 5, 3, 3, 4, 2, 2, 3, 3, 4, 5, 3, 3, 4, 5, 5, 5, 4, 3, 5, 3, 1, 3, 3, 3, 3, 4, 5, 5, 3, 3, 4, 3, 2, 4, 3, 2, 3, 3, 2, 5, 4, 4, 2, 4, 2, 5, 4, 4, 3, 4, 4, 3, 5, 3, 3, 3, 3, 5, 5, 4, 3, 3, 1, 5, 3, 4, 5, 5, 3, 4, 5, 3, 3, 5, 2, 4, 5, 4, 4, 4, 3, 4, 3, 2, 2, 3, 3, 4, 4, 4, 3, 4, 4, 4, 4, 2, 2, 4, 4, 5, 1, 4, 4, 3, 3, 4, 3, 4, 3, 2, 5, 5, 4, 5, 5, 4, 4, 5, 5, 4, 5, 5, 3, 3, 5, 4, 4, 3]                                                               |312|\n",
            "|1680  |[GoldenEye (1995), Escape to Witch Mountain (1975), Love Bug, The (1969), Herbie Rides Again (1974), Mary Poppins (1964), Fox and the Hound, The (1981), Long Kiss Goodnight, The (1996), Trees Lounge (1996), Normal Life (1996), Fish Called Wanda, A (1988), Bonnie and Clyde (1967), People vs. Larry Flynt, The (1996), Abyss, The (1989), Grifters, The (1990), To Kill a Mockingbird (1962), Wings of Desire (Der Himmel �ber Berlin) (1987), Amadeus (1984), Chinatown (1974), Bad Taste (1987), Night on Earth (1991), Raise the Red Lantern (1991), Heathers (1989), Koyaanisqatsi (1983), Field of Dreams (1989), Butch Cassidy and the Sundance Kid (1969), Female Perversions (1996), Alien� (1992), Amityville 3-D (1983), Blood For Dracula (Andy Warhol's Dracula) (1974), Audrey Rose (1977), Birds, The (1963), Blob, The (1958), Carrie (1976), Nightmare on Elm Street, A (1984), 101 Dalmatians (1996), Jaws 3-D (1983), Dante's Peak (1997), Van, The (1996), Amateur (1994), Anaconda (1997), Rob Roy (1995), Children of the Revolution (1996), Breakdown (1997), Addiction, The (1995), Trial and Error (1997), Batman & Robin (1997), Spawn (1997), Leave It to Beaver (1997), Mimic (1997), Wishmaster (1997), How to Be a Player (1997), Fast, Cheap & Out of Control (1997), For Richer or Poorer (1997), Office Killer (1997), Sweet Hereafter, The (1997), Postman, The (1997), Jackie Brown (1997), Half Baked (1998), Deep Rising (1998), Lord of Illusions (1995), Love and Death on Long Island (1997), Hush (1998), Two Girls and a Guy (1997), Meet the Deedles (1998), Zero Effect (1998), Clockwatchers (1997), Prophecy, The (1995), Fear and Loathing in Las Vegas (1998), Opposite of Sex, The (1998), Henry Fool (1997), Buffalo 66 (1998), Chariots of Fire (1981), Out of Africa (1985), Soylent Green (1973), Back to the Future Part II (1989), Absent Minded Professor, The (1961), Cat from Outer Space, The (1978), Great Mouse Detective, The (1986), BASEketball (1998), Tender Mercies (1983), Newsies (1992), Return of Jafar, The (1993), Dead Men Don't Wear Plaid (1982), Outsiders, The (1983), Gods Must Be Crazy II, The (1989), Avengers, The (1998), Attack of the Killer Tomatoes! (1980), Blade (1998), Untouchables, The (1987), Castle Freak (1995), Urban Legend (1998), Antz (1998), Impostors, The (1998), Happiness (1998), Orgazmo (1997), Vampires (1998), Exotica (1994), I Still Know What You Did Last Summer (1998), Exit to Eden (1994), Nights of Cabiria (Le Notti di Cabiria) (1957), Waking Ned Devine (1998), Gung Ho (1986), Money Pit, The (1986), View to a Kill, A (1985), Simple Plan, A (1998), Karate Kid, Part II, The (1986), Mighty Joe Young (1998), Virus (1999), Return of the Texas Chainsaw Massacre, The (1994), Trick or Treat (1986), Name of the Rose, The (1986), Three Amigos! (1986), Simply Irresistible (1999), Heavyweights (1994), Pet Sematary II (1992), Airport (1970), Towering Inferno, The (1974), Interview with the Vampire (1994), Escape from the Planet of the Apes (1971), Cookie's Fortune (1999), Open Your Eyes (Abre los ojos) (1997), Idle Hands (1999), Superman II (1980), Dracula (1931), Dracula (1958), Velocity of Gary, The (1998), Mission, The (1986), Little Shop of Horrors, The (1960), Outrageous Fortune (1987), Miami Rhapsody (1995), Haunted Honeymoon (1986), Airplane! (1980), Big (1988), Problem Child 2 (1991), Tequila Sunrise (1988), Muse, The (1999), Minus Man, The (1999), Yellow Submarine (1968), Nina Takes a Lover (1994), Tommy (1975), Double Jeopardy (1999), Three Kings (1999), Psycho II (1983), Body Heat (1981), Pyromaniac's Love Story, A (1995), Being John Malkovich (1999), Grumpier Old Men (1995), Bride of Re-Animator (1990), Queen Margot (La Reine Margot) (1994), Nighthawks (1981), Meatballs (1979), Peter's Friends (1992), Under the Rainbow (1981), Poison Ivy (1992), Come See the Paradise (1990), Places in the Heart (1984), Stuart Saves His Family (1995), End of the Affair, The (1999), Great Santini, The (1979), Last Picture Show, The (1971), Talented Mr. Ripley, The (1999), Snow Falling on Cedars (1999), Girl, Interrupted (1999), Cry in the Dark, A (1988), Poison (1991), Sum of Us, The (1994), Malcolm X (1992), Agnes of God (1985), To Live (Huozhe) (1994), Buffy the Vampire Slayer (1992), Cutting Edge, The (1992), Class Reunion (1982), Village of the Damned (1995), Breaking Away (1979), Muppets Take Manhattan, The (1984), Babe (1995), Titanic (1953), Final Destination (2000), Champ, The (1979), Good Mother, The (1988), Bamba, La (1987), Ladyhawke (1985), Hook (1991), Carrington (1995), Odd Couple, The (1968), Corrina, Corrina (1994), Parenthood (1989), Crow, The (1994), Hidden, The (1987), I Love Trouble (1994), Jungle Book, The (1994), Man with the Golden Gun, The (1974), Baraka (1992), Fabulous Baker Boys, The (1989), Porky's (1981), Starman (1984), Alien Nation (1988), Reality Bites (1994), Cutter's Way (1981), Fury, The (1978), Prince of the City (1981), Sugarland Express, The (1974), Big Trouble in Little China (1986), Battleship Potemkin, The (Bronenosets Potyomkin) (1925), What Lies Beneath (2000), Sinbad and the Eye of the Tiger (1977), Love and Death (1975), Hollow Man (2000), Bronco Billy (1980), Steel Magnolias (1989), Boys Life (1995), Beach Party (1963), Invisible Man, The (1933), Runaway (1984), Sorority House Massacre (1986), Sorority House Massacre II (1990), Get Carter (2000), Meet the Parents (2000), Airheads (1994), Boxing Helena (1993), Cops and Robbersons (1994), Demolition Man (1993), M. Butterfly (1993), When Night Is Falling (1995), Man Without a Face, The (1993), Manhattan Murder Mystery (1993), Menace II Society (1993), Orlando (1993), Perfect World, A (1993), Robert A. Heinlein's The Puppet Masters (1994), Shadow, The (1994), Short Cuts (1993), Sliver (1993), Son in Law (1993), So I Married an Axe Murderer (1993), Last Supper, The (1995), Dragonheart (1996), Space Jam (1996), French Twist (Gazon maudit) (1995), Oliver & Company (1988), Craft, The (1996), Heaven's Prisoners (1996), Spy Hard (1996), Jack (1996), I Shot Andy Warhol (1996), Nico Icon (1995), Spirits of the Dead (Tre Passi nel Delirio) (1968), 'Til There Was You (1997), Kingpin (1996), Eraser (1996), Escape from L.A. (1996), Godfather, The (1972), Relic, The (1997), First Kid (1996), Trigger Effect, The (1996), Nick of Time (1995), Funny Face (1957), It Happened One Night (1934), Sunset Blvd. (a.k.a. Sunset Boulevard) (1950), Laura (1944), Bringing Up Baby (1938), Night of the Living Dead (1968), Michael Collins (1996), Toy Story (1995), <MSK>, <MSK>, <MSK>, <MSK>, <MSK>, <MSK>, <MSK>, <MSK>, <MSK>, <MSK>, <MSK>, <MSK>, <MSK>, <MSK>, <MSK>, <MSK>, <MSK>, <MSK>, <MSK>, <MSK>, <MSK>, <MSK>, <MSK>, <MSK>, <MSK>, <MSK>, <MSK>, <MSK>, <MSK>, <MSK>, <MSK>, <MSK>, <MSK>, <MSK>, <MSK>, <MSK>, <MSK>, <MSK>, <MSK>, <MSK>, <MSK>, <MSK>, <MSK>, <MSK>, <MSK>, <MSK>, <MSK>, <MSK>]                                                                                                                                                                                                                                                                                                                                                                                                                                                                                                                                                                                                                                                                                                                                                                                                                                                                                                                                                                                                                                                        |[3, 3, 4, 4, 4, 4, 5, 3, 2, 5, 3, 5, 4, 5, 4, 3, 3, 5, 4, 5, 4, 5, 4, 5, 5, 5, 4, 3, 3, 3, 5, 4, 5, 4, 3, 3, 1, 3, 5, 2, 5, 5, 4, 4, 3, 3, 3, 1, 4, 2, 1, 5, 3, 3, 3, 1, 3, 3, 3, 2, 3, 2, 3, 3, 4, 5, 5, 3, 5, 5, 2, 1, 5, 4, 3, 4, 4, 4, 4, 4, 1, 3, 4, 3, 2, 1, 3, 4, 3, 2, 5, 4, 4, 5, 3, 2, 5, 3, 4, 3, 3, 4, 4, 4, 3, 1, 2, 3, 1, 2, 5, 3, 3, 1, 1, 3, 5, 5, 4, 4, 5, 5, 4, 4, 3, 4, 3, 2, 5, 5, 3, 5, 3, 1, 4, 2, 2, 4, 4, 3, 3, 4, 5, 4, 4, 4, 3, 3, 4, 4, 4, 4, 4, 4, 4, 3, 5, 5, 5, 5, 2, 3, 4, 4, 3, 3, 3, 4, 5, 1, 3, 4, 4, 5, 3, 3, 3, 4, 1, 4, 1, 2, 2, 2, 4, 2, 4, 4, 5, 1, 3, 3, 3, 4, 4, 3, 4, 4, 4, 3, 5, 5, 3, 3, 4, 5, 5, 4, 3, 4, 4, 2, 3, 2, 4, 3, 4, 4, 4, 2, 3, 3, 3, 5, 3, 5, 1, 3, 4, 3, 4, 4, 4, 4, 4, 4, 4, 1, 4, 3, 5, 2, 3, 2, 5, 4, 2, 3, 4, 4, 5, 2, 5, 2, 2, 3, 4, 4, 5, 4, 5, 5, 3, 4, -1, -1, -1, -1, -1, -1, -1, -1, -1, -1, -1, -1, -1, -1, -1, -1, -1, -1, -1, -1, -1, -1, -1, -1, -1, -1, -1, -1, -1, -1, -1, -1, -1, -1, -1, -1, -1, -1, -1, -1, -1, -1, -1, -1, -1, -1, -1, -1]               |264|\n",
            "|4277  |[Extreme Measures (1996), Apple Dumpling Gang, The (1975), Davy Crockett, King of the Wild Frontier (1955), Swiss Family Robinson (1960), Mary Poppins (1964), Die Hard (1988), That Thing You Do! (1996), Trees Lounge (1996), Murder, My Sweet (1944), Sleeper (1973), Bonnie and Clyde (1967), E.T. the Extra-Terrestrial (1982), American President, The (1995), Abyss, The (1989), Fog, The (1980), Wrong Trousers, The (1993), Bob Roberts (1992), Thin Blue Line, The (1988), Clockwork Orange, A (1971), Wings of Desire (Der Himmel �ber Berlin) (1987), Third Man, The (1949), Raging Bull (1980), Evil Dead II (Dead By Dawn) (1987), Raise the Red Lantern (1991), Heathers (1989), Butch Cassidy and the Sundance Kid (1969), Until the End of the World (Bis ans Ende der Welt) (1991), Birds, The (1963), Blob, The (1958), Cat People (1982), Preacher's Wife, The (1996), Grease (1978), Ghosts of Mississippi (1996), Scream (1996), Kolya (1996), City of Industry (1997), Grosse Pointe Blank (1997), Breakdown (1997), Fifth Element, The (1997), Schizopolis (1996), Shiloh (1997), Buddy (1997), Conan the Barbarian (1982), Crumb (1994), Ulee's Gold (1997), Devil in a Blue Dress (1995), How to Be a Player (1997), House of Yes, The (1997), Washington Square (1997), Life Less Ordinary, A (1997), Stripes (1981), Wings of the Dove, The (1997), Midnight in the Garden of Good and Evil (1997), Tomorrow Never Dies (1997), Dark City (1998), Replacement Killers, The (1998), Lord of Illusions (1995), Homegrown (1998), Mute Witness (1994), Spanish Prisoner, The (1997), Lawn Dogs (1997), Children of Heaven, The (Bacheha-Ye Aseman) (1997), Pi (1998), There's Something About Mary (1998), Ordinary People (1980), Rain Man (1988), Halloween (1978), Jumanji (1995), Money Train (1995), Lethal Weapon 3 (1992), Gremlins (1984), Back to the Future Part II (1989), Babes in Toyland (1961), Dangerous Liaisons (1988), Doctor Zhivago (1965), Fanny and Alexander (1982), Tender Mercies (1983), And the Band Played On (1993), Song of the South (1946), Lord of the Rings, The (1978), Watership Down (1978), Before the Rain (Pred dozhdot) (1994), Legend (1985), Babysitter, The (1995), Man Who Knew Too Much, The (1956), Willow (1988), Untouchables, The (1987), Copycat (1995), Cube (1997), Say Anything... (1989), Disclosure (1994), Few Good Men, A (1992), Thing, The (1982), Mighty, The (1998), Elephant Man, The (1980), Apt Pupil (1998), American History X (1998), Runaway Train (1985), Godzilla (Gojira) (1984), Hideaway (1995), First Blood (1982), Romancing the Stone (1984), Fluke (1995), Karate Kid, Part II, The (1986), Fly, The (1986), Running Scared (1986), Hoop Dreams (1994), Crocodile Dundee II (1988), Three Amigos! (1986), My Name Is Joe (1998), God Said 'Ha!' (1998), Meteor (1979), Earthquake (1974), School of Flesh, The (L' �cole de la chair) (1998), Walk on the Moon, A (1999), Metroland (1997), Following (1998), Idle Hands (1999), Castle, The (1997), Ladybird Ladybird (1994), Mummy, The (1959), Dracula (1931), Rocky Horror Picture Show, The (1975), Legends of the Fall (1994), Thing From Another World, The (1951), It Came from Outer Space (1953), Free Enterprise (1998), Run Lola Run (Lola rennt) (1998), Mary Shelley's Frankenstein (1994), Barry Lyndon (1975), Color Purple, The (1985), Iron Giant, The (1999), Thomas Crown Affair, The (1999), Thomas Crown Affair, The (1968), Pit and the Pendulum (1961), Big (1988), Christmas Story, A (1983), Universal Soldier (1992), Yellow Submarine (1968), Hard Day's Night, A (1964), Splendor (1999), Three Kings (1999), Plunkett & MaCleane (1999), Risky Business (1983), Total Recall (1990), High Plains Drifter (1972), Hang 'em High (1967), Hairspray (1988), Razor's Edge, The (1984), Flashdance (1983), Licence to Kill (1989), Picture Bride (1995), Effect of Gamma Rays on Man-in-the-Moon Marigolds, The (1972), Sweet and Lowdown (1999), Tarzan the Fearless (1933), Green Mile, The (1999), Carnal Knowledge (1971), Shawshank Redemption, The (1994), Snow Falling on Cedars (1999), American Flyers (1985), Carmen (1984), Odessa File, The (1974), Alive (1993), Scent of a Woman (1992), Hard-Boiled (Lashou shentan) (1992), To Sir with Love (1967), Reindeer Games (2000), Deterrence (1998), Splendor in the Grass (1961), Vanya on 42nd Street (1994), Teenage Mutant Ninja Turtles III (1993), Hud (1963), Inherit the Wind (1960), Bullets Over Broadway (1994), Rules of Engagement (2000), American Psycho (2000), Keeping the Faith (2000), Jennifer 8 (1992), Dead Man Walking (1995), Road Trip (2000), Better Living Through Circuitry (1999), Blow-Out (La Grande Bouffe) (1973), Puppet Master (1989), Blood Simple (1984), Flatliners (1990), Alien Nation (1988), Mad Max (1979), Mad Max 2 (a.k.a. The Road Warrior) (1981), Shaft (1971), Paper Chase, The (1973), Chicken Run (2000), F/X 2 (1992), Shaft's Big Score! (1972), Blowup (1966), Timecop (1994), Chuck & Buck (2000), What Lies Beneath (2000), Anatomy of a Murder (1959), What About Bob? (1991), Official Story, The (La Historia Oficial) (1985), Wolf (1994), Bronco Billy (1980), Kelly's Heroes (1970), Air America (1990), Stranger Than Paradise (1984), Bank Dick, The (1940), Creature From the Black Lagoon, The (1954), Phantom of the Opera, The (1943), Meet the Parents (2000), In the Mouth of Madness (1995), Richard III (1995), Body Snatchers (1993), Color of Night (1994), Fearless (1993), Fugitive, The (1993), Jurassic Park (1993), When Night Is Falling (1995), Manhattan Murder Mystery (1993), Menace II Society (1993), Much Ado About Nothing (1993), Naked (1993), Robert A. Heinlein's The Puppet Masters (1994), Romper Stomper (1992), Ruby in Paradise (1993), Serial Mom (1994), Tombstone (1993), Love and a .45 (1994), Ed (1996), Primal Fear (1996), Dragonheart (1996), James and the Giant Peach (1996), Fear (1996), Clean Slate (Coup de Torchon) (1981), True Crime (1995), Kicking and Screaming (1995), Mis�rables, Les (1995), Close Shave, A (1995), Lone Star (1996), Walking and Talking (1996), Fled (1996), Eyes Without a Face (1959), Supercop (1992), American in Paris, An (1951), Some Like It Hot (1959), Maltese Falcon, The (1941), Sunset Blvd. (a.k.a. Sunset Boulevard) (1950), To Catch a Thief (1955), Maximum Risk (1996), Rich Man's Wife, The (1996), <MSK>, <MSK>, <MSK>, <MSK>, <MSK>, <MSK>, <MSK>, <MSK>, <MSK>, <MSK>, <MSK>, <MSK>, <MSK>, <MSK>, <MSK>, <MSK>, <MSK>, <MSK>, <MSK>, <MSK>, <MSK>, <MSK>, <MSK>, <MSK>, <MSK>, <MSK>, <MSK>, <MSK>, <MSK>, <MSK>, <MSK>, <MSK>, <MSK>, <MSK>, <MSK>, <MSK>, <MSK>, <MSK>, <MSK>, <MSK>, <MSK>, <MSK>, <MSK>, <MSK>, <MSK>, <MSK>, <MSK>, <MSK>, <MSK>, <MSK>, <MSK>, <MSK>, <MSK>, <MSK>, <MSK>, <MSK>, <MSK>, <MSK>, <MSK>, <MSK>, <MSK>, <MSK>, <MSK>]                                                                                                                                                                                                                                                                                                                                                                                                                                                                                                                                                                                                                                                                                                                                                                                                                                                                                                                                                                                                                                                                                                                                                                                                                       |[4, 4, 4, 4, 5, 5, 3, 4, 4, 3, 5, 5, 5, 5, 4, 4, 5, 5, 5, 5, 5, 5, 4, 4, 3, 5, 4, 4, 4, 4, 3, 3, 5, 4, 4, 4, 4, 4, 5, 4, 5, 2, 4, 5, 5, 5, 4, 4, 3, 3, 4, 4, 4, 4, 5, 4, 4, 4, 4, 4, 4, 5, 5, 5, 4, 5, 5, 4, 3, 4, 3, 4, 4, 5, 4, 4, 4, 4, 4, 3, 4, 4, 4, 4, 4, 4, 5, 4, 4, 4, 4, 5, 5, 4, 4, 4, 5, 4, 3, 4, 5, 4, 4, 3, 5, 3, 5, 4, 3, 3, 3, 3, 3, 3, 5, 3, 4, 4, 4, 4, 4, 5, 4, 4, 5, 5, 3, 5, 5, 3, 5, 5, 4, 4, 3, 5, 5, 4, 4, 5, 4, 4, 4, 5, 5, 5, 4, 3, 4, 4, 4, 4, 5, 4, 4, 5, 3, 5, 4, 3, 4, 4, 4, 4, 4, 5, 3, 4, 4, 2, 3, 4, 5, 3, 4, 4, 5, 4, 5, 4, 4, 5, 4, 5, 4, 4, 5, 5, 4, 4, 4, 4, 3, 3, 4, 4, 4, 5, 3, 4, 4, 4, 4, 3, 4, 5, 4, 3, 4, 4, 3, 4, 3, 5, 5, 5, 4, 3, 5, 4, 4, 4, 4, 4, 4, 5, 4, 4, 4, 4, 4, 5, 5, 4, 4, 4, 4, 5, 4, 4, 5, 3, 4, 4, 5, 5, 4, 4, 3, -1, -1, -1, -1, -1, -1, -1, -1, -1, -1, -1, -1, -1, -1, -1, -1, -1, -1, -1, -1, -1, -1, -1, -1, -1, -1, -1, -1, -1, -1, -1, -1, -1, -1, -1, -1, -1, -1, -1, -1, -1, -1, -1, -1, -1, -1, -1, -1, -1, -1, -1, -1, -1, -1, -1, -1, -1, -1, -1, -1, -1, -1, -1]|249|\n",
            "+------+---------------------------------------------------------------------------------------------------------------------------------------------------------------------------------------------------------------------------------------------------------------------------------------------------------------------------------------------------------------------------------------------------------------------------------------------------------------------------------------------------------------------------------------------------------------------------------------------------------------------------------------------------------------------------------------------------------------------------------------------------------------------------------------------------------------------------------------------------------------------------------------------------------------------------------------------------------------------------------------------------------------------------------------------------------------------------------------------------------------------------------------------------------------------------------------------------------------------------------------------------------------------------------------------------------------------------------------------------------------------------------------------------------------------------------------------------------------------------------------------------------------------------------------------------------------------------------------------------------------------------------------------------------------------------------------------------------------------------------------------------------------------------------------------------------------------------------------------------------------------------------------------------------------------------------------------------------------------------------------------------------------------------------------------------------------------------------------------------------------------------------------------------------------------------------------------------------------------------------------------------------------------------------------------------------------------------------------------------------------------------------------------------------------------------------------------------------------------------------------------------------------------------------------------------------------------------------------------------------------------------------------------------------------------------------------------------------------------------------------------------------------------------------------------------------------------------------------------------------------------------------------------------------------------------------------------------------------------------------------------------------------------------------------------------------------------------------------------------------------------------------------------------------------------------------------------------------------------------------------------------------------------------------------------------------------------------------------------------------------------------------------------------------------------------------------------------------------------------------------------------------------------------------------------------------------------------------------------------------------------------------------------------------------------------------------------------------------------------------------------------------------------------------------------------------------------------------------------------------------------------------------------------------------------------------------------------------------------------------------------------------------------------------------------------------------------------------------------------------------------------------------------------------------------------------------------------------------------------------------------------------------------------------------------------------------------------------------------------------------------------------------------------------------------------------------------------------------------------------------------------------------------------------------------------------------------------------------------------------------------------------------------------------------------------------------------------------------------------------------------------------------------------------------------------------------------------------------------------------------------------------------------------------------------------------------------------------------------------------------------------------------------------------------------------------------------------------------------------------------------------------------------------------------------------------------------------------------------------------------------------------------------------------------------------------------------------------------------------------------------------------------------------------------------------------------------------------------------------------------------------------------------------------------------------------------------------------------------------------------------------------------------------------------------------------------------------------------------------------------------------------------------------------------------------------------------------------------------------------------------------------------------------------------------------------------------------------------------------------------------------------------------------------------------------------------------------------------------------------------------------------------------------------------------------------------------------------------------------------------------------------------------------------------------------------------------------------------------------------------------------------------------------------------------------------------------------------------------------------------------------------------------------------------------------------------------------------------------------------------------------------------------------------------------------------------------------------------------------------------------------------------------------------------------------------------------------------------------------------------------------------------------------------------------------------------------------------------------------------------------------------------------------------------------------------------------------------------------------------------------------------------------------------------------------------------------------------------------------------------------------------------------------------------------------------------------------------------------------------------------------------------------------------------------------------------------------------------------------------------------------------------------------------------------------------------------------------------------------------------------------------------------------------------------------------------------------------------------------------------------------------------------------------------------------------------------------------------------------------------------------------------------------------------------------------------------------------------------------------------------------------------------------------------------------------------------------------------------------------------------------------------------------------------------------------------------+---------------------------------------------------------------------------------------------------------------------------------------------------------------------------------------------------------------------------------------------------------------------------------------------------------------------------------------------------------------------------------------------------------------------------------------------------------------------------------------------------------------------------------------------------------------------------------------------------------------------------------------------------------------------------------------------------------------------------------------------------------------------------------------------------------------------------------------------------------------------------------------------------------------------------------------------------------------------------------------------------------------------------------------+---+\n",
            "only showing top 3 rows\n",
            "\n"
          ]
        },
        {
          "output_type": "stream",
          "name": "stderr",
          "text": [
            "\r                                                                                \r"
          ]
        }
      ],
      "metadata": {
        "colab": {
          "base_uri": "https://localhost:8080/"
        },
        "id": "E29BaG6IxxS6",
        "outputId": "02f225d4-b076-40d6-d939-32678bcb09d5"
      }
    },
    {
      "cell_type": "code",
      "execution_count": null,
      "source": [
        "num_partitions = 32\n",
        "sdf_list_padded_train = sdf_list_padded_train.repartition(num_partitions).cache()\n",
        "sdf_list_padded_test = sdf_list_padded_test.repartition(num_partitions).cache()\n",
        "print(sdf_list_padded_train.rdd.getNumPartitions(), sdf_list_padded_test.rdd.getNumPartitions())"
      ],
      "outputs": [
        {
          "output_type": "stream",
          "name": "stderr",
          "text": [
            "[Stage 303:===================================================> (194 + 1) / 200]"
          ]
        },
        {
          "output_type": "stream",
          "name": "stdout",
          "text": [
            "32 32\n"
          ]
        },
        {
          "output_type": "stream",
          "name": "stderr",
          "text": [
            "\r[Stage 303:====================================================>(199 + 1) / 200]\r                                                                                \r"
          ]
        }
      ],
      "metadata": {
        "id": "I85ClEK-GEir",
        "outputId": "a2e071bc-a42e-49ea-ee95-138649b5b123",
        "colab": {
          "base_uri": "https://localhost:8080/"
        }
      }
    },
    {
      "cell_type": "code",
      "execution_count": null,
      "source": [
        "ALL_COLS = X_COLS + [Y_COL]\n",
        "test_data = dict2xy(\n",
        "    create_padded_batch(sdf_list_padded_test.take(11), 1, sdf_list_padded_test.columns),\n",
        "    X_COLS,\n",
        "    Y_COL\n",
        ")\n",
        "\n",
        "model_config = {\n",
        "    \"learning_rate\": 0.1,\n",
        "    \"userid_vocab\": unique_userids,\n",
        "    \"movie_vocab\": unique_movie_titles,\n",
        "    \"max_len\": max_min_len[0],\n",
        "    \"test_data\": test_data,\n",
        "}\n",
        "\n",
        "def create_model(config):\n",
        "    # loss = tfr.keras.losses.MeanSquaredLoss(tf.losses.Reduction.SUM, ragged=True)\n",
        "    # loss = tfr.keras.losses.ListMLELoss(tf.losses.Reduction.SUM, ragged=True)\n",
        "    loss = tfr.keras.losses.ApproxNDCGLoss(reduction=tf.losses.Reduction.SUM, ragged=True)\n",
        "    # loss = tf.keras.losses.MeanSquaredError(tf.keras.losses.Reduction.SUM)\n",
        "    \n",
        "    model = Padded2RaggedModel(\n",
        "        config[\"userid_vocab\"],\n",
        "        config[\"movie_vocab\"],\n",
        "        config[\"max_len\"],\n",
        "        loss\n",
        "    )\n",
        "\n",
        "    model.compile_model(\n",
        "        optimizer=tf.keras.optimizers.Adam(learning_rate=config[\"learning_rate\"]),\n",
        "    )\n",
        "    # dummy to build graph\n",
        "    x, y = config['test_data']\n",
        "    model(x)\n",
        "    \n",
        "    return model"
      ],
      "outputs": [],
      "metadata": {
        "id": "GkebCAfo8zqb"
      }
    },
    {
      "cell_type": "code",
      "execution_count": null,
      "source": [
        "import tensorflow_datasets as tfds\n",
        "\n",
        "_TEST_CREATE_FUNCTION = True\n",
        "\n",
        "if _TEST_CREATE_FUNCTION:\n",
        "    model = create_model(model_config)\n",
        "    model.summary()\n",
        "    x, y = model_config['test_data']\n",
        "    ret = model.compute_loss((x, y))\n",
        "    print(ret)\n",
        "    ret = model.fit(x, y)\n",
        "    ret = model.predict(x)\n",
        "    print(ret.shape)"
      ],
      "outputs": [
        {
          "output_type": "stream",
          "name": "stdout",
          "text": [
            "Model: \"padded2_ragged_model_3\"\n",
            "_________________________________________________________________\n",
            " Layer (type)                Output Shape              Param #   \n",
            "=================================================================\n",
            " user_emb (Sequential)       (None, 32)                193344    \n",
            "                                                                 \n",
            " movie_emb (Sequential)      (None, None, 32)          123744    \n",
            "                                                                 \n",
            " MLP (Sequential)            (1, 312, 1)               33153     \n",
            "                                                                 \n",
            " ranking_3 (Ranking)         multiple                  0 (unused)\n",
            "                                                                 \n",
            "=================================================================\n",
            "Total params: 350,245\n",
            "Trainable params: 350,241\n",
            "Non-trainable params: 4\n",
            "_________________________________________________________________\n",
            "tf.Tensor(-0.73584837, shape=(), dtype=float32)\n"
          ]
        },
        {
          "output_type": "stream",
          "name": "stderr",
          "text": [
            "/usr/local/lib/python3.7/dist-packages/tensorflow/python/framework/indexed_slices.py:450: UserWarning: Converting sparse IndexedSlices(IndexedSlices(indices=Tensor(\"gradient_tape/ranking_3/ApproxNDCGLoss/RaggedToTensor_2/boolean_mask_1/GatherV2:0\", shape=(None,), dtype=int32), values=Tensor(\"gradient_tape/ranking_3/ApproxNDCGLoss/RaggedToTensor_2/boolean_mask/GatherV2:0\", shape=(None,), dtype=float32), dense_shape=Tensor(\"gradient_tape/ranking_3/ApproxNDCGLoss/RaggedToTensor_2/Shape:0\", shape=(1,), dtype=int32))) to a dense Tensor of unknown shape. This may consume a large amount of memory.\n",
            "  \"shape. This may consume a large amount of memory.\" % value)\n"
          ]
        },
        {
          "output_type": "stream",
          "name": "stdout",
          "text": [
            "1/1 [==============================] - 5s 5s/step - ndcg_metric: 0.8257 - root_mean_squared_error: 3.9282 - loss: -0.7358 - regularization_loss: 0.0000e+00 - total_loss: -0.7358\n",
            "(1, 1922)\n"
          ]
        }
      ],
      "metadata": {
        "colab": {
          "base_uri": "https://localhost:8080/"
        },
        "id": "7_P8UI_a-t6x",
        "outputId": "02253bcc-2b04-4d01-d031-d0a528457f23"
      }
    },
    {
      "cell_type": "code",
      "execution_count": null,
      "source": [
        "from bigdl.orca.learn.tf2 import Estimator\n",
        "\n",
        "# create an Estimator                                                                                                                                                                                                                   \n",
        "est = Estimator.from_keras(\n",
        "    model_creator=create_model,\n",
        "    config=model_config,\n",
        "    workers_per_node=1\n",
        ")"
      ],
      "outputs": [
        {
          "output_type": "stream",
          "name": "stderr",
          "text": [
            "2022-05-17 04:26:23,873\tWARNING worker.py:1228 -- WARNING: 16 PYTHON worker processes have been started on node: 360d0c0b26cf63dd4aff97bdae6d417272c2a7d71a29ef35f157588b with address: 172.28.0.2. This could be a result of using a large number of actors, or due to tasks blocked in ray.get() calls (see https://github.com/ray-project/ray/issues/3644 for some discussion of workarounds).\n",
            "\u001b[2m\u001b[36m(Worker pid=134125)\u001b[0m WARNING:tensorflow:From /usr/local/lib/python3.7/dist-packages/bigdl/orca/learn/tf2/tf_runner.py:313: _CollectiveAllReduceStrategyExperimental.__init__ (from tensorflow.python.distribute.collective_all_reduce_strategy) is deprecated and will be removed in a future version.\n",
            "\u001b[2m\u001b[36m(Worker pid=134125)\u001b[0m Instructions for updating:\n",
            "\u001b[2m\u001b[36m(Worker pid=134125)\u001b[0m use distribute.MultiWorkerMirroredStrategy instead\n",
            "\u001b[2m\u001b[36m(Worker pid=134125)\u001b[0m 2022-05-17 04:26:37.240969: E tensorflow/stream_executor/cuda/cuda_driver.cc:271] failed call to cuInit: CUDA_ERROR_NO_DEVICE: no CUDA-capable device is detected\n"
          ]
        }
      ],
      "metadata": {
        "id": "DLMq16vBMvOo",
        "outputId": "802b2b73-ae2f-4620-9711-4b1877c598f4",
        "colab": {
          "base_uri": "https://localhost:8080/"
        }
      }
    },
    {
      "cell_type": "code",
      "execution_count": null,
      "source": [
        "all_data_count = sdf_list_padded_all.count()\n",
        "test_data_count = sdf_list_padded_test.count()\n",
        "\n",
        "batch_size = 256\n",
        "train_steps = all_data_count // batch_size\n",
        "valid_steps = test_data_count // batch_size\n",
        "\n",
        "print(all_data_count, train_steps)\n",
        "print(test_data_count, valid_steps)"
      ],
      "outputs": [
        {
          "output_type": "stream",
          "name": "stdout",
          "text": [
            "6040 23\n",
            "6009 23\n"
          ]
        }
      ],
      "metadata": {
        "id": "3KzW62p5-ZBi",
        "outputId": "c830f8cb-eb50-4a18-f115-f011f702bf24",
        "colab": {
          "base_uri": "https://localhost:8080/"
        }
      }
    },
    {
      "cell_type": "code",
      "execution_count": null,
      "source": [
        "print(\"### pre-evaluate(): (sanity-check)\")\n",
        "\n",
        "# evaluate with Estimator                                                                                                                                                                                                               \n",
        "stats = est.evaluate(\n",
        "    sdf_list_padded_test,\n",
        "    batch_size=batch_size,\n",
        "    feature_cols=X_COLS,\n",
        "    label_cols=[Y_COL],\n",
        "    num_steps=valid_steps, # 1,\n",
        "    verbose=False\n",
        ")"
      ],
      "outputs": [
        {
          "output_type": "stream",
          "name": "stdout",
          "text": [
            "### pre-evaluate(): (sanity-check)\n"
          ]
        },
        {
          "output_type": "stream",
          "name": "stderr",
          "text": [
            "2022-05-17 04:27:49,671\tWARNING worker.py:1228 -- WARNING: 18 PYTHON worker processes have been started on node: 360d0c0b26cf63dd4aff97bdae6d417272c2a7d71a29ef35f157588b with address: 172.28.0.2. This could be a result of using a large number of actors, or due to tasks blocked in ray.get() calls (see https://github.com/ray-project/ray/issues/3644 for some discussion of workarounds).\n",
            "[Stage 460:>                                                        (0 + 1) / 1]2022-05-17 04:27:51,617\tINFO worker.py:843 -- Connecting to existing Ray cluster at address: 172.28.0.2:6379\n",
            "\u001b[2m\u001b[36m(Worker pid=134125)\u001b[0m 2022-05-17 04:27:58.627910: W tensorflow/core/framework/dataset.cc:744] Input of GeneratorDatasetOp::Dataset will not be optimized because the dataset does not implement the AsGraphDefInternal() method needed to apply optimizations.\n"
          ]
        }
      ],
      "metadata": {
        "colab": {
          "base_uri": "https://localhost:8080/"
        },
        "id": "pL89jISjFVFb",
        "outputId": "d07bdacf-4ac3-46ac-c5a7-1b6c9c2f7866"
      }
    },
    {
      "cell_type": "code",
      "execution_count": null,
      "source": [
        "print(f'batch_size: {batch_size}, num_step: {valid_steps}')\n",
        "print(stats)"
      ],
      "outputs": [
        {
          "output_type": "stream",
          "name": "stdout",
          "text": [
            "batch_size: 256, num_step: 23\n",
            "[{'validation_ndcg_metric': 0.8375100493431091, 'validation_root_mean_squared_error': 3.7488231658935547}]\n"
          ]
        }
      ],
      "metadata": {
        "id": "_FMjiNaXRwaE",
        "outputId": "2b996ac0-16e3-456f-bd50-9e8e8b5a2596",
        "colab": {
          "base_uri": "https://localhost:8080/"
        }
      }
    },
    {
      "cell_type": "code",
      "execution_count": null,
      "source": [
        "sdf_list_padded_all.printSchema()\n",
        "print(X_COLS, [Y_COL])"
      ],
      "outputs": [
        {
          "output_type": "stream",
          "name": "stdout",
          "text": [
            "root\n",
            " |-- userid: string (nullable = true)\n",
            " |-- titles: array (nullable = true)\n",
            " |    |-- element: string (containsNull = true)\n",
            " |-- ratings: array (nullable = true)\n",
            " |    |-- element: integer (containsNull = true)\n",
            " |-- len: integer (nullable = true)\n",
            "\n",
            "['userid', 'titles', 'len'] ['ratings']\n"
          ]
        }
      ],
      "metadata": {
        "id": "a4HxItYQBQXt",
        "outputId": "64c5192e-65bd-418c-95f0-916705042549",
        "colab": {
          "base_uri": "https://localhost:8080/"
        }
      }
    },
    {
      "cell_type": "code",
      "execution_count": null,
      "source": [
        "loops = []"
      ],
      "outputs": [],
      "metadata": {
        "id": "DtKMq8SFRgOv"
      }
    },
    {
      "cell_type": "code",
      "execution_count": null,
      "source": [
        "num_loop = 16\n",
        "epochs = 1\n",
        "print(\"### fit()\")\n",
        "\n",
        "for n in range(num_loop):\n",
        "    print(f\"### fit(): num_loop={n}\")\n",
        "    stats = est.fit(\n",
        "        sdf_list_padded_train,\n",
        "        epochs=epochs,\n",
        "        batch_size=batch_size,\n",
        "        feature_cols=X_COLS,\n",
        "        label_cols=[Y_COL],\n",
        "        steps_per_epoch=train_steps, # None doesn't work\n",
        "        validation_data=sdf_list_padded_test,\n",
        "        validation_steps=valid_steps, # 1, # None,\n",
        "        verbose=False\n",
        "    )\n",
        "    loop_stats.append(stats)"
      ],
      "outputs": [
        {
          "output_type": "stream",
          "name": "stdout",
          "text": [
            "### fit()\n",
            "### fit(): num_loop=0\n"
          ]
        },
        {
          "output_type": "stream",
          "name": "stderr",
          "text": [
            "2022-05-17 04:34:59,423\tWARNING worker.py:1228 -- WARNING: 22 PYTHON worker processes have been started on node: 360d0c0b26cf63dd4aff97bdae6d417272c2a7d71a29ef35f157588b with address: 172.28.0.2. This could be a result of using a large number of actors, or due to tasks blocked in ray.get() calls (see https://github.com/ray-project/ray/issues/3644 for some discussion of workarounds).\n",
            "[Stage 540:>                                                       (0 + 1) / 32]2022-05-17 04:35:01,383\tINFO worker.py:843 -- Connecting to existing Ray cluster at address: 172.28.0.2:6379\n",
            "2022-05-17 04:35:05,136\tWARNING worker.py:1228 -- WARNING: 23 PYTHON worker processes have been started on node: 360d0c0b26cf63dd4aff97bdae6d417272c2a7d71a29ef35f157588b with address: 172.28.0.2. This could be a result of using a large number of actors, or due to tasks blocked in ray.get() calls (see https://github.com/ray-project/ray/issues/3644 for some discussion of workarounds).\n",
            "2022-05-17 04:35:05,141\tWARNING worker.py:1245 -- WARNING: 23 PYTHON worker processes have been started on node: 360d0c0b26cf63dd4aff97bdae6d417272c2a7d71a29ef35f157588b with address: 172.28.0.2. This could be a result of using a large number of actors, or due to tasks blocked in ray.get() calls (see https://github.com/ray-project/ray/issues/3644 for some discussion of workarounds).\n"
          ]
        },
        {
          "output_type": "stream",
          "name": "stdout",
          "text": [
            "Try to unpersist an uncached rdd\n"
          ]
        },
        {
          "output_type": "stream",
          "name": "stderr",
          "text": [
            "\u001b[2m\u001b[36m(Worker pid=134125)\u001b[0m 2022-05-17 04:35:22.252635: W tensorflow/core/framework/dataset.cc:744] Input of GeneratorDatasetOp::Dataset will not be optimized because the dataset does not implement the AsGraphDefInternal() method needed to apply optimizations.\n",
            "\u001b[2m\u001b[36m(Worker pid=134125)\u001b[0m 2022-05-17 04:35:49.822918: W tensorflow/core/framework/op_kernel.cc:1745] OP_REQUIRES failed at multi_device_iterator_ops.cc:789 : NOT_FOUND: Resource AnonymousMultiDeviceIterator/AnonymousMultiDeviceIterator6/N10tensorflow4data12_GLOBAL__N_119MultiDeviceIteratorE does not exist.\n"
          ]
        },
        {
          "output_type": "stream",
          "name": "stdout",
          "text": [
            "### fit(): num_loop=1\n"
          ]
        },
        {
          "output_type": "stream",
          "name": "stderr",
          "text": [
            "2022-05-17 04:36:21,135\tWARNING worker.py:1228 -- WARNING: 24 PYTHON worker processes have been started on node: 360d0c0b26cf63dd4aff97bdae6d417272c2a7d71a29ef35f157588b with address: 172.28.0.2. This could be a result of using a large number of actors, or due to tasks blocked in ray.get() calls (see https://github.com/ray-project/ray/issues/3644 for some discussion of workarounds).\n",
            "[Stage 571:>                                                       (0 + 1) / 32]2022-05-17 04:36:23,470\tINFO worker.py:843 -- Connecting to existing Ray cluster at address: 172.28.0.2:6379\n",
            "2022-05-17 04:36:28,218\tWARNING worker.py:1245 -- WARNING: 25 PYTHON worker processes have been started on node: 360d0c0b26cf63dd4aff97bdae6d417272c2a7d71a29ef35f157588b with address: 172.28.0.2. This could be a result of using a large number of actors, or due to tasks blocked in ray.get() calls (see https://github.com/ray-project/ray/issues/3644 for some discussion of workarounds).\n",
            "2022-05-17 04:36:28,221\tWARNING worker.py:1228 -- WARNING: 25 PYTHON worker processes have been started on node: 360d0c0b26cf63dd4aff97bdae6d417272c2a7d71a29ef35f157588b with address: 172.28.0.2. This could be a result of using a large number of actors, or due to tasks blocked in ray.get() calls (see https://github.com/ray-project/ray/issues/3644 for some discussion of workarounds).\n",
            "\u001b[2m\u001b[36m(Worker pid=134125)\u001b[0m 2022-05-17 04:36:43.249078: W tensorflow/core/framework/dataset.cc:744] Input of GeneratorDatasetOp::Dataset will not be optimized because the dataset does not implement the AsGraphDefInternal() method needed to apply optimizations.\n"
          ]
        },
        {
          "output_type": "stream",
          "name": "stdout",
          "text": [
            "### fit(): num_loop=2\n"
          ]
        },
        {
          "output_type": "stream",
          "name": "stderr",
          "text": [
            "2022-05-17 04:37:29,141\tWARNING worker.py:1228 -- WARNING: 26 PYTHON worker processes have been started on node: 360d0c0b26cf63dd4aff97bdae6d417272c2a7d71a29ef35f157588b with address: 172.28.0.2. This could be a result of using a large number of actors, or due to tasks blocked in ray.get() calls (see https://github.com/ray-project/ray/issues/3644 for some discussion of workarounds).\n",
            "[Stage 602:>                                                       (0 + 1) / 32]2022-05-17 04:37:31,473\tINFO worker.py:843 -- Connecting to existing Ray cluster at address: 172.28.0.2:6379\n",
            "2022-05-17 04:37:35,192\tWARNING worker.py:1228 -- WARNING: 27 PYTHON worker processes have been started on node: 360d0c0b26cf63dd4aff97bdae6d417272c2a7d71a29ef35f157588b with address: 172.28.0.2. This could be a result of using a large number of actors, or due to tasks blocked in ray.get() calls (see https://github.com/ray-project/ray/issues/3644 for some discussion of workarounds).\n",
            "2022-05-17 04:37:35,191\tWARNING worker.py:1245 -- WARNING: 27 PYTHON worker processes have been started on node: 360d0c0b26cf63dd4aff97bdae6d417272c2a7d71a29ef35f157588b with address: 172.28.0.2. This could be a result of using a large number of actors, or due to tasks blocked in ray.get() calls (see https://github.com/ray-project/ray/issues/3644 for some discussion of workarounds).\n",
            "\u001b[2m\u001b[36m(Worker pid=134125)\u001b[0m 2022-05-17 04:37:50.238485: W tensorflow/core/framework/dataset.cc:744] Input of GeneratorDatasetOp::Dataset will not be optimized because the dataset does not implement the AsGraphDefInternal() method needed to apply optimizations.\n"
          ]
        },
        {
          "output_type": "stream",
          "name": "stdout",
          "text": [
            "### fit(): num_loop=3\n"
          ]
        },
        {
          "output_type": "stream",
          "name": "stderr",
          "text": [
            "2022-05-17 04:38:35,611\tWARNING worker.py:1228 -- WARNING: 28 PYTHON worker processes have been started on node: 360d0c0b26cf63dd4aff97bdae6d417272c2a7d71a29ef35f157588b with address: 172.28.0.2. This could be a result of using a large number of actors, or due to tasks blocked in ray.get() calls (see https://github.com/ray-project/ray/issues/3644 for some discussion of workarounds).\n",
            "[Stage 633:>                                                       (0 + 1) / 32]2022-05-17 04:38:38,053\tINFO worker.py:843 -- Connecting to existing Ray cluster at address: 172.28.0.2:6379\n",
            "2022-05-17 04:38:42,216\tWARNING worker.py:1228 -- WARNING: 29 PYTHON worker processes have been started on node: 360d0c0b26cf63dd4aff97bdae6d417272c2a7d71a29ef35f157588b with address: 172.28.0.2. This could be a result of using a large number of actors, or due to tasks blocked in ray.get() calls (see https://github.com/ray-project/ray/issues/3644 for some discussion of workarounds).\n",
            "2022-05-17 04:38:42,221\tWARNING worker.py:1245 -- WARNING: 29 PYTHON worker processes have been started on node: 360d0c0b26cf63dd4aff97bdae6d417272c2a7d71a29ef35f157588b with address: 172.28.0.2. This could be a result of using a large number of actors, or due to tasks blocked in ray.get() calls (see https://github.com/ray-project/ray/issues/3644 for some discussion of workarounds).\n",
            "\u001b[2m\u001b[36m(Worker pid=134125)\u001b[0m 2022-05-17 04:38:58.427255: W tensorflow/core/framework/dataset.cc:744] Input of GeneratorDatasetOp::Dataset will not be optimized because the dataset does not implement the AsGraphDefInternal() method needed to apply optimizations.\n"
          ]
        },
        {
          "output_type": "stream",
          "name": "stdout",
          "text": [
            "### fit(): num_loop=4\n"
          ]
        },
        {
          "output_type": "stream",
          "name": "stderr",
          "text": [
            "2022-05-17 04:39:45,097\tWARNING worker.py:1228 -- WARNING: 30 PYTHON worker processes have been started on node: 360d0c0b26cf63dd4aff97bdae6d417272c2a7d71a29ef35f157588b with address: 172.28.0.2. This could be a result of using a large number of actors, or due to tasks blocked in ray.get() calls (see https://github.com/ray-project/ray/issues/3644 for some discussion of workarounds).\n",
            "[Stage 664:>                                                       (0 + 1) / 32]2022-05-17 04:39:47,809\tINFO worker.py:843 -- Connecting to existing Ray cluster at address: 172.28.0.2:6379\n",
            "2022-05-17 04:39:53,064\tWARNING worker.py:1245 -- WARNING: 31 PYTHON worker processes have been started on node: 360d0c0b26cf63dd4aff97bdae6d417272c2a7d71a29ef35f157588b with address: 172.28.0.2. This could be a result of using a large number of actors, or due to tasks blocked in ray.get() calls (see https://github.com/ray-project/ray/issues/3644 for some discussion of workarounds).\n",
            "2022-05-17 04:39:53,067\tWARNING worker.py:1228 -- WARNING: 31 PYTHON worker processes have been started on node: 360d0c0b26cf63dd4aff97bdae6d417272c2a7d71a29ef35f157588b with address: 172.28.0.2. This could be a result of using a large number of actors, or due to tasks blocked in ray.get() calls (see https://github.com/ray-project/ray/issues/3644 for some discussion of workarounds).\n",
            "\u001b[2m\u001b[36m(Worker pid=134125)\u001b[0m 2022-05-17 04:40:07.837946: W tensorflow/core/framework/dataset.cc:744] Input of GeneratorDatasetOp::Dataset will not be optimized because the dataset does not implement the AsGraphDefInternal() method needed to apply optimizations.\n"
          ]
        },
        {
          "output_type": "stream",
          "name": "stdout",
          "text": [
            "### fit(): num_loop=5\n"
          ]
        },
        {
          "output_type": "stream",
          "name": "stderr",
          "text": [
            "2022-05-17 04:41:08,468\tWARNING worker.py:1228 -- WARNING: 32 PYTHON worker processes have been started on node: 360d0c0b26cf63dd4aff97bdae6d417272c2a7d71a29ef35f157588b with address: 172.28.0.2. This could be a result of using a large number of actors, or due to tasks blocked in ray.get() calls (see https://github.com/ray-project/ray/issues/3644 for some discussion of workarounds).\n",
            "[Stage 695:>                                                       (0 + 1) / 32]2022-05-17 04:41:11,023\tINFO worker.py:843 -- Connecting to existing Ray cluster at address: 172.28.0.2:6379\n",
            "2022-05-17 04:41:16,160\tWARNING worker.py:1245 -- WARNING: 33 PYTHON worker processes have been started on node: 360d0c0b26cf63dd4aff97bdae6d417272c2a7d71a29ef35f157588b with address: 172.28.0.2. This could be a result of using a large number of actors, or due to tasks blocked in ray.get() calls (see https://github.com/ray-project/ray/issues/3644 for some discussion of workarounds).\n",
            "2022-05-17 04:41:16,165\tWARNING worker.py:1228 -- WARNING: 33 PYTHON worker processes have been started on node: 360d0c0b26cf63dd4aff97bdae6d417272c2a7d71a29ef35f157588b with address: 172.28.0.2. This could be a result of using a large number of actors, or due to tasks blocked in ray.get() calls (see https://github.com/ray-project/ray/issues/3644 for some discussion of workarounds).\n",
            "\u001b[2m\u001b[36m(Worker pid=134125)\u001b[0m 2022-05-17 04:41:31.530175: W tensorflow/core/framework/dataset.cc:744] Input of GeneratorDatasetOp::Dataset will not be optimized because the dataset does not implement the AsGraphDefInternal() method needed to apply optimizations.\n"
          ]
        },
        {
          "output_type": "stream",
          "name": "stdout",
          "text": [
            "### fit(): num_loop=6\n"
          ]
        },
        {
          "output_type": "stream",
          "name": "stderr",
          "text": [
            "2022-05-17 04:42:32,724\tWARNING worker.py:1228 -- WARNING: 34 PYTHON worker processes have been started on node: 360d0c0b26cf63dd4aff97bdae6d417272c2a7d71a29ef35f157588b with address: 172.28.0.2. This could be a result of using a large number of actors, or due to tasks blocked in ray.get() calls (see https://github.com/ray-project/ray/issues/3644 for some discussion of workarounds).\n",
            "[Stage 726:>                                                       (0 + 1) / 32]2022-05-17 04:42:35,236\tINFO worker.py:843 -- Connecting to existing Ray cluster at address: 172.28.0.2:6379\n",
            "2022-05-17 04:42:40,611\tWARNING worker.py:1245 -- WARNING: 35 PYTHON worker processes have been started on node: 360d0c0b26cf63dd4aff97bdae6d417272c2a7d71a29ef35f157588b with address: 172.28.0.2. This could be a result of using a large number of actors, or due to tasks blocked in ray.get() calls (see https://github.com/ray-project/ray/issues/3644 for some discussion of workarounds).\n",
            "2022-05-17 04:42:40,614\tWARNING worker.py:1228 -- WARNING: 35 PYTHON worker processes have been started on node: 360d0c0b26cf63dd4aff97bdae6d417272c2a7d71a29ef35f157588b with address: 172.28.0.2. This could be a result of using a large number of actors, or due to tasks blocked in ray.get() calls (see https://github.com/ray-project/ray/issues/3644 for some discussion of workarounds).\n",
            "\u001b[2m\u001b[36m(Worker pid=134125)\u001b[0m 2022-05-17 04:42:56.611229: W tensorflow/core/framework/dataset.cc:744] Input of GeneratorDatasetOp::Dataset will not be optimized because the dataset does not implement the AsGraphDefInternal() method needed to apply optimizations.\n",
            "\u001b[2m\u001b[36m(Worker pid=134125)\u001b[0m 2022-05-17 04:43:26.207151: W tensorflow/core/framework/op_kernel.cc:1745] OP_REQUIRES failed at multi_device_iterator_ops.cc:789 : NOT_FOUND: Resource AnonymousMultiDeviceIterator/AnonymousMultiDeviceIterator18/N10tensorflow4data12_GLOBAL__N_119MultiDeviceIteratorE does not exist.\n"
          ]
        },
        {
          "output_type": "stream",
          "name": "stdout",
          "text": [
            "### fit(): num_loop=7\n"
          ]
        },
        {
          "output_type": "stream",
          "name": "stderr",
          "text": [
            "2022-05-17 04:43:47,021\tWARNING worker.py:1228 -- WARNING: 36 PYTHON worker processes have been started on node: 360d0c0b26cf63dd4aff97bdae6d417272c2a7d71a29ef35f157588b with address: 172.28.0.2. This could be a result of using a large number of actors, or due to tasks blocked in ray.get() calls (see https://github.com/ray-project/ray/issues/3644 for some discussion of workarounds).\n",
            "[Stage 757:>                                                       (0 + 1) / 32]2022-05-17 04:43:49,718\tINFO worker.py:843 -- Connecting to existing Ray cluster at address: 172.28.0.2:6379\n",
            "2022-05-17 04:43:53,775\tWARNING worker.py:1228 -- WARNING: 37 PYTHON worker processes have been started on node: 360d0c0b26cf63dd4aff97bdae6d417272c2a7d71a29ef35f157588b with address: 172.28.0.2. This could be a result of using a large number of actors, or due to tasks blocked in ray.get() calls (see https://github.com/ray-project/ray/issues/3644 for some discussion of workarounds).\n",
            "2022-05-17 04:43:53,777\tWARNING worker.py:1245 -- WARNING: 37 PYTHON worker processes have been started on node: 360d0c0b26cf63dd4aff97bdae6d417272c2a7d71a29ef35f157588b with address: 172.28.0.2. This could be a result of using a large number of actors, or due to tasks blocked in ray.get() calls (see https://github.com/ray-project/ray/issues/3644 for some discussion of workarounds).\n",
            "\u001b[2m\u001b[36m(Worker pid=134125)\u001b[0m 2022-05-17 04:44:10.565927: W tensorflow/core/framework/dataset.cc:744] Input of GeneratorDatasetOp::Dataset will not be optimized because the dataset does not implement the AsGraphDefInternal() method needed to apply optimizations.\n"
          ]
        },
        {
          "output_type": "stream",
          "name": "stdout",
          "text": [
            "### fit(): num_loop=8\n"
          ]
        },
        {
          "output_type": "stream",
          "name": "stderr",
          "text": [
            "2022-05-17 04:45:12,877\tWARNING worker.py:1228 -- WARNING: 38 PYTHON worker processes have been started on node: 360d0c0b26cf63dd4aff97bdae6d417272c2a7d71a29ef35f157588b with address: 172.28.0.2. This could be a result of using a large number of actors, or due to tasks blocked in ray.get() calls (see https://github.com/ray-project/ray/issues/3644 for some discussion of workarounds).\n",
            "[Stage 788:>                                                       (0 + 1) / 32]2022-05-17 04:45:15,548\tINFO worker.py:843 -- Connecting to existing Ray cluster at address: 172.28.0.2:6379\n",
            "2022-05-17 04:45:19,778\tWARNING worker.py:1245 -- WARNING: 39 PYTHON worker processes have been started on node: 360d0c0b26cf63dd4aff97bdae6d417272c2a7d71a29ef35f157588b with address: 172.28.0.2. This could be a result of using a large number of actors, or due to tasks blocked in ray.get() calls (see https://github.com/ray-project/ray/issues/3644 for some discussion of workarounds).\n",
            "2022-05-17 04:45:19,783\tWARNING worker.py:1228 -- WARNING: 39 PYTHON worker processes have been started on node: 360d0c0b26cf63dd4aff97bdae6d417272c2a7d71a29ef35f157588b with address: 172.28.0.2. This could be a result of using a large number of actors, or due to tasks blocked in ray.get() calls (see https://github.com/ray-project/ray/issues/3644 for some discussion of workarounds).\n",
            "\u001b[2m\u001b[36m(Worker pid=134125)\u001b[0m 2022-05-17 04:45:36.867259: W tensorflow/core/framework/dataset.cc:744] Input of GeneratorDatasetOp::Dataset will not be optimized because the dataset does not implement the AsGraphDefInternal() method needed to apply optimizations.\n",
            "\u001b[2m\u001b[36m(Worker pid=134125)\u001b[0m 2022-05-17 04:46:08.891049: W tensorflow/core/framework/op_kernel.cc:1745] OP_REQUIRES failed at multi_device_iterator_ops.cc:789 : NOT_FOUND: Resource AnonymousMultiDeviceIterator/AnonymousMultiDeviceIterator22/N10tensorflow4data12_GLOBAL__N_119MultiDeviceIteratorE does not exist.\n"
          ]
        },
        {
          "output_type": "stream",
          "name": "stdout",
          "text": [
            "### fit(): num_loop=9\n"
          ]
        },
        {
          "output_type": "stream",
          "name": "stderr",
          "text": [
            "2022-05-17 04:46:40,377\tWARNING worker.py:1228 -- WARNING: 40 PYTHON worker processes have been started on node: 360d0c0b26cf63dd4aff97bdae6d417272c2a7d71a29ef35f157588b with address: 172.28.0.2. This could be a result of using a large number of actors, or due to tasks blocked in ray.get() calls (see https://github.com/ray-project/ray/issues/3644 for some discussion of workarounds).\n",
            "[Stage 819:>                                                       (0 + 1) / 32]2022-05-17 04:46:43,050\tINFO worker.py:843 -- Connecting to existing Ray cluster at address: 172.28.0.2:6379\n",
            "2022-05-17 04:46:47,747\tWARNING worker.py:1245 -- WARNING: 41 PYTHON worker processes have been started on node: 360d0c0b26cf63dd4aff97bdae6d417272c2a7d71a29ef35f157588b with address: 172.28.0.2. This could be a result of using a large number of actors, or due to tasks blocked in ray.get() calls (see https://github.com/ray-project/ray/issues/3644 for some discussion of workarounds).\n",
            "2022-05-17 04:46:47,750\tWARNING worker.py:1228 -- WARNING: 41 PYTHON worker processes have been started on node: 360d0c0b26cf63dd4aff97bdae6d417272c2a7d71a29ef35f157588b with address: 172.28.0.2. This could be a result of using a large number of actors, or due to tasks blocked in ray.get() calls (see https://github.com/ray-project/ray/issues/3644 for some discussion of workarounds).\n",
            "\u001b[2m\u001b[36m(Worker pid=134125)\u001b[0m 2022-05-17 04:47:06.441920: W tensorflow/core/framework/dataset.cc:744] Input of GeneratorDatasetOp::Dataset will not be optimized because the dataset does not implement the AsGraphDefInternal() method needed to apply optimizations.\n"
          ]
        },
        {
          "output_type": "stream",
          "name": "stdout",
          "text": [
            "### fit(): num_loop=10\n"
          ]
        },
        {
          "output_type": "stream",
          "name": "stderr",
          "text": [
            "2022-05-17 04:48:01,419\tWARNING worker.py:1228 -- WARNING: 42 PYTHON worker processes have been started on node: 360d0c0b26cf63dd4aff97bdae6d417272c2a7d71a29ef35f157588b with address: 172.28.0.2. This could be a result of using a large number of actors, or due to tasks blocked in ray.get() calls (see https://github.com/ray-project/ray/issues/3644 for some discussion of workarounds).\n",
            "[Stage 850:>                                                       (0 + 1) / 32]2022-05-17 04:48:04,131\tINFO worker.py:843 -- Connecting to existing Ray cluster at address: 172.28.0.2:6379\n",
            "2022-05-17 04:48:10,026\tWARNING worker.py:1228 -- WARNING: 43 PYTHON worker processes have been started on node: 360d0c0b26cf63dd4aff97bdae6d417272c2a7d71a29ef35f157588b with address: 172.28.0.2. This could be a result of using a large number of actors, or due to tasks blocked in ray.get() calls (see https://github.com/ray-project/ray/issues/3644 for some discussion of workarounds).\n",
            "2022-05-17 04:48:10,026\tWARNING worker.py:1245 -- WARNING: 43 PYTHON worker processes have been started on node: 360d0c0b26cf63dd4aff97bdae6d417272c2a7d71a29ef35f157588b with address: 172.28.0.2. This could be a result of using a large number of actors, or due to tasks blocked in ray.get() calls (see https://github.com/ray-project/ray/issues/3644 for some discussion of workarounds).\n",
            "\u001b[2m\u001b[36m(Worker pid=134125)\u001b[0m 2022-05-17 04:48:27.560795: W tensorflow/core/framework/dataset.cc:744] Input of GeneratorDatasetOp::Dataset will not be optimized because the dataset does not implement the AsGraphDefInternal() method needed to apply optimizations.\n",
            "\u001b[2m\u001b[36m(Worker pid=134125)\u001b[0m 2022-05-17 04:49:05.729717: W tensorflow/core/framework/op_kernel.cc:1745] OP_REQUIRES failed at multi_device_iterator_ops.cc:789 : NOT_FOUND: Resource AnonymousMultiDeviceIterator/AnonymousMultiDeviceIterator26/N10tensorflow4data12_GLOBAL__N_119MultiDeviceIteratorE does not exist.\n"
          ]
        },
        {
          "output_type": "stream",
          "name": "stdout",
          "text": [
            "### fit(): num_loop=11\n"
          ]
        },
        {
          "output_type": "stream",
          "name": "stderr",
          "text": [
            "2022-05-17 04:49:32,673\tWARNING worker.py:1228 -- WARNING: 44 PYTHON worker processes have been started on node: 360d0c0b26cf63dd4aff97bdae6d417272c2a7d71a29ef35f157588b with address: 172.28.0.2. This could be a result of using a large number of actors, or due to tasks blocked in ray.get() calls (see https://github.com/ray-project/ray/issues/3644 for some discussion of workarounds).\n",
            "[Stage 881:>                                                       (0 + 1) / 32]2022-05-17 04:49:35,404\tINFO worker.py:843 -- Connecting to existing Ray cluster at address: 172.28.0.2:6379\n",
            "2022-05-17 04:49:40,189\tWARNING worker.py:1228 -- WARNING: 45 PYTHON worker processes have been started on node: 360d0c0b26cf63dd4aff97bdae6d417272c2a7d71a29ef35f157588b with address: 172.28.0.2. This could be a result of using a large number of actors, or due to tasks blocked in ray.get() calls (see https://github.com/ray-project/ray/issues/3644 for some discussion of workarounds).\n",
            "2022-05-17 04:49:40,188\tWARNING worker.py:1245 -- WARNING: 45 PYTHON worker processes have been started on node: 360d0c0b26cf63dd4aff97bdae6d417272c2a7d71a29ef35f157588b with address: 172.28.0.2. This could be a result of using a large number of actors, or due to tasks blocked in ray.get() calls (see https://github.com/ray-project/ray/issues/3644 for some discussion of workarounds).\n",
            "\u001b[2m\u001b[36m(Worker pid=134125)\u001b[0m 2022-05-17 04:49:59.466793: W tensorflow/core/framework/dataset.cc:744] Input of GeneratorDatasetOp::Dataset will not be optimized because the dataset does not implement the AsGraphDefInternal() method needed to apply optimizations.\n",
            "\u001b[2m\u001b[36m(Worker pid=134125)\u001b[0m 2022-05-17 04:50:32.808917: W tensorflow/core/framework/op_kernel.cc:1745] OP_REQUIRES failed at multi_device_iterator_ops.cc:789 : NOT_FOUND: Resource AnonymousMultiDeviceIterator/AnonymousMultiDeviceIterator28/N10tensorflow4data12_GLOBAL__N_119MultiDeviceIteratorE does not exist.\n"
          ]
        },
        {
          "output_type": "stream",
          "name": "stdout",
          "text": [
            "### fit(): num_loop=12\n"
          ]
        },
        {
          "output_type": "stream",
          "name": "stderr",
          "text": [
            "2022-05-17 04:50:56,664\tWARNING worker.py:1228 -- WARNING: 46 PYTHON worker processes have been started on node: 360d0c0b26cf63dd4aff97bdae6d417272c2a7d71a29ef35f157588b with address: 172.28.0.2. This could be a result of using a large number of actors, or due to tasks blocked in ray.get() calls (see https://github.com/ray-project/ray/issues/3644 for some discussion of workarounds).\n",
            "[Stage 912:>                                                       (0 + 1) / 32]2022-05-17 04:50:59,699\tINFO worker.py:843 -- Connecting to existing Ray cluster at address: 172.28.0.2:6379\n",
            "2022-05-17 04:51:04,734\tWARNING worker.py:1228 -- WARNING: 47 PYTHON worker processes have been started on node: 360d0c0b26cf63dd4aff97bdae6d417272c2a7d71a29ef35f157588b with address: 172.28.0.2. This could be a result of using a large number of actors, or due to tasks blocked in ray.get() calls (see https://github.com/ray-project/ray/issues/3644 for some discussion of workarounds).\n",
            "2022-05-17 04:51:04,740\tWARNING worker.py:1245 -- WARNING: 47 PYTHON worker processes have been started on node: 360d0c0b26cf63dd4aff97bdae6d417272c2a7d71a29ef35f157588b with address: 172.28.0.2. This could be a result of using a large number of actors, or due to tasks blocked in ray.get() calls (see https://github.com/ray-project/ray/issues/3644 for some discussion of workarounds).\n",
            "\u001b[2m\u001b[36m(Worker pid=134125)\u001b[0m 2022-05-17 04:51:24.235627: W tensorflow/core/framework/dataset.cc:744] Input of GeneratorDatasetOp::Dataset will not be optimized because the dataset does not implement the AsGraphDefInternal() method needed to apply optimizations.\n",
            "\u001b[2m\u001b[36m(Worker pid=134125)\u001b[0m 2022-05-17 04:51:58.969959: W tensorflow/core/framework/op_kernel.cc:1745] OP_REQUIRES failed at multi_device_iterator_ops.cc:681 : NOT_FOUND: Resource AnonymousMultiDeviceIterator/AnonymousMultiDeviceIterator30/N10tensorflow4data12_GLOBAL__N_119MultiDeviceIteratorE does not exist.\n"
          ]
        },
        {
          "output_type": "stream",
          "name": "stdout",
          "text": [
            "### fit(): num_loop=13\n"
          ]
        },
        {
          "output_type": "stream",
          "name": "stderr",
          "text": [
            "2022-05-17 04:52:30,423\tWARNING worker.py:1228 -- WARNING: 48 PYTHON worker processes have been started on node: 360d0c0b26cf63dd4aff97bdae6d417272c2a7d71a29ef35f157588b with address: 172.28.0.2. This could be a result of using a large number of actors, or due to tasks blocked in ray.get() calls (see https://github.com/ray-project/ray/issues/3644 for some discussion of workarounds).\n",
            "[Stage 943:>                                                       (0 + 1) / 32]2022-05-17 04:52:33,420\tINFO worker.py:843 -- Connecting to existing Ray cluster at address: 172.28.0.2:6379\n",
            "2022-05-17 04:52:38,423\tWARNING worker.py:1228 -- WARNING: 49 PYTHON worker processes have been started on node: 360d0c0b26cf63dd4aff97bdae6d417272c2a7d71a29ef35f157588b with address: 172.28.0.2. This could be a result of using a large number of actors, or due to tasks blocked in ray.get() calls (see https://github.com/ray-project/ray/issues/3644 for some discussion of workarounds).\n",
            "2022-05-17 04:52:38,423\tWARNING worker.py:1245 -- WARNING: 49 PYTHON worker processes have been started on node: 360d0c0b26cf63dd4aff97bdae6d417272c2a7d71a29ef35f157588b with address: 172.28.0.2. This could be a result of using a large number of actors, or due to tasks blocked in ray.get() calls (see https://github.com/ray-project/ray/issues/3644 for some discussion of workarounds).\n",
            "[2022-05-17 04:52:48,063 E 155917 155943] core_worker.h:1238: Mismatched WorkerID: ignoring RPC for previous worker 1a000000ffffffffffffffffffffffffffffffffffffffffffffffff, current worker ID: 1c000000ffffffffffffffffffffffffffffffffffffffffffffffff\n",
            "\u001b[2m\u001b[36m(Worker pid=134125)\u001b[0m 2022-05-17 04:53:01.226895: W tensorflow/core/framework/dataset.cc:744] Input of GeneratorDatasetOp::Dataset will not be optimized because the dataset does not implement the AsGraphDefInternal() method needed to apply optimizations.\n"
          ]
        },
        {
          "output_type": "stream",
          "name": "stdout",
          "text": [
            "### fit(): num_loop=14\n"
          ]
        },
        {
          "output_type": "stream",
          "name": "stderr",
          "text": [
            "\u001b[2m\u001b[36m(Worker pid=134125)\u001b[0m 2022-05-17 04:53:38.955283: W tensorflow/core/framework/op_kernel.cc:1745] OP_REQUIRES failed at multi_device_iterator_ops.cc:789 : NOT_FOUND: Resource AnonymousMultiDeviceIterator/AnonymousMultiDeviceIterator32/N10tensorflow4data12_GLOBAL__N_119MultiDeviceIteratorE does not exist.\n",
            "2022-05-17 04:54:05,922\tWARNING worker.py:1228 -- WARNING: 50 PYTHON worker processes have been started on node: 360d0c0b26cf63dd4aff97bdae6d417272c2a7d71a29ef35f157588b with address: 172.28.0.2. This could be a result of using a large number of actors, or due to tasks blocked in ray.get() calls (see https://github.com/ray-project/ray/issues/3644 for some discussion of workarounds).\n",
            "[Stage 974:>                                                       (0 + 1) / 32]2022-05-17 04:54:09,183\tINFO worker.py:843 -- Connecting to existing Ray cluster at address: 172.28.0.2:6379\n",
            "2022-05-17 04:54:16,522\tWARNING worker.py:1245 -- WARNING: 51 PYTHON worker processes have been started on node: 360d0c0b26cf63dd4aff97bdae6d417272c2a7d71a29ef35f157588b with address: 172.28.0.2. This could be a result of using a large number of actors, or due to tasks blocked in ray.get() calls (see https://github.com/ray-project/ray/issues/3644 for some discussion of workarounds).\n",
            "2022-05-17 04:54:16,527\tWARNING worker.py:1228 -- WARNING: 51 PYTHON worker processes have been started on node: 360d0c0b26cf63dd4aff97bdae6d417272c2a7d71a29ef35f157588b with address: 172.28.0.2. This could be a result of using a large number of actors, or due to tasks blocked in ray.get() calls (see https://github.com/ray-project/ray/issues/3644 for some discussion of workarounds).\n",
            "\u001b[2m\u001b[36m(Worker pid=134125)\u001b[0m 2022-05-17 04:54:36.262046: W tensorflow/core/framework/dataset.cc:744] Input of GeneratorDatasetOp::Dataset will not be optimized because the dataset does not implement the AsGraphDefInternal() method needed to apply optimizations.\n"
          ]
        },
        {
          "output_type": "stream",
          "name": "stdout",
          "text": [
            "### fit(): num_loop=15\n"
          ]
        },
        {
          "output_type": "stream",
          "name": "stderr",
          "text": [
            "2022-05-17 04:56:22,788\tWARNING worker.py:1228 -- WARNING: 52 PYTHON worker processes have been started on node: 360d0c0b26cf63dd4aff97bdae6d417272c2a7d71a29ef35f157588b with address: 172.28.0.2. This could be a result of using a large number of actors, or due to tasks blocked in ray.get() calls (see https://github.com/ray-project/ray/issues/3644 for some discussion of workarounds).\n",
            "[Stage 1005:>                                                      (0 + 1) / 32]2022-05-17 04:56:26,426\tINFO worker.py:843 -- Connecting to existing Ray cluster at address: 172.28.0.2:6379\n",
            "2022-05-17 04:56:33,935\tWARNING worker.py:1228 -- WARNING: 53 PYTHON worker processes have been started on node: 360d0c0b26cf63dd4aff97bdae6d417272c2a7d71a29ef35f157588b with address: 172.28.0.2. This could be a result of using a large number of actors, or due to tasks blocked in ray.get() calls (see https://github.com/ray-project/ray/issues/3644 for some discussion of workarounds).\n",
            "2022-05-17 04:56:33,937\tWARNING worker.py:1245 -- WARNING: 53 PYTHON worker processes have been started on node: 360d0c0b26cf63dd4aff97bdae6d417272c2a7d71a29ef35f157588b with address: 172.28.0.2. This could be a result of using a large number of actors, or due to tasks blocked in ray.get() calls (see https://github.com/ray-project/ray/issues/3644 for some discussion of workarounds).\n",
            "\u001b[2m\u001b[36m(Worker pid=134125)\u001b[0m 2022-05-17 04:56:55.455414: W tensorflow/core/framework/dataset.cc:744] Input of GeneratorDatasetOp::Dataset will not be optimized because the dataset does not implement the AsGraphDefInternal() method needed to apply optimizations.\n",
            "\u001b[2m\u001b[36m(Worker pid=134125)\u001b[0m 2022-05-17 04:57:26.501577: W tensorflow/core/framework/dataset.cc:744] Input of GeneratorDatasetOp::Dataset will not be optimized because the dataset does not implement the AsGraphDefInternal() method needed to apply optimizations.\n"
          ]
        },
        {
          "output_type": "stream",
          "name": "stdout",
          "text": [
            "### fit(): num_loop=16\n"
          ]
        },
        {
          "output_type": "stream",
          "name": "stderr",
          "text": [
            "2022-05-17 04:58:06,590\tWARNING worker.py:1228 -- WARNING: 54 PYTHON worker processes have been started on node: 360d0c0b26cf63dd4aff97bdae6d417272c2a7d71a29ef35f157588b with address: 172.28.0.2. This could be a result of using a large number of actors, or due to tasks blocked in ray.get() calls (see https://github.com/ray-project/ray/issues/3644 for some discussion of workarounds).\n",
            "[Stage 1036:>                                                      (0 + 1) / 32]2022-05-17 04:58:10,464\tINFO worker.py:843 -- Connecting to existing Ray cluster at address: 172.28.0.2:6379\n",
            "2022-05-17 04:58:15,806\tWARNING worker.py:1228 -- WARNING: 55 PYTHON worker processes have been started on node: 360d0c0b26cf63dd4aff97bdae6d417272c2a7d71a29ef35f157588b with address: 172.28.0.2. This could be a result of using a large number of actors, or due to tasks blocked in ray.get() calls (see https://github.com/ray-project/ray/issues/3644 for some discussion of workarounds).\n",
            "2022-05-17 04:58:15,809\tWARNING worker.py:1245 -- WARNING: 55 PYTHON worker processes have been started on node: 360d0c0b26cf63dd4aff97bdae6d417272c2a7d71a29ef35f157588b with address: 172.28.0.2. This could be a result of using a large number of actors, or due to tasks blocked in ray.get() calls (see https://github.com/ray-project/ray/issues/3644 for some discussion of workarounds).\n",
            "\u001b[2m\u001b[36m(Worker pid=134125)\u001b[0m 2022-05-17 04:58:38.954911: W tensorflow/core/framework/dataset.cc:744] Input of GeneratorDatasetOp::Dataset will not be optimized because the dataset does not implement the AsGraphDefInternal() method needed to apply optimizations.\n",
            "\u001b[2m\u001b[36m(Worker pid=134125)\u001b[0m 2022-05-17 04:59:09.968178: W tensorflow/core/framework/dataset.cc:744] Input of GeneratorDatasetOp::Dataset will not be optimized because the dataset does not implement the AsGraphDefInternal() method needed to apply optimizations.\n"
          ]
        },
        {
          "output_type": "stream",
          "name": "stdout",
          "text": [
            "### fit(): num_loop=17\n"
          ]
        },
        {
          "output_type": "stream",
          "name": "stderr",
          "text": [
            "2022-05-17 05:00:26,533\tWARNING worker.py:1228 -- WARNING: 56 PYTHON worker processes have been started on node: 360d0c0b26cf63dd4aff97bdae6d417272c2a7d71a29ef35f157588b with address: 172.28.0.2. This could be a result of using a large number of actors, or due to tasks blocked in ray.get() calls (see https://github.com/ray-project/ray/issues/3644 for some discussion of workarounds).\n",
            "[Stage 1067:>                                                      (0 + 1) / 32]2022-05-17 05:00:30,129\tINFO worker.py:843 -- Connecting to existing Ray cluster at address: 172.28.0.2:6379\n",
            "2022-05-17 05:00:35,977\tWARNING worker.py:1228 -- WARNING: 57 PYTHON worker processes have been started on node: 360d0c0b26cf63dd4aff97bdae6d417272c2a7d71a29ef35f157588b with address: 172.28.0.2. This could be a result of using a large number of actors, or due to tasks blocked in ray.get() calls (see https://github.com/ray-project/ray/issues/3644 for some discussion of workarounds).\n",
            "2022-05-17 05:00:35,988\tWARNING worker.py:1245 -- WARNING: 57 PYTHON worker processes have been started on node: 360d0c0b26cf63dd4aff97bdae6d417272c2a7d71a29ef35f157588b with address: 172.28.0.2. This could be a result of using a large number of actors, or due to tasks blocked in ray.get() calls (see https://github.com/ray-project/ray/issues/3644 for some discussion of workarounds).\n",
            "\u001b[2m\u001b[36m(Worker pid=134125)\u001b[0m 2022-05-17 05:01:01.022770: W tensorflow/core/framework/dataset.cc:744] Input of GeneratorDatasetOp::Dataset will not be optimized because the dataset does not implement the AsGraphDefInternal() method needed to apply optimizations.\n",
            "\u001b[2m\u001b[36m(Worker pid=134125)\u001b[0m 2022-05-17 05:01:33.502821: W tensorflow/core/framework/dataset.cc:744] Input of GeneratorDatasetOp::Dataset will not be optimized because the dataset does not implement the AsGraphDefInternal() method needed to apply optimizations.\n",
            "\u001b[2m\u001b[36m(Worker pid=134125)\u001b[0m 2022-05-17 05:01:46.294308: W tensorflow/core/framework/op_kernel.cc:1745] OP_REQUIRES failed at multi_device_iterator_ops.cc:789 : NOT_FOUND: Resource AnonymousMultiDeviceIterator/AnonymousMultiDeviceIterator40/N10tensorflow4data12_GLOBAL__N_119MultiDeviceIteratorE does not exist.\n"
          ]
        },
        {
          "output_type": "stream",
          "name": "stdout",
          "text": [
            "### fit(): num_loop=18\n"
          ]
        },
        {
          "output_type": "stream",
          "name": "stderr",
          "text": [
            "2022-05-17 05:02:57,201\tWARNING worker.py:1228 -- WARNING: 58 PYTHON worker processes have been started on node: 360d0c0b26cf63dd4aff97bdae6d417272c2a7d71a29ef35f157588b with address: 172.28.0.2. This could be a result of using a large number of actors, or due to tasks blocked in ray.get() calls (see https://github.com/ray-project/ray/issues/3644 for some discussion of workarounds).\n",
            "[Stage 1098:>                                                      (0 + 1) / 32]2022-05-17 05:03:02,013\tINFO worker.py:843 -- Connecting to existing Ray cluster at address: 172.28.0.2:6379\n",
            "2022-05-17 05:03:09,051\tWARNING worker.py:1228 -- WARNING: 59 PYTHON worker processes have been started on node: 360d0c0b26cf63dd4aff97bdae6d417272c2a7d71a29ef35f157588b with address: 172.28.0.2. This could be a result of using a large number of actors, or due to tasks blocked in ray.get() calls (see https://github.com/ray-project/ray/issues/3644 for some discussion of workarounds).\n",
            "2022-05-17 05:03:09,051\tWARNING worker.py:1245 -- WARNING: 59 PYTHON worker processes have been started on node: 360d0c0b26cf63dd4aff97bdae6d417272c2a7d71a29ef35f157588b with address: 172.28.0.2. This could be a result of using a large number of actors, or due to tasks blocked in ray.get() calls (see https://github.com/ray-project/ray/issues/3644 for some discussion of workarounds).\n",
            "2022-05-17 05:03:40,721\tWARNING worker.py:1228 -- A worker died or was killed while executing a task by an unexpected system error. To troubleshoot the problem, check the logs for the dead worker. RayTask ID: ffffffffffffffffc8a909219026fca8c5d8390001000000 Worker ID: 1f9f0fa1f73aa7f08ae22d5295ed21e8afc6a2347d63bc7347d31413 Node ID: 360d0c0b26cf63dd4aff97bdae6d417272c2a7d71a29ef35f157588b Worker IP address: 172.28.0.2 Worker port: 42947 Worker PID: 134125\n"
          ]
        },
        {
          "output_type": "error",
          "ename": "RayActorError",
          "evalue": "ignored",
          "traceback": [
            "\u001b[0;31m---------------------------------------------------------------------------\u001b[0m",
            "\u001b[0;31mRayActorError\u001b[0m                             Traceback (most recent call last)",
            "\u001b[0;32m<ipython-input-98-0d49e2a9100a>\u001b[0m in \u001b[0;36m<module>\u001b[0;34m()\u001b[0m\n\u001b[1;32m     14\u001b[0m         \u001b[0mvalidation_data\u001b[0m\u001b[0;34m=\u001b[0m\u001b[0msdf_list_padded_test\u001b[0m\u001b[0;34m,\u001b[0m\u001b[0;34m\u001b[0m\u001b[0;34m\u001b[0m\u001b[0m\n\u001b[1;32m     15\u001b[0m         \u001b[0mvalidation_steps\u001b[0m\u001b[0;34m=\u001b[0m\u001b[0mvalid_steps\u001b[0m\u001b[0;34m,\u001b[0m \u001b[0;31m# 1, # None,\u001b[0m\u001b[0;34m\u001b[0m\u001b[0;34m\u001b[0m\u001b[0m\n\u001b[0;32m---> 16\u001b[0;31m         \u001b[0mverbose\u001b[0m\u001b[0;34m=\u001b[0m\u001b[0;32mFalse\u001b[0m\u001b[0;34m\u001b[0m\u001b[0;34m\u001b[0m\u001b[0m\n\u001b[0m\u001b[1;32m     17\u001b[0m     )\n\u001b[1;32m     18\u001b[0m     \u001b[0mloop_stats\u001b[0m\u001b[0;34m.\u001b[0m\u001b[0mappend\u001b[0m\u001b[0;34m(\u001b[0m\u001b[0mstats\u001b[0m\u001b[0;34m)\u001b[0m\u001b[0;34m\u001b[0m\u001b[0;34m\u001b[0m\u001b[0m\n",
            "\u001b[0;32m/usr/local/lib/python3.7/dist-packages/bigdl/orca/learn/tf2/ray_estimator.py\u001b[0m in \u001b[0;36mfit\u001b[0;34m(self, data, epochs, batch_size, verbose, callbacks, validation_data, class_weight, steps_per_epoch, validation_steps, validation_freq, data_config, feature_cols, label_cols)\u001b[0m\n\u001b[1;32m    192\u001b[0m                 \u001b[0mval_ray_xshards\u001b[0m \u001b[0;34m=\u001b[0m \u001b[0mprocess_spark_xshards\u001b[0m\u001b[0;34m(\u001b[0m\u001b[0mvalidation_data\u001b[0m\u001b[0;34m,\u001b[0m \u001b[0mself\u001b[0m\u001b[0;34m.\u001b[0m\u001b[0mnum_workers\u001b[0m\u001b[0;34m)\u001b[0m\u001b[0;34m\u001b[0m\u001b[0;34m\u001b[0m\u001b[0m\n\u001b[1;32m    193\u001b[0m \u001b[0;34m\u001b[0m\u001b[0m\n\u001b[0;32m--> 194\u001b[0;31m             \u001b[0mworker_stats\u001b[0m \u001b[0;34m=\u001b[0m \u001b[0mself\u001b[0m\u001b[0;34m.\u001b[0m\u001b[0m_fit_ray_xshards\u001b[0m\u001b[0;34m(\u001b[0m\u001b[0mray_xshards\u001b[0m\u001b[0;34m,\u001b[0m \u001b[0mval_ray_xshards\u001b[0m\u001b[0;34m,\u001b[0m \u001b[0mparams\u001b[0m\u001b[0;34m)\u001b[0m\u001b[0;34m\u001b[0m\u001b[0;34m\u001b[0m\u001b[0m\n\u001b[0m\u001b[1;32m    195\u001b[0m         \u001b[0;32melif\u001b[0m \u001b[0misinstance\u001b[0m\u001b[0;34m(\u001b[0m\u001b[0mdata\u001b[0m\u001b[0;34m,\u001b[0m \u001b[0mDataset\u001b[0m\u001b[0;34m)\u001b[0m\u001b[0;34m:\u001b[0m\u001b[0;34m\u001b[0m\u001b[0;34m\u001b[0m\u001b[0m\n\u001b[1;32m    196\u001b[0m             \u001b[0mray_xshards\u001b[0m \u001b[0;34m=\u001b[0m \u001b[0mTF2Dataset\u001b[0m\u001b[0;34m(\u001b[0m\u001b[0mdata\u001b[0m\u001b[0;34m)\u001b[0m\u001b[0;34m.\u001b[0m\u001b[0mget_ray_xshards\u001b[0m\u001b[0;34m(\u001b[0m\u001b[0mself\u001b[0m\u001b[0;34m.\u001b[0m\u001b[0mnum_workers\u001b[0m\u001b[0;34m)\u001b[0m\u001b[0;34m\u001b[0m\u001b[0;34m\u001b[0m\u001b[0m\n",
            "\u001b[0;32m/usr/local/lib/python3.7/dist-packages/bigdl/orca/learn/tf2/ray_estimator.py\u001b[0m in \u001b[0;36m_fit_ray_xshards\u001b[0;34m(self, train_shards, val_shards, params)\u001b[0m\n\u001b[1;32m    262\u001b[0m             worker_stats = train_shards.zip_reduce_shards_with_actors(val_shards,\n\u001b[1;32m    263\u001b[0m                                                                       \u001b[0mself\u001b[0m\u001b[0;34m.\u001b[0m\u001b[0mremote_workers\u001b[0m\u001b[0;34m,\u001b[0m\u001b[0;34m\u001b[0m\u001b[0;34m\u001b[0m\u001b[0m\n\u001b[0;32m--> 264\u001b[0;31m                                                                       zip_func)\n\u001b[0m\u001b[1;32m    265\u001b[0m         \u001b[0;32mreturn\u001b[0m \u001b[0mworker_stats\u001b[0m\u001b[0;34m\u001b[0m\u001b[0;34m\u001b[0m\u001b[0m\n\u001b[1;32m    266\u001b[0m \u001b[0;34m\u001b[0m\u001b[0m\n",
            "\u001b[0;32m/usr/local/lib/python3.7/dist-packages/bigdl/orca/data/ray_xshards.py\u001b[0m in \u001b[0;36mzip_reduce_shards_with_actors\u001b[0;34m(self, xshards, actors, reduce_partitions_func, return_refs)\u001b[0m\n\u001b[1;32m    277\u001b[0m         \u001b[0;32mif\u001b[0m \u001b[0mreturn_refs\u001b[0m\u001b[0;34m:\u001b[0m\u001b[0;34m\u001b[0m\u001b[0;34m\u001b[0m\u001b[0m\n\u001b[1;32m    278\u001b[0m             \u001b[0;32mreturn\u001b[0m \u001b[0mresult_refs\u001b[0m\u001b[0;34m\u001b[0m\u001b[0;34m\u001b[0m\u001b[0m\n\u001b[0;32m--> 279\u001b[0;31m         \u001b[0mresults\u001b[0m \u001b[0;34m=\u001b[0m \u001b[0mray\u001b[0m\u001b[0;34m.\u001b[0m\u001b[0mget\u001b[0m\u001b[0;34m(\u001b[0m\u001b[0mresult_refs\u001b[0m\u001b[0;34m)\u001b[0m\u001b[0;34m\u001b[0m\u001b[0;34m\u001b[0m\u001b[0m\n\u001b[0m\u001b[1;32m    280\u001b[0m         \u001b[0;32mreturn\u001b[0m \u001b[0mresults\u001b[0m\u001b[0;34m\u001b[0m\u001b[0;34m\u001b[0m\u001b[0m\n\u001b[1;32m    281\u001b[0m \u001b[0;34m\u001b[0m\u001b[0m\n",
            "\u001b[0;32m/usr/local/lib/python3.7/dist-packages/ray/_private/client_mode_hook.py\u001b[0m in \u001b[0;36mwrapper\u001b[0;34m(*args, **kwargs)\u001b[0m\n\u001b[1;32m    103\u001b[0m             \u001b[0;32mif\u001b[0m \u001b[0mfunc\u001b[0m\u001b[0;34m.\u001b[0m\u001b[0m__name__\u001b[0m \u001b[0;34m!=\u001b[0m \u001b[0;34m\"init\"\u001b[0m \u001b[0;32mor\u001b[0m \u001b[0mis_client_mode_enabled_by_default\u001b[0m\u001b[0;34m:\u001b[0m\u001b[0;34m\u001b[0m\u001b[0;34m\u001b[0m\u001b[0m\n\u001b[1;32m    104\u001b[0m                 \u001b[0;32mreturn\u001b[0m \u001b[0mgetattr\u001b[0m\u001b[0;34m(\u001b[0m\u001b[0mray\u001b[0m\u001b[0;34m,\u001b[0m \u001b[0mfunc\u001b[0m\u001b[0;34m.\u001b[0m\u001b[0m__name__\u001b[0m\u001b[0;34m)\u001b[0m\u001b[0;34m(\u001b[0m\u001b[0;34m*\u001b[0m\u001b[0margs\u001b[0m\u001b[0;34m,\u001b[0m \u001b[0;34m**\u001b[0m\u001b[0mkwargs\u001b[0m\u001b[0;34m)\u001b[0m\u001b[0;34m\u001b[0m\u001b[0;34m\u001b[0m\u001b[0m\n\u001b[0;32m--> 105\u001b[0;31m         \u001b[0;32mreturn\u001b[0m \u001b[0mfunc\u001b[0m\u001b[0;34m(\u001b[0m\u001b[0;34m*\u001b[0m\u001b[0margs\u001b[0m\u001b[0;34m,\u001b[0m \u001b[0;34m**\u001b[0m\u001b[0mkwargs\u001b[0m\u001b[0;34m)\u001b[0m\u001b[0;34m\u001b[0m\u001b[0;34m\u001b[0m\u001b[0m\n\u001b[0m\u001b[1;32m    106\u001b[0m \u001b[0;34m\u001b[0m\u001b[0m\n\u001b[1;32m    107\u001b[0m     \u001b[0;32mreturn\u001b[0m \u001b[0mwrapper\u001b[0m\u001b[0;34m\u001b[0m\u001b[0;34m\u001b[0m\u001b[0m\n",
            "\u001b[0;32m/usr/local/lib/python3.7/dist-packages/ray/worker.py\u001b[0m in \u001b[0;36mget\u001b[0;34m(object_refs, timeout)\u001b[0m\n\u001b[1;32m   1713\u001b[0m                     \u001b[0;32mraise\u001b[0m \u001b[0mvalue\u001b[0m\u001b[0;34m.\u001b[0m\u001b[0mas_instanceof_cause\u001b[0m\u001b[0;34m(\u001b[0m\u001b[0;34m)\u001b[0m\u001b[0;34m\u001b[0m\u001b[0;34m\u001b[0m\u001b[0m\n\u001b[1;32m   1714\u001b[0m                 \u001b[0;32melse\u001b[0m\u001b[0;34m:\u001b[0m\u001b[0;34m\u001b[0m\u001b[0;34m\u001b[0m\u001b[0m\n\u001b[0;32m-> 1715\u001b[0;31m                     \u001b[0;32mraise\u001b[0m \u001b[0mvalue\u001b[0m\u001b[0;34m\u001b[0m\u001b[0;34m\u001b[0m\u001b[0m\n\u001b[0m\u001b[1;32m   1716\u001b[0m \u001b[0;34m\u001b[0m\u001b[0m\n\u001b[1;32m   1717\u001b[0m         \u001b[0;32mif\u001b[0m \u001b[0mis_individual_id\u001b[0m\u001b[0;34m:\u001b[0m\u001b[0;34m\u001b[0m\u001b[0;34m\u001b[0m\u001b[0m\n",
            "\u001b[0;31mRayActorError\u001b[0m: The actor died unexpectedly before finishing this task."
          ]
        }
      ],
      "metadata": {
        "id": "1ZkVmWfiSmII",
        "outputId": "b4f21aad-f64d-42b2-f5c3-0c1c19156d2a",
        "colab": {
          "base_uri": "https://localhost:8080/",
          "height": 1000
        }
      }
    },
    {
      "cell_type": "code",
      "execution_count": null,
      "source": [
        "print(f'batch_size: {batch_size}, step_per_epoch: {(all_data_count // batch_size)}, validation_steps: {(test_data_count // batch_size)}')\n",
        "\n",
        "for i, x in enumerate(loop_stats):\n",
        "    print(i)\n",
        "    print(x)"
      ],
      "outputs": [
        {
          "output_type": "stream",
          "name": "stdout",
          "text": [
            "batch_size: 256, step_per_epoch: 23, validation_steps: 23\n",
            "0\n",
            "[{'train_ndcg_metric': 0.8552097678184509, 'train_root_mean_squared_error': 713.5724487304688, 'train_loss': -215.63368225097656, 'train_regularization_loss': 0, 'train_total_loss': -215.63368225097656, 'train_val_ndcg_metric': 0.8390101790428162, 'train_val_root_mean_squared_error': 1557.145751953125, 'train_val_loss': -213.84283447265625, 'train_val_regularization_loss': 0, 'train_val_total_loss': -213.84283447265625}]\n"
          ]
        }
      ],
      "metadata": {
        "id": "BropFzcATEuu",
        "outputId": "1e84cd19-955b-4cd9-e56b-aa8c78287529",
        "colab": {
          "base_uri": "https://localhost:8080/"
        }
      }
    },
    {
      "cell_type": "code",
      "execution_count": null,
      "source": [
        "import matplotlib.pyplot as plt\n",
        "\n",
        "def get_data(data, key):\n",
        "    return [x[0][key] for x in data]\n",
        "\n",
        "plt.clf()\n",
        "for prefix in [\"train_val\", \"train\"]:\n",
        "    for key in [f\"{prefix}_ndcg_metric\"]:\n",
        "        plt.plot(get_data(loop_stats, key), marker='.', label=key)\n",
        "\n",
        "_ = plt.legend(loc=\"lower left\", frameon=True)\n"
      ],
      "outputs": [
        {
          "output_type": "display_data",
          "data": {
            "image/png": "[encoded data removed]",
            "text/plain": [
              "<Figure size 432x288 with 1 Axes>"
            ]
          },
          "metadata": {
            "needs_background": "light"
          }
        }
      ],
      "metadata": {
        "id": "L0NxaQl0SsK3",
        "outputId": "d38deef4-288e-428a-bbf3-f5c6bcb4eb45",
        "colab": {
          "base_uri": "https://localhost:8080/",
          "height": 269
        }
      }
    },
    {
      "cell_type": "code",
      "execution_count": null,
      "source": [
        "plt.clf()\n",
        "for prefix in [\"train_val\", \"train\"]:\n",
        "    for key in [f\"{prefix}_loss\"]:\n",
        "        plt.plot(get_data(loop_stats, key), marker='.', label=key)\n",
        "\n",
        "_ = plt.legend(loc=\"lower left\", frameon=True)"
      ],
      "outputs": [
        {
          "output_type": "display_data",
          "data": {
            "image/png": "[encoded data removed]",
            "text/plain": [
              "<Figure size 432x288 with 1 Axes>"
            ]
          },
          "metadata": {
            "needs_background": "light"
          }
        }
      ],
      "metadata": {
        "id": "PbCbdqAaS4nm",
        "outputId": "e53ca6e1-f278-4888-cef1-233932f30879",
        "colab": {
          "base_uri": "https://localhost:8080/",
          "height": 265
        }
      }
    },
    {
      "cell_type": "code",
      "execution_count": null,
      "source": [
        "stats = est.evaluate(\n",
        "    sdf_list_padded_test,\n",
        "    feature_cols=X_COLS,\n",
        "    label_cols=[Y_COL],\n",
        "    num_steps=1,\n",
        "    verbose=False\n",
        ")\n",
        "print(stats)"
      ],
      "outputs": [
        {
          "output_type": "stream",
          "name": "stderr",
          "text": [
            "2022-05-17 04:32:36,427\tWARNING worker.py:1228 -- WARNING: 21 PYTHON worker processes have been started on node: 360d0c0b26cf63dd4aff97bdae6d417272c2a7d71a29ef35f157588b with address: 172.28.0.2. This could be a result of using a large number of actors, or due to tasks blocked in ray.get() calls (see https://github.com/ray-project/ray/issues/3644 for some discussion of workarounds).\n",
            "[Stage 518:>                                                        (0 + 1) / 1]2022-05-17 04:32:38,545\tINFO worker.py:843 -- Connecting to existing Ray cluster at address: 172.28.0.2:6379\n",
            "\u001b[2m\u001b[36m(Worker pid=134125)\u001b[0m 2022-05-17 04:32:41.706172: W tensorflow/core/framework/dataset.cc:744] Input of GeneratorDatasetOp::Dataset will not be optimized because the dataset does not implement the AsGraphDefInternal() method needed to apply optimizations.\n"
          ]
        }
      ],
      "metadata": {
        "id": "3VJw8i26SAL7",
        "outputId": "92747646-f89a-41d6-d187-c63c930438ae",
        "colab": {
          "base_uri": "https://localhost:8080/"
        }
      }
    },
    {
      "cell_type": "code",
      "execution_count": null,
      "source": [
        "sdf_output = est.predict(\n",
        "    sdf_list_padded_test,\n",
        "    feature_cols=X_COLS,\n",
        "    steps=1,\n",
        "    verbose=False\n",
        ")"
      ],
      "outputs": [
        {
          "output_type": "execute_result",
          "data": {
            "text/plain": [
              "[{'validation_ndcg_metric': 0.8397074937820435,\n",
              "  'validation_root_mean_squared_error': 1574.648681640625}]"
            ]
          },
          "metadata": {},
          "execution_count": 93
        }
      ],
      "metadata": {
        "id": "zRGEBAwPSkbk",
        "outputId": "afbec302-e93a-4252-859a-5488df2301dd",
        "colab": {
          "base_uri": "https://localhost:8080/"
        }
      }
    },
    {
      "cell_type": "code",
      "execution_count": null,
      "source": [
        "\n",
        "sdf_output.printSchema()\n",
        "sdf_output.show(10)"
      ],
      "outputs": [
        {
          "output_type": "stream",
          "name": "stdout",
          "text": [
            "root\n",
            " |-- userid: string (nullable = true)\n",
            " |-- titles: array (nullable = true)\n",
            " |    |-- element: string (containsNull = true)\n",
            " |-- ratings: array (nullable = true)\n",
            " |    |-- element: integer (containsNull = true)\n",
            " |-- len: integer (nullable = true)\n",
            " |-- prediction: vector (nullable = true)\n",
            "\n",
            "+------+--------------------+--------------------+---+--------------------+\n",
            "|userid|              titles|             ratings|len|          prediction|\n",
            "+------+--------------------+--------------------+---+--------------------+\n",
            "|  4169|[Parent Trap, The...|[4, 4, 1, 5, 3, 4...|312|[10.0495653152465...|\n",
            "|  1680|[GoldenEye (1995)...|[3, 3, 4, 4, 4, 4...|264|[10.7592430114746...|\n",
            "|  4277|[Extreme Measures...|[4, 4, 4, 4, 5, 5...|249|[9.35473918914795...|\n",
            "|  1181|[Shaggy Dog, The ...|[3, 3, 1, 3, 3, 3...|232|[10.0058364868164...|\n",
            "|   889|[Shall We Dance? ...|[5, 4, 2, 3, 2, 4...|226|[11.8175363540649...|\n",
            "|  1941|[Herbie Rides Aga...|[4, 5, 5, 4, 1, 4...|221|[10.2106609344482...|\n",
            "|  1449|[Angels in the Ou...|[1, 3, 5, 2, 4, 2...|201|[7.85968637466430...|\n",
            "|  2909|[GoldenEye (1995)...|[5, 5, 4, 3, 5, 4...|200|[10.9495792388916...|\n",
            "|  1150|[GoldenEye (1995)...|[2, 2, 3, 2, 2, 2...|195|[7.61406993865966...|\n",
            "|  5795|[GoldenEye (1995)...|[2, 4, 3, 1, 1, 5...|194|[8.02363967895507...|\n",
            "+------+--------------------+--------------------+---+--------------------+\n",
            "only showing top 10 rows\n",
            "\n"
          ]
        },
        {
          "output_type": "stream",
          "name": "stderr",
          "text": [
            "\r[Stage 146:>                                                        (0 + 1) / 1]\r                                                                                \r"
          ]
        }
      ],
      "metadata": {
        "id": "mM0WrKN2UL1P",
        "outputId": "264135e2-b12a-46e6-af8b-737d6229d17e",
        "colab": {
          "base_uri": "https://localhost:8080/"
        }
      }
    },
    {
      "cell_type": "code",
      "execution_count": null,
      "source": [
        "from pyspark.sql.functions import explode\n",
        "\n",
        "\n",
        "def unpad_prediction(sdf):\n",
        "    def unpad_list(lst, length):\n",
        "        return lst[:length]\n",
        "\n",
        "    unpad_str_udf = F.udf(lambda x, y: unpad_list(x, y), ArrayType(StringType(), True))\n",
        "    unpad_int_udf = F.udf(lambda x, y: unpad_list(x, y), ArrayType(IntegerType(), True))\n",
        "    unpad_pred_udf = F.udf(lambda x, y: unpad_list(x.toArray().tolist(), y), ArrayType(FloatType(), True))\n",
        "\n",
        "    sdf_out = (\n",
        "        sdf\n",
        "        .withColumn(\"titles\", unpad_str_udf(F.col(\"titles\"), F.col(\"len\")))\n",
        "        .withColumn(\"ratings\", unpad_int_udf(F.col(\"ratings\"), F.col(\"len\")))\n",
        "        .withColumn(\"prediction\", unpad_pred_udf(F.col(\"prediction\"), F.col(\"len\")))\n",
        "    ).sort(F.asc(\"len\"))\n",
        "\n",
        "    return sdf_out\n",
        "\n",
        "\n",
        "sdf_unpad = unpad_prediction(sdf_output)\n",
        "sdf_unpad.printSchema()\n",
        "sdf_unpad.show(10)\n",
        "sdf_unlist = sdf_unpad.selectExpr('inline(arrays_zip(prediction, labels))')\n",
        "sdf_unlist.show(20)"
      ],
      "outputs": [
        {
          "output_type": "stream",
          "name": "stdout",
          "text": [
            "root\n",
            " |-- userid: string (nullable = true)\n",
            " |-- titles: array (nullable = true)\n",
            " |    |-- element: string (containsNull = true)\n",
            " |-- ratings: array (nullable = true)\n",
            " |    |-- element: integer (containsNull = true)\n",
            " |-- len: integer (nullable = true)\n",
            " |-- prediction: array (nullable = true)\n",
            " |    |-- element: float (containsNull = true)\n",
            "\n"
          ]
        },
        {
          "output_type": "stream",
          "name": "stderr",
          "text": []
        },
        {
          "output_type": "stream",
          "name": "stdout",
          "text": [
            "+------+--------------------+-------+---+-----------+\n",
            "|userid|              titles|ratings|len| prediction|\n",
            "+------+--------------------+-------+---+-----------+\n",
            "|  1510|[Legends of the F...|    [4]|  1| [9.297303]|\n",
            "|  1259|[Return of the Fl...|    [4]|  1|[6.5021152]|\n",
            "|  5863|[Stuart Little (1...|    [3]|  1| [8.567881]|\n",
            "|  4988|[Dead Man Walking...|    [5]|  1| [7.544215]|\n",
            "|  1936|[Sound of Music, ...|    [4]|  1|[5.5240088]|\n",
            "|  1620| [Limey, The (1999)]|    [4]|  1| [8.162466]|\n",
            "|  1282| [Roger & Me (1989)]|    [5]|  1|[7.1391716]|\n",
            "|  3826|[Dead Man Walking...|    [4]|  1|[5.8432117]|\n",
            "|  2930|[Color Purple, Th...|    [3]|  1|[7.5742407]|\n",
            "|   747|[Saving Private R...|    [4]|  1|[10.410028]|\n",
            "+------+--------------------+-------+---+-----------+\n",
            "only showing top 10 rows\n",
            "\n"
          ]
        }
      ],
      "metadata": {
        "id": "RKHG7iWCUMHi",
        "outputId": "17fb757e-61a6-4f93-8a39-cd9ca9d847c2",
        "colab": {
          "base_uri": "https://localhost:8080/"
        }
      }
    },
    {
      "cell_type": "code",
      "execution_count": null,
      "source": [
        "est.save(\"./test_model.ckpt\")\n"
      ],
      "outputs": [
        {
          "output_type": "execute_result",
          "data": {
            "application/vnd.google.colaboratory.intrinsic+json": {
              "type": "string"
            },
            "text/plain": [
              "'./test_model.ckpt'"
            ]
          },
          "metadata": {},
          "execution_count": 46
        }
      ],
      "metadata": {
        "id": "SEifnXPIUMTf",
        "colab": {
          "base_uri": "https://localhost:8080/",
          "height": 35
        },
        "outputId": "92507ca1-2fa4-4ec0-d407-eaaa661959fc"
      }
    },
    {
      "cell_type": "code",
      "execution_count": null,
      "source": [
        "est.shutdown()"
      ],
      "outputs": [],
      "metadata": {
        "id": "NAtBaqV-WZS0"
      }
    },
    {
      "cell_type": "code",
      "execution_count": null,
      "source": [
        "est = Estimator.from_keras(model_creator=create_model,  config=model_config, workers_per_node=1)"
      ],
      "outputs": [
        {
          "output_type": "stream",
          "name": "stderr",
          "text": [
            "\u001b[2m\u001b[36m(Worker pid=37204)\u001b[0m WARNING:tensorflow:From /usr/local/lib/python3.7/dist-packages/bigdl/orca/learn/tf2/tf_runner.py:317: _CollectiveAllReduceStrategyExperimental.__init__ (from tensorflow.python.distribute.collective_all_reduce_strategy) is deprecated and will be removed in a future version.\n",
            "\u001b[2m\u001b[36m(Worker pid=37204)\u001b[0m Instructions for updating:\n",
            "\u001b[2m\u001b[36m(Worker pid=37204)\u001b[0m use distribute.MultiWorkerMirroredStrategy instead\n",
            "\u001b[2m\u001b[36m(Worker pid=37204)\u001b[0m 2022-03-03 06:51:48.445349: E tensorflow/stream_executor/cuda/cuda_driver.cc:271] failed call to cuInit: CUDA_ERROR_NO_DEVICE: no CUDA-capable device is detected\n"
          ]
        }
      ],
      "metadata": {
        "id": "XcPXZX-aWi9y",
        "outputId": "ed866fd9-de02-4e2c-f810-bce7d2d7a744",
        "colab": {
          "base_uri": "https://localhost:8080/"
        }
      }
    },
    {
      "cell_type": "code",
      "execution_count": null,
      "source": [
        "est.load(\"./test_model.ckpt\")"
      ],
      "outputs": [],
      "metadata": {
        "id": "qscmuOCOWnZ7"
      }
    },
    {
      "cell_type": "code",
      "execution_count": null,
      "source": [
        "sdf_output = est.predict(\n",
        "    sdf_list_padded_test,\n",
        "    feature_cols=feature_cols,\n",
        "    steps=1,\n",
        "    verbose=False,\n",
        ")"
      ],
      "outputs": [
        {
          "output_type": "stream",
          "name": "stderr",
          "text": [
            "2022-03-03 06:52:11,990\tINFO worker.py:843 -- Connecting to existing Ray cluster at address: 172.28.0.2:6379\n",
            "[Stage 155:>                                                       (1 + 1) / 74]2022-03-03 06:52:12,587\tINFO worker.py:843 -- Connecting to existing Ray cluster at address: 172.28.0.2:6379\n",
            "[Stage 155:=>                                                      (2 + 1) / 74]2022-03-03 06:52:13,168\tINFO worker.py:843 -- Connecting to existing Ray cluster at address: 172.28.0.2:6379\n",
            "[Stage 155:==>                                                     (3 + 1) / 74]2022-03-03 06:52:13,764\tINFO worker.py:843 -- Connecting to existing Ray cluster at address: 172.28.0.2:6379\n",
            "[Stage 155:===>                                                    (4 + 1) / 74]2022-03-03 06:52:14,438\tINFO worker.py:843 -- Connecting to existing Ray cluster at address: 172.28.0.2:6379\n",
            "[Stage 155:===>                                                    (5 + 1) / 74]2022-03-03 06:52:15,070\tINFO worker.py:843 -- Connecting to existing Ray cluster at address: 172.28.0.2:6379\n",
            "[Stage 155:======================================================>(73 + 1) / 74]Partition 73 is empty.\n",
            "2022-03-03 06:52:22,330\tWARNING worker.py:1245 -- WARNING: 7 PYTHON worker processes have been started on node: a6dcd838ac19f6164120c628a364a3e7bb20de09b1a87a2df117d62c with address: 172.28.0.2. This could be a result of using a large number of actors, or due to tasks blocked in ray.get() calls (see https://github.com/ray-project/ray/issues/3644 for some discussion of workarounds).\n",
            "2022-03-03 06:52:22,331\tWARNING worker.py:1245 -- WARNING: 7 PYTHON worker processes have been started on node: a6dcd838ac19f6164120c628a364a3e7bb20de09b1a87a2df117d62c with address: 172.28.0.2. This could be a result of using a large number of actors, or due to tasks blocked in ray.get() calls (see https://github.com/ray-project/ray/issues/3644 for some discussion of workarounds).\n",
            "2022-03-03 06:52:22,331\tWARNING worker.py:1245 -- WARNING: 7 PYTHON worker processes have been started on node: a6dcd838ac19f6164120c628a364a3e7bb20de09b1a87a2df117d62c with address: 172.28.0.2. This could be a result of using a large number of actors, or due to tasks blocked in ray.get() calls (see https://github.com/ray-project/ray/issues/3644 for some discussion of workarounds).\n",
            "2022-03-03 06:52:22,332\tWARNING worker.py:1245 -- WARNING: 7 PYTHON worker processes have been started on node: a6dcd838ac19f6164120c628a364a3e7bb20de09b1a87a2df117d62c with address: 172.28.0.2. This could be a result of using a large number of actors, or due to tasks blocked in ray.get() calls (see https://github.com/ray-project/ray/issues/3644 for some discussion of workarounds).\n",
            "2022-03-03 06:52:22,332\tWARNING worker.py:1245 -- WARNING: 7 PYTHON worker processes have been started on node: a6dcd838ac19f6164120c628a364a3e7bb20de09b1a87a2df117d62c with address: 172.28.0.2. This could be a result of using a large number of actors, or due to tasks blocked in ray.get() calls (see https://github.com/ray-project/ray/issues/3644 for some discussion of workarounds).\n",
            "2022-03-03 06:52:22,342\tWARNING worker.py:1245 -- WARNING: 7 PYTHON worker processes have been started on node: a6dcd838ac19f6164120c628a364a3e7bb20de09b1a87a2df117d62c with address: 172.28.0.2. This could be a result of using a large number of actors, or due to tasks blocked in ray.get() calls (see https://github.com/ray-project/ray/issues/3644 for some discussion of workarounds).\n",
            "2022-03-03 06:52:22,338\tWARNING worker.py:1245 -- WARNING: 7 PYTHON worker processes have been started on node: a6dcd838ac19f6164120c628a364a3e7bb20de09b1a87a2df117d62c with address: 172.28.0.2. This could be a result of using a large number of actors, or due to tasks blocked in ray.get() calls (see https://github.com/ray-project/ray/issues/3644 for some discussion of workarounds).\n",
            "\u001b[2m\u001b[36m(Worker pid=37204)\u001b[0m WARNING:tensorflow:AutoGraph could not transform <bound method PaddedToRaggedRankingModel.call of <types.PaddedToRaggedRankingModel object at 0x7f27eab34890>> and will run it as-is.\n",
            "\u001b[2m\u001b[36m(Worker pid=37204)\u001b[0m Cause: Unable to locate the source code of <bound method PaddedToRaggedRankingModel.call of <types.PaddedToRaggedRankingModel object at 0x7f27eab34890>>. Note that functions defined in certain environments, like the interactive Python shell, do not expose their source code. If that is the case, you should define them in a .py source file. If you are certain the code is graph-compatible, wrap the call using @tf.autograph.experimental.do_not_convert. Original error: could not get source code\n",
            "\u001b[2m\u001b[36m(Worker pid=37204)\u001b[0m To silence this warning, decorate the function with @tf.autograph.experimental.do_not_convert\n",
            "[Stage 164:>                                                       (0 + 1) / 74]2022-03-03 06:52:26,483\tINFO worker.py:843 -- Connecting to existing Ray cluster at address: 172.28.0.2:6379\n",
            "[Stage 164:>                                                       (1 + 1) / 74]2022-03-03 06:52:27,775\tINFO worker.py:843 -- Connecting to existing Ray cluster at address: 172.28.0.2:6379\n",
            "[Stage 164:=>                                                      (2 + 1) / 74]2022-03-03 06:52:28,992\tINFO worker.py:843 -- Connecting to existing Ray cluster at address: 172.28.0.2:6379\n",
            "[Stage 164:==>                                                     (3 + 1) / 74]\u001b[2m\u001b[36m(Worker pid=37204)\u001b[0m WARNING:tensorflow:5 out of the last 5 calls to <function Model.make_predict_function.<locals>.predict_function at 0x7f27ea084290> triggered tf.function retracing. Tracing is expensive and the excessive number of tracings could be due to (1) creating @tf.function repeatedly in a loop, (2) passing tensors with different shapes, (3) passing Python objects instead of tensors. For (1), please define your @tf.function outside of the loop. For (2), @tf.function has experimental_relax_shapes=True option that relaxes argument shapes that can avoid unnecessary retracing. For (3), please refer to https://www.tensorflow.org/guide/function#controlling_retracing and https://www.tensorflow.org/api_docs/python/tf/function for  more details.\n",
            "2022-03-03 06:52:30,179\tINFO worker.py:843 -- Connecting to existing Ray cluster at address: 172.28.0.2:6379\n",
            "[Stage 164:===>                                                    (4 + 1) / 74]\u001b[2m\u001b[36m(Worker pid=37204)\u001b[0m WARNING:tensorflow:6 out of the last 6 calls to <function Model.make_predict_function.<locals>.predict_function at 0x7f27e9f1e290> triggered tf.function retracing. Tracing is expensive and the excessive number of tracings could be due to (1) creating @tf.function repeatedly in a loop, (2) passing tensors with different shapes, (3) passing Python objects instead of tensors. For (1), please define your @tf.function outside of the loop. For (2), @tf.function has experimental_relax_shapes=True option that relaxes argument shapes that can avoid unnecessary retracing. For (3), please refer to https://www.tensorflow.org/guide/function#controlling_retracing and https://www.tensorflow.org/api_docs/python/tf/function for  more details.\n",
            "2022-03-03 06:52:31,635\tINFO worker.py:843 -- Connecting to existing Ray cluster at address: 172.28.0.2:6379\n",
            "[Stage 164:===>                                                    (5 + 1) / 74]2022-03-03 06:52:33,275\tINFO worker.py:843 -- Connecting to existing Ray cluster at address: 172.28.0.2:6379\n",
            "[Stage 164:====>                                                   (6 + 1) / 74]2022-03-03 06:52:35,795\tINFO worker.py:843 -- Connecting to existing Ray cluster at address: 172.28.0.2:6379\n",
            "[Stage 164:=====>                                                  (7 + 1) / 74]2022-03-03 06:52:37,844\tINFO worker.py:843 -- Connecting to existing Ray cluster at address: 172.28.0.2:6379\n",
            "[Stage 164:======>                                                 (8 + 1) / 74]2022-03-03 06:52:39,716\tINFO worker.py:843 -- Connecting to existing Ray cluster at address: 172.28.0.2:6379\n",
            "[Stage 164:======>                                                 (9 + 1) / 74]2022-03-03 06:52:41,744\tINFO worker.py:843 -- Connecting to existing Ray cluster at address: 172.28.0.2:6379\n",
            "[Stage 164:=======>                                               (10 + 1) / 74]2022-03-03 06:52:44,127\tINFO worker.py:843 -- Connecting to existing Ray cluster at address: 172.28.0.2:6379\n",
            "[Stage 164:========>                                              (11 + 1) / 74]2022-03-03 06:52:46,084\tINFO worker.py:843 -- Connecting to existing Ray cluster at address: 172.28.0.2:6379\n",
            "[Stage 164:========>                                              (12 + 1) / 74]2022-03-03 06:52:47,613\tINFO worker.py:843 -- Connecting to existing Ray cluster at address: 172.28.0.2:6379\n",
            "[Stage 164:=========>                                             (13 + 1) / 74]2022-03-03 06:52:49,493\tINFO worker.py:843 -- Connecting to existing Ray cluster at address: 172.28.0.2:6379\n",
            "[Stage 164:==========>                                            (14 + 1) / 74]2022-03-03 06:52:51,388\tINFO worker.py:843 -- Connecting to existing Ray cluster at address: 172.28.0.2:6379\n",
            "[Stage 164:===========>                                           (15 + 1) / 74]2022-03-03 06:52:53,142\tINFO worker.py:843 -- Connecting to existing Ray cluster at address: 172.28.0.2:6379\n",
            "[Stage 164:===========>                                           (16 + 1) / 74]2022-03-03 06:52:55,282\tINFO worker.py:843 -- Connecting to existing Ray cluster at address: 172.28.0.2:6379\n",
            "[Stage 164:============>                                          (17 + 1) / 74]2022-03-03 06:52:57,211\tINFO worker.py:843 -- Connecting to existing Ray cluster at address: 172.28.0.2:6379\n",
            "[Stage 164:=============>                                         (18 + 1) / 74]2022-03-03 06:52:59,122\tINFO worker.py:843 -- Connecting to existing Ray cluster at address: 172.28.0.2:6379\n",
            "[Stage 164:==============>                                        (19 + 1) / 74]2022-03-03 06:53:00,934\tINFO worker.py:843 -- Connecting to existing Ray cluster at address: 172.28.0.2:6379\n",
            "[Stage 164:==============>                                        (20 + 1) / 74]2022-03-03 06:53:03,012\tINFO worker.py:843 -- Connecting to existing Ray cluster at address: 172.28.0.2:6379\n",
            "[Stage 164:===============>                                       (21 + 1) / 74]2022-03-03 06:53:04,786\tINFO worker.py:843 -- Connecting to existing Ray cluster at address: 172.28.0.2:6379\n",
            "[Stage 164:================>                                      (22 + 1) / 74]2022-03-03 06:53:06,463\tINFO worker.py:843 -- Connecting to existing Ray cluster at address: 172.28.0.2:6379\n",
            "[Stage 164:=================>                                     (23 + 1) / 74]2022-03-03 06:53:08,161\tINFO worker.py:843 -- Connecting to existing Ray cluster at address: 172.28.0.2:6379\n",
            "[Stage 164:=================>                                     (24 + 1) / 74]2022-03-03 06:53:10,041\tINFO worker.py:843 -- Connecting to existing Ray cluster at address: 172.28.0.2:6379\n",
            "[Stage 164:==================>                                    (25 + 1) / 74]2022-03-03 06:53:11,983\tINFO worker.py:843 -- Connecting to existing Ray cluster at address: 172.28.0.2:6379\n",
            "[Stage 164:===================>                                   (26 + 1) / 74]2022-03-03 06:53:14,363\tINFO worker.py:843 -- Connecting to existing Ray cluster at address: 172.28.0.2:6379\n",
            "[Stage 164:====================>                                  (27 + 1) / 74]2022-03-03 06:53:16,437\tINFO worker.py:843 -- Connecting to existing Ray cluster at address: 172.28.0.2:6379\n",
            "[Stage 164:====================>                                  (28 + 1) / 74]2022-03-03 06:53:18,659\tINFO worker.py:843 -- Connecting to existing Ray cluster at address: 172.28.0.2:6379\n",
            "[Stage 164:=====================>                                 (29 + 1) / 74]2022-03-03 06:53:20,763\tINFO worker.py:843 -- Connecting to existing Ray cluster at address: 172.28.0.2:6379\n",
            "[Stage 164:======================>                                (30 + 1) / 74]2022-03-03 06:53:22,884\tINFO worker.py:843 -- Connecting to existing Ray cluster at address: 172.28.0.2:6379\n",
            "[Stage 164:=======================>                               (31 + 1) / 74]2022-03-03 06:53:24,851\tINFO worker.py:843 -- Connecting to existing Ray cluster at address: 172.28.0.2:6379\n",
            "[Stage 164:=======================>                               (32 + 1) / 74]2022-03-03 06:53:26,266\tINFO worker.py:843 -- Connecting to existing Ray cluster at address: 172.28.0.2:6379\n",
            "[Stage 164:========================>                              (33 + 1) / 74]2022-03-03 06:53:27,654\tINFO worker.py:843 -- Connecting to existing Ray cluster at address: 172.28.0.2:6379\n",
            "[Stage 164:=========================>                             (34 + 1) / 74]2022-03-03 06:53:28,898\tINFO worker.py:843 -- Connecting to existing Ray cluster at address: 172.28.0.2:6379\n",
            "[Stage 164:==========================>                            (35 + 1) / 74]2022-03-03 06:53:30,086\tINFO worker.py:843 -- Connecting to existing Ray cluster at address: 172.28.0.2:6379\n",
            "[Stage 164:==========================>                            (36 + 1) / 74]2022-03-03 06:53:31,277\tINFO worker.py:843 -- Connecting to existing Ray cluster at address: 172.28.0.2:6379\n",
            "[Stage 164:===========================>                           (37 + 1) / 74]2022-03-03 06:53:32,417\tINFO worker.py:843 -- Connecting to existing Ray cluster at address: 172.28.0.2:6379\n",
            "[Stage 164:============================>                          (38 + 1) / 74]2022-03-03 06:53:33,768\tINFO worker.py:843 -- Connecting to existing Ray cluster at address: 172.28.0.2:6379\n",
            "[Stage 164:============================>                          (39 + 1) / 74]2022-03-03 06:53:34,945\tINFO worker.py:843 -- Connecting to existing Ray cluster at address: 172.28.0.2:6379\n",
            "[Stage 164:=============================>                         (40 + 1) / 74]2022-03-03 06:53:36,191\tINFO worker.py:843 -- Connecting to existing Ray cluster at address: 172.28.0.2:6379\n",
            "[Stage 164:==============================>                        (41 + 1) / 74]2022-03-03 06:53:37,851\tINFO worker.py:843 -- Connecting to existing Ray cluster at address: 172.28.0.2:6379\n",
            "[Stage 164:===============================>                       (42 + 1) / 74]2022-03-03 06:53:39,081\tINFO worker.py:843 -- Connecting to existing Ray cluster at address: 172.28.0.2:6379\n",
            "[Stage 164:===============================>                       (43 + 1) / 74]2022-03-03 06:53:40,284\tINFO worker.py:843 -- Connecting to existing Ray cluster at address: 172.28.0.2:6379\n",
            "[Stage 164:================================>                      (44 + 1) / 74]2022-03-03 06:53:41,655\tINFO worker.py:843 -- Connecting to existing Ray cluster at address: 172.28.0.2:6379\n",
            "[Stage 164:=================================>                     (45 + 1) / 74]2022-03-03 06:53:42,869\tINFO worker.py:843 -- Connecting to existing Ray cluster at address: 172.28.0.2:6379\n",
            "[Stage 164:==================================>                    (46 + 1) / 74]2022-03-03 06:53:44,591\tINFO worker.py:843 -- Connecting to existing Ray cluster at address: 172.28.0.2:6379\n",
            "[Stage 164:==================================>                    (47 + 1) / 74]2022-03-03 06:53:46,263\tINFO worker.py:843 -- Connecting to existing Ray cluster at address: 172.28.0.2:6379\n",
            "[Stage 164:===================================>                   (48 + 1) / 74]2022-03-03 06:53:48,139\tINFO worker.py:843 -- Connecting to existing Ray cluster at address: 172.28.0.2:6379\n",
            "[Stage 164:====================================>                  (49 + 1) / 74]2022-03-03 06:53:49,952\tINFO worker.py:843 -- Connecting to existing Ray cluster at address: 172.28.0.2:6379\n",
            "[Stage 164:=====================================>                 (50 + 1) / 74]2022-03-03 06:53:52,118\tINFO worker.py:843 -- Connecting to existing Ray cluster at address: 172.28.0.2:6379\n",
            "[Stage 164:=====================================>                 (51 + 1) / 74]2022-03-03 06:53:54,306\tINFO worker.py:843 -- Connecting to existing Ray cluster at address: 172.28.0.2:6379\n",
            "[Stage 164:======================================>                (52 + 1) / 74]2022-03-03 06:53:56,165\tINFO worker.py:843 -- Connecting to existing Ray cluster at address: 172.28.0.2:6379\n",
            "[Stage 164:=======================================>               (53 + 1) / 74]2022-03-03 06:53:58,543\tINFO worker.py:843 -- Connecting to existing Ray cluster at address: 172.28.0.2:6379\n",
            "[Stage 164:========================================>              (54 + 1) / 74]2022-03-03 06:54:00,457\tINFO worker.py:843 -- Connecting to existing Ray cluster at address: 172.28.0.2:6379\n",
            "[Stage 164:========================================>              (55 + 1) / 74]2022-03-03 06:54:02,786\tINFO worker.py:843 -- Connecting to existing Ray cluster at address: 172.28.0.2:6379\n",
            "[Stage 164:=========================================>             (56 + 1) / 74]2022-03-03 06:54:05,002\tINFO worker.py:843 -- Connecting to existing Ray cluster at address: 172.28.0.2:6379\n",
            "[Stage 164:==========================================>            (57 + 1) / 74]2022-03-03 06:54:07,000\tINFO worker.py:843 -- Connecting to existing Ray cluster at address: 172.28.0.2:6379\n",
            "[Stage 164:===========================================>           (58 + 1) / 74]2022-03-03 06:54:08,395\tINFO worker.py:843 -- Connecting to existing Ray cluster at address: 172.28.0.2:6379\n",
            "[Stage 164:===========================================>           (59 + 1) / 74]2022-03-03 06:54:09,795\tINFO worker.py:843 -- Connecting to existing Ray cluster at address: 172.28.0.2:6379\n",
            "[Stage 164:============================================>          (60 + 1) / 74]2022-03-03 06:54:11,009\tINFO worker.py:843 -- Connecting to existing Ray cluster at address: 172.28.0.2:6379\n",
            "[Stage 164:=============================================>         (61 + 1) / 74]2022-03-03 06:54:12,166\tINFO worker.py:843 -- Connecting to existing Ray cluster at address: 172.28.0.2:6379\n",
            "[Stage 164:==============================================>        (62 + 1) / 74]2022-03-03 06:54:13,535\tINFO worker.py:843 -- Connecting to existing Ray cluster at address: 172.28.0.2:6379\n",
            "[Stage 164:==============================================>        (63 + 1) / 74]2022-03-03 06:54:14,775\tINFO worker.py:843 -- Connecting to existing Ray cluster at address: 172.28.0.2:6379\n",
            "[Stage 164:===============================================>       (64 + 1) / 74]2022-03-03 06:54:16,048\tINFO worker.py:843 -- Connecting to existing Ray cluster at address: 172.28.0.2:6379\n",
            "[Stage 164:================================================>      (65 + 1) / 74]2022-03-03 06:54:17,306\tINFO worker.py:843 -- Connecting to existing Ray cluster at address: 172.28.0.2:6379\n",
            "[Stage 164:=================================================>     (66 + 1) / 74]2022-03-03 06:54:18,529\tINFO worker.py:843 -- Connecting to existing Ray cluster at address: 172.28.0.2:6379\n",
            "[Stage 164:=================================================>     (67 + 1) / 74]2022-03-03 06:54:19,810\tINFO worker.py:843 -- Connecting to existing Ray cluster at address: 172.28.0.2:6379\n",
            "[Stage 164:==================================================>    (68 + 1) / 74]2022-03-03 06:54:21,043\tINFO worker.py:843 -- Connecting to existing Ray cluster at address: 172.28.0.2:6379\n",
            "[Stage 164:===================================================>   (69 + 1) / 74]2022-03-03 06:54:22,250\tINFO worker.py:843 -- Connecting to existing Ray cluster at address: 172.28.0.2:6379\n",
            "[Stage 164:====================================================>  (70 + 1) / 74]2022-03-03 06:54:23,876\tINFO worker.py:843 -- Connecting to existing Ray cluster at address: 172.28.0.2:6379\n",
            "[Stage 164:====================================================>  (71 + 1) / 74]2022-03-03 06:54:25,261\tINFO worker.py:843 -- Connecting to existing Ray cluster at address: 172.28.0.2:6379\n",
            "[Stage 164:=====================================================> (72 + 1) / 74]2022-03-03 06:54:26,533\tINFO worker.py:843 -- Connecting to existing Ray cluster at address: 172.28.0.2:6379\n",
            "[Stage 164:======================================================>(73 + 1) / 74]2022-03-03 06:54:27,652\tINFO worker.py:843 -- Connecting to existing Ray cluster at address: 172.28.0.2:6379\n"
          ]
        }
      ],
      "metadata": {
        "id": "YT-jj1ywWzg6",
        "outputId": "3e9fff18-0810-4fed-9366-91fd6f95ff3f",
        "colab": {
          "base_uri": "https://localhost:8080/"
        }
      }
    },
    {
      "cell_type": "code",
      "execution_count": null,
      "source": [
        "\n",
        "sdf_unpad = unpad_prediction(sdf_output).sort(F.desc(\"len\"))\n",
        "sdf_unpad.printSchema()"
      ],
      "outputs": [
        {
          "output_type": "stream",
          "name": "stdout",
          "text": [
            "root\n",
            " |-- userid: string (nullable = true)\n",
            " |-- titles: array (nullable = true)\n",
            " |    |-- element: string (containsNull = true)\n",
            " |-- ratings: array (nullable = true)\n",
            " |    |-- element: integer (containsNull = true)\n",
            " |-- len: integer (nullable = true)\n",
            " |-- prediction: array (nullable = true)\n",
            " |    |-- element: float (containsNull = true)\n",
            "\n"
          ]
        }
      ],
      "metadata": {
        "id": "kVeWuELYW4uw",
        "outputId": "15d06ca6-a19c-4df9-ab88-07afab15f14c",
        "colab": {
          "base_uri": "https://localhost:8080/"
        }
      }
    },
    {
      "cell_type": "code",
      "execution_count": null,
      "source": [
        "from pyspark.sql.functions import explode\n",
        "sdf_tmp = sdf_unpad.select(\"userid\", \"titles\", \"ratings\", \"prediction\")\n",
        "sdf_tmp2 = sdf_tmp.selectExpr('userid', 'inline(arrays_zip(titles, ratings, prediction))')\n",
        "sdf_tmp2.show(20)"
      ],
      "outputs": [
        {
          "output_type": "stream",
          "name": "stderr",
          "text": [
            "[Stage 183:======================================================>(73 + 1) / 74]"
          ]
        },
        {
          "output_type": "stream",
          "name": "stdout",
          "text": [
            "+------+--------------------+-------+----------+\n",
            "|userid|              titles|ratings|prediction|\n",
            "+------+--------------------+-------+----------+\n",
            "|  4169|Parent Trap, The ...|      4| 10.049565|\n",
            "|  4169|Swiss Family Robi...|      4| 10.079399|\n",
            "|  4169|    Mr. Wrong (1996)|      1|  7.965984|\n",
            "|  4169| Mary Poppins (1964)|      5| 10.707472|\n",
            "|  4169|Pete's Dragon (1977)|      3|  9.611323|\n",
            "|  4169|Alice in Wonderla...|      4| 10.569653|\n",
            "|  4169|To Gillian on Her...|      4|  8.966696|\n",
            "|  4169|Get on the Bus (1...|      4| 10.361752|\n",
            "|  4169|        Johns (1996)|      3|  9.911037|\n",
            "|  4169|Dirty Dancing (1987)|      3|  9.834489|\n",
            "|  4169|      Platoon (1986)|      5| 10.311012|\n",
            "|  4169|Christmas Carol, ...|      4|10.2826185|\n",
            "|  4169|Associate, The (1...|      4| 10.775612|\n",
            "|  4169|   Glory Daze (1996)|      2| 9.7413225|\n",
            "|  4169|Return of the Pin...|      3| 10.423382|\n",
            "|  4169|   Abyss, The (1989)|      4| 10.351718|\n",
            "|  4169| Howling, The (1980)|      4|  8.359009|\n",
            "|  4169|     Raw Deal (1948)|      4| 11.604429|\n",
            "|  4169|  Bob Roberts (1992)|      4|10.0624275|\n",
            "|  4169|Paths of Glory (1...|      5| 11.031826|\n",
            "+------+--------------------+-------+----------+\n",
            "only showing top 20 rows\n",
            "\n"
          ]
        },
        {
          "output_type": "stream",
          "name": "stderr",
          "text": [
            "\r                                                                                \r"
          ]
        }
      ],
      "metadata": {
        "id": "zqnPvofWdbeX",
        "outputId": "0e5fb2b7-e1b9-4864-8070-b8637ff2ecd4",
        "colab": {
          "base_uri": "https://localhost:8080/"
        }
      }
    },
    {
      "cell_type": "code",
      "execution_count": null,
      "source": [
        "est.shutdown()"
      ],
      "outputs": [],
      "metadata": {
        "id": "8GaQIckrZlGD"
      }
    },
    {
      "cell_type": "code",
      "execution_count": null,
      "source": [
        "# Stop orca context when your program finishes\n",
        "stop_orca_context()"
      ],
      "outputs": [
        {
          "output_type": "stream",
          "name": "stdout",
          "text": [
            "Stopping orca context\n"
          ]
        }
      ],
      "metadata": {
        "id": "nC4KhlHxXakk",
        "colab": {
          "base_uri": "https://localhost:8080/"
        },
        "outputId": "414fd5de-5af0-475a-9690-f642ea091811"
      }
    },
    {
      "cell_type": "code",
      "execution_count": null,
      "source": [],
      "outputs": [],
      "metadata": {
        "id": "muiQ78k_ZgDk"
      }
    }
  ]
}