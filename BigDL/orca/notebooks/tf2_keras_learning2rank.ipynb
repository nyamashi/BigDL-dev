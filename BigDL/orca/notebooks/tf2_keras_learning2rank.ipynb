{
  "nbformat": 4,
  "nbformat_minor": 0,
  "metadata": {
    "colab": {
      "name": "tf2_keras_lenet_mnist.ipynb",
      "provenance": [],
      "include_colab_link": true
    },
    "kernelspec": {
      "name": "python3",
      "display_name": "Python 3"
    }
  },
  "cells": [
    {
      "cell_type": "markdown",
      "metadata": {
        "id": "view-in-github",
        "colab_type": "text"
      },
      "source": [
        "<a href=\"https://colab.research.google.com/github/nyamashi/BigDL-dev/blob/main/BigDL/orca/notebooks/tf2_keras_learning2rank.ipynb\" target=\"_parent\"><img src=\"https://colab.research.google.com/assets/colab-badge.svg\" alt=\"Open In Colab\"/></a>"
      ]
    },
    {
      "cell_type": "markdown",
      "source": [
        "## Learning-to-Rank via Orca with TF Ranking and TF Recommenders\n",
        "\n",
        "based on \n",
        "- https://github.com/intel-analytics/BigDL/blob/main/python/orca/colab-notebook/quickstart/keras_lenet_mnist.ipynb\n",
        "- https://github.com/tensorflow/recommenders/blob/main/docs/examples/listwise_ranking.ipynb\n"
      ],
      "metadata": {
        "id": "l7FILmHLZwjZ"
      }
    },
    {
      "cell_type": "markdown",
      "metadata": {
        "id": "xgV_QLGE9Lox"
      },
      "source": [
        "\n",
        "![image.png](data:image/png;base64,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)\n",
        "---"
      ]
    },
    {
      "cell_type": "markdown",
      "metadata": {
        "id": "fDBPZ0_rfBmU"
      },
      "source": [
        "##### Copyright 2016 The BigDL Authors."
      ]
    },
    {
      "cell_type": "code",
      "metadata": {
        "id": "xBWVU_bhfkY7"
      },
      "source": [
        "#@title Licensed under the Apache License, Version 2.0 (the \"License\");\n",
        "# you may not use this file except in compliance with the License.\n",
        "# You may obtain a copy of the License at\n",
        "#\n",
        "#     http://www.apache.org/licenses/LICENSE-2.0\n",
        "#\n",
        "# Unless required by applicable law or agreed to in writing, software\n",
        "# distributed under the License is distributed on an \"AS IS\" BASIS,\n",
        "# WITHOUT WARRANTIES OR CONDITIONS OF ANY KIND, either express or implied.\n",
        "# See the License for the specific language governing permissions and\n",
        "# limitations under the License.\n",
        "#"
      ],
      "execution_count": null,
      "outputs": []
    },
    {
      "cell_type": "markdown",
      "metadata": {
        "id": "voMBntim9bMf"
      },
      "source": [
        "## **Environment Preparation**"
      ]
    },
    {
      "cell_type": "markdown",
      "metadata": {
        "id": "ccXnsv_pMCHQ"
      },
      "source": [
        "**Install Java 8**\n",
        "\n",
        "Run the cell on the **Google Colab** to install jdk 1.8.\n",
        "\n",
        "**Note:** if you run this notebook on your computer, root permission is required when running the cell to install Java 8. (You may ignore this cell if Java 8 has already been set up in your computer).\n"
      ]
    },
    {
      "cell_type": "code",
      "metadata": {
        "id": "HWx_0DSnXVhz",
        "outputId": "63f59425-0c54-4f64-cb37-5500798391a2",
        "colab": {
          "base_uri": "https://localhost:8080/"
        }
      },
      "source": [
        "# Install jdk8\n",
        "!apt-get install openjdk-8-jdk-headless -qq > /dev/null\n",
        "import os\n",
        "# Set environment variable JAVA_HOME.\n",
        "os.environ[\"JAVA_HOME\"] = \"/usr/lib/jvm/java-8-openjdk-amd64\"\n",
        "!update-alternatives --set java /usr/lib/jvm/java-8-openjdk-amd64/jre/bin/java\n",
        "!java -version"
      ],
      "execution_count": 1,
      "outputs": [
        {
          "output_type": "stream",
          "name": "stdout",
          "text": [
            "update-alternatives: using /usr/lib/jvm/java-8-openjdk-amd64/jre/bin/java to provide /usr/bin/java (java) in manual mode\n",
            "openjdk version \"1.8.0_312\"\n",
            "OpenJDK Runtime Environment (build 1.8.0_312-8u312-b07-0ubuntu1~18.04-b07)\n",
            "OpenJDK 64-Bit Server VM (build 25.312-b07, mixed mode)\n"
          ]
        }
      ]
    },
    {
      "cell_type": "markdown",
      "metadata": {
        "id": "I_OS4HKJMNpv"
      },
      "source": [
        "**Install BigDL Orca**\n",
        "\n",
        "You can install the latest pre-release version using `pip install --pre --upgrade bigdl-orca`. "
      ]
    },
    {
      "cell_type": "code",
      "metadata": {
        "id": "3qfT8CaC51hI",
        "outputId": "f14d13bb-a6ab-4e07-eec2-efe162f66de9",
        "colab": {
          "base_uri": "https://localhost:8080/"
        }
      },
      "source": [
        "# Install latest pre-release version of BigDL Orca \n",
        "# Installing BigDL Orca from pip will automatically install pyspark, bigdl, and their dependencies.\n",
        "!pip install --pre --upgrade bigdl-orca[ray] -q"
      ],
      "execution_count": 2,
      "outputs": [
        {
          "output_type": "stream",
          "name": "stdout",
          "text": [
            "\u001b[K     |████████████████████████████████| 23.9 MB 55.2 MB/s \n",
            "\u001b[K     |████████████████████████████████| 101.0 MB 54 kB/s \n",
            "\u001b[K     |████████████████████████████████| 35.4 MB 1.2 MB/s \n",
            "\u001b[K     |████████████████████████████████| 71.0 MB 376 bytes/s \n",
            "\u001b[K     |████████████████████████████████| 65 kB 3.3 MB/s \n",
            "\u001b[K     |████████████████████████████████| 57.6 MB 1.2 MB/s \n",
            "\u001b[K     |████████████████████████████████| 85 kB 3.8 MB/s \n",
            "\u001b[K     |████████████████████████████████| 1.1 MB 61.7 MB/s \n",
            "\u001b[K     |████████████████████████████████| 271 kB 86.1 MB/s \n",
            "\u001b[K     |████████████████████████████████| 144 kB 65.2 MB/s \n",
            "\u001b[K     |████████████████████████████████| 94 kB 3.0 MB/s \n",
            "\u001b[K     |████████████████████████████████| 218.4 MB 58 kB/s \n",
            "\u001b[K     |████████████████████████████████| 197 kB 75.5 MB/s \n",
            "\u001b[K     |████████████████████████████████| 220 kB 60.9 MB/s \n",
            "\u001b[K     |████████████████████████████████| 82 kB 206 kB/s \n",
            "\u001b[K     |████████████████████████████████| 128 kB 88.4 MB/s \n",
            "\u001b[K     |████████████████████████████████| 202 kB 95.9 MB/s \n",
            "\u001b[K     |████████████████████████████████| 3.0 MB 55.4 MB/s \n",
            "\u001b[K     |████████████████████████████████| 58 kB 5.4 MB/s \n",
            "\u001b[K     |████████████████████████████████| 175 kB 51.8 MB/s \n",
            "\u001b[?25h  Building wheel for pyspark (setup.py) ... \u001b[?25l\u001b[?25hdone\n",
            "  Building wheel for gpustat (setup.py) ... \u001b[?25l\u001b[?25hdone\n"
          ]
        }
      ]
    },
    {
      "cell_type": "code",
      "source": [
        "!pip show bigdl-orca ray"
      ],
      "metadata": {
        "id": "lzRIhmGli3gO",
        "outputId": "33b1f185-ce9e-45d3-d2b3-177559e383b9",
        "colab": {
          "base_uri": "https://localhost:8080/"
        }
      },
      "execution_count": 3,
      "outputs": [
        {
          "output_type": "stream",
          "name": "stdout",
          "text": [
            "Name: bigdl-orca\n",
            "Version: 2.1.0b20220303\n",
            "Summary: Seamlessly scale out TensorFlow and PyTorch for Big Data (using Spark & Ray)\n",
            "Home-page: https://github.com/intel-analytics/analytics-zoo\n",
            "Author: BigDL Authors\n",
            "Author-email: bigdl-user-group@googlegroups.com\n",
            "License: Apache License, Version 2.0\n",
            "Location: /usr/local/lib/python3.7/dist-packages\n",
            "Requires: bigdl-tf, bigdl-dllib, packaging, filelock, conda-pack, pyzmq, bigdl-math\n",
            "Required-by: \n",
            "---\n",
            "Name: ray\n",
            "Version: 1.9.2\n",
            "Summary: Ray provides a simple, universal API for building distributed applications.\n",
            "Home-page: https://github.com/ray-project/ray\n",
            "Author: Ray Team\n",
            "Author-email: ray-dev@googlegroups.com\n",
            "License: Apache 2.0\n",
            "Location: /usr/local/lib/python3.7/dist-packages\n",
            "Requires: grpcio, pyyaml, filelock, numpy, click, attrs, msgpack, jsonschema, redis, protobuf\n",
            "Required-by: \n"
          ]
        }
      ]
    },
    {
      "cell_type": "code",
      "source": [
        "!pip install numpy --upgrade # --ignore-installed"
      ],
      "metadata": {
        "id": "75nX0VH6Panx",
        "outputId": "24a316ac-e4dc-469d-e146-6205be94b21e",
        "colab": {
          "base_uri": "https://localhost:8080/"
        }
      },
      "execution_count": 4,
      "outputs": [
        {
          "output_type": "stream",
          "name": "stdout",
          "text": [
            "Requirement already satisfied: numpy in /usr/local/lib/python3.7/dist-packages (1.21.5)\n"
          ]
        }
      ]
    },
    {
      "cell_type": "code",
      "source": [
        "!pip install tensorflow==2.7.0 tensorflow-recommenders tensorflow-ranking -q"
      ],
      "metadata": {
        "id": "pqZ3EhzmPqve",
        "outputId": "23f939ed-98ca-41f5-9462-66826efc2931",
        "colab": {
          "base_uri": "https://localhost:8080/"
        }
      },
      "execution_count": 5,
      "outputs": [
        {
          "output_type": "stream",
          "name": "stdout",
          "text": [
            "\u001b[K     |████████████████████████████████| 489.6 MB 26 kB/s \n",
            "\u001b[K     |████████████████████████████████| 85 kB 3.6 MB/s \n",
            "\u001b[K     |████████████████████████████████| 141 kB 61.6 MB/s \n",
            "\u001b[K     |████████████████████████████████| 463 kB 58.0 MB/s \n",
            "\u001b[K     |████████████████████████████████| 1.3 MB 56.2 MB/s \n",
            "\u001b[?25h"
          ]
        }
      ]
    },
    {
      "cell_type": "code",
      "source": [
        "!pip show tensorflow tensorflow-recommenders tensorflow-ranking"
      ],
      "metadata": {
        "id": "SgURYGZ4jLoI",
        "outputId": "b3ddbf0e-25b8-432e-8881-0cec9a6ccb82",
        "colab": {
          "base_uri": "https://localhost:8080/"
        }
      },
      "execution_count": 6,
      "outputs": [
        {
          "output_type": "stream",
          "name": "stdout",
          "text": [
            "Name: tensorflow\n",
            "Version: 2.7.0\n",
            "Summary: TensorFlow is an open source machine learning framework for everyone.\n",
            "Home-page: https://www.tensorflow.org/\n",
            "Author: Google Inc.\n",
            "Author-email: packages@tensorflow.org\n",
            "License: Apache 2.0\n",
            "Location: /usr/local/lib/python3.7/dist-packages\n",
            "Requires: protobuf, wheel, tensorflow-estimator, tensorboard, numpy, opt-einsum, absl-py, wrapt, flatbuffers, astunparse, gast, tensorflow-io-gcs-filesystem, six, keras, libclang, termcolor, keras-preprocessing, typing-extensions, h5py, google-pasta, grpcio\n",
            "Required-by: tensorflow-serving-api, tensorflow-recommenders, kapre\n",
            "---\n",
            "Name: tensorflow-recommenders\n",
            "Version: 0.6.0\n",
            "Summary: Tensorflow Recommenders, a TensorFlow library for recommender systems.\n",
            "Home-page: https://github.com/tensorflow/recommenders\n",
            "Author: Google Inc.\n",
            "Author-email: packages@tensorflow.org\n",
            "License: Apache 2.0\n",
            "Location: /usr/local/lib/python3.7/dist-packages\n",
            "Requires: absl-py, tensorflow\n",
            "Required-by: \n",
            "---\n",
            "Name: tensorflow-ranking\n",
            "Version: 0.5.0\n",
            "Summary: Pip package setup file for TensorFlow Ranking.\n",
            "Home-page: https://github.com/tensorflow/ranking\n",
            "Author: Google Inc.\n",
            "Author-email: packages@tensorflow.org\n",
            "License: Apache 2.0\n",
            "Location: /usr/local/lib/python3.7/dist-packages\n",
            "Requires: absl-py, tensorflow-serving-api, numpy, six\n",
            "Required-by: \n"
          ]
        }
      ]
    },
    {
      "cell_type": "code",
      "source": [
        "import tensorflow as tf\n",
        "import tensorflow_recommenders as tfrs\n",
        "import tensorflow_ranking as tfr\n",
        "print(tf.__version__)\n",
        "print(tfrs.__version__)\n",
        "print(tfr.__version__)"
      ],
      "metadata": {
        "id": "yYlL5adGPtms",
        "outputId": "96dc7256-0f38-4443-b929-3784d753bb0e",
        "colab": {
          "base_uri": "https://localhost:8080/"
        }
      },
      "execution_count": 7,
      "outputs": [
        {
          "output_type": "stream",
          "name": "stdout",
          "text": [
            "2.7.0\n",
            "v0.6.0\n",
            "0.5.0.dev\n"
          ]
        }
      ]
    },
    {
      "cell_type": "markdown",
      "metadata": {
        "id": "l-l4vel5N3qP"
      },
      "source": [
        "## **Distributed TensorFlow 2 using Orca APIs**\n",
        "\n",
        "In this guide we will describe how to scale out TensorFlow 2 programs using Orca in 4 simple steps."
      ]
    },
    {
      "cell_type": "code",
      "metadata": {
        "id": "RDPt2XTsT-Gv"
      },
      "source": [
        "# import necesary libraries and modules\n",
        "import argparse\n",
        "\n",
        "import bigdl.orca\n",
        "from bigdl.orca import init_orca_context, stop_orca_context\n",
        "from bigdl.orca import OrcaContext"
      ],
      "execution_count": 8,
      "outputs": []
    },
    {
      "cell_type": "markdown",
      "metadata": {
        "id": "zBdeoZzLWWlY"
      },
      "source": [
        "### **Step 1: Init Orca Context** "
      ]
    },
    {
      "cell_type": "code",
      "metadata": {
        "id": "QAQp0FcUWaH3",
        "outputId": "b3f48e64-33a1-4183-e36e-816d657de7ce",
        "colab": {
          "base_uri": "https://localhost:8080/"
        }
      },
      "source": [
        "# recommended to set it to True when running BigDL in Jupyter notebook \n",
        "OrcaContext.log_output = True # (this will display terminal's stdout and stderr in the Jupyter notebook).\n",
        "\n",
        "cluster_mode = \"local\"\n",
        "\n",
        "if cluster_mode == \"local\":  \n",
        "    init_orca_context(cluster_mode=\"local\", cores=1) # run in local mode\n",
        "elif cluster_mode == \"k8s\":  \n",
        "    init_orca_context(cluster_mode=\"k8s\", num_nodes=2, cores=2) # run on K8s cluster\n",
        "elif cluster_mode == \"yarn\":  \n",
        "    init_orca_context(cluster_mode=\"yarn-client\", num_nodes=2, cores=2) # run on Hadoop YARN cluster"
      ],
      "execution_count": 9,
      "outputs": [
        {
          "output_type": "stream",
          "name": "stdout",
          "text": [
            "Initializing orca context\n",
            "Current pyspark location is : /usr/local/lib/python3.7/dist-packages/pyspark/__init__.py\n",
            "Start to getOrCreate SparkContext\n",
            "pyspark_submit_args is:  --driver-class-path /usr/local/lib/python3.7/dist-packages/bigdl/share/dllib/lib/bigdl-dllib-spark_2.4.6-2.1.0-SNAPSHOT-jar-with-dependencies.jar:/usr/local/lib/python3.7/dist-packages/bigdl/share/orca/lib/bigdl-orca-spark_2.4.6-2.1.0-SNAPSHOT-jar-with-dependencies.jar pyspark-shell \n",
            "2022-03-03 06:20:58 WARN  NativeCodeLoader:62 - Unable to load native-hadoop library for your platform... using builtin-java classes where applicable\n"
          ]
        },
        {
          "output_type": "stream",
          "name": "stderr",
          "text": [
            "Setting default log level to \"WARN\".\n",
            "To adjust logging level use sc.setLogLevel(newLevel). For SparkR, use setLogLevel(newLevel).\n"
          ]
        },
        {
          "output_type": "stream",
          "name": "stdout",
          "text": [
            "2022-03-03 06:21:02,520 Thread-4 WARN The bufferSize is set to 4000 but bufferedIo is false: false\n",
            "2022-03-03 06:21:02,525 Thread-4 WARN The bufferSize is set to 4000 but bufferedIo is false: false\n",
            "2022-03-03 06:21:02,527 Thread-4 WARN The bufferSize is set to 4000 but bufferedIo is false: false\n",
            "2022-03-03 06:21:02,528 Thread-4 WARN The bufferSize is set to 4000 but bufferedIo is false: false\n",
            "22-03-03 06:21:02 [Thread-4] INFO  Engine$:121 - Auto detect executor number and executor cores number\n",
            "22-03-03 06:21:02 [Thread-4] INFO  Engine$:123 - Executor number is 1 and executor cores number is 1\n",
            "22-03-03 06:21:03 [Thread-4] INFO  ThreadPool$:95 - Set mkl threads to 1 on thread 14\n",
            "2022-03-03 06:21:03 WARN  SparkContext:66 - Using an existing SparkContext; some configuration may not take effect.\n",
            "22-03-03 06:21:03 [Thread-4] INFO  Engine$:446 - Find existing spark context. Checking the spark conf...\n",
            "cls.getname: com.intel.analytics.bigdl.dllib.utils.python.api.Sample\n",
            "BigDLBasePickler registering: bigdl.dllib.utils.common  Sample\n",
            "cls.getname: com.intel.analytics.bigdl.dllib.utils.python.api.EvaluatedResult\n",
            "BigDLBasePickler registering: bigdl.dllib.utils.common  EvaluatedResult\n",
            "cls.getname: com.intel.analytics.bigdl.dllib.utils.python.api.JTensor\n",
            "BigDLBasePickler registering: bigdl.dllib.utils.common  JTensor\n",
            "cls.getname: com.intel.analytics.bigdl.dllib.utils.python.api.JActivity\n",
            "Successfully got a SparkContextBigDLBasePickler registering: bigdl.dllib.utils.common  JActivity\n",
            "\n"
          ]
        },
        {
          "output_type": "stream",
          "name": "stderr",
          "text": [
            "\n",
            "User settings:\n",
            "\n",
            "   KMP_AFFINITY=granularity=fine,compact,1,0\n",
            "   KMP_BLOCKTIME=0\n",
            "   KMP_SETTINGS=1\n",
            "   OMP_NUM_THREADS=1\n",
            "\n",
            "Effective settings:\n",
            "\n",
            "   KMP_ABORT_DELAY=0\n",
            "   KMP_ADAPTIVE_LOCK_PROPS='1,1024'\n",
            "   KMP_ALIGN_ALLOC=64\n",
            "   KMP_ALL_THREADPRIVATE=128\n",
            "   KMP_ATOMIC_MODE=2\n",
            "   KMP_BLOCKTIME=0\n",
            "   KMP_CPUINFO_FILE: value is not defined\n",
            "   KMP_DETERMINISTIC_REDUCTION=false\n",
            "   KMP_DEVICE_THREAD_LIMIT=2147483647\n",
            "   KMP_DISP_HAND_THREAD=false\n",
            "   KMP_DISP_NUM_BUFFERS=7\n",
            "   KMP_DUPLICATE_LIB_OK=false\n",
            "   KMP_FORCE_REDUCTION: value is not defined\n",
            "   KMP_FOREIGN_THREADS_THREADPRIVATE=true\n",
            "   KMP_FORKJOIN_BARRIER='2,2'\n",
            "   KMP_FORKJOIN_BARRIER_PATTERN='hyper,hyper'\n",
            "   KMP_FORKJOIN_FRAMES=true\n",
            "   KMP_FORKJOIN_FRAMES_MODE=3\n",
            "   KMP_GTID_MODE=3\n",
            "   KMP_HANDLE_SIGNALS=false\n",
            "   KMP_HOT_TEAMS_MAX_LEVEL=1\n",
            "   KMP_HOT_TEAMS_MODE=0\n",
            "   KMP_INIT_AT_FORK=true\n",
            "   KMP_ITT_PREPARE_DELAY=0\n",
            "   KMP_LIBRARY=throughput\n",
            "   KMP_LOCK_KIND=queuing\n",
            "   KMP_MALLOC_POOL_INCR=1M\n",
            "   KMP_MWAIT_HINTS=0\n",
            "   KMP_NUM_LOCKS_IN_BLOCK=1\n",
            "   KMP_PLAIN_BARRIER='2,2'\n",
            "   KMP_PLAIN_BARRIER_PATTERN='hyper,hyper'\n",
            "   KMP_REDUCTION_BARRIER='1,1'\n",
            "   KMP_REDUCTION_BARRIER_PATTERN='hyper,hyper'\n",
            "   KMP_SCHEDULE='static,balanced;guided,iterative'\n",
            "   KMP_SETTINGS=true\n",
            "   KMP_SPIN_BACKOFF_PARAMS='4096,100'\n",
            "   KMP_STACKOFFSET=64\n",
            "   KMP_STACKPAD=0\n",
            "   KMP_STACKSIZE=8M\n",
            "   KMP_STORAGE_MAP=false\n",
            "   KMP_TASKING=2\n",
            "   KMP_TASKLOOP_MIN_TASKS=0\n",
            "   KMP_TASK_STEALING_CONSTRAINT=1\n",
            "   KMP_TEAMS_THREAD_LIMIT=2\n",
            "   KMP_TOPOLOGY_METHOD=all\n",
            "   KMP_USER_LEVEL_MWAIT=false\n",
            "   KMP_USE_YIELD=1\n",
            "   KMP_VERSION=false\n",
            "   KMP_WARNINGS=true\n",
            "   OMP_AFFINITY_FORMAT='OMP: pid %P tid %i thread %n bound to OS proc set {%A}'\n",
            "   OMP_ALLOCATOR=omp_default_mem_alloc\n",
            "   OMP_CANCELLATION=false\n",
            "   OMP_DEBUG=disabled\n",
            "   OMP_DEFAULT_DEVICE=0\n",
            "   OMP_DISPLAY_AFFINITY=false\n",
            "   OMP_DISPLAY_ENV=false\n",
            "   OMP_DYNAMIC=false\n",
            "   OMP_MAX_ACTIVE_LEVELS=2147483647\n",
            "   OMP_MAX_TASK_PRIORITY=0\n",
            "   OMP_NESTED=false\n",
            "   OMP_NUM_THREADS='1'\n",
            "   OMP_PLACES: value is not defined\n",
            "   OMP_PROC_BIND='intel'\n",
            "   OMP_SCHEDULE='static'\n",
            "   OMP_STACKSIZE=8M\n",
            "   OMP_TARGET_OFFLOAD=DEFAULT\n",
            "   OMP_THREAD_LIMIT=2147483647\n",
            "   OMP_TOOL=enabled\n",
            "   OMP_TOOL_LIBRARIES: value is not defined\n",
            "   OMP_WAIT_POLICY=PASSIVE\n",
            "   KMP_AFFINITY='noverbose,warnings,respect,granularity=fine,compact,1,0'\n",
            "\n"
          ]
        }
      ]
    },
    {
      "cell_type": "markdown",
      "metadata": {
        "id": "9VyfhD6HVQpm"
      },
      "source": [
        "This is the only place where you need to specify local or distributed mode. View [Orca Context](https://bigdl.readthedocs.io/en/latest/doc/Orca/Overview/orca-context.html) for more details.\n",
        "\n",
        "**Note**: You should export HADOOP_CONF_DIR=/path/to/hadoop/conf/dir when you run on Hadoop YARN cluster."
      ]
    },
    {
      "cell_type": "markdown",
      "metadata": {
        "id": "CiTnHATGYn_f"
      },
      "source": [
        "### **Step 3: Define Dataset**\n"
      ]
    },
    {
      "cell_type": "code",
      "source": [
        "!wget http://files.grouplens.org/datasets/movielens/ml-1m.zip && unzip ml-1m.zip\n",
        "# ! cat ./ml-1m/README"
      ],
      "metadata": {
        "colab": {
          "base_uri": "https://localhost:8080/"
        },
        "id": "Tvf_Ro1Dey1r",
        "outputId": "86f072b6-a359-4670-df30-1bd094c45cd9"
      },
      "execution_count": 10,
      "outputs": [
        {
          "output_type": "stream",
          "name": "stdout",
          "text": [
            "--2022-03-03 06:21:04--  http://files.grouplens.org/datasets/movielens/ml-1m.zip\n",
            "Resolving files.grouplens.org (files.grouplens.org)... 128.101.65.152\n",
            "Connecting to files.grouplens.org (files.grouplens.org)|128.101.65.152|:80... connected.\n",
            "HTTP request sent, awaiting response... 200 OK\n",
            "Length: 5917549 (5.6M) [application/zip]\n",
            "Saving to: ‘ml-1m.zip’\n",
            "\n",
            "ml-1m.zip           100%[===================>]   5.64M  6.77MB/s    in 0.8s    \n",
            "\n",
            "2022-03-03 06:21:05 (6.77 MB/s) - ‘ml-1m.zip’ saved [5917549/5917549]\n",
            "\n",
            "Archive:  ml-1m.zip\n",
            "   creating: ml-1m/\n",
            "  inflating: ml-1m/movies.dat        \n",
            "  inflating: ml-1m/ratings.dat       \n",
            "  inflating: ml-1m/README            \n",
            "  inflating: ml-1m/users.dat         \n"
          ]
        }
      ]
    },
    {
      "cell_type": "code",
      "source": [
        "def prepare_ml_sdfs(spark, data_path = './ml-1m/', verbose=False):\n",
        "    data_path = os.path.join(data_path, \"{}.dat\")\n",
        "    dataset = { \n",
        "        \"ratings\": ['userid', 'movieid',  'rating', 'timestamp'],\n",
        "        \"users\": [\"userid\", \"gender\", \"age\", \"occupation\", \"zip-code\"],\n",
        "        \"movies\": [\"movieid\", \"title\", \"genres\"]\n",
        "    }\n",
        "    # UserID::MovieID::Rating::Timestamp\n",
        "    # UserID::Gender::Age::Occupation::Zip-code\n",
        "    # MovieID::Title::Genres\n",
        "    sdfs = dict()\n",
        "    for data, cols in dataset.items():\n",
        "        sdf_tmp = spark.read.csv(data_path.format(data), sep =':', header = False)\n",
        "        tmp_cols = sdf_tmp.columns\n",
        "        sdfs[data] = sdf_tmp.select(tmp_cols[::2]).toDF(*cols)\n",
        "    return sdfs\n",
        "\n",
        "spark = OrcaContext.get_spark_session()\n",
        "sdfs = prepare_ml_sdfs(spark)"
      ],
      "metadata": {
        "id": "u019NOk6e7qd",
        "outputId": "164e9ca9-bd76-4c4e-8a91-ab3f318be037",
        "colab": {
          "base_uri": "https://localhost:8080/"
        }
      },
      "execution_count": 11,
      "outputs": [
        {
          "output_type": "stream",
          "name": "stderr",
          "text": [
            "\r[Stage 0:>                                                          (0 + 1) / 1]\r                                                                                \r"
          ]
        }
      ]
    },
    {
      "cell_type": "code",
      "source": [
        "def join_sdfs(sdfs, users=False):\n",
        "    sdf_joined = sdfs[\"ratings\"].join(sdfs[\"movies\"], \"movieid\").dropna()\n",
        "    if users:\n",
        "        sdf_joined = sdf_joined.join(sdfs[\"users\"], \"userid\").dropna()\n",
        "    return sdf_joined\n",
        "\n",
        "sdf_joined = join_sdfs(sdfs)\n",
        "sdf_joined.show(4, False)"
      ],
      "metadata": {
        "colab": {
          "base_uri": "https://localhost:8080/"
        },
        "id": "qjYDJSdFG_4l",
        "outputId": "eec65ca4-fa7e-41c7-80d3-0e633a764587"
      },
      "execution_count": 12,
      "outputs": [
        {
          "output_type": "stream",
          "name": "stdout",
          "text": [
            "+-------+------+------+---------+--------------------------------------+----------------------------+\n",
            "|movieid|userid|rating|timestamp|title                                 |genres                      |\n",
            "+-------+------+------+---------+--------------------------------------+----------------------------+\n",
            "|1193   |1     |5     |978300760|One Flew Over the Cuckoo's Nest (1975)|Drama                       |\n",
            "|661    |1     |3     |978302109|James and the Giant Peach (1996)      |Animation|Children's|Musical|\n",
            "|914    |1     |3     |978301968|My Fair Lady (1964)                   |Musical|Romance             |\n",
            "|3408   |1     |4     |978300275|Erin Brockovich (2000)                |Drama                       |\n",
            "+-------+------+------+---------+--------------------------------------+----------------------------+\n",
            "only showing top 4 rows\n",
            "\n"
          ]
        }
      ]
    },
    {
      "cell_type": "code",
      "source": [
        "from pyspark.sql import functions as F\n",
        "from pyspark.sql.types import StructType, StructField, StringType, IntegerType, FloatType, ArrayType\n",
        "\n",
        "# cast\n",
        "sdf_all = sdf_joined.withColumn(\"rating\", F.col(\"rating\").cast(\"int\"))"
      ],
      "metadata": {
        "id": "hz5pPKt4aWPz"
      },
      "execution_count": 13,
      "outputs": []
    },
    {
      "cell_type": "code",
      "source": [
        " sdf_train, sdf_test = sdf_all.randomSplit([0.85, 0.15], seed=1)"
      ],
      "metadata": {
        "id": "jIo-mkoy6DuL"
      },
      "execution_count": 14,
      "outputs": []
    },
    {
      "cell_type": "code",
      "source": [
        "def userid_agg(sdf):\n",
        "    cols = [\"title\", \"rating\"]\n",
        "    f_cols = [F.col(col) for col in cols]\n",
        "    sdf_agg = (\n",
        "        sdf.groupBy(\"userid\").agg(\n",
        "            F.collect_list(F.struct(*cols)).alias(\"agg\")\n",
        "        )\n",
        "    )\n",
        "    def split_cols(data_list):\n",
        "        ret = [[] for col in cols]\n",
        "        for data in data_list:\n",
        "            for n, d in enumerate(data):\n",
        "                ret[n].append(d)\n",
        "        return ret\n",
        "\n",
        "    def split_cols_map(partition):\n",
        "        for row in partition:\n",
        "            splits = split_cols(row[\"agg\"])\n",
        "            yield [row[\"userid\"], *splits]\n",
        "    cols_out = [ col + \"s\" for col in cols]\n",
        "\n",
        "    return sdf_agg.rdd.mapPartitions(split_cols_map).toDF([\"userid\", *cols_out])\n",
        "\n",
        "sdf_list = userid_agg(sdf_train)\n",
        "sdf_list.printSchema()"
      ],
      "metadata": {
        "colab": {
          "base_uri": "https://localhost:8080/"
        },
        "id": "FP4byS1pIAyb",
        "outputId": "01509aef-de60-4ee3-a89d-1786cbbabcd3"
      },
      "execution_count": 15,
      "outputs": [
        {
          "output_type": "stream",
          "name": "stderr",
          "text": [
            "\r[Stage 6:>                                                          (0 + 1) / 1]"
          ]
        },
        {
          "output_type": "stream",
          "name": "stdout",
          "text": [
            "root\n",
            " |-- userid: string (nullable = true)\n",
            " |-- titles: array (nullable = true)\n",
            " |    |-- element: string (containsNull = true)\n",
            " |-- ratings: array (nullable = true)\n",
            " |    |-- element: long (containsNull = true)\n",
            "\n"
          ]
        },
        {
          "output_type": "stream",
          "name": "stderr",
          "text": [
            "\r                                                                                \r"
          ]
        }
      ]
    },
    {
      "cell_type": "code",
      "source": [
        "sdf_list.show(3, False)"
      ],
      "metadata": {
        "colab": {
          "base_uri": "https://localhost:8080/"
        },
        "id": "eyMgZs_YLXhK",
        "outputId": "5da8e0e6-679f-4abe-df6e-3e33a4e9e2f6"
      },
      "execution_count": 16,
      "outputs": [
        {
          "output_type": "stream",
          "name": "stdout",
          "text": [
            "+------+------------------------------------------------------------------------------------------------------------------------------------------------------------------------------------------------------------------------------------------------------------------------------------------------------------------------------------------------------------------------------------------------------------------------------------------------------------------------------------------------------------------------------------------------------------------------------------------------------------------------------------------------------------------------------------------------------------------------------------------------------------------------------------------------------------------------------------------------------------------------------------------------------------------------------------------------------------------------------------------------------------------------------------------------------------------------------------------------------------------------------------------------------------------------------------------------------------------------------------------------------------------------------------------------------------------------------------------------------------------------------------------------------------------------------------------------------------------------------------------------------------------------------------------------------------------------------------------------------------------------------------------------------------------------------------------------------------------------------------------------------------------------------------------------------------------------------------------------------------------------------------------------------------------------------------------------------------------------------------------------------------------------------------------------------------------------------------------------------------------------------------------------------+---------------------------------------------------------------------------------------------------------------------------------------------------------------------------------------------------------------------------------------------------------------------------------+\n",
            "|userid|titles                                                                                                                                                                                                                                                                                                                                                                                                                                                                                                                                                                                                                                                                                                                                                                                                                                                                                                                                                                                                                                                                                                                                                                                                                                                                                                                                                                                                                                                                                                                                                                                                                                                                                                                                                                                                                                                                                                                                                                                                                                                                                                                                                |ratings                                                                                                                                                                                                                                                                          |\n",
            "+------+------------------------------------------------------------------------------------------------------------------------------------------------------------------------------------------------------------------------------------------------------------------------------------------------------------------------------------------------------------------------------------------------------------------------------------------------------------------------------------------------------------------------------------------------------------------------------------------------------------------------------------------------------------------------------------------------------------------------------------------------------------------------------------------------------------------------------------------------------------------------------------------------------------------------------------------------------------------------------------------------------------------------------------------------------------------------------------------------------------------------------------------------------------------------------------------------------------------------------------------------------------------------------------------------------------------------------------------------------------------------------------------------------------------------------------------------------------------------------------------------------------------------------------------------------------------------------------------------------------------------------------------------------------------------------------------------------------------------------------------------------------------------------------------------------------------------------------------------------------------------------------------------------------------------------------------------------------------------------------------------------------------------------------------------------------------------------------------------------------------------------------------------------+---------------------------------------------------------------------------------------------------------------------------------------------------------------------------------------------------------------------------------------------------------------------------------+\n",
            "|1090  |[Doors, The (1991), Braveheart (1995), One Flew Over the Cuckoo's Nest (1975), GoodFellas (1990), Dead Poets Society (1989), Graduate, The (1967), Bridge on the River Kwai, The (1957), Ben-Hur (1959), Gandhi (1982), Apollo 13 (1995), My Best Friend's Wedding (1997), Face/Off (1997), Men in Black (1997), Contact (1997), Devil's Advocate, The (1997), Boogie Nights (1997), Good Will Hunting (1997), Kundun (1997), Six Days Seven Nights (1998), Best Years of Our Lives, The (1946), Saving Private Ryan (1998), Few Good Men, A (1992), Rush Hour (1998), Life Is Beautiful (La Vita � bella) (1997), Shakespeare in Love (1998), Faculty, The (1998), Civil Action, A (1998), Deep End of the Ocean, The (1999), Entrapment (1999), General's Daughter, The (1999), Blair Witch Project, The (1999), Sixth Sense, The (1999), Thomas Crown Affair, The (1999), Bowfinger (1999), Being John Malkovich (1999), Grapes of Wrath, The (1940), Fatal Attraction (1987), Talented Mr. Ripley, The (1999), Shawshank Redemption, The (1994), Papillon (1973), Pacific Heights (1990), City Lights (1931), JFK (1991), Grumpy Old Men (1993), Dead Man Walking (1995), Firm, The (1993), Seven (Se7en) (1995), Jurassic Park (1993), Usual Suspects, The (1995), Silence of the Lambs, The (1991), Fargo (1996), Primal Fear (1996), Time to Kill, A (1996), Ransom (1996), North by Northwest (1959), Apartment, The (1960), Casablanca (1942), Citizen Kane (1941), It's a Wonderful Life (1946), Mr. Smith Goes to Washington (1939)]                                                                                                                                                                                                                                                                                                                                                                                                                                                                                                                                                                                                       |[3, 3, 4, 3, 4, 4, 3, 4, 4, 3, 4, 4, 4, 4, 4, 3, 4, 4, 1, 3, 4, 4, 4, 5, 2, 2, 3, 3, 3, 1, 2, 5, 4, 3, 3, 3, 3, 3, 5, 3, 2, 3, 3, 3, 3, 3, 4, 5, 5, 3, 4, 3, 3, 2, 3, 3, 4, 3, 3, 4]                                                                                             |\n",
            "|1159  |[20,000 Leagues Under the Sea (1954), Lawnmower Man, The (1992), E.T. the Extra-Terrestrial (1982), Abyss, The (1989), Aliens (1986), Clockwork Orange, A (1971), Terminator, The (1984), Back to the Future (1985), Alien� (1992), American Werewolf in London, An (1981), Batman Returns (1992), Mars Attacks! (1996), Batman Forever (1995), Batman & Robin (1997), Face/Off (1997), Men in Black (1997), Event Horizon (1997), Spawn (1997), Congo (1995), Mimic (1997), Desperado (1995), Gattaca (1997), Starship Troopers (1997), Judge Dredd (1995), Dark City (1998), Sphere (1998), Lost in Space (1998), Species II (1998), Deep Impact (1998), Godzilla (1998), Armageddon (1998), Pi (1998), Plan 9 from Outer Space (1958), Rain Man (1988), Metropolis (1926), Back to the Future Part II (1989), Back to the Future Part III (1990), Dune (1984), Flight of the Navigator (1986), Honey, I Shrunk the Kids (1989), Return from Witch Mountain (1978), Tron (1982), Thing, The (1982), 2010 (1984), Soldier (1998), American History X (1998), Jack Frost (1998), Powder (1995), Fly, The (1986), Fly II, The (1989), Wing Commander (1999), Matrix, The (1999), Superman (1978), Superman II (1980), Superman III (1983), Thirteenth Floor, The (1999), Arachnophobia (1990), Wild Wild West (1999), American Pie (1999), American Werewolf in Paris, An (1997), Universal Soldier (1992), Astronaut's Wife, The (1999), American Beauty (1999), City of Lost Children, The (1995), Total Recall (1990), Time Bandits (1981), Robocop (1987), Robocop 2 (1990), Spaceballs (1987), Bicentennial Man (1999), Stargate (1994), Twelve Monkeys (1995), Mission to Mars (2000), Close Encounters of the Third Kind (1977), Gladiator (2000), Mad Max (1979), Mad Max 2 (a.k.a. The Road Warrior) (1981), Mad Max Beyond Thunderdome (1985), X-Men (2000), Cell, The (2000), Jurassic Park (1993), No Escape (1994), Blade Runner (1982), Nightmare Before Christmas, The (1993), Ghost (1990), Barb Wire (1996), Arrival, The (1996), Independence Day (ID4) (1996), Nutty Professor, The (1996), Escape from L.A. (1996), Tin Cup (1996)]|[3, 2, 4, 3, 4, 4, 3, 3, 3, 3, 3, 3, 2, 1, 2, 4, 3, 3, 1, 2, 3, 2, 1, 2, 3, 1, 2, 1, 3, 1, 1, 2, 4, 3, 3, 2, 3, 3, 2, 3, 1, 3, 3, 2, 2, 3, 1, 1, 3, 1, 1, 5, 3, 2, 1, 3, 3, 1, 2, 1, 2, 2, 4, 3, 3, 3, 3, 2, 3, 1, 3, 4, 1, 3, 5, 3, 4, 3, 3, 3, 3, 2, 4, 4, 1, 1, 2, 2, 3, 3, 1]|\n",
            "|1436  |[Ben-Hur (1959), L.A. Confidential (1997), Doctor Dolittle (1998), Back to the Future Part II (1989), Poseidon Adventure, The (1972), Saving Private Ryan (1998), Gods and Monsters (1998), Desperately Seeking Susan (1985), Shakespeare in Love (1998), Civil Action, A (1998), Playing by Heart (1998), Simply Irresistible (1999), Cruel Intentions (1999), 10 Things I Hate About You (1999), Pushing Tin (1999), Midsummer Night's Dream, A (1999), Red Violin, The (Le Violon rouge) (1998), Ideal Husband, An (1999), Eyes Wide Shut (1999), Ghostbusters (1984), Mosquito Coast, The (1986), Sixth Sense, The (1999), Thomas Crown Affair, The (1999), Teaching Mrs. Tingle (1999), Astronaut's Wife, The (1999), American Beauty (1999), Double Jeopardy (1999), Random Hearts (1999), Boys Don't Cry (1999), Story of Us, The (1999), Being John Malkovich (1999), Bone Collector, The (1999), Anywhere But Here (1999), Secret of Roan Inish, The (1994), Stuart Little (1999), Magnolia (1999), Galaxy Quest (1999), Snow Falling on Cedars (1999), Beach, The (2000), Boiler Room (2000), Erin Brockovich (2000), Diner (1982), Gladiator (2000), Patriot, The (2000), What Lies Beneath (2000), Best in Show (2000), Contender, The (2000), Restoration (1995), Pallbearer, The (1996), Casablanca (1942)]                                                                                                                                                                                                                                                                                                                                                                                                                                                                                                                                                                                                                                                                                                                                                                                                                             |[4, 5, 4, 3, 4, 5, 5, 3, 5, 4, 5, 4, 4, 4, 4, 4, 4, 5, 3, 4, 2, 5, 3, 4, 3, 4, 4, 3, 5, 2, 5, 4, 4, 5, 5, 3, 3, 3, 4, 3, 4, 5, 3, 4, 3, 5, 4, 4, 1, 4]                                                                                                                           |\n",
            "+------+------------------------------------------------------------------------------------------------------------------------------------------------------------------------------------------------------------------------------------------------------------------------------------------------------------------------------------------------------------------------------------------------------------------------------------------------------------------------------------------------------------------------------------------------------------------------------------------------------------------------------------------------------------------------------------------------------------------------------------------------------------------------------------------------------------------------------------------------------------------------------------------------------------------------------------------------------------------------------------------------------------------------------------------------------------------------------------------------------------------------------------------------------------------------------------------------------------------------------------------------------------------------------------------------------------------------------------------------------------------------------------------------------------------------------------------------------------------------------------------------------------------------------------------------------------------------------------------------------------------------------------------------------------------------------------------------------------------------------------------------------------------------------------------------------------------------------------------------------------------------------------------------------------------------------------------------------------------------------------------------------------------------------------------------------------------------------------------------------------------------------------------------------+---------------------------------------------------------------------------------------------------------------------------------------------------------------------------------------------------------------------------------------------------------------------------------+\n",
            "only showing top 3 rows\n",
            "\n"
          ]
        }
      ]
    },
    {
      "cell_type": "code",
      "source": [
        "unique_movie_titles = [x[\"title\"] for x in sdfs[\"movies\"].select(\"title\").distinct().collect()]\n",
        "unique_userids = [x[\"userid\"] for x in sdfs[\"users\"].select(\"userid\").distinct().collect()]\n",
        "\n",
        "print(len(unique_movie_titles), len(unique_userids))\n",
        "print(unique_movie_titles[0:2])\n",
        "print(unique_userids[0:2])"
      ],
      "metadata": {
        "id": "IPpJfIQxRBGm",
        "outputId": "28441077-74fd-495d-d502-8ec4c87e6e34",
        "colab": {
          "base_uri": "https://localhost:8080/"
        }
      },
      "execution_count": 17,
      "outputs": [
        {
          "output_type": "stream",
          "name": "stderr",
          "text": [
            "[Stage 13:================================================>     (178 + 1) / 200]"
          ]
        },
        {
          "output_type": "stream",
          "name": "stdout",
          "text": [
            "3865 6040\n",
            "['Fair Game (1995)', 'If Lucy Fell (1996)']\n",
            "['296', '467']\n"
          ]
        },
        {
          "output_type": "stream",
          "name": "stderr",
          "text": [
            "\r                                                                                \r"
          ]
        }
      ]
    },
    {
      "cell_type": "code",
      "source": [
        "unique_movie_titles[0:2]"
      ],
      "metadata": {
        "id": "80yznk7yYT6f",
        "outputId": "bf5b41ec-7789-402c-9a0c-40570c3beb60",
        "colab": {
          "base_uri": "https://localhost:8080/"
        }
      },
      "execution_count": 18,
      "outputs": [
        {
          "output_type": "execute_result",
          "data": {
            "text/plain": [
              "['Fair Game (1995)', 'If Lucy Fell (1996)']"
            ]
          },
          "metadata": {},
          "execution_count": 18
        }
      ]
    },
    {
      "cell_type": "markdown",
      "source": [
        "### **3. Model**"
      ],
      "metadata": {
        "id": "ynk5076umLdB"
      }
    },
    {
      "cell_type": "code",
      "source": [
        "import tensorflow as tf\n",
        "import tensorflow_recommenders as tfrs\n",
        "import tensorflow_ranking as tfr\n",
        "\n",
        "def repeat_and_ragged_like_target(not_ragged_src, ragged_target, ragged_target_axis):\n",
        "    # ragged lengths\n",
        "    rl = ragged_target.row_lengths(axis=ragged_target_axis)\n",
        "    # max length\n",
        "    max_rl = tf.math.reduce_max(rl)\n",
        "    not_ragged_src_repeated = tf.repeat(\n",
        "        tf.expand_dims(not_ragged_src, axis=ragged_target_axis),\n",
        "        [max_rl],\n",
        "        axis=ragged_target_axis\n",
        "    )\n",
        "    # masking with ragged lengths\n",
        "    msk = tf.sequence_mask(rl)\n",
        "    # make ragged tensor like the target\n",
        "    ragged_src = tf.ragged.boolean_mask(not_ragged_src_repeated, msk)\n",
        "\n",
        "    return ragged_src\n",
        "\n",
        "\n",
        "class RaggedRankingModel(tfrs.Model):\n",
        "\n",
        "    def __init__(self, unique_userids, unique_movie_titles, loss, embedding_dimension=32, ragged_input=False):\n",
        "        super().__init__()\n",
        "        self.ragged_input = ragged_input\n",
        "        self._loss = loss\n",
        "\n",
        "        # Compute embeddings for users.\n",
        "        self.user_embeddings = tf.keras.Sequential([\n",
        "            tf.keras.Input(shape=(), dtype=tf.string),\n",
        "            tf.keras.layers.StringLookup(vocabulary=unique_userids),\n",
        "            tf.keras.layers.Embedding(len(unique_userids) + 2, embedding_dimension)\n",
        "        ], name=\"user_emb\")\n",
        "\n",
        "        # Compute embeddings for movies.\n",
        "        self.movie_embeddings = tf.keras.Sequential([\n",
        "            tf.keras.Input(shape=(None,), dtype=tf.string, ragged=True),\n",
        "            tf.keras.layers.StringLookup(vocabulary=unique_movie_titles),\n",
        "            tf.keras.layers.Embedding(len(unique_movie_titles) + 2, embedding_dimension)\n",
        "        ], name=\"movie_emb\")\n",
        "\n",
        "        # Compute predictions.\n",
        "        self.score_model = tf.keras.Sequential([\n",
        "            tf.keras.layers.Dense(256, activation=\"relu\"),\n",
        "            tf.keras.layers.Dense(64, activation=\"relu\"),\n",
        "            tf.keras.layers.Dense(1)\n",
        "        ], name=\"MLP\")\n",
        "\n",
        "        self.task = tfrs.tasks.Ranking(\n",
        "            loss=self._loss,\n",
        "            metrics=[\n",
        "               tfr.keras.metrics.NDCGMetric(name=\"ndcg_metric\", ragged=True),\n",
        "               tf.keras.metrics.RootMeanSquaredError()\n",
        "            ]\n",
        "        )\n",
        "\n",
        "    def call(self, features):\n",
        "\n",
        "        userid = features[0]\n",
        "        titles = features[1]\n",
        "    \n",
        "        user_emb = self.user_embeddings(userid)\n",
        "        if not self.ragged_input:\n",
        "            titles = tf.ragged.constant(titles)\n",
        "        movie_emb = self.movie_embeddings(titles)\n",
        "\n",
        "        user_emb_repeated = repeat_and_ragged_like_target(\n",
        "            user_emb,\n",
        "            movie_emb,\n",
        "            ragged_target_axis=-2\n",
        "        )\n",
        "\n",
        "        concatenated_emb = tf.concat(\n",
        "            [user_emb_repeated, movie_emb], axis=-1\n",
        "        )\n",
        "\n",
        "        scores = self.score_model(concatenated_emb)\n",
        "\n",
        "        return tf.squeeze(scores, axis=-1)\n",
        "\n",
        "    \n",
        "    def compute_loss(self, inputs, training=False):\n",
        "\n",
        "        features, labels = inputs\n",
        "        if not self.ragged_input:\n",
        "            labels = tf.ragged.constant(labels, dtype=tf.float32)\n",
        "        \n",
        "        scores = self(features)\n",
        "\n",
        "        return self.task(\n",
        "            labels=labels,\n",
        "            predictions=scores\n",
        "        )\n",
        "\n",
        "model = RaggedRankingModel(\n",
        "    unique_userids,\n",
        "    unique_movie_titles,\n",
        "    tfr.keras.losses.MeanSquaredLoss(tf.losses.Reduction.SUM, ragged=True),\n",
        "    ragged_input=True\n",
        ")"
      ],
      "metadata": {
        "id": "XWjjpiexMltC"
      },
      "execution_count": 20,
      "outputs": []
    },
    {
      "cell_type": "code",
      "source": [
        "pdf = sdf_list.limit(10).toPandas()\n",
        "pdf"
      ],
      "metadata": {
        "id": "w8K8qabUYv5i",
        "outputId": "ee7a93e7-cda0-4fd2-da00-04f272775b06",
        "colab": {
          "base_uri": "https://localhost:8080/",
          "height": 363
        }
      },
      "execution_count": 21,
      "outputs": [
        {
          "output_type": "execute_result",
          "data": {
            "text/html": [
              "\n",
              "  <div id=\"df-cebc6696-1892-4fe6-9aae-3966f162a72d\">\n",
              "    <div class=\"colab-df-container\">\n",
              "      <div>\n",
              "<style scoped>\n",
              "    .dataframe tbody tr th:only-of-type {\n",
              "        vertical-align: middle;\n",
              "    }\n",
              "\n",
              "    .dataframe tbody tr th {\n",
              "        vertical-align: top;\n",
              "    }\n",
              "\n",
              "    .dataframe thead th {\n",
              "        text-align: right;\n",
              "    }\n",
              "</style>\n",
              "<table border=\"1\" class=\"dataframe\">\n",
              "  <thead>\n",
              "    <tr style=\"text-align: right;\">\n",
              "      <th></th>\n",
              "      <th>userid</th>\n",
              "      <th>titles</th>\n",
              "      <th>ratings</th>\n",
              "    </tr>\n",
              "  </thead>\n",
              "  <tbody>\n",
              "    <tr>\n",
              "      <th>0</th>\n",
              "      <td>1090</td>\n",
              "      <td>[Doors, The (1991), Braveheart (1995), One Fle...</td>\n",
              "      <td>[3, 3, 4, 3, 4, 4, 3, 4, 4, 3, 4, 4, 4, 4, 4, ...</td>\n",
              "    </tr>\n",
              "    <tr>\n",
              "      <th>1</th>\n",
              "      <td>1159</td>\n",
              "      <td>[20,000 Leagues Under the Sea (1954), Lawnmowe...</td>\n",
              "      <td>[3, 2, 4, 3, 4, 4, 3, 3, 3, 3, 3, 3, 2, 1, 2, ...</td>\n",
              "    </tr>\n",
              "    <tr>\n",
              "      <th>2</th>\n",
              "      <td>1436</td>\n",
              "      <td>[Ben-Hur (1959), L.A. Confidential (1997), Doc...</td>\n",
              "      <td>[4, 5, 4, 3, 4, 5, 5, 3, 5, 4, 5, 4, 4, 4, 4, ...</td>\n",
              "    </tr>\n",
              "    <tr>\n",
              "      <th>3</th>\n",
              "      <td>1512</td>\n",
              "      <td>[Braveheart (1995), Bob Roberts (1992), Boogie...</td>\n",
              "      <td>[5, 4, 4, 3, 2, 5, 4, 4, 2, 3, 1, 5, 2, 3, 3, ...</td>\n",
              "    </tr>\n",
              "    <tr>\n",
              "      <th>4</th>\n",
              "      <td>1572</td>\n",
              "      <td>[Braveheart (1995), Benny &amp; Joon (1993), My Ow...</td>\n",
              "      <td>[4, 3, 2, 2, 2, 2, 3, 3, 3, 4, 4, 2, 5, 2, 3, ...</td>\n",
              "    </tr>\n",
              "    <tr>\n",
              "      <th>5</th>\n",
              "      <td>2069</td>\n",
              "      <td>[Murder, My Sweet (1944), E.T. the Extra-Terre...</td>\n",
              "      <td>[4, 2, 4, 3, 4, 5, 4, 4, 4, 5, 3, 5, 5, 3, 4, ...</td>\n",
              "    </tr>\n",
              "    <tr>\n",
              "      <th>6</th>\n",
              "      <td>2088</td>\n",
              "      <td>[GoldenEye (1995), Swiss Family Robinson (1960...</td>\n",
              "      <td>[5, 3, 4, 4, 2, 5, 3, 4, 5, 5, 5, 4, 5, 3, 5, ...</td>\n",
              "    </tr>\n",
              "    <tr>\n",
              "      <th>7</th>\n",
              "      <td>2136</td>\n",
              "      <td>[Toy Story (1995), Angels in the Outfield (199...</td>\n",
              "      <td>[4, 4, 2, 5, 4, 3, 3, 4, 4, 2, 5, 3, 4, 4, 5, ...</td>\n",
              "    </tr>\n",
              "    <tr>\n",
              "      <th>8</th>\n",
              "      <td>2162</td>\n",
              "      <td>[Cool Runnings (1993), Cinderella (1950), Swor...</td>\n",
              "      <td>[4, 4, 2, 5, 5, 4, 3, 5, 2, 5, 3, 5, 1, 3, 5, ...</td>\n",
              "    </tr>\n",
              "    <tr>\n",
              "      <th>9</th>\n",
              "      <td>2294</td>\n",
              "      <td>[Fish Called Wanda, A (1988), E.T. the Extra-T...</td>\n",
              "      <td>[3, 4, 4, 5, 5, 5, 4, 3, 4, 4, 3, 5, 4, 4, 4, ...</td>\n",
              "    </tr>\n",
              "  </tbody>\n",
              "</table>\n",
              "</div>\n",
              "      <button class=\"colab-df-convert\" onclick=\"convertToInteractive('df-cebc6696-1892-4fe6-9aae-3966f162a72d')\"\n",
              "              title=\"Convert this dataframe to an interactive table.\"\n",
              "              style=\"display:none;\">\n",
              "        \n",
              "  <svg xmlns=\"http://www.w3.org/2000/svg\" height=\"24px\"viewBox=\"0 0 24 24\"\n",
              "       width=\"24px\">\n",
              "    <path d=\"M0 0h24v24H0V0z\" fill=\"none\"/>\n",
              "    <path d=\"M18.56 5.44l.94 2.06.94-2.06 2.06-.94-2.06-.94-.94-2.06-.94 2.06-2.06.94zm-11 1L8.5 8.5l.94-2.06 2.06-.94-2.06-.94L8.5 2.5l-.94 2.06-2.06.94zm10 10l.94 2.06.94-2.06 2.06-.94-2.06-.94-.94-2.06-.94 2.06-2.06.94z\"/><path d=\"M17.41 7.96l-1.37-1.37c-.4-.4-.92-.59-1.43-.59-.52 0-1.04.2-1.43.59L10.3 9.45l-7.72 7.72c-.78.78-.78 2.05 0 2.83L4 21.41c.39.39.9.59 1.41.59.51 0 1.02-.2 1.41-.59l7.78-7.78 2.81-2.81c.8-.78.8-2.07 0-2.86zM5.41 20L4 18.59l7.72-7.72 1.47 1.35L5.41 20z\"/>\n",
              "  </svg>\n",
              "      </button>\n",
              "      \n",
              "  <style>\n",
              "    .colab-df-container {\n",
              "      display:flex;\n",
              "      flex-wrap:wrap;\n",
              "      gap: 12px;\n",
              "    }\n",
              "\n",
              "    .colab-df-convert {\n",
              "      background-color: #E8F0FE;\n",
              "      border: none;\n",
              "      border-radius: 50%;\n",
              "      cursor: pointer;\n",
              "      display: none;\n",
              "      fill: #1967D2;\n",
              "      height: 32px;\n",
              "      padding: 0 0 0 0;\n",
              "      width: 32px;\n",
              "    }\n",
              "\n",
              "    .colab-df-convert:hover {\n",
              "      background-color: #E2EBFA;\n",
              "      box-shadow: 0px 1px 2px rgba(60, 64, 67, 0.3), 0px 1px 3px 1px rgba(60, 64, 67, 0.15);\n",
              "      fill: #174EA6;\n",
              "    }\n",
              "\n",
              "    [theme=dark] .colab-df-convert {\n",
              "      background-color: #3B4455;\n",
              "      fill: #D2E3FC;\n",
              "    }\n",
              "\n",
              "    [theme=dark] .colab-df-convert:hover {\n",
              "      background-color: #434B5C;\n",
              "      box-shadow: 0px 1px 3px 1px rgba(0, 0, 0, 0.15);\n",
              "      filter: drop-shadow(0px 1px 2px rgba(0, 0, 0, 0.3));\n",
              "      fill: #FFFFFF;\n",
              "    }\n",
              "  </style>\n",
              "\n",
              "      <script>\n",
              "        const buttonEl =\n",
              "          document.querySelector('#df-cebc6696-1892-4fe6-9aae-3966f162a72d button.colab-df-convert');\n",
              "        buttonEl.style.display =\n",
              "          google.colab.kernel.accessAllowed ? 'block' : 'none';\n",
              "\n",
              "        async function convertToInteractive(key) {\n",
              "          const element = document.querySelector('#df-cebc6696-1892-4fe6-9aae-3966f162a72d');\n",
              "          const dataTable =\n",
              "            await google.colab.kernel.invokeFunction('convertToInteractive',\n",
              "                                                     [key], {});\n",
              "          if (!dataTable) return;\n",
              "\n",
              "          const docLinkHtml = 'Like what you see? Visit the ' +\n",
              "            '<a target=\"_blank\" href=https://colab.research.google.com/notebooks/data_table.ipynb>data table notebook</a>'\n",
              "            + ' to learn more about interactive tables.';\n",
              "          element.innerHTML = '';\n",
              "          dataTable['output_type'] = 'display_data';\n",
              "          await google.colab.output.renderOutput(dataTable, element);\n",
              "          const docLink = document.createElement('div');\n",
              "          docLink.innerHTML = docLinkHtml;\n",
              "          element.appendChild(docLink);\n",
              "        }\n",
              "      </script>\n",
              "    </div>\n",
              "  </div>\n",
              "  "
            ],
            "text/plain": [
              "  userid  ...                                            ratings\n",
              "0   1090  ...  [3, 3, 4, 3, 4, 4, 3, 4, 4, 3, 4, 4, 4, 4, 4, ...\n",
              "1   1159  ...  [3, 2, 4, 3, 4, 4, 3, 3, 3, 3, 3, 3, 2, 1, 2, ...\n",
              "2   1436  ...  [4, 5, 4, 3, 4, 5, 5, 3, 5, 4, 5, 4, 4, 4, 4, ...\n",
              "3   1512  ...  [5, 4, 4, 3, 2, 5, 4, 4, 2, 3, 1, 5, 2, 3, 3, ...\n",
              "4   1572  ...  [4, 3, 2, 2, 2, 2, 3, 3, 3, 4, 4, 2, 5, 2, 3, ...\n",
              "5   2069  ...  [4, 2, 4, 3, 4, 5, 4, 4, 4, 5, 3, 5, 5, 3, 4, ...\n",
              "6   2088  ...  [5, 3, 4, 4, 2, 5, 3, 4, 5, 5, 5, 4, 5, 3, 5, ...\n",
              "7   2136  ...  [4, 4, 2, 5, 4, 3, 3, 4, 4, 2, 5, 3, 4, 4, 5, ...\n",
              "8   2162  ...  [4, 4, 2, 5, 5, 4, 3, 5, 2, 5, 3, 5, 1, 3, 5, ...\n",
              "9   2294  ...  [3, 4, 4, 5, 5, 5, 4, 3, 4, 4, 3, 5, 4, 4, 4, ...\n",
              "\n",
              "[10 rows x 3 columns]"
            ]
          },
          "metadata": {},
          "execution_count": 21
        }
      ]
    },
    {
      "cell_type": "code",
      "source": [
        "def pdf2tf_ragged(pdf):\n",
        "    return (\n",
        "        (\n",
        "            tf.constant(pdf[\"userid\"].to_list()),\n",
        "            tf.ragged.constant(pdf[\"titles\"].to_list())\n",
        "        ),\n",
        "        tf.ragged.constant(pdf['ratings'].to_list(), dtype=tf.float32)\n",
        "    )\n",
        "\n",
        "features, labels = pdf2tf_ragged(pdf)"
      ],
      "metadata": {
        "id": "sbFJW-4InhHu"
      },
      "execution_count": 22,
      "outputs": []
    },
    {
      "cell_type": "code",
      "source": [
        "scores = model(features)\n",
        "scores.shape\n"
      ],
      "metadata": {
        "id": "sroAdipgZJcv",
        "outputId": "397af159-fe96-45e8-eef4-76834d8682cc",
        "colab": {
          "base_uri": "https://localhost:8080/"
        }
      },
      "execution_count": 23,
      "outputs": [
        {
          "output_type": "execute_result",
          "data": {
            "text/plain": [
              "TensorShape([10, None])"
            ]
          },
          "metadata": {},
          "execution_count": 23
        }
      ]
    },
    {
      "cell_type": "code",
      "source": [
        "loss_value = model.compute_loss((features, labels))\n",
        "loss_value \n"
      ],
      "metadata": {
        "id": "DGcoDMX7ZhhM",
        "outputId": "c4a0d5c8-0357-454d-a398-c5bb3b4e6489",
        "colab": {
          "base_uri": "https://localhost:8080/"
        }
      },
      "execution_count": 24,
      "outputs": [
        {
          "output_type": "execute_result",
          "data": {
            "text/plain": [
              "<tf.Tensor: shape=(), dtype=float32, numpy=14648.088>"
            ]
          },
          "metadata": {},
          "execution_count": 24
        }
      ]
    },
    {
      "cell_type": "code",
      "source": [
        "import numpy as np\n",
        "\n",
        "def padded2ragged(padded, padding):\n",
        "    mask = tf.not_equal(padded, padding)\n",
        "    ragged = tf.ragged.boolean_mask(padded, mask)\n",
        "    return ragged\n",
        "\n",
        "\n",
        "class PaddedToRaggedRankingModel(RaggedRankingModel):\n",
        "\n",
        "    MASK_TOKEN = \"<MSK>\"\n",
        "    MASK_RATING = -1\n",
        "\n",
        "    def __init__(self, unique_userids, unique_movie_titles, loss, embedding_dimension=32):\n",
        "        super().__init__(\n",
        "            unique_userids,\n",
        "            unique_movie_titles,\n",
        "            loss,\n",
        "            embedding_dimension,\n",
        "            ragged_input=True\n",
        "        )\n",
        "\n",
        "    def _pad2ragged_features(self, features):\n",
        "        users, titles = features\n",
        "        if not isinstance(titles, tf.RaggedTensor):\n",
        "            titles = padded2ragged(titles, self.MASK_TOKEN)\n",
        "            return (users, titles)\n",
        "        else:\n",
        "            return features\n",
        "\n",
        "    def call(self, features, padding=True):\n",
        "        features = self._pad2ragged_features(features)\n",
        "        scores = super().call(features)\n",
        "        if padding:\n",
        "            scores = scores.to_tensor(np.inf)\n",
        "        return scores\n",
        "\n",
        "    def compute_loss(self, inputs, training=False):\n",
        "        features, labels = inputs\n",
        "        labels = padded2ragged(labels, self.MASK_RATING)\n",
        "        labels = tf.cast(labels, dtype=tf.float32)\n",
        "\n",
        "        scores = self.call(features, padding=False)\n",
        "        return self.task(\n",
        "            labels=labels,\n",
        "            predictions=scores,\n",
        "        )\n",
        "\n",
        "pad_model = PaddedToRaggedRankingModel(\n",
        "    unique_userids,\n",
        "    unique_movie_titles,\n",
        "    tfr.keras.losses.MeanSquaredLoss(tf.losses.Reduction.SUM, ragged=True),\n",
        ")\n",
        "\n"
      ],
      "metadata": {
        "id": "dbKs6RGJpvgv"
      },
      "execution_count": 25,
      "outputs": []
    },
    {
      "cell_type": "markdown",
      "source": [
        "### Padding Dataframe\n",
        "Orca does not support variable length columns now, so we make all list/array columns the same lengths. "
      ],
      "metadata": {
        "id": "iYVbm_uLoWeT"
      }
    },
    {
      "cell_type": "code",
      "source": [
        "def list2pad_list(sdf_list):\n",
        "\n",
        "    len_udf = F.udf(lambda x: len(x), IntegerType())\n",
        "    sdf_list_len = sdf_list.withColumn(\"len\", len_udf(F.col(\"ratings\"))).sort(F.desc(\"len\"))\n",
        "\n",
        "    def pad_list(lst, length, size, padding=None):\n",
        "        pad_size = size - length\n",
        "        return [*lst, *[padding] * pad_size]\n",
        "    \n",
        "    max_len = sdf_list_len.agg({\"len\": \"max\"}).collect()[00][\"max(len)\"]\n",
        "\n",
        "    print(\"max_len\", max_len)\n",
        "\n",
        "    pad_str_udf = F.udf(lambda x, y: pad_list(x, y, max_len, PaddedToRaggedRankingModel.MASK_TOKEN), ArrayType(StringType(), True))\n",
        "    pad_int_udf = F.udf(lambda x, y: pad_list(x, y, max_len, PaddedToRaggedRankingModel.MASK_RATING), ArrayType(IntegerType(), True))\n",
        "\n",
        "    sdf_list_padded = (\n",
        "        sdf_list_len\n",
        "        .withColumn(\"titles\", pad_str_udf(F.col(\"titles\"), F.col(\"len\")))\n",
        "        .withColumn(\"ratings\", pad_int_udf(F.col(\"ratings\"), F.col(\"len\")))\n",
        "        .sort(F.desc(\"len\"))\n",
        "    )\n",
        "    return sdf_list_padded\n",
        "\n",
        "sdf_list_padded = list2pad_list(sdf_list)\n",
        "sdf_list_padded.printSchema()\n"
      ],
      "metadata": {
        "colab": {
          "base_uri": "https://localhost:8080/"
        },
        "id": "RK--YXLxsono",
        "outputId": "09bce823-6004-4ee4-fd9f-ec414600f4e5"
      },
      "execution_count": 26,
      "outputs": [
        {
          "output_type": "stream",
          "name": "stderr",
          "text": [
            "[Stage 20:===================================================>  (156 + 1) / 165]"
          ]
        },
        {
          "output_type": "stream",
          "name": "stdout",
          "text": [
            "max_len 1922\n",
            "root\n",
            " |-- userid: string (nullable = true)\n",
            " |-- titles: array (nullable = true)\n",
            " |    |-- element: string (containsNull = true)\n",
            " |-- ratings: array (nullable = true)\n",
            " |    |-- element: integer (containsNull = true)\n",
            " |-- len: integer (nullable = true)\n",
            "\n"
          ]
        },
        {
          "output_type": "stream",
          "name": "stderr",
          "text": [
            "\r                                                                                \r"
          ]
        }
      ]
    },
    {
      "cell_type": "code",
      "source": [
        "pdf = sdf_list_padded.limit(10).toPandas()\n",
        "pdf"
      ],
      "metadata": {
        "colab": {
          "base_uri": "https://localhost:8080/",
          "height": 363
        },
        "id": "rFMMUpYtsoyV",
        "outputId": "889e1286-d59f-4a01-e852-22ebdbfaf74b"
      },
      "execution_count": 27,
      "outputs": [
        {
          "output_type": "stream",
          "name": "stderr",
          "text": [
            ""
          ]
        },
        {
          "output_type": "execute_result",
          "data": {
            "text/html": [
              "\n",
              "  <div id=\"df-231704bf-458f-4c8a-ae1a-10c08ff305b4\">\n",
              "    <div class=\"colab-df-container\">\n",
              "      <div>\n",
              "<style scoped>\n",
              "    .dataframe tbody tr th:only-of-type {\n",
              "        vertical-align: middle;\n",
              "    }\n",
              "\n",
              "    .dataframe tbody tr th {\n",
              "        vertical-align: top;\n",
              "    }\n",
              "\n",
              "    .dataframe thead th {\n",
              "        text-align: right;\n",
              "    }\n",
              "</style>\n",
              "<table border=\"1\" class=\"dataframe\">\n",
              "  <thead>\n",
              "    <tr style=\"text-align: right;\">\n",
              "      <th></th>\n",
              "      <th>userid</th>\n",
              "      <th>titles</th>\n",
              "      <th>ratings</th>\n",
              "      <th>len</th>\n",
              "    </tr>\n",
              "  </thead>\n",
              "  <tbody>\n",
              "    <tr>\n",
              "      <th>0</th>\n",
              "      <td>4169</td>\n",
              "      <td>[GoldenEye (1995), City Hall (1996), Extreme M...</td>\n",
              "      <td>[4, 3, 3, 2, 4, 3, 3, 5, 4, 4, 4, 5, 3, 5, 4, ...</td>\n",
              "      <td>1922</td>\n",
              "    </tr>\n",
              "    <tr>\n",
              "      <th>1</th>\n",
              "      <td>1680</td>\n",
              "      <td>[Extreme Measures (1996), Glimmer Man, The (19...</td>\n",
              "      <td>[4, 2, 4, 5, 3, 3, 4, 4, 4, 4, 4, 3, 1, 4, 4, ...</td>\n",
              "      <td>1459</td>\n",
              "    </tr>\n",
              "    <tr>\n",
              "      <th>2</th>\n",
              "      <td>4277</td>\n",
              "      <td>[Toy Story (1995), GoldenEye (1995), City Hall...</td>\n",
              "      <td>[5, 4, 5, 4, 4, 3, 5, 4, 4, 4, 5, 5, 4, 5, 4, ...</td>\n",
              "      <td>1428</td>\n",
              "    </tr>\n",
              "    <tr>\n",
              "      <th>3</th>\n",
              "      <td>1941</td>\n",
              "      <td>[GoldenEye (1995), Apple Dumpling Gang, The (1...</td>\n",
              "      <td>[4, 4, 4, 5, 5, 4, 4, 4, 5, 5, 4, 5, 4, 4, 3, ...</td>\n",
              "      <td>1258</td>\n",
              "    </tr>\n",
              "    <tr>\n",
              "      <th>4</th>\n",
              "      <td>1181</td>\n",
              "      <td>[GoldenEye (1995), Glimmer Man, The (1996), Ch...</td>\n",
              "      <td>[4, 3, 2, 2, 2, 3, 2, 2, 2, 3, 3, 3, 5, 2, 2, ...</td>\n",
              "      <td>1218</td>\n",
              "    </tr>\n",
              "    <tr>\n",
              "      <th>5</th>\n",
              "      <td>889</td>\n",
              "      <td>[Toy Story (1995), Bottle Rocket (1996), Old Y...</td>\n",
              "      <td>[4, 2, 5, 2, 2, 4, 3, 2, 4, 2, 2, 4, 4, 4, 3, ...</td>\n",
              "      <td>1213</td>\n",
              "    </tr>\n",
              "    <tr>\n",
              "      <th>6</th>\n",
              "      <td>3618</td>\n",
              "      <td>[Toy Story (1995), GoldenEye (1995), City Hall...</td>\n",
              "      <td>[2, 3, 3, 3, 3, 2, 4, 5, 3, 2, 3, 4, 2, 3, 4, ...</td>\n",
              "      <td>1122</td>\n",
              "    </tr>\n",
              "    <tr>\n",
              "      <th>7</th>\n",
              "      <td>1150</td>\n",
              "      <td>[Extreme Measures (1996), That Darn Cat! (1965...</td>\n",
              "      <td>[2, 2, 1, 2, 4, 2, 5, 3, 2, 2, 3, 1, 2, 4, 3, ...</td>\n",
              "      <td>1070</td>\n",
              "    </tr>\n",
              "    <tr>\n",
              "      <th>8</th>\n",
              "      <td>1015</td>\n",
              "      <td>[City Hall (1996), Bottle Rocket (1996), 20,00...</td>\n",
              "      <td>[2, 3, 4, 3, 3, 5, 5, 5, 3, 2, 5, 4, 4, 5, 4, ...</td>\n",
              "      <td>1065</td>\n",
              "    </tr>\n",
              "    <tr>\n",
              "      <th>9</th>\n",
              "      <td>1980</td>\n",
              "      <td>[Toy Story (1995), Chamber, The (1996), Apple ...</td>\n",
              "      <td>[4, 4, 3, 4, 3, 3, 3, 4, 4, 3, 4, 4, 1, 2, 4, ...</td>\n",
              "      <td>1041</td>\n",
              "    </tr>\n",
              "  </tbody>\n",
              "</table>\n",
              "</div>\n",
              "      <button class=\"colab-df-convert\" onclick=\"convertToInteractive('df-231704bf-458f-4c8a-ae1a-10c08ff305b4')\"\n",
              "              title=\"Convert this dataframe to an interactive table.\"\n",
              "              style=\"display:none;\">\n",
              "        \n",
              "  <svg xmlns=\"http://www.w3.org/2000/svg\" height=\"24px\"viewBox=\"0 0 24 24\"\n",
              "       width=\"24px\">\n",
              "    <path d=\"M0 0h24v24H0V0z\" fill=\"none\"/>\n",
              "    <path d=\"M18.56 5.44l.94 2.06.94-2.06 2.06-.94-2.06-.94-.94-2.06-.94 2.06-2.06.94zm-11 1L8.5 8.5l.94-2.06 2.06-.94-2.06-.94L8.5 2.5l-.94 2.06-2.06.94zm10 10l.94 2.06.94-2.06 2.06-.94-2.06-.94-.94-2.06-.94 2.06-2.06.94z\"/><path d=\"M17.41 7.96l-1.37-1.37c-.4-.4-.92-.59-1.43-.59-.52 0-1.04.2-1.43.59L10.3 9.45l-7.72 7.72c-.78.78-.78 2.05 0 2.83L4 21.41c.39.39.9.59 1.41.59.51 0 1.02-.2 1.41-.59l7.78-7.78 2.81-2.81c.8-.78.8-2.07 0-2.86zM5.41 20L4 18.59l7.72-7.72 1.47 1.35L5.41 20z\"/>\n",
              "  </svg>\n",
              "      </button>\n",
              "      \n",
              "  <style>\n",
              "    .colab-df-container {\n",
              "      display:flex;\n",
              "      flex-wrap:wrap;\n",
              "      gap: 12px;\n",
              "    }\n",
              "\n",
              "    .colab-df-convert {\n",
              "      background-color: #E8F0FE;\n",
              "      border: none;\n",
              "      border-radius: 50%;\n",
              "      cursor: pointer;\n",
              "      display: none;\n",
              "      fill: #1967D2;\n",
              "      height: 32px;\n",
              "      padding: 0 0 0 0;\n",
              "      width: 32px;\n",
              "    }\n",
              "\n",
              "    .colab-df-convert:hover {\n",
              "      background-color: #E2EBFA;\n",
              "      box-shadow: 0px 1px 2px rgba(60, 64, 67, 0.3), 0px 1px 3px 1px rgba(60, 64, 67, 0.15);\n",
              "      fill: #174EA6;\n",
              "    }\n",
              "\n",
              "    [theme=dark] .colab-df-convert {\n",
              "      background-color: #3B4455;\n",
              "      fill: #D2E3FC;\n",
              "    }\n",
              "\n",
              "    [theme=dark] .colab-df-convert:hover {\n",
              "      background-color: #434B5C;\n",
              "      box-shadow: 0px 1px 3px 1px rgba(0, 0, 0, 0.15);\n",
              "      filter: drop-shadow(0px 1px 2px rgba(0, 0, 0, 0.3));\n",
              "      fill: #FFFFFF;\n",
              "    }\n",
              "  </style>\n",
              "\n",
              "      <script>\n",
              "        const buttonEl =\n",
              "          document.querySelector('#df-231704bf-458f-4c8a-ae1a-10c08ff305b4 button.colab-df-convert');\n",
              "        buttonEl.style.display =\n",
              "          google.colab.kernel.accessAllowed ? 'block' : 'none';\n",
              "\n",
              "        async function convertToInteractive(key) {\n",
              "          const element = document.querySelector('#df-231704bf-458f-4c8a-ae1a-10c08ff305b4');\n",
              "          const dataTable =\n",
              "            await google.colab.kernel.invokeFunction('convertToInteractive',\n",
              "                                                     [key], {});\n",
              "          if (!dataTable) return;\n",
              "\n",
              "          const docLinkHtml = 'Like what you see? Visit the ' +\n",
              "            '<a target=\"_blank\" href=https://colab.research.google.com/notebooks/data_table.ipynb>data table notebook</a>'\n",
              "            + ' to learn more about interactive tables.';\n",
              "          element.innerHTML = '';\n",
              "          dataTable['output_type'] = 'display_data';\n",
              "          await google.colab.output.renderOutput(dataTable, element);\n",
              "          const docLink = document.createElement('div');\n",
              "          docLink.innerHTML = docLinkHtml;\n",
              "          element.appendChild(docLink);\n",
              "        }\n",
              "      </script>\n",
              "    </div>\n",
              "  </div>\n",
              "  "
            ],
            "text/plain": [
              "  userid  ...   len\n",
              "0   4169  ...  1922\n",
              "1   1680  ...  1459\n",
              "2   4277  ...  1428\n",
              "3   1941  ...  1258\n",
              "4   1181  ...  1218\n",
              "5    889  ...  1213\n",
              "6   3618  ...  1122\n",
              "7   1150  ...  1070\n",
              "8   1015  ...  1065\n",
              "9   1980  ...  1041\n",
              "\n",
              "[10 rows x 4 columns]"
            ]
          },
          "metadata": {},
          "execution_count": 27
        }
      ]
    },
    {
      "cell_type": "code",
      "source": [
        "def pdf2tf_constant(pdf):\n",
        "    return (\n",
        "        (\n",
        "            tf.constant(pdf[\"userid\"].to_list()),\n",
        "            tf.constant(pdf[\"titles\"].to_list())\n",
        "        ),\n",
        "        tf.constant(pdf['ratings'].to_list(), dtype=tf.float32)\n",
        "    )\n",
        "\n",
        "features, labels = pdf2tf_constant(pdf)"
      ],
      "metadata": {
        "id": "1WWZ_YrtwyfD"
      },
      "execution_count": 29,
      "outputs": []
    },
    {
      "cell_type": "code",
      "source": [
        "scores = pad_model(features)\n",
        "print(scores.shape)\n",
        "scores = pad_model(features, padding=False)\n",
        "print(scores.shape)\n",
        "\n",
        "loss_value = pad_model.compute_loss((features, labels))\n",
        "print(loss_value)"
      ],
      "metadata": {
        "colab": {
          "base_uri": "https://localhost:8080/"
        },
        "id": "J7Z4d2jrxAjC",
        "outputId": "1022eb13-0d3c-44ac-fc12-0675ac43e5b0"
      },
      "execution_count": 30,
      "outputs": [
        {
          "output_type": "stream",
          "name": "stdout",
          "text": [
            "(10, 1922)\n",
            "(10, None)\n",
            "tf.Tensor(157169.78, shape=(), dtype=float32)\n"
          ]
        }
      ]
    },
    {
      "cell_type": "code",
      "source": [
        "sdf_list_padded_all =  list2pad_list(\n",
        "    userid_agg(sdf_all)\n",
        ")\n",
        "\n",
        "sdf_list_padded_test =  list2pad_list(\n",
        "    userid_agg(sdf_test)\n",
        ")\n",
        "sdf_list_padded_test.printSchema()\n",
        "sdf_list_padded_test.show(3, False)\n",
        "\n",
        "    "
      ],
      "metadata": {
        "colab": {
          "base_uri": "https://localhost:8080/"
        },
        "id": "E29BaG6IxxS6",
        "outputId": "edcd5373-5cfd-4fa1-93d1-45096702c691"
      },
      "execution_count": 28,
      "outputs": [
        {
          "output_type": "stream",
          "name": "stderr",
          "text": [
            ""
          ]
        },
        {
          "output_type": "stream",
          "name": "stdout",
          "text": [
            "max_len 2234\n"
          ]
        },
        {
          "output_type": "stream",
          "name": "stderr",
          "text": [
            ""
          ]
        },
        {
          "output_type": "stream",
          "name": "stdout",
          "text": [
            "max_len 312\n",
            "root\n",
            " |-- userid: string (nullable = true)\n",
            " |-- titles: array (nullable = true)\n",
            " |    |-- element: string (containsNull = true)\n",
            " |-- ratings: array (nullable = true)\n",
            " |    |-- element: integer (containsNull = true)\n",
            " |-- len: integer (nullable = true)\n",
            "\n"
          ]
        },
        {
          "output_type": "stream",
          "name": "stderr",
          "text": [
            "[Stage 49:>                                                         (0 + 1) / 1]"
          ]
        },
        {
          "output_type": "stream",
          "name": "stdout",
          "text": [
            "+------+---------------------------------------------------------------------------------------------------------------------------------------------------------------------------------------------------------------------------------------------------------------------------------------------------------------------------------------------------------------------------------------------------------------------------------------------------------------------------------------------------------------------------------------------------------------------------------------------------------------------------------------------------------------------------------------------------------------------------------------------------------------------------------------------------------------------------------------------------------------------------------------------------------------------------------------------------------------------------------------------------------------------------------------------------------------------------------------------------------------------------------------------------------------------------------------------------------------------------------------------------------------------------------------------------------------------------------------------------------------------------------------------------------------------------------------------------------------------------------------------------------------------------------------------------------------------------------------------------------------------------------------------------------------------------------------------------------------------------------------------------------------------------------------------------------------------------------------------------------------------------------------------------------------------------------------------------------------------------------------------------------------------------------------------------------------------------------------------------------------------------------------------------------------------------------------------------------------------------------------------------------------------------------------------------------------------------------------------------------------------------------------------------------------------------------------------------------------------------------------------------------------------------------------------------------------------------------------------------------------------------------------------------------------------------------------------------------------------------------------------------------------------------------------------------------------------------------------------------------------------------------------------------------------------------------------------------------------------------------------------------------------------------------------------------------------------------------------------------------------------------------------------------------------------------------------------------------------------------------------------------------------------------------------------------------------------------------------------------------------------------------------------------------------------------------------------------------------------------------------------------------------------------------------------------------------------------------------------------------------------------------------------------------------------------------------------------------------------------------------------------------------------------------------------------------------------------------------------------------------------------------------------------------------------------------------------------------------------------------------------------------------------------------------------------------------------------------------------------------------------------------------------------------------------------------------------------------------------------------------------------------------------------------------------------------------------------------------------------------------------------------------------------------------------------------------------------------------------------------------------------------------------------------------------------------------------------------------------------------------------------------------------------------------------------------------------------------------------------------------------------------------------------------------------------------------------------------------------------------------------------------------------------------------------------------------------------------------------------------------------------------------------------------------------------------------------------------------------------------------------------------------------------------------------------------------------------------------------------------------------------------------------------------------------------------------------------------------------------------------------------------------------------------------------------------------------------------------------------------------------------------------------------------------------------------------------------------------------------------------------------------------------------------------------------------------------------------------------------------------------------------------------------------------------------------------------------------------------------------------------------------------------------------------------------------------------------------------------------------------------------------------------------------------------------------------------------------------------------------------------------------------------------------------------------------------------------------------------------------------------------------------------------------------------------------------------------------------------------------------------------------------------------------------------------------------------------------------------------------------------------------------------------------------------------------------------------------------------------------------------------------------------------------------------------------------------------------------------------------------------------------------------------------------------------------------------------------------------------------------------------------------------------------------------------------------------------------------------------------------------------------------------------------------------------------------------------------------------------------------------------------------------------------------------------------------------------------------------------------------------------------------------------------------------------------------------------------------------------------------------------------------------------------------------------------------------------------------------------------------------------------------------------------------------------------------------------------------------------------------------------------------------------------------------------------------------------------------------------------------------------------------------------------------------------------------------------------------------------------------------------------------------------------------------------------------------------------------------------------------------------------------------------------------------------------------------------------------------------------------------------------------------------------------------------------------------+---------------------------------------------------------------------------------------------------------------------------------------------------------------------------------------------------------------------------------------------------------------------------------------------------------------------------------------------------------------------------------------------------------------------------------------------------------------------------------------------------------------------------------------------------------------------------------------------------------------------------------------------------------------------------------------------------------------------------------------------------------------------------------------------------------------------------------------------------------------------------------------------------------------------------------------------------------------------------------------------------------------------------------------+---+\n",
            "|userid|titles                                                                                                                                                                                                                                                                                                                                                                                                                                                                                                                                                                                                                                                                                                                                                                                                                                                                                                                                                                                                                                                                                                                                                                                                                                                                                                                                                                                                                                                                                                                                                                                                                                                                                                                                                                                                                                                                                                                                                                                                                                                                                                                                                                                                                                                                                                                                                                                                                                                                                                                                                                                                                                                                                                                                                                                                                                                                                                                                                                                                                                                                                                                                                                                                                                                                                                                                                                                                                                                                                                                                                                                                                                                                                                                                                                                                                                                                                                                                                                                                                                                                                                                                                                                                                                                                                                                                                                                                                                                                                                                                                                                                                                                                                                                                                                                                                                                                                                                                                                                                                                                                                                                                                                                                                                                                                                                                                                                                                                                                                                                                                                                                                                                                                                                                                                                                                                                                                                                                                                                                                                                                                                                                                                                                                                                                                                                                                                                                                                                                                                                                                                                                                                                                                                                                                                                                                                                                                                                                                                                                                                                                                                                                                                                                                                                                                                                                                                                                                                                                                                                                                                                                                                                                                                                                                                                                                                                                                                                                                                                                                                                                                                                                                                                       |ratings                                                                                                                                                                                                                                                                                                                                                                                                                                                                                                                                                                                                                                                                                                                                                                                                                                                                                                                                                                                                                                |len|\n",
            "+------+---------------------------------------------------------------------------------------------------------------------------------------------------------------------------------------------------------------------------------------------------------------------------------------------------------------------------------------------------------------------------------------------------------------------------------------------------------------------------------------------------------------------------------------------------------------------------------------------------------------------------------------------------------------------------------------------------------------------------------------------------------------------------------------------------------------------------------------------------------------------------------------------------------------------------------------------------------------------------------------------------------------------------------------------------------------------------------------------------------------------------------------------------------------------------------------------------------------------------------------------------------------------------------------------------------------------------------------------------------------------------------------------------------------------------------------------------------------------------------------------------------------------------------------------------------------------------------------------------------------------------------------------------------------------------------------------------------------------------------------------------------------------------------------------------------------------------------------------------------------------------------------------------------------------------------------------------------------------------------------------------------------------------------------------------------------------------------------------------------------------------------------------------------------------------------------------------------------------------------------------------------------------------------------------------------------------------------------------------------------------------------------------------------------------------------------------------------------------------------------------------------------------------------------------------------------------------------------------------------------------------------------------------------------------------------------------------------------------------------------------------------------------------------------------------------------------------------------------------------------------------------------------------------------------------------------------------------------------------------------------------------------------------------------------------------------------------------------------------------------------------------------------------------------------------------------------------------------------------------------------------------------------------------------------------------------------------------------------------------------------------------------------------------------------------------------------------------------------------------------------------------------------------------------------------------------------------------------------------------------------------------------------------------------------------------------------------------------------------------------------------------------------------------------------------------------------------------------------------------------------------------------------------------------------------------------------------------------------------------------------------------------------------------------------------------------------------------------------------------------------------------------------------------------------------------------------------------------------------------------------------------------------------------------------------------------------------------------------------------------------------------------------------------------------------------------------------------------------------------------------------------------------------------------------------------------------------------------------------------------------------------------------------------------------------------------------------------------------------------------------------------------------------------------------------------------------------------------------------------------------------------------------------------------------------------------------------------------------------------------------------------------------------------------------------------------------------------------------------------------------------------------------------------------------------------------------------------------------------------------------------------------------------------------------------------------------------------------------------------------------------------------------------------------------------------------------------------------------------------------------------------------------------------------------------------------------------------------------------------------------------------------------------------------------------------------------------------------------------------------------------------------------------------------------------------------------------------------------------------------------------------------------------------------------------------------------------------------------------------------------------------------------------------------------------------------------------------------------------------------------------------------------------------------------------------------------------------------------------------------------------------------------------------------------------------------------------------------------------------------------------------------------------------------------------------------------------------------------------------------------------------------------------------------------------------------------------------------------------------------------------------------------------------------------------------------------------------------------------------------------------------------------------------------------------------------------------------------------------------------------------------------------------------------------------------------------------------------------------------------------------------------------------------------------------------------------------------------------------------------------------------------------------------------------------------------------------------------------------------------------------------------------------------------------------------------------------------------------------------------------------------------------------------------------------------------------------------------------------------------------------------------------------------------------------------------------------------------------------------------------------------------------------------------------------------------------------------------------------------------------------------------------------------------------------------------------------------------------------------------------------------------------------------------------------------------------------------------------------------------------------------------------------------------------------------------------------------------------------------------------------------------------------------------------------------------------+---------------------------------------------------------------------------------------------------------------------------------------------------------------------------------------------------------------------------------------------------------------------------------------------------------------------------------------------------------------------------------------------------------------------------------------------------------------------------------------------------------------------------------------------------------------------------------------------------------------------------------------------------------------------------------------------------------------------------------------------------------------------------------------------------------------------------------------------------------------------------------------------------------------------------------------------------------------------------------------------------------------------------------------+---+\n",
            "|4169  |[Parent Trap, The (1961), Swiss Family Robinson (1960), Mr. Wrong (1996), Mary Poppins (1964), Pete's Dragon (1977), Alice in Wonderland (1951), To Gillian on Her 37th Birthday (1996), Get on the Bus (1996), Johns (1996), Dirty Dancing (1987), Platoon (1986), Christmas Carol, A (1938), Associate, The (1996), Glory Daze (1996), Return of the Pink Panther, The (1974), Abyss, The (1989), Howling, The (1980), Raw Deal (1948), Bob Roberts (1992), Paths of Glory (1957), Hear My Song (1991), GoodFellas (1990), Ran (1985), Right Stuff, The (1983), Boat, The (Das Boot) (1981), Duck Soup (1933), Deer Hunter, The (1978), Groundhog Day (1993), High Noon (1952), Somewhere in Time (1980), M*A*S*H (1970), Until the End of the World (Bis ans Ende der Welt) (1991), Audrey Rose (1977), Cape Fear (1962), Garden of Finzi-Contini, The (Giardino dei Finzi-Contini, Il) (1970), Die Hard 2 (1990), Jaws 3-D (1983), My Fellow Americans (1996), Up Close and Personal (1996), Night Falls on Manhattan (1997), Michael (1996), Some Mother's Son (1996), Thieves (Voleurs, Les) (1996), Angel Baby (1995), Falling in Love Again (1980), Brothers McMullen, The (1995), Smilla's Sense of Snow (1997), Daytrippers, The (1996), Grosse Pointe Blank (1997), Hollow Reed (1996), Temptress Moon (Feng Yue) (1996), Fathers' Day (1997), Belle de jour (1967), Brassed Off (1996), Buddy (1997), Roseanna's Grave (For Roseanna) (1997), Out to Sea (1997), Contact (1997), G.I. Jane (1997), Cop Land (1997), Event Horizon (1997), My Own Private Idaho (1991), In & Out (1997), Edge, The (1997), Game, The (1997), Washington Square (1997), Stripes (1981), Mad City (1997), Boogie Nights (1997), Wings of the Dove, The (1997), Butcher Boy, The (1998), Sense and Sensibility (1995), Hackers (1995), Mouse Hunt (1997), Tomorrow Never Dies (1997), Judge Dredd (1995), Kids (1995), Hard Rain (1998), Four Days in September (1997), Living in Oblivion (1995), Men With Guns (1997), U.S. Marshalls (1998), Suicide Kings (1997), Newton Boys, The (1998), Wild Things (1998), Primary Colors (1998), Homegrown (1998), Gingerbread Man, The (1998), Real Blonde, The (1997), Six Days Seven Nights (1998), All Quiet on the Western Front (1930), Cimarron (1931), Grand Hotel (1932), French Connection, The (1971), Breakfast Club, The (1985), Mask of Zorro, The (1998), Babes in Toyland (1961), Total Eclipse (1995), Saving Private Ryan (1998), To Wong Foo, Thanks for Everything! Julie Newmar (1995), Tender Mercies (1983), White Man's Burden (1995), Return to Oz (1985), Song of the South (1946), Jerk, The (1979), Man with Two Brains, The (1983), Nineteen Eighty-Four (1984), Watership Down (1978), House (1986), Avengers, The (1998), Your Friends and Neighbors (1998), Merry War, A (1997), Mr. & Mrs. Smith (1941), Suspicion (1941), Seven Beauties (Pasqualino Settebellezze) (1976), My Blue Heaven (1990), About Last Night... (1986), We're No Angels (1989), Permanent Midnight (1998), Sheltering Sky, The (1990), Shadrach (1998), Impostors, The (1998), Holy Man (1998), 2010 (1984), Bride of Chucky (1998), Vampires (1998), American History X (1998), Big Chill, The (1983), Central Station (Central do Brasil) (1998), Fletch Lives (1989), Money Pit, The (1986), Lifeforce (1985), Mass Appeal (1984), Jewel of the Nile, The (1985), Rocky II (1979), Extremities (1986), Another Day in Paradise (1998), At First Sight (1999), Texas Chainsaw Massacre, The (1974), Hoop Dreams (1994), Ruthless People (1986), Tough Guys (1986), Other Sister, The (1999), I.Q. (1994), Tango (1998), Kiss of Death (1995), Castle, The (1997), Frankenstein (1931), War of the Worlds, The (1953), Legend of 1900, The (Leggenda del pianista sull'oceano) (1998), Autumn Tale, An (Conte d'automne) (1998), Losing Isaiah (1995), Blair Witch Project, The (1999), My Life So Far (1999), Madness of King George, The (1994), Runaway Bride (1999), Native Son (1986), Otello (1986), Morning After, The (1986), Radio Days (1987), Raven, The (1963), Airplane! (1980), Funny Farm (1988), Murder in the First (1995), Oscar and Lucinda (a.k.a. Oscar & Lucinda) (1997), Iron Eagle II (1988), Three Days of the Condor (1975), Minus Man, The (1999), Othello (1952), Soldier's Story, A (1984), American Beauty (1999), Excalibur (1981), Only You (1994), Psycho II (1983), High Plains Drifter (1972), Conformist, The (Il Conformista) (1970), Fire Within, The (Le Feu Follet) (1963), Straight Story, The (1999), Live and Let Die (1973), Thunderball (1965), Music of the Heart (1999), Shanghai Triad (Yao a yao yao dao waipo qiao) (1995), Queen Margot (La Reine Margot) (1994), Quest for Fire (1981), Little Big Man (1970), Experience Preferred... But Not Essential (1982), Anywhere But Here (1999), Dogma (1999), Tora! Tora! Tora! (1970), Adventures of Buckaroo Bonzai Across the 8th Dimension, The (1984), Jeremiah Johnson (1972), Irma la Douce (1963), Harvey (1950), McCabe & Mrs. Miller (1971), Fatal Attraction (1987), Jagged Edge (1985), Country (1984), Tumbleweeds (1999), Great Santini, The (1979), Talented Mr. Ripley, The (1999), Last Detail, The (1973), Swimming with Sharks (1995), Howards End (1992), Singles (1992), Stop! Or My Mom Will Shoot (1992), To Sir with Love (1967), Blue Collar (1978), What Planet Are You From? (2000), Never Cry Wolf (1983), Underneath, The (1995), Dog Day Afternoon (1975), American Graffiti (1973), Where Eagles Dare (1969), Ogre, The (Der Unhold) (1996), Railroaded! (1947), Harry and the Hendersons (1987), She-Devil (1989), Muppet Movie, The (1979), Turtle Diary (1985), Raise the Titanic (1980), Bear, The (1988), Love Is a Many-Splendored Thing (1955), Funny Bones (1995), Hustler, The (1961), Place in the Sun, A (1951), Bullets Over Broadway (1994), Force 10 from Navarone (1978), Sacco and Vanzetti (Sacco e Vanzetti) (1971), Arthur (1981), Freedom for Us (� nous la libert� ) (1931), American Psycho (2000), Guys and Dolls (1955), Hunger, The (1983), Marathon Man (1976), U-571 (2000), Forrest Gump (1994), Gladiator (2000), I Dreamed of Africa (2000), Idolmaker, The (1980), Gypsy (1962), Myth of Fingerprints, The (1997), Monsieur Verdoux (1947), Mask, The (1994), Brother from Another Planet, The (1984), Bird on a Wire (1990), Reality Bites (1994), Trixie (1999), American Pop (1981), Shaft (1971), Lonely Are the Brave (1962), Trouble in Paradise (1932), Battleship Potemkin, The (Bronenosets Potyomkin) (1925), Five Senses, The (1999), Greaser's Palace (1972), Breaker Morant (1980), Wyatt Earp (1994), Saving Grace (2000), Dancer in the Dark (2000), Pajama Party (1964), Meet the Parents (2000), Requiem for a Dream (2000), Cry, the Beloved Country (1995), In the Mouth of Madness (1995), Age of Innocence, The (1993), Blue Chips (1994), Blue Sky (1994), Restoration (1995), Color of Night (1994), Demolition Man (1993), Judgment Night (1993), King of the Hill (1993), Philadelphia (1993), Romper Stomper (1992), Searching for Bobby Fischer (1993), Secret Garden, The (1993), Sleepless in Seattle (1993), Germinal (1993), Aladdin (1992), Pretty Woman (1990), Eye for an Eye (1996), Thin Line Between Love and Hate, A (1996), Jack and Sarah (1995), James and the Giant Peach (1996), Underground (1995), Dead Man (1995), Cold Comfort Farm (1995), Force of Evil (1948), Last of the High Kings, The (a.k.a. Summer Fling) (1996), Eraser (1996), Very Natural Thing, A (1974), Walking and Talking (1996), She's the One (1996), Foxfire (1996), Escape from L.A. (1996), For Whom the Bell Tolls (1943), Breakfast at Tiffany's (1961), Gaslight (1944), Apartment, The (1960), Roman Holiday (1953), Notorious (1946), Spellbound (1945), Ninotchka (1939), Adventures of Robin Hood, The (1938), Ghost and Mrs. Muir, The (1947), Lost Horizon (1937), My Man Godfrey (1936), Giant (1956), Lady of Burlesque (1943), In the Bleak Midwinter (1995), Little Lord Fauntleroy (1936), Farewell to Arms, A (1932), Last Man Standing (1996)]|[4, 4, 1, 5, 3, 4, 4, 4, 3, 3, 5, 4, 4, 2, 3, 4, 4, 4, 4, 5, 5, 5, 5, 5, 5, 5, 5, 5, 5, 2, 5, 4, 3, 5, 4, 3, 2, 4, 4, 3, 4, 4, 3, 5, 4, 5, 3, 4, 4, 4, 3, 3, 3, 4, 2, 3, 3, 5, 3, 3, 3, 3, 5, 3, 3, 4, 2, 2, 5, 5, 4, 5, 4, 4, 3, 1, 4, 2, 4, 5, 4, 4, 3, 2, 4, 5, 2, 4, 2, 3, 5, 4, 4, 4, 4, 4, 3, 1, 5, 4, 4, 2, 3, 5, 2, 3, 4, 3, 3, 2, 3, 4, 3, 4, 5, 4, 3, 3, 4, 3, 3, 4, 3, 3, 3, 3, 4, 5, 5, 2, 3, 4, 4, 3, 1, 3, 3, 3, 2, 3, 5, 3, 3, 4, 3, 3, 3, 5, 4, 3, 5, 4, 4, 4, 4, 4, 3, 4, 3, 4, 3, 4, 3, 4, 4, 3, 4, 3, 4, 4, 5, 5, 4, 4, 3, 4, 5, 3, 3, 4, 4, 3, 4, 3, 5, 3, 3, 4, 2, 2, 3, 3, 4, 5, 3, 3, 4, 5, 5, 5, 4, 3, 5, 3, 1, 3, 3, 3, 3, 4, 5, 5, 3, 3, 4, 3, 2, 4, 3, 2, 3, 3, 2, 5, 4, 4, 2, 4, 2, 5, 4, 4, 3, 4, 4, 3, 5, 3, 3, 3, 3, 5, 5, 4, 3, 3, 1, 5, 3, 4, 5, 5, 3, 4, 5, 3, 3, 5, 2, 4, 5, 4, 4, 4, 3, 4, 3, 2, 2, 3, 3, 4, 4, 4, 3, 4, 4, 4, 4, 2, 2, 4, 4, 5, 1, 4, 4, 3, 3, 4, 3, 4, 3, 2, 5, 5, 4, 5, 5, 4, 4, 5, 5, 4, 5, 5, 3, 3, 5, 4, 4, 3]                                                               |312|\n",
            "|1680  |[GoldenEye (1995), Escape to Witch Mountain (1975), Love Bug, The (1969), Herbie Rides Again (1974), Mary Poppins (1964), Fox and the Hound, The (1981), Long Kiss Goodnight, The (1996), Trees Lounge (1996), Normal Life (1996), Fish Called Wanda, A (1988), Bonnie and Clyde (1967), People vs. Larry Flynt, The (1996), Abyss, The (1989), Grifters, The (1990), To Kill a Mockingbird (1962), Wings of Desire (Der Himmel �ber Berlin) (1987), Amadeus (1984), Chinatown (1974), Bad Taste (1987), Night on Earth (1991), Raise the Red Lantern (1991), Heathers (1989), Koyaanisqatsi (1983), Field of Dreams (1989), Butch Cassidy and the Sundance Kid (1969), Female Perversions (1996), Alien� (1992), Amityville 3-D (1983), Blood For Dracula (Andy Warhol's Dracula) (1974), Audrey Rose (1977), Birds, The (1963), Blob, The (1958), Carrie (1976), Nightmare on Elm Street, A (1984), 101 Dalmatians (1996), Jaws 3-D (1983), Dante's Peak (1997), Van, The (1996), Amateur (1994), Anaconda (1997), Rob Roy (1995), Children of the Revolution (1996), Breakdown (1997), Addiction, The (1995), Trial and Error (1997), Batman & Robin (1997), Spawn (1997), Leave It to Beaver (1997), Mimic (1997), Wishmaster (1997), How to Be a Player (1997), Fast, Cheap & Out of Control (1997), For Richer or Poorer (1997), Office Killer (1997), Sweet Hereafter, The (1997), Postman, The (1997), Jackie Brown (1997), Half Baked (1998), Deep Rising (1998), Lord of Illusions (1995), Love and Death on Long Island (1997), Hush (1998), Two Girls and a Guy (1997), Meet the Deedles (1998), Zero Effect (1998), Clockwatchers (1997), Prophecy, The (1995), Fear and Loathing in Las Vegas (1998), Opposite of Sex, The (1998), Henry Fool (1997), Buffalo 66 (1998), Chariots of Fire (1981), Out of Africa (1985), Soylent Green (1973), Back to the Future Part II (1989), Absent Minded Professor, The (1961), Cat from Outer Space, The (1978), Great Mouse Detective, The (1986), BASEketball (1998), Tender Mercies (1983), Newsies (1992), Return of Jafar, The (1993), Dead Men Don't Wear Plaid (1982), Outsiders, The (1983), Gods Must Be Crazy II, The (1989), Avengers, The (1998), Attack of the Killer Tomatoes! (1980), Blade (1998), Untouchables, The (1987), Castle Freak (1995), Urban Legend (1998), Antz (1998), Impostors, The (1998), Happiness (1998), Orgazmo (1997), Vampires (1998), Exotica (1994), I Still Know What You Did Last Summer (1998), Exit to Eden (1994), Nights of Cabiria (Le Notti di Cabiria) (1957), Waking Ned Devine (1998), Gung Ho (1986), Money Pit, The (1986), View to a Kill, A (1985), Simple Plan, A (1998), Karate Kid, Part II, The (1986), Mighty Joe Young (1998), Virus (1999), Return of the Texas Chainsaw Massacre, The (1994), Trick or Treat (1986), Name of the Rose, The (1986), Three Amigos! (1986), Simply Irresistible (1999), Heavyweights (1994), Pet Sematary II (1992), Airport (1970), Towering Inferno, The (1974), Interview with the Vampire (1994), Escape from the Planet of the Apes (1971), Cookie's Fortune (1999), Open Your Eyes (Abre los ojos) (1997), Idle Hands (1999), Superman II (1980), Dracula (1931), Dracula (1958), Velocity of Gary, The (1998), Mission, The (1986), Little Shop of Horrors, The (1960), Outrageous Fortune (1987), Miami Rhapsody (1995), Haunted Honeymoon (1986), Airplane! (1980), Big (1988), Problem Child 2 (1991), Tequila Sunrise (1988), Muse, The (1999), Minus Man, The (1999), Yellow Submarine (1968), Nina Takes a Lover (1994), Tommy (1975), Double Jeopardy (1999), Three Kings (1999), Psycho II (1983), Body Heat (1981), Pyromaniac's Love Story, A (1995), Being John Malkovich (1999), Grumpier Old Men (1995), Bride of Re-Animator (1990), Queen Margot (La Reine Margot) (1994), Nighthawks (1981), Meatballs (1979), Peter's Friends (1992), Under the Rainbow (1981), Poison Ivy (1992), Come See the Paradise (1990), Places in the Heart (1984), Stuart Saves His Family (1995), End of the Affair, The (1999), Great Santini, The (1979), Last Picture Show, The (1971), Talented Mr. Ripley, The (1999), Snow Falling on Cedars (1999), Girl, Interrupted (1999), Cry in the Dark, A (1988), Poison (1991), Sum of Us, The (1994), Malcolm X (1992), Agnes of God (1985), To Live (Huozhe) (1994), Buffy the Vampire Slayer (1992), Cutting Edge, The (1992), Class Reunion (1982), Village of the Damned (1995), Breaking Away (1979), Muppets Take Manhattan, The (1984), Babe (1995), Titanic (1953), Final Destination (2000), Champ, The (1979), Good Mother, The (1988), Bamba, La (1987), Ladyhawke (1985), Hook (1991), Carrington (1995), Odd Couple, The (1968), Corrina, Corrina (1994), Parenthood (1989), Crow, The (1994), Hidden, The (1987), I Love Trouble (1994), Jungle Book, The (1994), Man with the Golden Gun, The (1974), Baraka (1992), Fabulous Baker Boys, The (1989), Porky's (1981), Starman (1984), Alien Nation (1988), Reality Bites (1994), Cutter's Way (1981), Fury, The (1978), Prince of the City (1981), Sugarland Express, The (1974), Big Trouble in Little China (1986), Battleship Potemkin, The (Bronenosets Potyomkin) (1925), What Lies Beneath (2000), Sinbad and the Eye of the Tiger (1977), Love and Death (1975), Hollow Man (2000), Bronco Billy (1980), Steel Magnolias (1989), Boys Life (1995), Beach Party (1963), Invisible Man, The (1933), Runaway (1984), Sorority House Massacre (1986), Sorority House Massacre II (1990), Get Carter (2000), Meet the Parents (2000), Airheads (1994), Boxing Helena (1993), Cops and Robbersons (1994), Demolition Man (1993), M. Butterfly (1993), When Night Is Falling (1995), Man Without a Face, The (1993), Manhattan Murder Mystery (1993), Menace II Society (1993), Orlando (1993), Perfect World, A (1993), Robert A. Heinlein's The Puppet Masters (1994), Shadow, The (1994), Short Cuts (1993), Sliver (1993), Son in Law (1993), So I Married an Axe Murderer (1993), Last Supper, The (1995), Dragonheart (1996), Space Jam (1996), French Twist (Gazon maudit) (1995), Oliver & Company (1988), Craft, The (1996), Heaven's Prisoners (1996), Spy Hard (1996), Jack (1996), I Shot Andy Warhol (1996), Nico Icon (1995), Spirits of the Dead (Tre Passi nel Delirio) (1968), 'Til There Was You (1997), Kingpin (1996), Eraser (1996), Escape from L.A. (1996), Godfather, The (1972), Relic, The (1997), First Kid (1996), Trigger Effect, The (1996), Nick of Time (1995), Funny Face (1957), It Happened One Night (1934), Sunset Blvd. (a.k.a. Sunset Boulevard) (1950), Laura (1944), Bringing Up Baby (1938), Night of the Living Dead (1968), Michael Collins (1996), Toy Story (1995), <MSK>, <MSK>, <MSK>, <MSK>, <MSK>, <MSK>, <MSK>, <MSK>, <MSK>, <MSK>, <MSK>, <MSK>, <MSK>, <MSK>, <MSK>, <MSK>, <MSK>, <MSK>, <MSK>, <MSK>, <MSK>, <MSK>, <MSK>, <MSK>, <MSK>, <MSK>, <MSK>, <MSK>, <MSK>, <MSK>, <MSK>, <MSK>, <MSK>, <MSK>, <MSK>, <MSK>, <MSK>, <MSK>, <MSK>, <MSK>, <MSK>, <MSK>, <MSK>, <MSK>, <MSK>, <MSK>, <MSK>, <MSK>]                                                                                                                                                                                                                                                                                                                                                                                                                                                                                                                                                                                                                                                                                                                                                                                                                                                                                                                                                                                                                                                        |[3, 3, 4, 4, 4, 4, 5, 3, 2, 5, 3, 5, 4, 5, 4, 3, 3, 5, 4, 5, 4, 5, 4, 5, 5, 5, 4, 3, 3, 3, 5, 4, 5, 4, 3, 3, 1, 3, 5, 2, 5, 5, 4, 4, 3, 3, 3, 1, 4, 2, 1, 5, 3, 3, 3, 1, 3, 3, 3, 2, 3, 2, 3, 3, 4, 5, 5, 3, 5, 5, 2, 1, 5, 4, 3, 4, 4, 4, 4, 4, 1, 3, 4, 3, 2, 1, 3, 4, 3, 2, 5, 4, 4, 5, 3, 2, 5, 3, 4, 3, 3, 4, 4, 4, 3, 1, 2, 3, 1, 2, 5, 3, 3, 1, 1, 3, 5, 5, 4, 4, 5, 5, 4, 4, 3, 4, 3, 2, 5, 5, 3, 5, 3, 1, 4, 2, 2, 4, 4, 3, 3, 4, 5, 4, 4, 4, 3, 3, 4, 4, 4, 4, 4, 4, 4, 3, 5, 5, 5, 5, 2, 3, 4, 4, 3, 3, 3, 4, 5, 1, 3, 4, 4, 5, 3, 3, 3, 4, 1, 4, 1, 2, 2, 2, 4, 2, 4, 4, 5, 1, 3, 3, 3, 4, 4, 3, 4, 4, 4, 3, 5, 5, 3, 3, 4, 5, 5, 4, 3, 4, 4, 2, 3, 2, 4, 3, 4, 4, 4, 2, 3, 3, 3, 5, 3, 5, 1, 3, 4, 3, 4, 4, 4, 4, 4, 4, 4, 1, 4, 3, 5, 2, 3, 2, 5, 4, 2, 3, 4, 4, 5, 2, 5, 2, 2, 3, 4, 4, 5, 4, 5, 5, 3, 4, -1, -1, -1, -1, -1, -1, -1, -1, -1, -1, -1, -1, -1, -1, -1, -1, -1, -1, -1, -1, -1, -1, -1, -1, -1, -1, -1, -1, -1, -1, -1, -1, -1, -1, -1, -1, -1, -1, -1, -1, -1, -1, -1, -1, -1, -1, -1, -1]               |264|\n",
            "|4277  |[Extreme Measures (1996), Apple Dumpling Gang, The (1975), Davy Crockett, King of the Wild Frontier (1955), Swiss Family Robinson (1960), Mary Poppins (1964), Die Hard (1988), That Thing You Do! (1996), Trees Lounge (1996), Murder, My Sweet (1944), Sleeper (1973), Bonnie and Clyde (1967), E.T. the Extra-Terrestrial (1982), American President, The (1995), Abyss, The (1989), Fog, The (1980), Wrong Trousers, The (1993), Bob Roberts (1992), Thin Blue Line, The (1988), Clockwork Orange, A (1971), Wings of Desire (Der Himmel �ber Berlin) (1987), Third Man, The (1949), Raging Bull (1980), Evil Dead II (Dead By Dawn) (1987), Raise the Red Lantern (1991), Heathers (1989), Butch Cassidy and the Sundance Kid (1969), Until the End of the World (Bis ans Ende der Welt) (1991), Birds, The (1963), Blob, The (1958), Cat People (1982), Preacher's Wife, The (1996), Grease (1978), Ghosts of Mississippi (1996), Scream (1996), Kolya (1996), City of Industry (1997), Grosse Pointe Blank (1997), Breakdown (1997), Fifth Element, The (1997), Schizopolis (1996), Shiloh (1997), Buddy (1997), Conan the Barbarian (1982), Crumb (1994), Ulee's Gold (1997), Devil in a Blue Dress (1995), How to Be a Player (1997), House of Yes, The (1997), Washington Square (1997), Life Less Ordinary, A (1997), Stripes (1981), Wings of the Dove, The (1997), Midnight in the Garden of Good and Evil (1997), Tomorrow Never Dies (1997), Dark City (1998), Replacement Killers, The (1998), Lord of Illusions (1995), Homegrown (1998), Mute Witness (1994), Spanish Prisoner, The (1997), Lawn Dogs (1997), Children of Heaven, The (Bacheha-Ye Aseman) (1997), Pi (1998), There's Something About Mary (1998), Ordinary People (1980), Rain Man (1988), Halloween (1978), Jumanji (1995), Money Train (1995), Lethal Weapon 3 (1992), Gremlins (1984), Back to the Future Part II (1989), Babes in Toyland (1961), Dangerous Liaisons (1988), Doctor Zhivago (1965), Fanny and Alexander (1982), Tender Mercies (1983), And the Band Played On (1993), Song of the South (1946), Lord of the Rings, The (1978), Watership Down (1978), Before the Rain (Pred dozhdot) (1994), Legend (1985), Babysitter, The (1995), Man Who Knew Too Much, The (1956), Willow (1988), Untouchables, The (1987), Copycat (1995), Cube (1997), Say Anything... (1989), Disclosure (1994), Few Good Men, A (1992), Thing, The (1982), Mighty, The (1998), Elephant Man, The (1980), Apt Pupil (1998), American History X (1998), Runaway Train (1985), Godzilla (Gojira) (1984), Hideaway (1995), First Blood (1982), Romancing the Stone (1984), Fluke (1995), Karate Kid, Part II, The (1986), Fly, The (1986), Running Scared (1986), Hoop Dreams (1994), Crocodile Dundee II (1988), Three Amigos! (1986), My Name Is Joe (1998), God Said 'Ha!' (1998), Meteor (1979), Earthquake (1974), School of Flesh, The (L' �cole de la chair) (1998), Walk on the Moon, A (1999), Metroland (1997), Following (1998), Idle Hands (1999), Castle, The (1997), Ladybird Ladybird (1994), Mummy, The (1959), Dracula (1931), Rocky Horror Picture Show, The (1975), Legends of the Fall (1994), Thing From Another World, The (1951), It Came from Outer Space (1953), Free Enterprise (1998), Run Lola Run (Lola rennt) (1998), Mary Shelley's Frankenstein (1994), Barry Lyndon (1975), Color Purple, The (1985), Iron Giant, The (1999), Thomas Crown Affair, The (1999), Thomas Crown Affair, The (1968), Pit and the Pendulum (1961), Big (1988), Christmas Story, A (1983), Universal Soldier (1992), Yellow Submarine (1968), Hard Day's Night, A (1964), Splendor (1999), Three Kings (1999), Plunkett & MaCleane (1999), Risky Business (1983), Total Recall (1990), High Plains Drifter (1972), Hang 'em High (1967), Hairspray (1988), Razor's Edge, The (1984), Flashdance (1983), Licence to Kill (1989), Picture Bride (1995), Effect of Gamma Rays on Man-in-the-Moon Marigolds, The (1972), Sweet and Lowdown (1999), Tarzan the Fearless (1933), Green Mile, The (1999), Carnal Knowledge (1971), Shawshank Redemption, The (1994), Snow Falling on Cedars (1999), American Flyers (1985), Carmen (1984), Odessa File, The (1974), Alive (1993), Scent of a Woman (1992), Hard-Boiled (Lashou shentan) (1992), To Sir with Love (1967), Reindeer Games (2000), Deterrence (1998), Splendor in the Grass (1961), Vanya on 42nd Street (1994), Teenage Mutant Ninja Turtles III (1993), Hud (1963), Inherit the Wind (1960), Bullets Over Broadway (1994), Rules of Engagement (2000), American Psycho (2000), Keeping the Faith (2000), Jennifer 8 (1992), Dead Man Walking (1995), Road Trip (2000), Better Living Through Circuitry (1999), Blow-Out (La Grande Bouffe) (1973), Puppet Master (1989), Blood Simple (1984), Flatliners (1990), Alien Nation (1988), Mad Max (1979), Mad Max 2 (a.k.a. The Road Warrior) (1981), Shaft (1971), Paper Chase, The (1973), Chicken Run (2000), F/X 2 (1992), Shaft's Big Score! (1972), Blowup (1966), Timecop (1994), Chuck & Buck (2000), What Lies Beneath (2000), Anatomy of a Murder (1959), What About Bob? (1991), Official Story, The (La Historia Oficial) (1985), Wolf (1994), Bronco Billy (1980), Kelly's Heroes (1970), Air America (1990), Stranger Than Paradise (1984), Bank Dick, The (1940), Creature From the Black Lagoon, The (1954), Phantom of the Opera, The (1943), Meet the Parents (2000), In the Mouth of Madness (1995), Richard III (1995), Body Snatchers (1993), Color of Night (1994), Fearless (1993), Fugitive, The (1993), Jurassic Park (1993), When Night Is Falling (1995), Manhattan Murder Mystery (1993), Menace II Society (1993), Much Ado About Nothing (1993), Naked (1993), Robert A. Heinlein's The Puppet Masters (1994), Romper Stomper (1992), Ruby in Paradise (1993), Serial Mom (1994), Tombstone (1993), Love and a .45 (1994), Ed (1996), Primal Fear (1996), Dragonheart (1996), James and the Giant Peach (1996), Fear (1996), Clean Slate (Coup de Torchon) (1981), True Crime (1995), Kicking and Screaming (1995), Mis�rables, Les (1995), Close Shave, A (1995), Lone Star (1996), Walking and Talking (1996), Fled (1996), Eyes Without a Face (1959), Supercop (1992), American in Paris, An (1951), Some Like It Hot (1959), Maltese Falcon, The (1941), Sunset Blvd. (a.k.a. Sunset Boulevard) (1950), To Catch a Thief (1955), Maximum Risk (1996), Rich Man's Wife, The (1996), <MSK>, <MSK>, <MSK>, <MSK>, <MSK>, <MSK>, <MSK>, <MSK>, <MSK>, <MSK>, <MSK>, <MSK>, <MSK>, <MSK>, <MSK>, <MSK>, <MSK>, <MSK>, <MSK>, <MSK>, <MSK>, <MSK>, <MSK>, <MSK>, <MSK>, <MSK>, <MSK>, <MSK>, <MSK>, <MSK>, <MSK>, <MSK>, <MSK>, <MSK>, <MSK>, <MSK>, <MSK>, <MSK>, <MSK>, <MSK>, <MSK>, <MSK>, <MSK>, <MSK>, <MSK>, <MSK>, <MSK>, <MSK>, <MSK>, <MSK>, <MSK>, <MSK>, <MSK>, <MSK>, <MSK>, <MSK>, <MSK>, <MSK>, <MSK>, <MSK>, <MSK>, <MSK>, <MSK>]                                                                                                                                                                                                                                                                                                                                                                                                                                                                                                                                                                                                                                                                                                                                                                                                                                                                                                                                                                                                                                                                                                                                                                                                                       |[4, 4, 4, 4, 5, 5, 3, 4, 4, 3, 5, 5, 5, 5, 4, 4, 5, 5, 5, 5, 5, 5, 4, 4, 3, 5, 4, 4, 4, 4, 3, 3, 5, 4, 4, 4, 4, 4, 5, 4, 5, 2, 4, 5, 5, 5, 4, 4, 3, 3, 4, 4, 4, 4, 5, 4, 4, 4, 4, 4, 4, 5, 5, 5, 4, 5, 5, 4, 3, 4, 3, 4, 4, 5, 4, 4, 4, 4, 4, 3, 4, 4, 4, 4, 4, 4, 5, 4, 4, 4, 4, 5, 5, 4, 4, 4, 5, 4, 3, 4, 5, 4, 4, 3, 5, 3, 5, 4, 3, 3, 3, 3, 3, 3, 5, 3, 4, 4, 4, 4, 4, 5, 4, 4, 5, 5, 3, 5, 5, 3, 5, 5, 4, 4, 3, 5, 5, 4, 4, 5, 4, 4, 4, 5, 5, 5, 4, 3, 4, 4, 4, 4, 5, 4, 4, 5, 3, 5, 4, 3, 4, 4, 4, 4, 4, 5, 3, 4, 4, 2, 3, 4, 5, 3, 4, 4, 5, 4, 5, 4, 4, 5, 4, 5, 4, 4, 5, 5, 4, 4, 4, 4, 3, 3, 4, 4, 4, 5, 3, 4, 4, 4, 4, 3, 4, 5, 4, 3, 4, 4, 3, 4, 3, 5, 5, 5, 4, 3, 5, 4, 4, 4, 4, 4, 4, 5, 4, 4, 4, 4, 4, 5, 5, 4, 4, 4, 4, 5, 4, 4, 5, 3, 4, 4, 5, 5, 4, 4, 3, -1, -1, -1, -1, -1, -1, -1, -1, -1, -1, -1, -1, -1, -1, -1, -1, -1, -1, -1, -1, -1, -1, -1, -1, -1, -1, -1, -1, -1, -1, -1, -1, -1, -1, -1, -1, -1, -1, -1, -1, -1, -1, -1, -1, -1, -1, -1, -1, -1, -1, -1, -1, -1, -1, -1, -1, -1, -1, -1, -1, -1, -1, -1]|249|\n",
            "+------+---------------------------------------------------------------------------------------------------------------------------------------------------------------------------------------------------------------------------------------------------------------------------------------------------------------------------------------------------------------------------------------------------------------------------------------------------------------------------------------------------------------------------------------------------------------------------------------------------------------------------------------------------------------------------------------------------------------------------------------------------------------------------------------------------------------------------------------------------------------------------------------------------------------------------------------------------------------------------------------------------------------------------------------------------------------------------------------------------------------------------------------------------------------------------------------------------------------------------------------------------------------------------------------------------------------------------------------------------------------------------------------------------------------------------------------------------------------------------------------------------------------------------------------------------------------------------------------------------------------------------------------------------------------------------------------------------------------------------------------------------------------------------------------------------------------------------------------------------------------------------------------------------------------------------------------------------------------------------------------------------------------------------------------------------------------------------------------------------------------------------------------------------------------------------------------------------------------------------------------------------------------------------------------------------------------------------------------------------------------------------------------------------------------------------------------------------------------------------------------------------------------------------------------------------------------------------------------------------------------------------------------------------------------------------------------------------------------------------------------------------------------------------------------------------------------------------------------------------------------------------------------------------------------------------------------------------------------------------------------------------------------------------------------------------------------------------------------------------------------------------------------------------------------------------------------------------------------------------------------------------------------------------------------------------------------------------------------------------------------------------------------------------------------------------------------------------------------------------------------------------------------------------------------------------------------------------------------------------------------------------------------------------------------------------------------------------------------------------------------------------------------------------------------------------------------------------------------------------------------------------------------------------------------------------------------------------------------------------------------------------------------------------------------------------------------------------------------------------------------------------------------------------------------------------------------------------------------------------------------------------------------------------------------------------------------------------------------------------------------------------------------------------------------------------------------------------------------------------------------------------------------------------------------------------------------------------------------------------------------------------------------------------------------------------------------------------------------------------------------------------------------------------------------------------------------------------------------------------------------------------------------------------------------------------------------------------------------------------------------------------------------------------------------------------------------------------------------------------------------------------------------------------------------------------------------------------------------------------------------------------------------------------------------------------------------------------------------------------------------------------------------------------------------------------------------------------------------------------------------------------------------------------------------------------------------------------------------------------------------------------------------------------------------------------------------------------------------------------------------------------------------------------------------------------------------------------------------------------------------------------------------------------------------------------------------------------------------------------------------------------------------------------------------------------------------------------------------------------------------------------------------------------------------------------------------------------------------------------------------------------------------------------------------------------------------------------------------------------------------------------------------------------------------------------------------------------------------------------------------------------------------------------------------------------------------------------------------------------------------------------------------------------------------------------------------------------------------------------------------------------------------------------------------------------------------------------------------------------------------------------------------------------------------------------------------------------------------------------------------------------------------------------------------------------------------------------------------------------------------------------------------------------------------------------------------------------------------------------------------------------------------------------------------------------------------------------------------------------------------------------------------------------------------------------------------------------------------------------------------------------------------------------------------------------------------------------------------------------------------------------------------------------------------------------------------------------------------------------------------------------------------------------------------------------------------------------------------------------------------------------------------------------------------------------------------------------------------------------------------------------------------------------------------------------------------------------------------------------------------------------------------------------------------------------------------------+---------------------------------------------------------------------------------------------------------------------------------------------------------------------------------------------------------------------------------------------------------------------------------------------------------------------------------------------------------------------------------------------------------------------------------------------------------------------------------------------------------------------------------------------------------------------------------------------------------------------------------------------------------------------------------------------------------------------------------------------------------------------------------------------------------------------------------------------------------------------------------------------------------------------------------------------------------------------------------------------------------------------------------------+---+\n",
            "only showing top 3 rows\n",
            "\n"
          ]
        },
        {
          "output_type": "stream",
          "name": "stderr",
          "text": [
            "\r                                                                                \r"
          ]
        }
      ]
    },
    {
      "cell_type": "code",
      "source": [
        "model_config = {\n",
        "    \"learning_rate\": 0.1,\n",
        "    \"user_ids\": unique_userids,\n",
        "    \"movie_titles\": unique_movie_titles,\n",
        "}\n",
        "\n",
        "\n",
        "def create_model(config):\n",
        "    loss = tfr.keras.losses.ListMLELoss(tf.losses.Reduction.SUM, ragged=True)\n",
        "    model = PaddedToRaggedRankingModel(\n",
        "        unique_userids=config[\"user_ids\"],\n",
        "        unique_movie_titles=config[\"movie_titles\"],\n",
        "        loss=loss\n",
        "    )\n",
        "    model.compile(\n",
        "        tf.keras.optimizers.Adam(learning_rate=config[\"learning_rate\"]),\n",
        "        loss=loss,\n",
        "        metrics=model.metrics\n",
        "    )\n",
        "    # dummy to build graph\n",
        "    model((np.array(['0,']), np.array([['x', 'y'], ])))\n",
        "    return model\n",
        "\n",
        "\n",
        "model = create_model(model_config)\n",
        "model.summary()"
      ],
      "metadata": {
        "colab": {
          "base_uri": "https://localhost:8080/"
        },
        "id": "GkebCAfo8zqb",
        "outputId": "5af6b8a1-9340-44cc-fb64-5e502447e9d9"
      },
      "execution_count": 31,
      "outputs": [
        {
          "output_type": "stream",
          "name": "stdout",
          "text": [
            "Model: \"padded_to_ragged_ranking_model_1\"\n",
            "_________________________________________________________________\n",
            " Layer (type)                Output Shape              Param #   \n",
            "=================================================================\n",
            " user_emb (Sequential)       (None, 32)                193344    \n",
            "                                                                 \n",
            " movie_emb (Sequential)      (None, None, 32)          123744    \n",
            "                                                                 \n",
            " MLP (Sequential)            (1, None, 1)              33153     \n",
            "                                                                 \n",
            " ranking_2 (Ranking)         multiple                  0 (unused)\n",
            "                                                                 \n",
            "=================================================================\n",
            "Total params: 350,241\n",
            "Trainable params: 350,241\n",
            "Non-trainable params: 0\n",
            "_________________________________________________________________\n"
          ]
        }
      ]
    },
    {
      "cell_type": "code",
      "source": [
        "def test_row(row, model):\n",
        "    features = [ np.array([row[key]]) for key in [\"userid\", \"titles\"]]\n",
        "\n",
        "    print(features[0].shape, features[1].shape)\n",
        "    labels = np.array([row[\"ratings\"]])\n",
        "    print(labels.shape)\n",
        "    scores = model(features, padding=False)\n",
        "    print(scores.shape)\n",
        "    scores = model(features, padding=True)\n",
        "    print(scores.shape)\n",
        "    loss_value = model.compute_loss((features, labels))\n",
        "    print(loss_value) \n",
        "\n",
        "for row in sdf_list_padded.take(1):\n",
        "    test_row(row, model)\n",
        "\n",
        "for row in sdf_list_padded_test.take(1):\n",
        "    test_row(row, model)"
      ],
      "metadata": {
        "colab": {
          "base_uri": "https://localhost:8080/"
        },
        "id": "7_P8UI_a-t6x",
        "outputId": "536a7a61-5b27-47f5-a7cb-d51df690b79f"
      },
      "execution_count": 32,
      "outputs": [
        {
          "output_type": "stream",
          "name": "stderr",
          "text": [
            ""
          ]
        },
        {
          "output_type": "stream",
          "name": "stdout",
          "text": [
            "(1,) (1, 1922)\n",
            "(1, 1922)\n",
            "(1, None)\n",
            "(1, 1922)\n",
            "tf.Tensor(12614.76, shape=(), dtype=float32)\n"
          ]
        },
        {
          "output_type": "stream",
          "name": "stderr",
          "text": [
            "[Stage 59:>                                                         (0 + 1) / 1]"
          ]
        },
        {
          "output_type": "stream",
          "name": "stdout",
          "text": [
            "(1,) (1, 312)\n",
            "(1, 312)\n",
            "(1, None)\n",
            "(1, 312)\n",
            "tf.Tensor(1483.7595, shape=(), dtype=float32)\n"
          ]
        },
        {
          "output_type": "stream",
          "name": "stderr",
          "text": [
            "\r                                                                                \r"
          ]
        }
      ]
    },
    {
      "cell_type": "code",
      "source": [
        "all_data_count = sdf_list_padded_all.count()\n",
        "train_data_count = sdf_list_padded.count()\n",
        "test_data_count = sdf_list_padded_test.count()\n",
        "\n",
        "print(train_data_count, test_data_count, all_data_count)"
      ],
      "metadata": {
        "id": "DLMq16vBMvOo",
        "outputId": "7b364ce4-1472-4a0c-cc9f-b4866ae509f2",
        "colab": {
          "base_uri": "https://localhost:8080/"
        }
      },
      "execution_count": 33,
      "outputs": [
        {
          "output_type": "stream",
          "name": "stderr",
          "text": [
            "[Stage 75:=====================================================>(197 + 1) / 200]"
          ]
        },
        {
          "output_type": "stream",
          "name": "stdout",
          "text": [
            "6040 6009 6040\n"
          ]
        },
        {
          "output_type": "stream",
          "name": "stderr",
          "text": [
            "\r                                                                                \r"
          ]
        }
      ]
    },
    {
      "cell_type": "code",
      "source": [
        "from bigdl.orca.learn.tf2 import Estimator\n",
        "\n",
        "est = Estimator.from_keras(model_creator=create_model,  config=model_config, workers_per_node=1)\n"
      ],
      "metadata": {
        "colab": {
          "base_uri": "https://localhost:8080/"
        },
        "id": "D6L5tWaSE7aY",
        "outputId": "89f81053-2948-4c34-f97f-768c8ca0072f"
      },
      "execution_count": 34,
      "outputs": [
        {
          "output_type": "stream",
          "name": "stderr",
          "text": [
            "2022-03-03 06:34:09,822\tINFO services.py:1340 -- View the Ray dashboard at \u001b[1m\u001b[32mhttp://172.28.0.2:8265\u001b[39m\u001b[22m\n"
          ]
        },
        {
          "output_type": "stream",
          "name": "stdout",
          "text": [
            "{'node_ip_address': '172.28.0.2', 'raylet_ip_address': '172.28.0.2', 'redis_address': '172.28.0.2:6379', 'object_store_address': '/tmp/ray/session_2022-03-03_06-34-06_429854_78/sockets/plasma_store', 'raylet_socket_name': '/tmp/ray/session_2022-03-03_06-34-06_429854_78/sockets/raylet', 'webui_url': '172.28.0.2:8265', 'session_dir': '/tmp/ray/session_2022-03-03_06-34-06_429854_78', 'metrics_export_port': 37560, 'node_id': 'a6dcd838ac19f6164120c628a364a3e7bb20de09b1a87a2df117d62c'}\n"
          ]
        },
        {
          "output_type": "stream",
          "name": "stderr",
          "text": [
            "\u001b[2m\u001b[36m(Worker pid=17254)\u001b[0m WARNING:tensorflow:From /usr/local/lib/python3.7/dist-packages/bigdl/orca/learn/tf2/tf_runner.py:317: _CollectiveAllReduceStrategyExperimental.__init__ (from tensorflow.python.distribute.collective_all_reduce_strategy) is deprecated and will be removed in a future version.\n",
            "\u001b[2m\u001b[36m(Worker pid=17254)\u001b[0m Instructions for updating:\n",
            "\u001b[2m\u001b[36m(Worker pid=17254)\u001b[0m use distribute.MultiWorkerMirroredStrategy instead\n",
            "\u001b[2m\u001b[36m(Worker pid=17254)\u001b[0m 2022-03-03 06:34:15.682012: E tensorflow/stream_executor/cuda/cuda_driver.cc:271] failed call to cuInit: CUDA_ERROR_NO_DEVICE: no CUDA-capable device is detected\n"
          ]
        }
      ]
    },
    {
      "cell_type": "code",
      "source": [
        "batch_size = 256\n",
        "epochs = 32\n",
        "(all_data_count // batch_size)"
      ],
      "metadata": {
        "id": "3KzW62p5-ZBi",
        "outputId": "01e67978-8ae8-470a-ef4c-4b4318d911cf",
        "colab": {
          "base_uri": "https://localhost:8080/"
        }
      },
      "execution_count": 37,
      "outputs": [
        {
          "output_type": "execute_result",
          "data": {
            "text/plain": [
              "23"
            ]
          },
          "metadata": {},
          "execution_count": 37
        }
      ]
    },
    {
      "cell_type": "code",
      "source": [
        "sdf_list_padded_all.printSchema()"
      ],
      "metadata": {
        "id": "JrDY8SHqEUSs",
        "outputId": "f7af02a8-c5dc-4fea-a509-38096e6d8891",
        "colab": {
          "base_uri": "https://localhost:8080/"
        }
      },
      "execution_count": 38,
      "outputs": [
        {
          "output_type": "stream",
          "name": "stdout",
          "text": [
            "root\n",
            " |-- userid: string (nullable = true)\n",
            " |-- titles: array (nullable = true)\n",
            " |    |-- element: string (containsNull = true)\n",
            " |-- ratings: array (nullable = true)\n",
            " |    |-- element: integer (containsNull = true)\n",
            " |-- len: integer (nullable = true)\n",
            "\n"
          ]
        }
      ]
    },
    {
      "cell_type": "code",
      "source": [
        "\n",
        "\n",
        "feature_cols = ['userid', \"titles\"]\n",
        "label_cols = [\"ratings\"]\n",
        "all_cols = feature_cols + label_cols\n",
        "# data_count = all_data_count\n",
        "data_count = test_data_count\n",
        "stats = est.fit(\n",
        "    sdf_list_padded,\n",
        "    epochs=epochs,\n",
        "    batch_size=batch_size,\n",
        "    feature_cols=feature_cols,\n",
        "    label_cols=label_cols,\n",
        "    steps_per_epoch=(data_count // batch_size),\n",
        "    validation_data=sdf_list_padded_test,\n",
        "    validation_steps=1,\n",
        "    verbose=False\n",
        ")"
      ],
      "metadata": {
        "colab": {
          "base_uri": "https://localhost:8080/"
        },
        "id": "pL89jISjFVFb",
        "outputId": "cf86bac6-4b61-4027-a57d-439ba604accc"
      },
      "execution_count": 39,
      "outputs": [
        {
          "output_type": "stream",
          "name": "stderr",
          "text": [
            "2022-03-03 06:38:11,838\tINFO worker.py:843 -- Connecting to existing Ray cluster at address: 172.28.0.2:6379\n",
            "[Stage 94:=====================================================>(163 + 1) / 165]Partition 164 is empty.\n",
            "\u001b[2m\u001b[36m(Worker pid=17254)\u001b[0m tcmalloc: large alloc 3807715328 bytes == 0x563f4f9a8000 @  0x7f6daaa0d001 0x7f6da593f1af 0x7f6da5995c23 0x7f6da5a3e86d 0x7f6da5a3f17f 0x7f6da5a3f2d0 0x563f44b46638 0x7f6da5980944 0x563f44b44317 0x563f44b44120 0x563f44bb7f33 0x563f44bb302f 0x563f44b45aba 0x563f44bb4cd4 0x563f44bb366e 0x563f44b45aba 0x563f44bb3eae 0x563f44bb302f 0x563f44b45aba 0x563f44bb4cd4 0x563f44bb302f 0x563f44b45aba 0x563f44bb4cd4 0x563f44bb366e 0x563f44b45aba 0x563f44bb4cd4 0x563f44bb302f 0x563f44b45aba 0x563f44bb4cd4 0x563f44bb302f 0x563f44a84e2b\n",
            "\u001b[2m\u001b[36m(Worker pid=17254)\u001b[0m WARNING:tensorflow:From /usr/local/lib/python3.7/dist-packages/bigdl/orca/learn/tf2/tf_runner.py:195: StrategyBase.experimental_distribute_datasets_from_function (from tensorflow.python.distribute.distribute_lib) is deprecated and will be removed in a future version.\n",
            "\u001b[2m\u001b[36m(Worker pid=17254)\u001b[0m Instructions for updating:\n",
            "\u001b[2m\u001b[36m(Worker pid=17254)\u001b[0m rename to distribute_datasets_from_function\n",
            "\u001b[2m\u001b[36m(Worker pid=17254)\u001b[0m 2022-03-03 06:41:11.833014: W tensorflow/core/framework/dataset.cc:744] Input of GeneratorDatasetOp::Dataset will not be optimized because the dataset does not implement the AsGraphDefInternal() method needed to apply optimizations.\n",
            "\u001b[2m\u001b[36m(Worker pid=17254)\u001b[0m /usr/local/lib/python3.7/dist-packages/tensorflow/python/framework/indexed_slices.py:450: UserWarning: Converting sparse IndexedSlices(IndexedSlices(indices=Tensor(\"gradient_tape/ranking/ListMLELoss/RaggedToTensor_2/boolean_mask_1/GatherV2:0\", shape=(None,), dtype=int32, device=/job:worker/replica:0/task:0/device:CPU:0), values=Tensor(\"gradient_tape/ranking/ListMLELoss/RaggedToTensor_2/boolean_mask/GatherV2:0\", shape=(None,), dtype=float32, device=/job:worker/replica:0/task:0/device:CPU:0), dense_shape=Tensor(\"gradient_tape/ranking/ListMLELoss/RaggedToTensor_2/Shape:0\", shape=(1,), dtype=int32, device=/job:worker/replica:0/task:0/device:CPU:0))) to a dense Tensor of unknown shape. This may consume a large amount of memory.\n",
            "\u001b[2m\u001b[36m(Worker pid=17254)\u001b[0m   \"shape. This may consume a large amount of memory.\" % value)\n",
            "\u001b[2m\u001b[36m(Worker pid=17254)\u001b[0m 2022-03-03 06:41:47.496340: W tensorflow/core/framework/dataset.cc:744] Input of GeneratorDatasetOp::Dataset will not be optimized because the dataset does not implement the AsGraphDefInternal() method needed to apply optimizations.\n",
            "\u001b[2m\u001b[36m(Worker pid=17254)\u001b[0m 2022-03-03 06:42:13.905436: W tensorflow/core/framework/op_kernel.cc:1745] OP_REQUIRES failed at multi_device_iterator_ops.cc:789 : NOT_FOUND: Resource AnonymousMultiDeviceIterator/AnonymousMultiDeviceIterator6/N10tensorflow4data12_GLOBAL__N_119MultiDeviceIteratorE does not exist.\n",
            "\u001b[2m\u001b[36m(Worker pid=17254)\u001b[0m 2022-03-03 06:42:21.900466: W tensorflow/core/framework/dataset.cc:744] Input of GeneratorDatasetOp::Dataset will not be optimized because the dataset does not implement the AsGraphDefInternal() method needed to apply optimizations.\n",
            "\u001b[2m\u001b[36m(Worker pid=17254)\u001b[0m 2022-03-03 06:42:55.502845: W tensorflow/core/framework/dataset.cc:744] Input of GeneratorDatasetOp::Dataset will not be optimized because the dataset does not implement the AsGraphDefInternal() method needed to apply optimizations.\n",
            "\u001b[2m\u001b[36m(Worker pid=17254)\u001b[0m 2022-03-03 06:43:12.189468: W tensorflow/core/framework/op_kernel.cc:1745] OP_REQUIRES failed at multi_device_iterator_ops.cc:789 : NOT_FOUND: Resource AnonymousMultiDeviceIterator/AnonymousMultiDeviceIterator13/N10tensorflow4data12_GLOBAL__N_119MultiDeviceIteratorE does not exist.\n",
            "\u001b[2m\u001b[36m(Worker pid=17254)\u001b[0m 2022-03-03 06:43:28.620277: W tensorflow/core/framework/dataset.cc:744] Input of GeneratorDatasetOp::Dataset will not be optimized because the dataset does not implement the AsGraphDefInternal() method needed to apply optimizations.\n",
            "\u001b[2m\u001b[36m(Worker pid=17254)\u001b[0m 2022-03-03 06:44:02.032468: W tensorflow/core/framework/dataset.cc:744] Input of GeneratorDatasetOp::Dataset will not be optimized because the dataset does not implement the AsGraphDefInternal() method needed to apply optimizations.\n",
            "\u001b[2m\u001b[36m(Worker pid=17254)\u001b[0m 2022-03-03 06:44:36.373033: W tensorflow/core/framework/dataset.cc:744] Input of GeneratorDatasetOp::Dataset will not be optimized because the dataset does not implement the AsGraphDefInternal() method needed to apply optimizations.\n",
            "\u001b[2m\u001b[36m(Worker pid=17254)\u001b[0m 2022-03-03 06:44:36.447995: W tensorflow/core/framework/op_kernel.cc:1745] OP_REQUIRES failed at multi_device_iterator_ops.cc:789 : NOT_FOUND: Resource AnonymousMultiDeviceIterator/AnonymousMultiDeviceIterator23/N10tensorflow4data12_GLOBAL__N_119MultiDeviceIteratorE does not exist.\n",
            "\u001b[2m\u001b[36m(Worker pid=17254)\u001b[0m 2022-03-03 06:44:53.415824: W tensorflow/core/framework/op_kernel.cc:1745] OP_REQUIRES failed at multi_device_iterator_ops.cc:789 : NOT_FOUND: Resource AnonymousMultiDeviceIterator/AnonymousMultiDeviceIterator25/N10tensorflow4data12_GLOBAL__N_119MultiDeviceIteratorE does not exist.\n",
            "\u001b[2m\u001b[36m(Worker pid=17254)\u001b[0m 2022-03-03 06:45:10.743341: W tensorflow/core/framework/dataset.cc:744] Input of GeneratorDatasetOp::Dataset will not be optimized because the dataset does not implement the AsGraphDefInternal() method needed to apply optimizations.\n",
            "\u001b[2m\u001b[36m(Worker pid=17254)\u001b[0m 2022-03-03 06:45:44.763958: W tensorflow/core/framework/dataset.cc:744] Input of GeneratorDatasetOp::Dataset will not be optimized because the dataset does not implement the AsGraphDefInternal() method needed to apply optimizations.\n"
          ]
        }
      ]
    },
    {
      "cell_type": "code",
      "source": [
        "for stat in stats:\n",
        "    for key, value in stat.items():\n",
        "        print(key, value)\n"
      ],
      "metadata": {
        "id": "_FMjiNaXRwaE",
        "outputId": "cb7ea06d-bd52-41c8-8e65-8bc835db3cf1",
        "colab": {
          "base_uri": "https://localhost:8080/"
        }
      },
      "execution_count": 40,
      "outputs": [
        {
          "output_type": "stream",
          "name": "stdout",
          "text": [
            "train_ndcg_metric 0.9545707702636719\n",
            "train_root_mean_squared_error 5.731578350067139\n",
            "train_loss 1111309.125\n",
            "train_regularization_loss 0\n",
            "train_total_loss 1111309.125\n",
            "train_val_ndcg_metric 0.9027299880981445\n",
            "train_val_root_mean_squared_error 6.370161533355713\n",
            "train_val_loss 199557.21875\n",
            "train_val_regularization_loss 0\n",
            "train_val_total_loss 199557.21875\n"
          ]
        }
      ]
    },
    {
      "cell_type": "code",
      "source": [
        "stats = est.evaluate(\n",
        "    sdf_list_padded_test,\n",
        "    feature_cols=feature_cols,\n",
        "    label_cols=label_cols,\n",
        "    num_steps=1,\n",
        "    verbose=False\n",
        ")"
      ],
      "metadata": {
        "id": "x_CL2CU1SWkc",
        "outputId": "1b1828c7-7122-48e4-81bc-e8c856e6998a",
        "colab": {
          "base_uri": "https://localhost:8080/"
        }
      },
      "execution_count": 41,
      "outputs": [
        {
          "output_type": "stream",
          "name": "stderr",
          "text": [
            "2022-03-03 06:47:55,370\tWARNING worker.py:1245 -- WARNING: 4 PYTHON worker processes have been started on node: a6dcd838ac19f6164120c628a364a3e7bb20de09b1a87a2df117d62c with address: 172.28.0.2. This could be a result of using a large number of actors, or due to tasks blocked in ray.get() calls (see https://github.com/ray-project/ray/issues/3644 for some discussion of workarounds).\n",
            "2022-03-03 06:47:57,084\tINFO worker.py:843 -- Connecting to existing Ray cluster at address: 172.28.0.2:6379\n",
            "\u001b[2m\u001b[36m(Worker pid=17254)\u001b[0m 2022-03-03 06:47:59.176035: W tensorflow/core/framework/dataset.cc:744] Input of GeneratorDatasetOp::Dataset will not be optimized because the dataset does not implement the AsGraphDefInternal() method needed to apply optimizations.\n"
          ]
        }
      ]
    },
    {
      "cell_type": "code",
      "source": [
        "for stat in stats:\n",
        "    for key, value in stat.items():\n",
        "        print(key, value)"
      ],
      "metadata": {
        "id": "1ZkVmWfiSmII",
        "outputId": "ef79c3d3-4135-4779-a14f-c4893d5134a6",
        "colab": {
          "base_uri": "https://localhost:8080/"
        }
      },
      "execution_count": 42,
      "outputs": [
        {
          "output_type": "stream",
          "name": "stdout",
          "text": [
            "validation_ndcg_metric 0.9092848896980286\n",
            "validation_root_mean_squared_error 6.974279403686523\n"
          ]
        }
      ]
    },
    {
      "cell_type": "code",
      "source": [
        "sdf_output = est.predict(\n",
        "    sdf_list_padded_test,\n",
        "    feature_cols=feature_cols,\n",
        "    steps=1,\n",
        "    verbose=False\n",
        ")"
      ],
      "metadata": {
        "id": "BropFzcATEuu",
        "outputId": "e7946355-ecaa-4720-9ba4-02c497f29c22",
        "colab": {
          "base_uri": "https://localhost:8080/"
        }
      },
      "execution_count": 43,
      "outputs": [
        {
          "output_type": "stream",
          "name": "stderr",
          "text": [
            "2022-03-03 06:48:33,631\tWARNING worker.py:1245 -- WARNING: 5 PYTHON worker processes have been started on node: a6dcd838ac19f6164120c628a364a3e7bb20de09b1a87a2df117d62c with address: 172.28.0.2. This could be a result of using a large number of actors, or due to tasks blocked in ray.get() calls (see https://github.com/ray-project/ray/issues/3644 for some discussion of workarounds).\n",
            "2022-03-03 06:48:33,792\tWARNING worker.py:1245 -- WARNING: 5 PYTHON worker processes have been started on node: a6dcd838ac19f6164120c628a364a3e7bb20de09b1a87a2df117d62c with address: 172.28.0.2. This could be a result of using a large number of actors, or due to tasks blocked in ray.get() calls (see https://github.com/ray-project/ray/issues/3644 for some discussion of workarounds).\n",
            "2022-03-03 06:48:34,860\tINFO worker.py:843 -- Connecting to existing Ray cluster at address: 172.28.0.2:6379\n",
            "[Stage 131:======================================================>(73 + 1) / 74]Partition 73 is empty.\n",
            "2022-03-03 06:48:47,664\tWARNING worker.py:1245 -- WARNING: 6 PYTHON worker processes have been started on node: a6dcd838ac19f6164120c628a364a3e7bb20de09b1a87a2df117d62c with address: 172.28.0.2. This could be a result of using a large number of actors, or due to tasks blocked in ray.get() calls (see https://github.com/ray-project/ray/issues/3644 for some discussion of workarounds).\n",
            "2022-03-03 06:48:47,668\tWARNING worker.py:1245 -- WARNING: 6 PYTHON worker processes have been started on node: a6dcd838ac19f6164120c628a364a3e7bb20de09b1a87a2df117d62c with address: 172.28.0.2. This could be a result of using a large number of actors, or due to tasks blocked in ray.get() calls (see https://github.com/ray-project/ray/issues/3644 for some discussion of workarounds).\n",
            "2022-03-03 06:48:47,671\tWARNING worker.py:1245 -- WARNING: 6 PYTHON worker processes have been started on node: a6dcd838ac19f6164120c628a364a3e7bb20de09b1a87a2df117d62c with address: 172.28.0.2. This could be a result of using a large number of actors, or due to tasks blocked in ray.get() calls (see https://github.com/ray-project/ray/issues/3644 for some discussion of workarounds).\n",
            "\u001b[2m\u001b[36m(Worker pid=17254)\u001b[0m WARNING:tensorflow:AutoGraph could not transform <bound method PaddedToRaggedRankingModel.call of <types.PaddedToRaggedRankingModel object at 0x7f6c1a3a96d0>> and will run it as-is.\n",
            "\u001b[2m\u001b[36m(Worker pid=17254)\u001b[0m Cause: Unable to locate the source code of <bound method PaddedToRaggedRankingModel.call of <types.PaddedToRaggedRankingModel object at 0x7f6c1a3a96d0>>. Note that functions defined in certain environments, like the interactive Python shell, do not expose their source code. If that is the case, you should define them in a .py source file. If you are certain the code is graph-compatible, wrap the call using @tf.autograph.experimental.do_not_convert. Original error: could not get source code\n",
            "\u001b[2m\u001b[36m(Worker pid=17254)\u001b[0m To silence this warning, decorate the function with @tf.autograph.experimental.do_not_convert\n",
            "[Stage 140:>                                                       (0 + 1) / 74]2022-03-03 06:48:54,116\tINFO worker.py:843 -- Connecting to existing Ray cluster at address: 172.28.0.2:6379\n",
            "[Stage 140:>                                                       (1 + 1) / 74]2022-03-03 06:48:55,987\tINFO worker.py:843 -- Connecting to existing Ray cluster at address: 172.28.0.2:6379\n",
            "[Stage 140:=>                                                      (2 + 1) / 74]2022-03-03 06:48:58,044\tINFO worker.py:843 -- Connecting to existing Ray cluster at address: 172.28.0.2:6379\n",
            "[Stage 140:==>                                                     (3 + 1) / 74]\u001b[2m\u001b[36m(Worker pid=17254)\u001b[0m WARNING:tensorflow:5 out of the last 5 calls to <function Model.make_predict_function.<locals>.predict_function at 0x7f6c1c486680> triggered tf.function retracing. Tracing is expensive and the excessive number of tracings could be due to (1) creating @tf.function repeatedly in a loop, (2) passing tensors with different shapes, (3) passing Python objects instead of tensors. For (1), please define your @tf.function outside of the loop. For (2), @tf.function has experimental_relax_shapes=True option that relaxes argument shapes that can avoid unnecessary retracing. For (3), please refer to https://www.tensorflow.org/guide/function#controlling_retracing and https://www.tensorflow.org/api_docs/python/tf/function for  more details.\n",
            "2022-03-03 06:48:59,829\tINFO worker.py:843 -- Connecting to existing Ray cluster at address: 172.28.0.2:6379\n",
            "[Stage 140:===>                                                    (4 + 1) / 74]2022-03-03 06:49:01,551\tINFO worker.py:843 -- Connecting to existing Ray cluster at address: 172.28.0.2:6379\n",
            "[Stage 140:===>                                                    (5 + 1) / 74]\u001b[2m\u001b[36m(Worker pid=17254)\u001b[0m WARNING:tensorflow:6 out of the last 6 calls to <function Model.make_predict_function.<locals>.predict_function at 0x7f6c1c2fd170> triggered tf.function retracing. Tracing is expensive and the excessive number of tracings could be due to (1) creating @tf.function repeatedly in a loop, (2) passing tensors with different shapes, (3) passing Python objects instead of tensors. For (1), please define your @tf.function outside of the loop. For (2), @tf.function has experimental_relax_shapes=True option that relaxes argument shapes that can avoid unnecessary retracing. For (3), please refer to https://www.tensorflow.org/guide/function#controlling_retracing and https://www.tensorflow.org/api_docs/python/tf/function for  more details.\n",
            "2022-03-03 06:49:03,560\tINFO worker.py:843 -- Connecting to existing Ray cluster at address: 172.28.0.2:6379\n",
            "[Stage 140:====>                                                   (6 + 1) / 74]2022-03-03 06:49:05,313\tINFO worker.py:843 -- Connecting to existing Ray cluster at address: 172.28.0.2:6379\n",
            "[Stage 140:=====>                                                  (7 + 1) / 74]2022-03-03 06:49:07,180\tINFO worker.py:843 -- Connecting to existing Ray cluster at address: 172.28.0.2:6379\n",
            "[Stage 140:======>                                                 (8 + 1) / 74]2022-03-03 06:49:08,642\tINFO worker.py:843 -- Connecting to existing Ray cluster at address: 172.28.0.2:6379\n",
            "[Stage 140:======>                                                 (9 + 1) / 74]2022-03-03 06:49:09,807\tINFO worker.py:843 -- Connecting to existing Ray cluster at address: 172.28.0.2:6379\n",
            "[Stage 140:=======>                                               (10 + 1) / 74]2022-03-03 06:49:10,983\tINFO worker.py:843 -- Connecting to existing Ray cluster at address: 172.28.0.2:6379\n",
            "[Stage 140:========>                                              (11 + 1) / 74]2022-03-03 06:49:12,166\tINFO worker.py:843 -- Connecting to existing Ray cluster at address: 172.28.0.2:6379\n",
            "[Stage 140:========>                                              (12 + 1) / 74]2022-03-03 06:49:13,332\tINFO worker.py:843 -- Connecting to existing Ray cluster at address: 172.28.0.2:6379\n",
            "[Stage 140:=========>                                             (13 + 1) / 74]2022-03-03 06:49:14,538\tINFO worker.py:843 -- Connecting to existing Ray cluster at address: 172.28.0.2:6379\n",
            "[Stage 140:==========>                                            (14 + 1) / 74]2022-03-03 06:49:15,787\tINFO worker.py:843 -- Connecting to existing Ray cluster at address: 172.28.0.2:6379\n",
            "[Stage 140:===========>                                           (15 + 1) / 74]2022-03-03 06:49:17,096\tINFO worker.py:843 -- Connecting to existing Ray cluster at address: 172.28.0.2:6379\n",
            "[Stage 140:===========>                                           (16 + 1) / 74]2022-03-03 06:49:18,273\tINFO worker.py:843 -- Connecting to existing Ray cluster at address: 172.28.0.2:6379\n",
            "[Stage 140:============>                                          (17 + 1) / 74]2022-03-03 06:49:19,547\tINFO worker.py:843 -- Connecting to existing Ray cluster at address: 172.28.0.2:6379\n",
            "[Stage 140:=============>                                         (18 + 1) / 74]2022-03-03 06:49:20,747\tINFO worker.py:843 -- Connecting to existing Ray cluster at address: 172.28.0.2:6379\n",
            "[Stage 140:==============>                                        (19 + 1) / 74]2022-03-03 06:49:21,965\tINFO worker.py:843 -- Connecting to existing Ray cluster at address: 172.28.0.2:6379\n",
            "[Stage 140:==============>                                        (20 + 1) / 74]2022-03-03 06:49:23,182\tINFO worker.py:843 -- Connecting to existing Ray cluster at address: 172.28.0.2:6379\n",
            "[Stage 140:===============>                                       (21 + 1) / 74]2022-03-03 06:49:24,424\tINFO worker.py:843 -- Connecting to existing Ray cluster at address: 172.28.0.2:6379\n",
            "[Stage 140:================>                                      (22 + 1) / 74]2022-03-03 06:49:25,643\tINFO worker.py:843 -- Connecting to existing Ray cluster at address: 172.28.0.2:6379\n",
            "[Stage 140:=================>                                     (23 + 1) / 74]2022-03-03 06:49:26,844\tINFO worker.py:843 -- Connecting to existing Ray cluster at address: 172.28.0.2:6379\n",
            "[Stage 140:=================>                                     (24 + 1) / 74]2022-03-03 06:49:28,114\tINFO worker.py:843 -- Connecting to existing Ray cluster at address: 172.28.0.2:6379\n",
            "[Stage 140:==================>                                    (25 + 1) / 74]2022-03-03 06:49:29,312\tINFO worker.py:843 -- Connecting to existing Ray cluster at address: 172.28.0.2:6379\n",
            "[Stage 140:===================>                                   (26 + 1) / 74]2022-03-03 06:49:30,435\tINFO worker.py:843 -- Connecting to existing Ray cluster at address: 172.28.0.2:6379\n",
            "[Stage 140:====================>                                  (27 + 1) / 74]2022-03-03 06:49:31,608\tINFO worker.py:843 -- Connecting to existing Ray cluster at address: 172.28.0.2:6379\n",
            "[Stage 140:====================>                                  (28 + 1) / 74]2022-03-03 06:49:32,731\tINFO worker.py:843 -- Connecting to existing Ray cluster at address: 172.28.0.2:6379\n",
            "[Stage 140:=====================>                                 (29 + 1) / 74]2022-03-03 06:49:33,916\tINFO worker.py:843 -- Connecting to existing Ray cluster at address: 172.28.0.2:6379\n",
            "[Stage 140:======================>                                (30 + 1) / 74]2022-03-03 06:49:35,147\tINFO worker.py:843 -- Connecting to existing Ray cluster at address: 172.28.0.2:6379\n",
            "[Stage 140:=======================>                               (31 + 1) / 74]2022-03-03 06:49:36,404\tINFO worker.py:843 -- Connecting to existing Ray cluster at address: 172.28.0.2:6379\n",
            "[Stage 140:=======================>                               (32 + 1) / 74]2022-03-03 06:49:37,561\tINFO worker.py:843 -- Connecting to existing Ray cluster at address: 172.28.0.2:6379\n",
            "[Stage 140:========================>                              (33 + 1) / 74]2022-03-03 06:49:38,838\tINFO worker.py:843 -- Connecting to existing Ray cluster at address: 172.28.0.2:6379\n",
            "[Stage 140:=========================>                             (34 + 1) / 74]2022-03-03 06:49:40,362\tINFO worker.py:843 -- Connecting to existing Ray cluster at address: 172.28.0.2:6379\n",
            "[Stage 140:==========================>                            (35 + 1) / 74]2022-03-03 06:49:41,549\tINFO worker.py:843 -- Connecting to existing Ray cluster at address: 172.28.0.2:6379\n",
            "[Stage 140:==========================>                            (36 + 1) / 74]2022-03-03 06:49:42,767\tINFO worker.py:843 -- Connecting to existing Ray cluster at address: 172.28.0.2:6379\n",
            "[Stage 140:===========================>                           (37 + 1) / 74]2022-03-03 06:49:44,051\tINFO worker.py:843 -- Connecting to existing Ray cluster at address: 172.28.0.2:6379\n",
            "[Stage 140:============================>                          (38 + 1) / 74]2022-03-03 06:49:45,274\tINFO worker.py:843 -- Connecting to existing Ray cluster at address: 172.28.0.2:6379\n",
            "[Stage 140:============================>                          (39 + 1) / 74]2022-03-03 06:49:46,553\tINFO worker.py:843 -- Connecting to existing Ray cluster at address: 172.28.0.2:6379\n",
            "[Stage 140:=============================>                         (40 + 1) / 74]2022-03-03 06:49:47,737\tINFO worker.py:843 -- Connecting to existing Ray cluster at address: 172.28.0.2:6379\n",
            "[Stage 140:==============================>                        (41 + 1) / 74]2022-03-03 06:49:48,985\tINFO worker.py:843 -- Connecting to existing Ray cluster at address: 172.28.0.2:6379\n",
            "[Stage 140:===============================>                       (42 + 1) / 74]2022-03-03 06:49:50,137\tINFO worker.py:843 -- Connecting to existing Ray cluster at address: 172.28.0.2:6379\n",
            "[Stage 140:===============================>                       (43 + 1) / 74]2022-03-03 06:49:51,298\tINFO worker.py:843 -- Connecting to existing Ray cluster at address: 172.28.0.2:6379\n",
            "[Stage 140:================================>                      (44 + 1) / 74]2022-03-03 06:49:52,598\tINFO worker.py:843 -- Connecting to existing Ray cluster at address: 172.28.0.2:6379\n",
            "[Stage 140:=================================>                     (45 + 1) / 74]2022-03-03 06:49:53,728\tINFO worker.py:843 -- Connecting to existing Ray cluster at address: 172.28.0.2:6379\n",
            "[Stage 140:==================================>                    (46 + 1) / 74]2022-03-03 06:49:54,975\tINFO worker.py:843 -- Connecting to existing Ray cluster at address: 172.28.0.2:6379\n",
            "[Stage 140:==================================>                    (47 + 1) / 74]2022-03-03 06:49:56,251\tINFO worker.py:843 -- Connecting to existing Ray cluster at address: 172.28.0.2:6379\n",
            "[Stage 140:===================================>                   (48 + 1) / 74]2022-03-03 06:49:57,450\tINFO worker.py:843 -- Connecting to existing Ray cluster at address: 172.28.0.2:6379\n",
            "[Stage 140:====================================>                  (49 + 1) / 74]2022-03-03 06:49:58,698\tINFO worker.py:843 -- Connecting to existing Ray cluster at address: 172.28.0.2:6379\n",
            "[Stage 140:=====================================>                 (50 + 1) / 74]2022-03-03 06:49:59,888\tINFO worker.py:843 -- Connecting to existing Ray cluster at address: 172.28.0.2:6379\n",
            "[Stage 140:=====================================>                 (51 + 1) / 74]2022-03-03 06:50:01,231\tINFO worker.py:843 -- Connecting to existing Ray cluster at address: 172.28.0.2:6379\n",
            "[Stage 140:======================================>                (52 + 1) / 74]2022-03-03 06:50:02,453\tINFO worker.py:843 -- Connecting to existing Ray cluster at address: 172.28.0.2:6379\n",
            "[Stage 140:=======================================>               (53 + 1) / 74]2022-03-03 06:50:03,641\tINFO worker.py:843 -- Connecting to existing Ray cluster at address: 172.28.0.2:6379\n",
            "[Stage 140:========================================>              (54 + 1) / 74]2022-03-03 06:50:04,861\tINFO worker.py:843 -- Connecting to existing Ray cluster at address: 172.28.0.2:6379\n",
            "[Stage 140:========================================>              (55 + 1) / 74]2022-03-03 06:50:06,114\tINFO worker.py:843 -- Connecting to existing Ray cluster at address: 172.28.0.2:6379\n",
            "[Stage 140:=========================================>             (56 + 1) / 74]2022-03-03 06:50:07,315\tINFO worker.py:843 -- Connecting to existing Ray cluster at address: 172.28.0.2:6379\n",
            "[Stage 140:==========================================>            (57 + 1) / 74]2022-03-03 06:50:08,499\tINFO worker.py:843 -- Connecting to existing Ray cluster at address: 172.28.0.2:6379\n",
            "[Stage 140:===========================================>           (58 + 1) / 74]2022-03-03 06:50:09,743\tINFO worker.py:843 -- Connecting to existing Ray cluster at address: 172.28.0.2:6379\n",
            "[Stage 140:===========================================>           (59 + 1) / 74]2022-03-03 06:50:11,000\tINFO worker.py:843 -- Connecting to existing Ray cluster at address: 172.28.0.2:6379\n",
            "[Stage 140:============================================>          (60 + 1) / 74]2022-03-03 06:50:12,242\tINFO worker.py:843 -- Connecting to existing Ray cluster at address: 172.28.0.2:6379\n",
            "[Stage 140:=============================================>         (61 + 1) / 74]2022-03-03 06:50:13,371\tINFO worker.py:843 -- Connecting to existing Ray cluster at address: 172.28.0.2:6379\n",
            "[Stage 140:==============================================>        (62 + 1) / 74]2022-03-03 06:50:14,641\tINFO worker.py:843 -- Connecting to existing Ray cluster at address: 172.28.0.2:6379\n",
            "[Stage 140:==============================================>        (63 + 1) / 74]2022-03-03 06:50:15,894\tINFO worker.py:843 -- Connecting to existing Ray cluster at address: 172.28.0.2:6379\n",
            "[Stage 140:===============================================>       (64 + 1) / 74]2022-03-03 06:50:17,054\tINFO worker.py:843 -- Connecting to existing Ray cluster at address: 172.28.0.2:6379\n",
            "[Stage 140:================================================>      (65 + 1) / 74]2022-03-03 06:50:18,304\tINFO worker.py:843 -- Connecting to existing Ray cluster at address: 172.28.0.2:6379\n",
            "[Stage 140:=================================================>     (66 + 1) / 74]2022-03-03 06:50:19,532\tINFO worker.py:843 -- Connecting to existing Ray cluster at address: 172.28.0.2:6379\n",
            "[Stage 140:=================================================>     (67 + 1) / 74]2022-03-03 06:50:20,838\tINFO worker.py:843 -- Connecting to existing Ray cluster at address: 172.28.0.2:6379\n",
            "[Stage 140:==================================================>    (68 + 1) / 74]2022-03-03 06:50:22,546\tINFO worker.py:843 -- Connecting to existing Ray cluster at address: 172.28.0.2:6379\n",
            "[Stage 140:===================================================>   (69 + 1) / 74]2022-03-03 06:50:23,823\tINFO worker.py:843 -- Connecting to existing Ray cluster at address: 172.28.0.2:6379\n",
            "[Stage 140:====================================================>  (70 + 1) / 74]2022-03-03 06:50:25,110\tINFO worker.py:843 -- Connecting to existing Ray cluster at address: 172.28.0.2:6379\n",
            "[Stage 140:====================================================>  (71 + 1) / 74]2022-03-03 06:50:26,217\tINFO worker.py:843 -- Connecting to existing Ray cluster at address: 172.28.0.2:6379\n",
            "[Stage 140:=====================================================> (72 + 1) / 74]2022-03-03 06:50:27,539\tINFO worker.py:843 -- Connecting to existing Ray cluster at address: 172.28.0.2:6379\n",
            "[Stage 140:======================================================>(73 + 1) / 74]2022-03-03 06:50:28,617\tINFO worker.py:843 -- Connecting to existing Ray cluster at address: 172.28.0.2:6379\n"
          ]
        }
      ]
    },
    {
      "cell_type": "code",
      "source": [
        "sdf_output.printSchema()\n",
        "sdf_output.show(10)"
      ],
      "metadata": {
        "id": "mM0WrKN2UL1P",
        "outputId": "264135e2-b12a-46e6-af8b-737d6229d17e",
        "colab": {
          "base_uri": "https://localhost:8080/"
        }
      },
      "execution_count": 44,
      "outputs": [
        {
          "output_type": "stream",
          "name": "stdout",
          "text": [
            "root\n",
            " |-- userid: string (nullable = true)\n",
            " |-- titles: array (nullable = true)\n",
            " |    |-- element: string (containsNull = true)\n",
            " |-- ratings: array (nullable = true)\n",
            " |    |-- element: integer (containsNull = true)\n",
            " |-- len: integer (nullable = true)\n",
            " |-- prediction: vector (nullable = true)\n",
            "\n",
            "+------+--------------------+--------------------+---+--------------------+\n",
            "|userid|              titles|             ratings|len|          prediction|\n",
            "+------+--------------------+--------------------+---+--------------------+\n",
            "|  4169|[Parent Trap, The...|[4, 4, 1, 5, 3, 4...|312|[10.0495653152465...|\n",
            "|  1680|[GoldenEye (1995)...|[3, 3, 4, 4, 4, 4...|264|[10.7592430114746...|\n",
            "|  4277|[Extreme Measures...|[4, 4, 4, 4, 5, 5...|249|[9.35473918914795...|\n",
            "|  1181|[Shaggy Dog, The ...|[3, 3, 1, 3, 3, 3...|232|[10.0058364868164...|\n",
            "|   889|[Shall We Dance? ...|[5, 4, 2, 3, 2, 4...|226|[11.8175363540649...|\n",
            "|  1941|[Herbie Rides Aga...|[4, 5, 5, 4, 1, 4...|221|[10.2106609344482...|\n",
            "|  1449|[Angels in the Ou...|[1, 3, 5, 2, 4, 2...|201|[7.85968637466430...|\n",
            "|  2909|[GoldenEye (1995)...|[5, 5, 4, 3, 5, 4...|200|[10.9495792388916...|\n",
            "|  1150|[GoldenEye (1995)...|[2, 2, 3, 2, 2, 2...|195|[7.61406993865966...|\n",
            "|  5795|[GoldenEye (1995)...|[2, 4, 3, 1, 1, 5...|194|[8.02363967895507...|\n",
            "+------+--------------------+--------------------+---+--------------------+\n",
            "only showing top 10 rows\n",
            "\n"
          ]
        },
        {
          "output_type": "stream",
          "name": "stderr",
          "text": [
            "\r[Stage 146:>                                                        (0 + 1) / 1]\r                                                                                \r"
          ]
        }
      ]
    },
    {
      "cell_type": "code",
      "source": [
        "def unpad_prediction(sdf):\n",
        "    def unpad_list(lst, length):\n",
        "        return lst[:length]\n",
        "\n",
        "    unpad_str_udf = F.udf(lambda x, y: unpad_list(x, y), ArrayType(StringType(), True))\n",
        "    unpad_int_udf = F.udf(lambda x, y: unpad_list(x, y), ArrayType(IntegerType(), True))\n",
        "    unpad_pred_udf = F.udf(lambda x, y: unpad_list(x.toArray().tolist(), y), ArrayType(FloatType(), True))\n",
        "\n",
        "    sdf_out = (\n",
        "        sdf\n",
        "        .withColumn(\"titles\", unpad_str_udf(F.col(\"titles\"), F.col(\"len\")))\n",
        "        .withColumn(\"ratings\", unpad_int_udf(F.col(\"ratings\"), F.col(\"len\")))\n",
        "        .withColumn(\"prediction\", unpad_pred_udf(F.col(\"prediction\"), F.col(\"len\")))\n",
        "    ).sort(F.asc(\"len\"))\n",
        "\n",
        "    return sdf_out\n",
        "\n",
        "\n",
        "sdf_unpad = unpad_prediction(sdf_output)\n",
        "sdf_unpad.printSchema()\n",
        "sdf_unpad.show(10)\n",
        "    \n",
        "\n"
      ],
      "metadata": {
        "id": "RKHG7iWCUMHi",
        "outputId": "17fb757e-61a6-4f93-8a39-cd9ca9d847c2",
        "colab": {
          "base_uri": "https://localhost:8080/"
        }
      },
      "execution_count": 45,
      "outputs": [
        {
          "output_type": "stream",
          "name": "stdout",
          "text": [
            "root\n",
            " |-- userid: string (nullable = true)\n",
            " |-- titles: array (nullable = true)\n",
            " |    |-- element: string (containsNull = true)\n",
            " |-- ratings: array (nullable = true)\n",
            " |    |-- element: integer (containsNull = true)\n",
            " |-- len: integer (nullable = true)\n",
            " |-- prediction: array (nullable = true)\n",
            " |    |-- element: float (containsNull = true)\n",
            "\n"
          ]
        },
        {
          "output_type": "stream",
          "name": "stderr",
          "text": [
            ""
          ]
        },
        {
          "output_type": "stream",
          "name": "stdout",
          "text": [
            "+------+--------------------+-------+---+-----------+\n",
            "|userid|              titles|ratings|len| prediction|\n",
            "+------+--------------------+-------+---+-----------+\n",
            "|  1510|[Legends of the F...|    [4]|  1| [9.297303]|\n",
            "|  1259|[Return of the Fl...|    [4]|  1|[6.5021152]|\n",
            "|  5863|[Stuart Little (1...|    [3]|  1| [8.567881]|\n",
            "|  4988|[Dead Man Walking...|    [5]|  1| [7.544215]|\n",
            "|  1936|[Sound of Music, ...|    [4]|  1|[5.5240088]|\n",
            "|  1620| [Limey, The (1999)]|    [4]|  1| [8.162466]|\n",
            "|  1282| [Roger & Me (1989)]|    [5]|  1|[7.1391716]|\n",
            "|  3826|[Dead Man Walking...|    [4]|  1|[5.8432117]|\n",
            "|  2930|[Color Purple, Th...|    [3]|  1|[7.5742407]|\n",
            "|   747|[Saving Private R...|    [4]|  1|[10.410028]|\n",
            "+------+--------------------+-------+---+-----------+\n",
            "only showing top 10 rows\n",
            "\n"
          ]
        }
      ]
    },
    {
      "cell_type": "code",
      "source": [
        "est.save(\"./test_model.ckpt\")\n"
      ],
      "metadata": {
        "id": "SEifnXPIUMTf",
        "outputId": "92507ca1-2fa4-4ec0-d407-eaaa661959fc",
        "colab": {
          "base_uri": "https://localhost:8080/",
          "height": 35
        }
      },
      "execution_count": 46,
      "outputs": [
        {
          "output_type": "execute_result",
          "data": {
            "application/vnd.google.colaboratory.intrinsic+json": {
              "type": "string"
            },
            "text/plain": [
              "'./test_model.ckpt'"
            ]
          },
          "metadata": {},
          "execution_count": 46
        }
      ]
    },
    {
      "cell_type": "code",
      "source": [
        "est.shutdown()"
      ],
      "metadata": {
        "id": "NAtBaqV-WZS0"
      },
      "execution_count": 47,
      "outputs": []
    },
    {
      "cell_type": "code",
      "source": [
        "est = Estimator.from_keras(model_creator=create_model,  config=model_config, workers_per_node=1)"
      ],
      "metadata": {
        "id": "XcPXZX-aWi9y",
        "outputId": "ed866fd9-de02-4e2c-f810-bce7d2d7a744",
        "colab": {
          "base_uri": "https://localhost:8080/"
        }
      },
      "execution_count": 48,
      "outputs": [
        {
          "output_type": "stream",
          "name": "stderr",
          "text": [
            "\u001b[2m\u001b[36m(Worker pid=37204)\u001b[0m WARNING:tensorflow:From /usr/local/lib/python3.7/dist-packages/bigdl/orca/learn/tf2/tf_runner.py:317: _CollectiveAllReduceStrategyExperimental.__init__ (from tensorflow.python.distribute.collective_all_reduce_strategy) is deprecated and will be removed in a future version.\n",
            "\u001b[2m\u001b[36m(Worker pid=37204)\u001b[0m Instructions for updating:\n",
            "\u001b[2m\u001b[36m(Worker pid=37204)\u001b[0m use distribute.MultiWorkerMirroredStrategy instead\n",
            "\u001b[2m\u001b[36m(Worker pid=37204)\u001b[0m 2022-03-03 06:51:48.445349: E tensorflow/stream_executor/cuda/cuda_driver.cc:271] failed call to cuInit: CUDA_ERROR_NO_DEVICE: no CUDA-capable device is detected\n"
          ]
        }
      ]
    },
    {
      "cell_type": "code",
      "source": [
        "est.load(\"./test_model.ckpt\")"
      ],
      "metadata": {
        "id": "qscmuOCOWnZ7"
      },
      "execution_count": 49,
      "outputs": []
    },
    {
      "cell_type": "code",
      "source": [
        "sdf_output = est.predict(\n",
        "    sdf_list_padded_test,\n",
        "    feature_cols=feature_cols,\n",
        "    steps=1,\n",
        "    verbose=False,\n",
        ")"
      ],
      "metadata": {
        "id": "YT-jj1ywWzg6",
        "outputId": "3e9fff18-0810-4fed-9366-91fd6f95ff3f",
        "colab": {
          "base_uri": "https://localhost:8080/"
        }
      },
      "execution_count": 50,
      "outputs": [
        {
          "output_type": "stream",
          "name": "stderr",
          "text": [
            "2022-03-03 06:52:11,990\tINFO worker.py:843 -- Connecting to existing Ray cluster at address: 172.28.0.2:6379\n",
            "[Stage 155:>                                                       (1 + 1) / 74]2022-03-03 06:52:12,587\tINFO worker.py:843 -- Connecting to existing Ray cluster at address: 172.28.0.2:6379\n",
            "[Stage 155:=>                                                      (2 + 1) / 74]2022-03-03 06:52:13,168\tINFO worker.py:843 -- Connecting to existing Ray cluster at address: 172.28.0.2:6379\n",
            "[Stage 155:==>                                                     (3 + 1) / 74]2022-03-03 06:52:13,764\tINFO worker.py:843 -- Connecting to existing Ray cluster at address: 172.28.0.2:6379\n",
            "[Stage 155:===>                                                    (4 + 1) / 74]2022-03-03 06:52:14,438\tINFO worker.py:843 -- Connecting to existing Ray cluster at address: 172.28.0.2:6379\n",
            "[Stage 155:===>                                                    (5 + 1) / 74]2022-03-03 06:52:15,070\tINFO worker.py:843 -- Connecting to existing Ray cluster at address: 172.28.0.2:6379\n",
            "[Stage 155:======================================================>(73 + 1) / 74]Partition 73 is empty.\n",
            "2022-03-03 06:52:22,330\tWARNING worker.py:1245 -- WARNING: 7 PYTHON worker processes have been started on node: a6dcd838ac19f6164120c628a364a3e7bb20de09b1a87a2df117d62c with address: 172.28.0.2. This could be a result of using a large number of actors, or due to tasks blocked in ray.get() calls (see https://github.com/ray-project/ray/issues/3644 for some discussion of workarounds).\n",
            "2022-03-03 06:52:22,331\tWARNING worker.py:1245 -- WARNING: 7 PYTHON worker processes have been started on node: a6dcd838ac19f6164120c628a364a3e7bb20de09b1a87a2df117d62c with address: 172.28.0.2. This could be a result of using a large number of actors, or due to tasks blocked in ray.get() calls (see https://github.com/ray-project/ray/issues/3644 for some discussion of workarounds).\n",
            "2022-03-03 06:52:22,331\tWARNING worker.py:1245 -- WARNING: 7 PYTHON worker processes have been started on node: a6dcd838ac19f6164120c628a364a3e7bb20de09b1a87a2df117d62c with address: 172.28.0.2. This could be a result of using a large number of actors, or due to tasks blocked in ray.get() calls (see https://github.com/ray-project/ray/issues/3644 for some discussion of workarounds).\n",
            "2022-03-03 06:52:22,332\tWARNING worker.py:1245 -- WARNING: 7 PYTHON worker processes have been started on node: a6dcd838ac19f6164120c628a364a3e7bb20de09b1a87a2df117d62c with address: 172.28.0.2. This could be a result of using a large number of actors, or due to tasks blocked in ray.get() calls (see https://github.com/ray-project/ray/issues/3644 for some discussion of workarounds).\n",
            "2022-03-03 06:52:22,332\tWARNING worker.py:1245 -- WARNING: 7 PYTHON worker processes have been started on node: a6dcd838ac19f6164120c628a364a3e7bb20de09b1a87a2df117d62c with address: 172.28.0.2. This could be a result of using a large number of actors, or due to tasks blocked in ray.get() calls (see https://github.com/ray-project/ray/issues/3644 for some discussion of workarounds).\n",
            "2022-03-03 06:52:22,342\tWARNING worker.py:1245 -- WARNING: 7 PYTHON worker processes have been started on node: a6dcd838ac19f6164120c628a364a3e7bb20de09b1a87a2df117d62c with address: 172.28.0.2. This could be a result of using a large number of actors, or due to tasks blocked in ray.get() calls (see https://github.com/ray-project/ray/issues/3644 for some discussion of workarounds).\n",
            "2022-03-03 06:52:22,338\tWARNING worker.py:1245 -- WARNING: 7 PYTHON worker processes have been started on node: a6dcd838ac19f6164120c628a364a3e7bb20de09b1a87a2df117d62c with address: 172.28.0.2. This could be a result of using a large number of actors, or due to tasks blocked in ray.get() calls (see https://github.com/ray-project/ray/issues/3644 for some discussion of workarounds).\n",
            "\u001b[2m\u001b[36m(Worker pid=37204)\u001b[0m WARNING:tensorflow:AutoGraph could not transform <bound method PaddedToRaggedRankingModel.call of <types.PaddedToRaggedRankingModel object at 0x7f27eab34890>> and will run it as-is.\n",
            "\u001b[2m\u001b[36m(Worker pid=37204)\u001b[0m Cause: Unable to locate the source code of <bound method PaddedToRaggedRankingModel.call of <types.PaddedToRaggedRankingModel object at 0x7f27eab34890>>. Note that functions defined in certain environments, like the interactive Python shell, do not expose their source code. If that is the case, you should define them in a .py source file. If you are certain the code is graph-compatible, wrap the call using @tf.autograph.experimental.do_not_convert. Original error: could not get source code\n",
            "\u001b[2m\u001b[36m(Worker pid=37204)\u001b[0m To silence this warning, decorate the function with @tf.autograph.experimental.do_not_convert\n",
            "[Stage 164:>                                                       (0 + 1) / 74]2022-03-03 06:52:26,483\tINFO worker.py:843 -- Connecting to existing Ray cluster at address: 172.28.0.2:6379\n",
            "[Stage 164:>                                                       (1 + 1) / 74]2022-03-03 06:52:27,775\tINFO worker.py:843 -- Connecting to existing Ray cluster at address: 172.28.0.2:6379\n",
            "[Stage 164:=>                                                      (2 + 1) / 74]2022-03-03 06:52:28,992\tINFO worker.py:843 -- Connecting to existing Ray cluster at address: 172.28.0.2:6379\n",
            "[Stage 164:==>                                                     (3 + 1) / 74]\u001b[2m\u001b[36m(Worker pid=37204)\u001b[0m WARNING:tensorflow:5 out of the last 5 calls to <function Model.make_predict_function.<locals>.predict_function at 0x7f27ea084290> triggered tf.function retracing. Tracing is expensive and the excessive number of tracings could be due to (1) creating @tf.function repeatedly in a loop, (2) passing tensors with different shapes, (3) passing Python objects instead of tensors. For (1), please define your @tf.function outside of the loop. For (2), @tf.function has experimental_relax_shapes=True option that relaxes argument shapes that can avoid unnecessary retracing. For (3), please refer to https://www.tensorflow.org/guide/function#controlling_retracing and https://www.tensorflow.org/api_docs/python/tf/function for  more details.\n",
            "2022-03-03 06:52:30,179\tINFO worker.py:843 -- Connecting to existing Ray cluster at address: 172.28.0.2:6379\n",
            "[Stage 164:===>                                                    (4 + 1) / 74]\u001b[2m\u001b[36m(Worker pid=37204)\u001b[0m WARNING:tensorflow:6 out of the last 6 calls to <function Model.make_predict_function.<locals>.predict_function at 0x7f27e9f1e290> triggered tf.function retracing. Tracing is expensive and the excessive number of tracings could be due to (1) creating @tf.function repeatedly in a loop, (2) passing tensors with different shapes, (3) passing Python objects instead of tensors. For (1), please define your @tf.function outside of the loop. For (2), @tf.function has experimental_relax_shapes=True option that relaxes argument shapes that can avoid unnecessary retracing. For (3), please refer to https://www.tensorflow.org/guide/function#controlling_retracing and https://www.tensorflow.org/api_docs/python/tf/function for  more details.\n",
            "2022-03-03 06:52:31,635\tINFO worker.py:843 -- Connecting to existing Ray cluster at address: 172.28.0.2:6379\n",
            "[Stage 164:===>                                                    (5 + 1) / 74]2022-03-03 06:52:33,275\tINFO worker.py:843 -- Connecting to existing Ray cluster at address: 172.28.0.2:6379\n",
            "[Stage 164:====>                                                   (6 + 1) / 74]2022-03-03 06:52:35,795\tINFO worker.py:843 -- Connecting to existing Ray cluster at address: 172.28.0.2:6379\n",
            "[Stage 164:=====>                                                  (7 + 1) / 74]2022-03-03 06:52:37,844\tINFO worker.py:843 -- Connecting to existing Ray cluster at address: 172.28.0.2:6379\n",
            "[Stage 164:======>                                                 (8 + 1) / 74]2022-03-03 06:52:39,716\tINFO worker.py:843 -- Connecting to existing Ray cluster at address: 172.28.0.2:6379\n",
            "[Stage 164:======>                                                 (9 + 1) / 74]2022-03-03 06:52:41,744\tINFO worker.py:843 -- Connecting to existing Ray cluster at address: 172.28.0.2:6379\n",
            "[Stage 164:=======>                                               (10 + 1) / 74]2022-03-03 06:52:44,127\tINFO worker.py:843 -- Connecting to existing Ray cluster at address: 172.28.0.2:6379\n",
            "[Stage 164:========>                                              (11 + 1) / 74]2022-03-03 06:52:46,084\tINFO worker.py:843 -- Connecting to existing Ray cluster at address: 172.28.0.2:6379\n",
            "[Stage 164:========>                                              (12 + 1) / 74]2022-03-03 06:52:47,613\tINFO worker.py:843 -- Connecting to existing Ray cluster at address: 172.28.0.2:6379\n",
            "[Stage 164:=========>                                             (13 + 1) / 74]2022-03-03 06:52:49,493\tINFO worker.py:843 -- Connecting to existing Ray cluster at address: 172.28.0.2:6379\n",
            "[Stage 164:==========>                                            (14 + 1) / 74]2022-03-03 06:52:51,388\tINFO worker.py:843 -- Connecting to existing Ray cluster at address: 172.28.0.2:6379\n",
            "[Stage 164:===========>                                           (15 + 1) / 74]2022-03-03 06:52:53,142\tINFO worker.py:843 -- Connecting to existing Ray cluster at address: 172.28.0.2:6379\n",
            "[Stage 164:===========>                                           (16 + 1) / 74]2022-03-03 06:52:55,282\tINFO worker.py:843 -- Connecting to existing Ray cluster at address: 172.28.0.2:6379\n",
            "[Stage 164:============>                                          (17 + 1) / 74]2022-03-03 06:52:57,211\tINFO worker.py:843 -- Connecting to existing Ray cluster at address: 172.28.0.2:6379\n",
            "[Stage 164:=============>                                         (18 + 1) / 74]2022-03-03 06:52:59,122\tINFO worker.py:843 -- Connecting to existing Ray cluster at address: 172.28.0.2:6379\n",
            "[Stage 164:==============>                                        (19 + 1) / 74]2022-03-03 06:53:00,934\tINFO worker.py:843 -- Connecting to existing Ray cluster at address: 172.28.0.2:6379\n",
            "[Stage 164:==============>                                        (20 + 1) / 74]2022-03-03 06:53:03,012\tINFO worker.py:843 -- Connecting to existing Ray cluster at address: 172.28.0.2:6379\n",
            "[Stage 164:===============>                                       (21 + 1) / 74]2022-03-03 06:53:04,786\tINFO worker.py:843 -- Connecting to existing Ray cluster at address: 172.28.0.2:6379\n",
            "[Stage 164:================>                                      (22 + 1) / 74]2022-03-03 06:53:06,463\tINFO worker.py:843 -- Connecting to existing Ray cluster at address: 172.28.0.2:6379\n",
            "[Stage 164:=================>                                     (23 + 1) / 74]2022-03-03 06:53:08,161\tINFO worker.py:843 -- Connecting to existing Ray cluster at address: 172.28.0.2:6379\n",
            "[Stage 164:=================>                                     (24 + 1) / 74]2022-03-03 06:53:10,041\tINFO worker.py:843 -- Connecting to existing Ray cluster at address: 172.28.0.2:6379\n",
            "[Stage 164:==================>                                    (25 + 1) / 74]2022-03-03 06:53:11,983\tINFO worker.py:843 -- Connecting to existing Ray cluster at address: 172.28.0.2:6379\n",
            "[Stage 164:===================>                                   (26 + 1) / 74]2022-03-03 06:53:14,363\tINFO worker.py:843 -- Connecting to existing Ray cluster at address: 172.28.0.2:6379\n",
            "[Stage 164:====================>                                  (27 + 1) / 74]2022-03-03 06:53:16,437\tINFO worker.py:843 -- Connecting to existing Ray cluster at address: 172.28.0.2:6379\n",
            "[Stage 164:====================>                                  (28 + 1) / 74]2022-03-03 06:53:18,659\tINFO worker.py:843 -- Connecting to existing Ray cluster at address: 172.28.0.2:6379\n",
            "[Stage 164:=====================>                                 (29 + 1) / 74]2022-03-03 06:53:20,763\tINFO worker.py:843 -- Connecting to existing Ray cluster at address: 172.28.0.2:6379\n",
            "[Stage 164:======================>                                (30 + 1) / 74]2022-03-03 06:53:22,884\tINFO worker.py:843 -- Connecting to existing Ray cluster at address: 172.28.0.2:6379\n",
            "[Stage 164:=======================>                               (31 + 1) / 74]2022-03-03 06:53:24,851\tINFO worker.py:843 -- Connecting to existing Ray cluster at address: 172.28.0.2:6379\n",
            "[Stage 164:=======================>                               (32 + 1) / 74]2022-03-03 06:53:26,266\tINFO worker.py:843 -- Connecting to existing Ray cluster at address: 172.28.0.2:6379\n",
            "[Stage 164:========================>                              (33 + 1) / 74]2022-03-03 06:53:27,654\tINFO worker.py:843 -- Connecting to existing Ray cluster at address: 172.28.0.2:6379\n",
            "[Stage 164:=========================>                             (34 + 1) / 74]2022-03-03 06:53:28,898\tINFO worker.py:843 -- Connecting to existing Ray cluster at address: 172.28.0.2:6379\n",
            "[Stage 164:==========================>                            (35 + 1) / 74]2022-03-03 06:53:30,086\tINFO worker.py:843 -- Connecting to existing Ray cluster at address: 172.28.0.2:6379\n",
            "[Stage 164:==========================>                            (36 + 1) / 74]2022-03-03 06:53:31,277\tINFO worker.py:843 -- Connecting to existing Ray cluster at address: 172.28.0.2:6379\n",
            "[Stage 164:===========================>                           (37 + 1) / 74]2022-03-03 06:53:32,417\tINFO worker.py:843 -- Connecting to existing Ray cluster at address: 172.28.0.2:6379\n",
            "[Stage 164:============================>                          (38 + 1) / 74]2022-03-03 06:53:33,768\tINFO worker.py:843 -- Connecting to existing Ray cluster at address: 172.28.0.2:6379\n",
            "[Stage 164:============================>                          (39 + 1) / 74]2022-03-03 06:53:34,945\tINFO worker.py:843 -- Connecting to existing Ray cluster at address: 172.28.0.2:6379\n",
            "[Stage 164:=============================>                         (40 + 1) / 74]2022-03-03 06:53:36,191\tINFO worker.py:843 -- Connecting to existing Ray cluster at address: 172.28.0.2:6379\n",
            "[Stage 164:==============================>                        (41 + 1) / 74]2022-03-03 06:53:37,851\tINFO worker.py:843 -- Connecting to existing Ray cluster at address: 172.28.0.2:6379\n",
            "[Stage 164:===============================>                       (42 + 1) / 74]2022-03-03 06:53:39,081\tINFO worker.py:843 -- Connecting to existing Ray cluster at address: 172.28.0.2:6379\n",
            "[Stage 164:===============================>                       (43 + 1) / 74]2022-03-03 06:53:40,284\tINFO worker.py:843 -- Connecting to existing Ray cluster at address: 172.28.0.2:6379\n",
            "[Stage 164:================================>                      (44 + 1) / 74]2022-03-03 06:53:41,655\tINFO worker.py:843 -- Connecting to existing Ray cluster at address: 172.28.0.2:6379\n",
            "[Stage 164:=================================>                     (45 + 1) / 74]2022-03-03 06:53:42,869\tINFO worker.py:843 -- Connecting to existing Ray cluster at address: 172.28.0.2:6379\n",
            "[Stage 164:==================================>                    (46 + 1) / 74]2022-03-03 06:53:44,591\tINFO worker.py:843 -- Connecting to existing Ray cluster at address: 172.28.0.2:6379\n",
            "[Stage 164:==================================>                    (47 + 1) / 74]2022-03-03 06:53:46,263\tINFO worker.py:843 -- Connecting to existing Ray cluster at address: 172.28.0.2:6379\n",
            "[Stage 164:===================================>                   (48 + 1) / 74]2022-03-03 06:53:48,139\tINFO worker.py:843 -- Connecting to existing Ray cluster at address: 172.28.0.2:6379\n",
            "[Stage 164:====================================>                  (49 + 1) / 74]2022-03-03 06:53:49,952\tINFO worker.py:843 -- Connecting to existing Ray cluster at address: 172.28.0.2:6379\n",
            "[Stage 164:=====================================>                 (50 + 1) / 74]2022-03-03 06:53:52,118\tINFO worker.py:843 -- Connecting to existing Ray cluster at address: 172.28.0.2:6379\n",
            "[Stage 164:=====================================>                 (51 + 1) / 74]2022-03-03 06:53:54,306\tINFO worker.py:843 -- Connecting to existing Ray cluster at address: 172.28.0.2:6379\n",
            "[Stage 164:======================================>                (52 + 1) / 74]2022-03-03 06:53:56,165\tINFO worker.py:843 -- Connecting to existing Ray cluster at address: 172.28.0.2:6379\n",
            "[Stage 164:=======================================>               (53 + 1) / 74]2022-03-03 06:53:58,543\tINFO worker.py:843 -- Connecting to existing Ray cluster at address: 172.28.0.2:6379\n",
            "[Stage 164:========================================>              (54 + 1) / 74]2022-03-03 06:54:00,457\tINFO worker.py:843 -- Connecting to existing Ray cluster at address: 172.28.0.2:6379\n",
            "[Stage 164:========================================>              (55 + 1) / 74]2022-03-03 06:54:02,786\tINFO worker.py:843 -- Connecting to existing Ray cluster at address: 172.28.0.2:6379\n",
            "[Stage 164:=========================================>             (56 + 1) / 74]2022-03-03 06:54:05,002\tINFO worker.py:843 -- Connecting to existing Ray cluster at address: 172.28.0.2:6379\n",
            "[Stage 164:==========================================>            (57 + 1) / 74]2022-03-03 06:54:07,000\tINFO worker.py:843 -- Connecting to existing Ray cluster at address: 172.28.0.2:6379\n",
            "[Stage 164:===========================================>           (58 + 1) / 74]2022-03-03 06:54:08,395\tINFO worker.py:843 -- Connecting to existing Ray cluster at address: 172.28.0.2:6379\n",
            "[Stage 164:===========================================>           (59 + 1) / 74]2022-03-03 06:54:09,795\tINFO worker.py:843 -- Connecting to existing Ray cluster at address: 172.28.0.2:6379\n",
            "[Stage 164:============================================>          (60 + 1) / 74]2022-03-03 06:54:11,009\tINFO worker.py:843 -- Connecting to existing Ray cluster at address: 172.28.0.2:6379\n",
            "[Stage 164:=============================================>         (61 + 1) / 74]2022-03-03 06:54:12,166\tINFO worker.py:843 -- Connecting to existing Ray cluster at address: 172.28.0.2:6379\n",
            "[Stage 164:==============================================>        (62 + 1) / 74]2022-03-03 06:54:13,535\tINFO worker.py:843 -- Connecting to existing Ray cluster at address: 172.28.0.2:6379\n",
            "[Stage 164:==============================================>        (63 + 1) / 74]2022-03-03 06:54:14,775\tINFO worker.py:843 -- Connecting to existing Ray cluster at address: 172.28.0.2:6379\n",
            "[Stage 164:===============================================>       (64 + 1) / 74]2022-03-03 06:54:16,048\tINFO worker.py:843 -- Connecting to existing Ray cluster at address: 172.28.0.2:6379\n",
            "[Stage 164:================================================>      (65 + 1) / 74]2022-03-03 06:54:17,306\tINFO worker.py:843 -- Connecting to existing Ray cluster at address: 172.28.0.2:6379\n",
            "[Stage 164:=================================================>     (66 + 1) / 74]2022-03-03 06:54:18,529\tINFO worker.py:843 -- Connecting to existing Ray cluster at address: 172.28.0.2:6379\n",
            "[Stage 164:=================================================>     (67 + 1) / 74]2022-03-03 06:54:19,810\tINFO worker.py:843 -- Connecting to existing Ray cluster at address: 172.28.0.2:6379\n",
            "[Stage 164:==================================================>    (68 + 1) / 74]2022-03-03 06:54:21,043\tINFO worker.py:843 -- Connecting to existing Ray cluster at address: 172.28.0.2:6379\n",
            "[Stage 164:===================================================>   (69 + 1) / 74]2022-03-03 06:54:22,250\tINFO worker.py:843 -- Connecting to existing Ray cluster at address: 172.28.0.2:6379\n",
            "[Stage 164:====================================================>  (70 + 1) / 74]2022-03-03 06:54:23,876\tINFO worker.py:843 -- Connecting to existing Ray cluster at address: 172.28.0.2:6379\n",
            "[Stage 164:====================================================>  (71 + 1) / 74]2022-03-03 06:54:25,261\tINFO worker.py:843 -- Connecting to existing Ray cluster at address: 172.28.0.2:6379\n",
            "[Stage 164:=====================================================> (72 + 1) / 74]2022-03-03 06:54:26,533\tINFO worker.py:843 -- Connecting to existing Ray cluster at address: 172.28.0.2:6379\n",
            "[Stage 164:======================================================>(73 + 1) / 74]2022-03-03 06:54:27,652\tINFO worker.py:843 -- Connecting to existing Ray cluster at address: 172.28.0.2:6379\n"
          ]
        }
      ]
    },
    {
      "cell_type": "code",
      "source": [
        "\n",
        "sdf_unpad = unpad_prediction(sdf_output).sort(F.desc(\"len\"))\n",
        "sdf_unpad.printSchema()"
      ],
      "metadata": {
        "id": "kVeWuELYW4uw",
        "outputId": "15d06ca6-a19c-4df9-ab88-07afab15f14c",
        "colab": {
          "base_uri": "https://localhost:8080/"
        }
      },
      "execution_count": 53,
      "outputs": [
        {
          "output_type": "stream",
          "name": "stdout",
          "text": [
            "root\n",
            " |-- userid: string (nullable = true)\n",
            " |-- titles: array (nullable = true)\n",
            " |    |-- element: string (containsNull = true)\n",
            " |-- ratings: array (nullable = true)\n",
            " |    |-- element: integer (containsNull = true)\n",
            " |-- len: integer (nullable = true)\n",
            " |-- prediction: array (nullable = true)\n",
            " |    |-- element: float (containsNull = true)\n",
            "\n"
          ]
        }
      ]
    },
    {
      "cell_type": "code",
      "source": [
        "from pyspark.sql.functions import explode\n",
        "sdf_tmp = sdf_unpad.select(\"userid\", \"titles\", \"ratings\", \"prediction\")\n",
        "sdf_tmp2 = sdf_tmp.selectExpr('userid', 'inline(arrays_zip(titles, ratings, prediction))')\n",
        "sdf_tmp2.show(20)"
      ],
      "metadata": {
        "id": "zqnPvofWdbeX",
        "outputId": "0e5fb2b7-e1b9-4864-8070-b8637ff2ecd4",
        "colab": {
          "base_uri": "https://localhost:8080/"
        }
      },
      "execution_count": 54,
      "outputs": [
        {
          "output_type": "stream",
          "name": "stderr",
          "text": [
            "[Stage 183:======================================================>(73 + 1) / 74]"
          ]
        },
        {
          "output_type": "stream",
          "name": "stdout",
          "text": [
            "+------+--------------------+-------+----------+\n",
            "|userid|              titles|ratings|prediction|\n",
            "+------+--------------------+-------+----------+\n",
            "|  4169|Parent Trap, The ...|      4| 10.049565|\n",
            "|  4169|Swiss Family Robi...|      4| 10.079399|\n",
            "|  4169|    Mr. Wrong (1996)|      1|  7.965984|\n",
            "|  4169| Mary Poppins (1964)|      5| 10.707472|\n",
            "|  4169|Pete's Dragon (1977)|      3|  9.611323|\n",
            "|  4169|Alice in Wonderla...|      4| 10.569653|\n",
            "|  4169|To Gillian on Her...|      4|  8.966696|\n",
            "|  4169|Get on the Bus (1...|      4| 10.361752|\n",
            "|  4169|        Johns (1996)|      3|  9.911037|\n",
            "|  4169|Dirty Dancing (1987)|      3|  9.834489|\n",
            "|  4169|      Platoon (1986)|      5| 10.311012|\n",
            "|  4169|Christmas Carol, ...|      4|10.2826185|\n",
            "|  4169|Associate, The (1...|      4| 10.775612|\n",
            "|  4169|   Glory Daze (1996)|      2| 9.7413225|\n",
            "|  4169|Return of the Pin...|      3| 10.423382|\n",
            "|  4169|   Abyss, The (1989)|      4| 10.351718|\n",
            "|  4169| Howling, The (1980)|      4|  8.359009|\n",
            "|  4169|     Raw Deal (1948)|      4| 11.604429|\n",
            "|  4169|  Bob Roberts (1992)|      4|10.0624275|\n",
            "|  4169|Paths of Glory (1...|      5| 11.031826|\n",
            "+------+--------------------+-------+----------+\n",
            "only showing top 20 rows\n",
            "\n"
          ]
        },
        {
          "output_type": "stream",
          "name": "stderr",
          "text": [
            "\r                                                                                \r"
          ]
        }
      ]
    },
    {
      "cell_type": "code",
      "source": [
        "est.shutdown()"
      ],
      "metadata": {
        "id": "8GaQIckrZlGD"
      },
      "execution_count": 55,
      "outputs": []
    },
    {
      "cell_type": "code",
      "metadata": {
        "id": "nC4KhlHxXakk",
        "outputId": "414fd5de-5af0-475a-9690-f642ea091811",
        "colab": {
          "base_uri": "https://localhost:8080/"
        }
      },
      "source": [
        "# Stop orca context when your program finishes\n",
        "stop_orca_context()"
      ],
      "execution_count": 56,
      "outputs": [
        {
          "output_type": "stream",
          "name": "stdout",
          "text": [
            "Stopping orca context\n"
          ]
        }
      ]
    },
    {
      "cell_type": "code",
      "source": [
        ""
      ],
      "metadata": {
        "id": "muiQ78k_ZgDk"
      },
      "execution_count": null,
      "outputs": []
    }
  ]
}